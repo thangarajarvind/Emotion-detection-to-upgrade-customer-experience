{
 "cells": [
  {
   "cell_type": "code",
   "execution_count": 2,
   "metadata": {
    "id": "agDAxH8mO5XX"
   },
   "outputs": [
    {
     "name": "stderr",
     "output_type": "stream",
     "text": [
      "C:\\Users\\thang\\anaconda3\\envs\\Working\\lib\\site-packages\\numpy\\_distributor_init.py:30: UserWarning: loaded more than 1 DLL from .libs:\n",
      "C:\\Users\\thang\\anaconda3\\envs\\Working\\lib\\site-packages\\numpy\\.libs\\libopenblas.EL2C6PLE4ZYW3ECEVIV3OXXGRN2NRFM2.gfortran-win_amd64.dll\n",
      "C:\\Users\\thang\\anaconda3\\envs\\Working\\lib\\site-packages\\numpy\\.libs\\libopenblas.XWYDX2IKJW2NMTWSFYNGFUWKQU3LYTCZ.gfortran-win_amd64.dll\n",
      "  warnings.warn(\"loaded more than 1 DLL from .libs:\"\n"
     ]
    }
   ],
   "source": [
    "import librosa\n",
    "import soundfile\n",
    "import os, glob, pickle\n",
    "import numpy as np\n",
    "from sklearn.model_selection import train_test_split\n",
    "from sklearn.neural_network import MLPClassifier\n",
    "from sklearn.metrics import accuracy_score\n",
    "from keras.models import load_model\n",
    "from time import sleep\n",
    "from keras.preprocessing.image import img_to_array\n",
    "from keras.preprocessing import image\n",
    "import cv2\n",
    "import math"
   ]
  },
  {
   "cell_type": "code",
   "execution_count": 3,
   "metadata": {
    "id": "tc1TPoBgO8gs"
   },
   "outputs": [],
   "source": [
    "#Extract features (mfcc, chroma, mel) from a sound file\n",
    "def extract_feature(file_name, mfcc, chroma, mel):\n",
    "    with soundfile.SoundFile(file_name) as sound_file:\n",
    "        X = sound_file.read(dtype=\"float32\")\n",
    "        sample_rate=sound_file.samplerate\n",
    "        if chroma:\n",
    "            stft=np.abs(librosa.stft(X))\n",
    "        result=np.array([])\n",
    "        if mfcc:\n",
    "            mfccs=np.mean(librosa.feature.mfcc(y=X, sr=sample_rate, n_mfcc=40).T, axis=0)\n",
    "            result=np.hstack((result, mfccs))\n",
    "        if chroma:\n",
    "            chroma=np.mean(librosa.feature.chroma_stft(S=stft, sr=sample_rate).T,axis=0)\n",
    "            result=np.hstack((result, chroma))\n",
    "        if mel:\n",
    "            mel=np.mean(librosa.feature.melspectrogram(X, sr=sample_rate).T,axis=0)\n",
    "            result=np.hstack((result, mel))\n",
    "        return result"
   ]
  },
  {
   "cell_type": "code",
   "execution_count": 4,
   "metadata": {
    "id": "sFPlbsMQPAR-"
   },
   "outputs": [],
   "source": [
    "emotions={\n",
    "  '01':'neutral',\n",
    "  '02':'calm',\n",
    "  '03':'happy',\n",
    "  '04':'sad',\n",
    "  '05':'angry',\n",
    "  '06':'fearful',\n",
    "  '07':'disgust',\n",
    "  '08':'surprised'\n",
    "}\n",
    "\n",
    "observed_emotions=['calm','happy','angry']"
   ]
  },
  {
   "cell_type": "code",
   "execution_count": 10,
   "metadata": {
    "id": "RG3zRgBlPDFa"
   },
   "outputs": [],
   "source": [
    "#Load the data and extract features for each sound file\n",
    "def load_data(test_size=0.2):\n",
    "    x,y=[],[]\n",
    "    for file in glob.glob(\"C:\\\\Users\\\\thang\\\\Downloads\\\\Emotion\\\\Emotion\\\\speech-emotion-recognition-ravdess-data\\\\Actor_*\\\\*.wav\"):\n",
    "        file_name=os.path.basename(file)\n",
    "        print(file,file_name)\n",
    "        emotion=emotions[file_name.split(\"-\")[2]]\n",
    "        if emotion not in observed_emotions:\n",
    "            continue\n",
    "        feature=extract_feature(file, mfcc=True, chroma=True, mel=True)\n",
    "        x.append(feature)\n",
    "        y.append(emotion)\n",
    "    return train_test_split(np.array(x), y, test_size=test_size, random_state=9)"
   ]
  },
  {
   "cell_type": "code",
   "execution_count": 11,
   "metadata": {
    "colab": {
     "base_uri": "https://localhost:8080/"
    },
    "id": "FIMo9oL0QvlQ",
    "outputId": "467c16ab-4899-4d07-b9fb-1d3770f88b90",
    "scrolled": true
   },
   "outputs": [
    {
     "name": "stdout",
     "output_type": "stream",
     "text": [
      "C:\\Users\\thang\\Downloads\\Emotion\\Emotion\\speech-emotion-recognition-ravdess-data\\Actor_01\\03-01-01-01-01-01-01.wav 03-01-01-01-01-01-01.wav\n",
      "C:\\Users\\thang\\Downloads\\Emotion\\Emotion\\speech-emotion-recognition-ravdess-data\\Actor_01\\03-01-01-01-01-02-01.wav 03-01-01-01-01-02-01.wav\n",
      "C:\\Users\\thang\\Downloads\\Emotion\\Emotion\\speech-emotion-recognition-ravdess-data\\Actor_01\\03-01-01-01-02-01-01.wav 03-01-01-01-02-01-01.wav\n",
      "C:\\Users\\thang\\Downloads\\Emotion\\Emotion\\speech-emotion-recognition-ravdess-data\\Actor_01\\03-01-01-01-02-02-01.wav 03-01-01-01-02-02-01.wav\n",
      "C:\\Users\\thang\\Downloads\\Emotion\\Emotion\\speech-emotion-recognition-ravdess-data\\Actor_01\\03-01-02-01-01-01-01.wav 03-01-02-01-01-01-01.wav\n",
      "C:\\Users\\thang\\Downloads\\Emotion\\Emotion\\speech-emotion-recognition-ravdess-data\\Actor_01\\03-01-02-01-01-02-01.wav 03-01-02-01-01-02-01.wav\n",
      "C:\\Users\\thang\\Downloads\\Emotion\\Emotion\\speech-emotion-recognition-ravdess-data\\Actor_01\\03-01-02-01-02-01-01.wav 03-01-02-01-02-01-01.wav\n",
      "C:\\Users\\thang\\Downloads\\Emotion\\Emotion\\speech-emotion-recognition-ravdess-data\\Actor_01\\03-01-02-01-02-02-01.wav 03-01-02-01-02-02-01.wav\n",
      "C:\\Users\\thang\\Downloads\\Emotion\\Emotion\\speech-emotion-recognition-ravdess-data\\Actor_01\\03-01-02-02-01-01-01.wav 03-01-02-02-01-01-01.wav\n",
      "C:\\Users\\thang\\Downloads\\Emotion\\Emotion\\speech-emotion-recognition-ravdess-data\\Actor_01\\03-01-02-02-01-02-01.wav 03-01-02-02-01-02-01.wav\n",
      "C:\\Users\\thang\\Downloads\\Emotion\\Emotion\\speech-emotion-recognition-ravdess-data\\Actor_01\\03-01-02-02-02-01-01.wav 03-01-02-02-02-01-01.wav\n"
     ]
    },
    {
     "name": "stderr",
     "output_type": "stream",
     "text": [
      "C:\\Users\\thang\\AppData\\Local\\Temp\\ipykernel_14300\\1750813818.py:16: FutureWarning: Pass y=[0. 0. 0. ... 0. 0. 0.] as keyword args. From version 0.10 passing these as positional arguments will result in an error\n",
      "  mel=np.mean(librosa.feature.melspectrogram(X, sr=sample_rate).T,axis=0)\n",
      "C:\\Users\\thang\\AppData\\Local\\Temp\\ipykernel_14300\\1750813818.py:16: FutureWarning: Pass y=[0.0000000e+00 3.0517578e-05 3.0517578e-05 ... 0.0000000e+00 0.0000000e+00\n",
      " 0.0000000e+00] as keyword args. From version 0.10 passing these as positional arguments will result in an error\n",
      "  mel=np.mean(librosa.feature.melspectrogram(X, sr=sample_rate).T,axis=0)\n",
      "C:\\Users\\thang\\AppData\\Local\\Temp\\ipykernel_14300\\1750813818.py:16: FutureWarning: Pass y=[ 0.0000000e+00  0.0000000e+00 -3.0517578e-05 ... -3.0517578e-05\n",
      " -3.0517578e-05 -3.0517578e-05] as keyword args. From version 0.10 passing these as positional arguments will result in an error\n",
      "  mel=np.mean(librosa.feature.melspectrogram(X, sr=sample_rate).T,axis=0)\n",
      "C:\\Users\\thang\\AppData\\Local\\Temp\\ipykernel_14300\\1750813818.py:16: FutureWarning: Pass y=[3.0517578e-05 3.0517578e-05 3.0517578e-05 ... 0.0000000e+00 0.0000000e+00\n",
      " 0.0000000e+00] as keyword args. From version 0.10 passing these as positional arguments will result in an error\n",
      "  mel=np.mean(librosa.feature.melspectrogram(X, sr=sample_rate).T,axis=0)\n"
     ]
    },
    {
     "name": "stdout",
     "output_type": "stream",
     "text": [
      "C:\\Users\\thang\\Downloads\\Emotion\\Emotion\\speech-emotion-recognition-ravdess-data\\Actor_01\\03-01-02-02-02-02-01.wav 03-01-02-02-02-02-01.wav\n",
      "C:\\Users\\thang\\Downloads\\Emotion\\Emotion\\speech-emotion-recognition-ravdess-data\\Actor_01\\03-01-03-01-01-01-01.wav 03-01-03-01-01-01-01.wav\n",
      "C:\\Users\\thang\\Downloads\\Emotion\\Emotion\\speech-emotion-recognition-ravdess-data\\Actor_01\\03-01-03-01-01-02-01.wav 03-01-03-01-01-02-01.wav\n",
      "C:\\Users\\thang\\Downloads\\Emotion\\Emotion\\speech-emotion-recognition-ravdess-data\\Actor_01\\03-01-03-01-02-01-01.wav 03-01-03-01-02-01-01.wav\n",
      "C:\\Users\\thang\\Downloads\\Emotion\\Emotion\\speech-emotion-recognition-ravdess-data\\Actor_01\\03-01-03-01-02-02-01.wav 03-01-03-01-02-02-01.wav\n",
      "C:\\Users\\thang\\Downloads\\Emotion\\Emotion\\speech-emotion-recognition-ravdess-data\\Actor_01\\03-01-03-02-01-01-01.wav 03-01-03-02-01-01-01.wav\n",
      "C:\\Users\\thang\\Downloads\\Emotion\\Emotion\\speech-emotion-recognition-ravdess-data\\Actor_01\\03-01-03-02-01-02-01.wav 03-01-03-02-01-02-01.wav\n",
      "C:\\Users\\thang\\Downloads\\Emotion\\Emotion\\speech-emotion-recognition-ravdess-data\\Actor_01\\03-01-03-02-02-01-01.wav 03-01-03-02-02-01-01.wav\n"
     ]
    },
    {
     "name": "stderr",
     "output_type": "stream",
     "text": [
      "C:\\Users\\thang\\AppData\\Local\\Temp\\ipykernel_14300\\1750813818.py:16: FutureWarning: Pass y=[0.0000000e+00 0.0000000e+00 0.0000000e+00 ... 3.0517578e-05 0.0000000e+00\n",
      " 0.0000000e+00] as keyword args. From version 0.10 passing these as positional arguments will result in an error\n",
      "  mel=np.mean(librosa.feature.melspectrogram(X, sr=sample_rate).T,axis=0)\n",
      "C:\\Users\\thang\\AppData\\Local\\Temp\\ipykernel_14300\\1750813818.py:16: FutureWarning: Pass y=[0.0000000e+00 0.0000000e+00 3.0517578e-05 ... 0.0000000e+00 0.0000000e+00\n",
      " 0.0000000e+00] as keyword args. From version 0.10 passing these as positional arguments will result in an error\n",
      "  mel=np.mean(librosa.feature.melspectrogram(X, sr=sample_rate).T,axis=0)\n"
     ]
    },
    {
     "name": "stdout",
     "output_type": "stream",
     "text": [
      "C:\\Users\\thang\\Downloads\\Emotion\\Emotion\\speech-emotion-recognition-ravdess-data\\Actor_01\\03-01-03-02-02-02-01.wav 03-01-03-02-02-02-01.wav\n",
      "C:\\Users\\thang\\Downloads\\Emotion\\Emotion\\speech-emotion-recognition-ravdess-data\\Actor_01\\03-01-04-01-01-01-01.wav 03-01-04-01-01-01-01.wav\n",
      "C:\\Users\\thang\\Downloads\\Emotion\\Emotion\\speech-emotion-recognition-ravdess-data\\Actor_01\\03-01-04-01-01-02-01.wav 03-01-04-01-01-02-01.wav\n",
      "C:\\Users\\thang\\Downloads\\Emotion\\Emotion\\speech-emotion-recognition-ravdess-data\\Actor_01\\03-01-04-01-02-01-01.wav 03-01-04-01-02-01-01.wav\n",
      "C:\\Users\\thang\\Downloads\\Emotion\\Emotion\\speech-emotion-recognition-ravdess-data\\Actor_01\\03-01-04-01-02-02-01.wav 03-01-04-01-02-02-01.wav\n",
      "C:\\Users\\thang\\Downloads\\Emotion\\Emotion\\speech-emotion-recognition-ravdess-data\\Actor_01\\03-01-04-02-01-01-01.wav 03-01-04-02-01-01-01.wav\n",
      "C:\\Users\\thang\\Downloads\\Emotion\\Emotion\\speech-emotion-recognition-ravdess-data\\Actor_01\\03-01-04-02-01-02-01.wav 03-01-04-02-01-02-01.wav\n",
      "C:\\Users\\thang\\Downloads\\Emotion\\Emotion\\speech-emotion-recognition-ravdess-data\\Actor_01\\03-01-04-02-02-01-01.wav 03-01-04-02-02-01-01.wav\n",
      "C:\\Users\\thang\\Downloads\\Emotion\\Emotion\\speech-emotion-recognition-ravdess-data\\Actor_01\\03-01-04-02-02-02-01.wav 03-01-04-02-02-02-01.wav\n",
      "C:\\Users\\thang\\Downloads\\Emotion\\Emotion\\speech-emotion-recognition-ravdess-data\\Actor_01\\03-01-05-01-01-01-01.wav 03-01-05-01-01-01-01.wav\n",
      "C:\\Users\\thang\\Downloads\\Emotion\\Emotion\\speech-emotion-recognition-ravdess-data\\Actor_01\\03-01-05-01-01-02-01.wav 03-01-05-01-01-02-01.wav\n",
      "C:\\Users\\thang\\Downloads\\Emotion\\Emotion\\speech-emotion-recognition-ravdess-data\\Actor_01\\03-01-05-01-02-01-01.wav 03-01-05-01-02-01-01.wav\n",
      "C:\\Users\\thang\\Downloads\\Emotion\\Emotion\\speech-emotion-recognition-ravdess-data\\Actor_01\\03-01-05-01-02-02-01.wav 03-01-05-01-02-02-01.wav\n",
      "C:\\Users\\thang\\Downloads\\Emotion\\Emotion\\speech-emotion-recognition-ravdess-data\\Actor_01\\03-01-05-02-01-01-01.wav 03-01-05-02-01-01-01.wav\n",
      "C:\\Users\\thang\\Downloads\\Emotion\\Emotion\\speech-emotion-recognition-ravdess-data\\Actor_01\\03-01-05-02-01-02-01.wav 03-01-05-02-01-02-01.wav\n",
      "C:\\Users\\thang\\Downloads\\Emotion\\Emotion\\speech-emotion-recognition-ravdess-data\\Actor_01\\03-01-05-02-02-01-01.wav 03-01-05-02-02-01-01.wav\n"
     ]
    },
    {
     "name": "stderr",
     "output_type": "stream",
     "text": [
      "C:\\Users\\thang\\AppData\\Local\\Temp\\ipykernel_14300\\1750813818.py:16: FutureWarning: Pass y=[ 0.0000000e+00 -3.0517578e-05 -3.0517578e-05 ...  0.0000000e+00\n",
      "  0.0000000e+00  0.0000000e+00] as keyword args. From version 0.10 passing these as positional arguments will result in an error\n",
      "  mel=np.mean(librosa.feature.melspectrogram(X, sr=sample_rate).T,axis=0)\n",
      "C:\\Users\\thang\\AppData\\Local\\Temp\\ipykernel_14300\\1750813818.py:16: FutureWarning: Pass y=[-0.00061035 -0.00048828 -0.00039673 ...  0.          0.\n",
      "  0.        ] as keyword args. From version 0.10 passing these as positional arguments will result in an error\n",
      "  mel=np.mean(librosa.feature.melspectrogram(X, sr=sample_rate).T,axis=0)\n",
      "C:\\Users\\thang\\AppData\\Local\\Temp\\ipykernel_14300\\1750813818.py:16: FutureWarning: Pass y=[ 0.00231934  0.00213623 -0.00231934 ...  0.          0.\n",
      "  0.        ] as keyword args. From version 0.10 passing these as positional arguments will result in an error\n",
      "  mel=np.mean(librosa.feature.melspectrogram(X, sr=sample_rate).T,axis=0)\n",
      "C:\\Users\\thang\\AppData\\Local\\Temp\\ipykernel_14300\\1750813818.py:16: FutureWarning: Pass y=[ 7.3242188e-04  1.0986328e-03 -6.7138672e-04 ...  9.1552734e-05\n",
      "  3.6621094e-04  0.0000000e+00] as keyword args. From version 0.10 passing these as positional arguments will result in an error\n",
      "  mel=np.mean(librosa.feature.melspectrogram(X, sr=sample_rate).T,axis=0)\n",
      "C:\\Users\\thang\\AppData\\Local\\Temp\\ipykernel_14300\\1750813818.py:16: FutureWarning: Pass y=[0.00033569 0.00024414 0.00024414 ... 0.00036621 0.00033569 0.00045776] as keyword args. From version 0.10 passing these as positional arguments will result in an error\n",
      "  mel=np.mean(librosa.feature.melspectrogram(X, sr=sample_rate).T,axis=0)\n"
     ]
    },
    {
     "name": "stdout",
     "output_type": "stream",
     "text": [
      "C:\\Users\\thang\\Downloads\\Emotion\\Emotion\\speech-emotion-recognition-ravdess-data\\Actor_01\\03-01-05-02-02-02-01.wav 03-01-05-02-02-02-01.wav\n",
      "C:\\Users\\thang\\Downloads\\Emotion\\Emotion\\speech-emotion-recognition-ravdess-data\\Actor_01\\03-01-06-01-01-01-01.wav 03-01-06-01-01-01-01.wav\n",
      "C:\\Users\\thang\\Downloads\\Emotion\\Emotion\\speech-emotion-recognition-ravdess-data\\Actor_01\\03-01-06-01-01-02-01.wav 03-01-06-01-01-02-01.wav\n",
      "C:\\Users\\thang\\Downloads\\Emotion\\Emotion\\speech-emotion-recognition-ravdess-data\\Actor_01\\03-01-06-01-02-01-01.wav 03-01-06-01-02-01-01.wav\n",
      "C:\\Users\\thang\\Downloads\\Emotion\\Emotion\\speech-emotion-recognition-ravdess-data\\Actor_01\\03-01-06-01-02-02-01.wav 03-01-06-01-02-02-01.wav\n",
      "C:\\Users\\thang\\Downloads\\Emotion\\Emotion\\speech-emotion-recognition-ravdess-data\\Actor_01\\03-01-06-02-01-01-01.wav 03-01-06-02-01-01-01.wav\n",
      "C:\\Users\\thang\\Downloads\\Emotion\\Emotion\\speech-emotion-recognition-ravdess-data\\Actor_01\\03-01-06-02-01-02-01.wav 03-01-06-02-01-02-01.wav\n",
      "C:\\Users\\thang\\Downloads\\Emotion\\Emotion\\speech-emotion-recognition-ravdess-data\\Actor_01\\03-01-06-02-02-01-01.wav 03-01-06-02-02-01-01.wav\n",
      "C:\\Users\\thang\\Downloads\\Emotion\\Emotion\\speech-emotion-recognition-ravdess-data\\Actor_01\\03-01-06-02-02-02-01.wav 03-01-06-02-02-02-01.wav\n",
      "C:\\Users\\thang\\Downloads\\Emotion\\Emotion\\speech-emotion-recognition-ravdess-data\\Actor_01\\03-01-07-01-01-01-01.wav 03-01-07-01-01-01-01.wav\n",
      "C:\\Users\\thang\\Downloads\\Emotion\\Emotion\\speech-emotion-recognition-ravdess-data\\Actor_01\\03-01-07-01-01-02-01.wav 03-01-07-01-01-02-01.wav\n",
      "C:\\Users\\thang\\Downloads\\Emotion\\Emotion\\speech-emotion-recognition-ravdess-data\\Actor_01\\03-01-07-01-02-01-01.wav 03-01-07-01-02-01-01.wav\n",
      "C:\\Users\\thang\\Downloads\\Emotion\\Emotion\\speech-emotion-recognition-ravdess-data\\Actor_01\\03-01-07-01-02-02-01.wav 03-01-07-01-02-02-01.wav\n",
      "C:\\Users\\thang\\Downloads\\Emotion\\Emotion\\speech-emotion-recognition-ravdess-data\\Actor_01\\03-01-07-02-01-01-01.wav 03-01-07-02-01-01-01.wav\n",
      "C:\\Users\\thang\\Downloads\\Emotion\\Emotion\\speech-emotion-recognition-ravdess-data\\Actor_01\\03-01-07-02-01-02-01.wav 03-01-07-02-01-02-01.wav\n",
      "C:\\Users\\thang\\Downloads\\Emotion\\Emotion\\speech-emotion-recognition-ravdess-data\\Actor_01\\03-01-07-02-02-01-01.wav 03-01-07-02-02-01-01.wav\n",
      "C:\\Users\\thang\\Downloads\\Emotion\\Emotion\\speech-emotion-recognition-ravdess-data\\Actor_01\\03-01-07-02-02-02-01.wav 03-01-07-02-02-02-01.wav\n",
      "C:\\Users\\thang\\Downloads\\Emotion\\Emotion\\speech-emotion-recognition-ravdess-data\\Actor_01\\03-01-08-01-01-01-01.wav 03-01-08-01-01-01-01.wav\n",
      "C:\\Users\\thang\\Downloads\\Emotion\\Emotion\\speech-emotion-recognition-ravdess-data\\Actor_01\\03-01-08-01-01-02-01.wav 03-01-08-01-01-02-01.wav\n",
      "C:\\Users\\thang\\Downloads\\Emotion\\Emotion\\speech-emotion-recognition-ravdess-data\\Actor_01\\03-01-08-01-02-01-01.wav 03-01-08-01-02-01-01.wav\n",
      "C:\\Users\\thang\\Downloads\\Emotion\\Emotion\\speech-emotion-recognition-ravdess-data\\Actor_01\\03-01-08-01-02-02-01.wav 03-01-08-01-02-02-01.wav\n",
      "C:\\Users\\thang\\Downloads\\Emotion\\Emotion\\speech-emotion-recognition-ravdess-data\\Actor_01\\03-01-08-02-01-01-01.wav 03-01-08-02-01-01-01.wav\n",
      "C:\\Users\\thang\\Downloads\\Emotion\\Emotion\\speech-emotion-recognition-ravdess-data\\Actor_01\\03-01-08-02-01-02-01.wav 03-01-08-02-01-02-01.wav\n",
      "C:\\Users\\thang\\Downloads\\Emotion\\Emotion\\speech-emotion-recognition-ravdess-data\\Actor_01\\03-01-08-02-02-01-01.wav 03-01-08-02-02-01-01.wav\n",
      "C:\\Users\\thang\\Downloads\\Emotion\\Emotion\\speech-emotion-recognition-ravdess-data\\Actor_01\\03-01-08-02-02-02-01.wav 03-01-08-02-02-02-01.wav\n",
      "C:\\Users\\thang\\Downloads\\Emotion\\Emotion\\speech-emotion-recognition-ravdess-data\\Actor_02\\03-01-01-01-01-01-02.wav 03-01-01-01-01-01-02.wav\n",
      "C:\\Users\\thang\\Downloads\\Emotion\\Emotion\\speech-emotion-recognition-ravdess-data\\Actor_02\\03-01-01-01-01-02-02.wav 03-01-01-01-01-02-02.wav\n",
      "C:\\Users\\thang\\Downloads\\Emotion\\Emotion\\speech-emotion-recognition-ravdess-data\\Actor_02\\03-01-01-01-02-01-02.wav 03-01-01-01-02-01-02.wav\n",
      "C:\\Users\\thang\\Downloads\\Emotion\\Emotion\\speech-emotion-recognition-ravdess-data\\Actor_02\\03-01-01-01-02-02-02.wav 03-01-01-01-02-02-02.wav\n",
      "C:\\Users\\thang\\Downloads\\Emotion\\Emotion\\speech-emotion-recognition-ravdess-data\\Actor_02\\03-01-02-01-01-01-02.wav 03-01-02-01-01-01-02.wav\n",
      "C:\\Users\\thang\\Downloads\\Emotion\\Emotion\\speech-emotion-recognition-ravdess-data\\Actor_02\\03-01-02-01-01-02-02.wav 03-01-02-01-01-02-02.wav\n",
      "C:\\Users\\thang\\Downloads\\Emotion\\Emotion\\speech-emotion-recognition-ravdess-data\\Actor_02\\03-01-02-01-02-01-02.wav 03-01-02-01-02-01-02.wav\n",
      "C:\\Users\\thang\\Downloads\\Emotion\\Emotion\\speech-emotion-recognition-ravdess-data\\Actor_02\\03-01-02-01-02-02-02.wav 03-01-02-01-02-02-02.wav\n",
      "C:\\Users\\thang\\Downloads\\Emotion\\Emotion\\speech-emotion-recognition-ravdess-data\\Actor_02\\03-01-02-02-01-01-02.wav 03-01-02-02-01-01-02.wav\n",
      "C:\\Users\\thang\\Downloads\\Emotion\\Emotion\\speech-emotion-recognition-ravdess-data\\Actor_02\\03-01-02-02-01-02-02.wav 03-01-02-02-01-02-02.wav\n",
      "C:\\Users\\thang\\Downloads\\Emotion\\Emotion\\speech-emotion-recognition-ravdess-data\\Actor_02\\03-01-02-02-02-01-02.wav 03-01-02-02-02-01-02.wav\n"
     ]
    },
    {
     "name": "stderr",
     "output_type": "stream",
     "text": [
      "C:\\Users\\thang\\AppData\\Local\\Temp\\ipykernel_14300\\1750813818.py:16: FutureWarning: Pass y=[0.0000000e+00 0.0000000e+00 0.0000000e+00 ... 0.0000000e+00 3.0517578e-05\n",
      " 3.0517578e-05] as keyword args. From version 0.10 passing these as positional arguments will result in an error\n",
      "  mel=np.mean(librosa.feature.melspectrogram(X, sr=sample_rate).T,axis=0)\n"
     ]
    },
    {
     "name": "stdout",
     "output_type": "stream",
     "text": [
      "C:\\Users\\thang\\Downloads\\Emotion\\Emotion\\speech-emotion-recognition-ravdess-data\\Actor_02\\03-01-02-02-02-02-02.wav 03-01-02-02-02-02-02.wav\n",
      "C:\\Users\\thang\\Downloads\\Emotion\\Emotion\\speech-emotion-recognition-ravdess-data\\Actor_02\\03-01-03-01-01-01-02.wav 03-01-03-01-01-01-02.wav\n",
      "C:\\Users\\thang\\Downloads\\Emotion\\Emotion\\speech-emotion-recognition-ravdess-data\\Actor_02\\03-01-03-01-01-02-02.wav 03-01-03-01-01-02-02.wav\n",
      "C:\\Users\\thang\\Downloads\\Emotion\\Emotion\\speech-emotion-recognition-ravdess-data\\Actor_02\\03-01-03-01-02-01-02.wav 03-01-03-01-02-01-02.wav\n",
      "C:\\Users\\thang\\Downloads\\Emotion\\Emotion\\speech-emotion-recognition-ravdess-data\\Actor_02\\03-01-03-01-02-02-02.wav 03-01-03-01-02-02-02.wav\n",
      "C:\\Users\\thang\\Downloads\\Emotion\\Emotion\\speech-emotion-recognition-ravdess-data\\Actor_02\\03-01-03-02-01-01-02.wav 03-01-03-02-01-01-02.wav\n",
      "C:\\Users\\thang\\Downloads\\Emotion\\Emotion\\speech-emotion-recognition-ravdess-data\\Actor_02\\03-01-03-02-01-02-02.wav 03-01-03-02-01-02-02.wav\n"
     ]
    },
    {
     "name": "stderr",
     "output_type": "stream",
     "text": [
      "C:\\Users\\thang\\AppData\\Local\\Temp\\ipykernel_14300\\1750813818.py:16: FutureWarning: Pass y=[ 0.0000000e+00  0.0000000e+00  0.0000000e+00 ...  0.0000000e+00\n",
      "  0.0000000e+00 -3.0517578e-05] as keyword args. From version 0.10 passing these as positional arguments will result in an error\n",
      "  mel=np.mean(librosa.feature.melspectrogram(X, sr=sample_rate).T,axis=0)\n",
      "C:\\Users\\thang\\AppData\\Local\\Temp\\ipykernel_14300\\1750813818.py:16: FutureWarning: Pass y=[ 0.0000000e+00  0.0000000e+00  0.0000000e+00 ... -3.0517578e-05\n",
      " -3.0517578e-05  0.0000000e+00] as keyword args. From version 0.10 passing these as positional arguments will result in an error\n",
      "  mel=np.mean(librosa.feature.melspectrogram(X, sr=sample_rate).T,axis=0)\n"
     ]
    },
    {
     "name": "stdout",
     "output_type": "stream",
     "text": [
      "C:\\Users\\thang\\Downloads\\Emotion\\Emotion\\speech-emotion-recognition-ravdess-data\\Actor_02\\03-01-03-02-02-01-02.wav 03-01-03-02-02-01-02.wav\n",
      "C:\\Users\\thang\\Downloads\\Emotion\\Emotion\\speech-emotion-recognition-ravdess-data\\Actor_02\\03-01-03-02-02-02-02.wav 03-01-03-02-02-02-02.wav\n",
      "C:\\Users\\thang\\Downloads\\Emotion\\Emotion\\speech-emotion-recognition-ravdess-data\\Actor_02\\03-01-04-01-01-01-02.wav 03-01-04-01-01-01-02.wav\n",
      "C:\\Users\\thang\\Downloads\\Emotion\\Emotion\\speech-emotion-recognition-ravdess-data\\Actor_02\\03-01-04-01-01-02-02.wav 03-01-04-01-01-02-02.wav\n",
      "C:\\Users\\thang\\Downloads\\Emotion\\Emotion\\speech-emotion-recognition-ravdess-data\\Actor_02\\03-01-04-01-02-01-02.wav 03-01-04-01-02-01-02.wav\n",
      "C:\\Users\\thang\\Downloads\\Emotion\\Emotion\\speech-emotion-recognition-ravdess-data\\Actor_02\\03-01-04-01-02-02-02.wav 03-01-04-01-02-02-02.wav\n",
      "C:\\Users\\thang\\Downloads\\Emotion\\Emotion\\speech-emotion-recognition-ravdess-data\\Actor_02\\03-01-04-02-01-01-02.wav 03-01-04-02-01-01-02.wav\n",
      "C:\\Users\\thang\\Downloads\\Emotion\\Emotion\\speech-emotion-recognition-ravdess-data\\Actor_02\\03-01-04-02-01-02-02.wav 03-01-04-02-01-02-02.wav\n",
      "C:\\Users\\thang\\Downloads\\Emotion\\Emotion\\speech-emotion-recognition-ravdess-data\\Actor_02\\03-01-04-02-02-01-02.wav 03-01-04-02-02-01-02.wav\n",
      "C:\\Users\\thang\\Downloads\\Emotion\\Emotion\\speech-emotion-recognition-ravdess-data\\Actor_02\\03-01-04-02-02-02-02.wav 03-01-04-02-02-02-02.wav\n",
      "C:\\Users\\thang\\Downloads\\Emotion\\Emotion\\speech-emotion-recognition-ravdess-data\\Actor_02\\03-01-05-01-01-01-02.wav 03-01-05-01-01-01-02.wav\n",
      "C:\\Users\\thang\\Downloads\\Emotion\\Emotion\\speech-emotion-recognition-ravdess-data\\Actor_02\\03-01-05-01-01-02-02.wav 03-01-05-01-01-02-02.wav\n",
      "C:\\Users\\thang\\Downloads\\Emotion\\Emotion\\speech-emotion-recognition-ravdess-data\\Actor_02\\03-01-05-01-02-01-02.wav 03-01-05-01-02-01-02.wav\n",
      "C:\\Users\\thang\\Downloads\\Emotion\\Emotion\\speech-emotion-recognition-ravdess-data\\Actor_02\\03-01-05-01-02-02-02.wav 03-01-05-01-02-02-02.wav\n",
      "C:\\Users\\thang\\Downloads\\Emotion\\Emotion\\speech-emotion-recognition-ravdess-data\\Actor_02\\03-01-05-02-01-01-02.wav 03-01-05-02-01-01-02.wav\n",
      "C:\\Users\\thang\\Downloads\\Emotion\\Emotion\\speech-emotion-recognition-ravdess-data\\Actor_02\\03-01-05-02-01-02-02.wav 03-01-05-02-01-02-02.wav\n",
      "C:\\Users\\thang\\Downloads\\Emotion\\Emotion\\speech-emotion-recognition-ravdess-data\\Actor_02\\03-01-05-02-02-01-02.wav 03-01-05-02-02-01-02.wav\n",
      "C:\\Users\\thang\\Downloads\\Emotion\\Emotion\\speech-emotion-recognition-ravdess-data\\Actor_02\\03-01-05-02-02-02-02.wav 03-01-05-02-02-02-02.wav\n",
      "C:\\Users\\thang\\Downloads\\Emotion\\Emotion\\speech-emotion-recognition-ravdess-data\\Actor_02\\03-01-06-01-01-01-02.wav 03-01-06-01-01-01-02.wav\n",
      "C:\\Users\\thang\\Downloads\\Emotion\\Emotion\\speech-emotion-recognition-ravdess-data\\Actor_02\\03-01-06-01-01-02-02.wav 03-01-06-01-01-02-02.wav\n",
      "C:\\Users\\thang\\Downloads\\Emotion\\Emotion\\speech-emotion-recognition-ravdess-data\\Actor_02\\03-01-06-01-02-01-02.wav 03-01-06-01-02-01-02.wav\n",
      "C:\\Users\\thang\\Downloads\\Emotion\\Emotion\\speech-emotion-recognition-ravdess-data\\Actor_02\\03-01-06-01-02-02-02.wav 03-01-06-01-02-02-02.wav\n",
      "C:\\Users\\thang\\Downloads\\Emotion\\Emotion\\speech-emotion-recognition-ravdess-data\\Actor_02\\03-01-06-02-01-01-02.wav 03-01-06-02-01-01-02.wav\n",
      "C:\\Users\\thang\\Downloads\\Emotion\\Emotion\\speech-emotion-recognition-ravdess-data\\Actor_02\\03-01-06-02-01-02-02.wav 03-01-06-02-01-02-02.wav\n",
      "C:\\Users\\thang\\Downloads\\Emotion\\Emotion\\speech-emotion-recognition-ravdess-data\\Actor_02\\03-01-06-02-02-01-02.wav 03-01-06-02-02-01-02.wav\n",
      "C:\\Users\\thang\\Downloads\\Emotion\\Emotion\\speech-emotion-recognition-ravdess-data\\Actor_02\\03-01-06-02-02-02-02.wav 03-01-06-02-02-02-02.wav\n",
      "C:\\Users\\thang\\Downloads\\Emotion\\Emotion\\speech-emotion-recognition-ravdess-data\\Actor_02\\03-01-07-01-01-01-02.wav 03-01-07-01-01-01-02.wav\n",
      "C:\\Users\\thang\\Downloads\\Emotion\\Emotion\\speech-emotion-recognition-ravdess-data\\Actor_02\\03-01-07-01-01-02-02.wav 03-01-07-01-01-02-02.wav\n",
      "C:\\Users\\thang\\Downloads\\Emotion\\Emotion\\speech-emotion-recognition-ravdess-data\\Actor_02\\03-01-07-01-02-01-02.wav 03-01-07-01-02-01-02.wav\n",
      "C:\\Users\\thang\\Downloads\\Emotion\\Emotion\\speech-emotion-recognition-ravdess-data\\Actor_02\\03-01-07-01-02-02-02.wav 03-01-07-01-02-02-02.wav\n",
      "C:\\Users\\thang\\Downloads\\Emotion\\Emotion\\speech-emotion-recognition-ravdess-data\\Actor_02\\03-01-07-02-01-01-02.wav 03-01-07-02-01-01-02.wav\n",
      "C:\\Users\\thang\\Downloads\\Emotion\\Emotion\\speech-emotion-recognition-ravdess-data\\Actor_02\\03-01-07-02-01-02-02.wav 03-01-07-02-01-02-02.wav\n",
      "C:\\Users\\thang\\Downloads\\Emotion\\Emotion\\speech-emotion-recognition-ravdess-data\\Actor_02\\03-01-07-02-02-01-02.wav 03-01-07-02-02-01-02.wav\n",
      "C:\\Users\\thang\\Downloads\\Emotion\\Emotion\\speech-emotion-recognition-ravdess-data\\Actor_02\\03-01-07-02-02-02-02.wav 03-01-07-02-02-02-02.wav\n",
      "C:\\Users\\thang\\Downloads\\Emotion\\Emotion\\speech-emotion-recognition-ravdess-data\\Actor_02\\03-01-08-01-01-01-02.wav 03-01-08-01-01-01-02.wav\n",
      "C:\\Users\\thang\\Downloads\\Emotion\\Emotion\\speech-emotion-recognition-ravdess-data\\Actor_02\\03-01-08-01-01-02-02.wav 03-01-08-01-01-02-02.wav\n",
      "C:\\Users\\thang\\Downloads\\Emotion\\Emotion\\speech-emotion-recognition-ravdess-data\\Actor_02\\03-01-08-01-02-01-02.wav 03-01-08-01-02-01-02.wav\n",
      "C:\\Users\\thang\\Downloads\\Emotion\\Emotion\\speech-emotion-recognition-ravdess-data\\Actor_02\\03-01-08-01-02-02-02.wav 03-01-08-01-02-02-02.wav\n",
      "C:\\Users\\thang\\Downloads\\Emotion\\Emotion\\speech-emotion-recognition-ravdess-data\\Actor_02\\03-01-08-02-01-01-02.wav 03-01-08-02-01-01-02.wav\n",
      "C:\\Users\\thang\\Downloads\\Emotion\\Emotion\\speech-emotion-recognition-ravdess-data\\Actor_02\\03-01-08-02-01-02-02.wav 03-01-08-02-01-02-02.wav\n",
      "C:\\Users\\thang\\Downloads\\Emotion\\Emotion\\speech-emotion-recognition-ravdess-data\\Actor_02\\03-01-08-02-02-01-02.wav 03-01-08-02-02-01-02.wav\n",
      "C:\\Users\\thang\\Downloads\\Emotion\\Emotion\\speech-emotion-recognition-ravdess-data\\Actor_02\\03-01-08-02-02-02-02.wav 03-01-08-02-02-02-02.wav\n",
      "C:\\Users\\thang\\Downloads\\Emotion\\Emotion\\speech-emotion-recognition-ravdess-data\\Actor_03\\03-01-01-01-01-01-03.wav 03-01-01-01-01-01-03.wav\n",
      "C:\\Users\\thang\\Downloads\\Emotion\\Emotion\\speech-emotion-recognition-ravdess-data\\Actor_03\\03-01-01-01-01-02-03.wav 03-01-01-01-01-02-03.wav\n",
      "C:\\Users\\thang\\Downloads\\Emotion\\Emotion\\speech-emotion-recognition-ravdess-data\\Actor_03\\03-01-01-01-02-01-03.wav 03-01-01-01-02-01-03.wav\n",
      "C:\\Users\\thang\\Downloads\\Emotion\\Emotion\\speech-emotion-recognition-ravdess-data\\Actor_03\\03-01-01-01-02-02-03.wav 03-01-01-01-02-02-03.wav\n",
      "C:\\Users\\thang\\Downloads\\Emotion\\Emotion\\speech-emotion-recognition-ravdess-data\\Actor_03\\03-01-02-01-01-01-03.wav 03-01-02-01-01-01-03.wav\n",
      "C:\\Users\\thang\\Downloads\\Emotion\\Emotion\\speech-emotion-recognition-ravdess-data\\Actor_03\\03-01-02-01-01-02-03.wav 03-01-02-01-01-02-03.wav\n",
      "C:\\Users\\thang\\Downloads\\Emotion\\Emotion\\speech-emotion-recognition-ravdess-data\\Actor_03\\03-01-02-01-02-01-03.wav 03-01-02-01-02-01-03.wav\n"
     ]
    },
    {
     "name": "stderr",
     "output_type": "stream",
     "text": [
      "C:\\Users\\thang\\AppData\\Local\\Temp\\ipykernel_14300\\1750813818.py:16: FutureWarning: Pass y=[0.0000000e+00 0.0000000e+00 0.0000000e+00 ... 3.0517578e-05 3.0517578e-05\n",
      " 0.0000000e+00] as keyword args. From version 0.10 passing these as positional arguments will result in an error\n",
      "  mel=np.mean(librosa.feature.melspectrogram(X, sr=sample_rate).T,axis=0)\n",
      "C:\\Users\\thang\\AppData\\Local\\Temp\\ipykernel_14300\\1750813818.py:16: FutureWarning: Pass y=[ 0.0000000e+00  0.0000000e+00  0.0000000e+00 ... -6.1035156e-05\n",
      " -6.1035156e-05 -3.0517578e-05] as keyword args. From version 0.10 passing these as positional arguments will result in an error\n",
      "  mel=np.mean(librosa.feature.melspectrogram(X, sr=sample_rate).T,axis=0)\n",
      "C:\\Users\\thang\\AppData\\Local\\Temp\\ipykernel_14300\\1750813818.py:16: FutureWarning: Pass y=[ 0.0000000e+00  0.0000000e+00  0.0000000e+00 ...  0.0000000e+00\n",
      "  0.0000000e+00 -6.1035156e-05] as keyword args. From version 0.10 passing these as positional arguments will result in an error\n",
      "  mel=np.mean(librosa.feature.melspectrogram(X, sr=sample_rate).T,axis=0)\n"
     ]
    },
    {
     "name": "stdout",
     "output_type": "stream",
     "text": [
      "C:\\Users\\thang\\Downloads\\Emotion\\Emotion\\speech-emotion-recognition-ravdess-data\\Actor_03\\03-01-02-01-02-02-03.wav 03-01-02-01-02-02-03.wav\n",
      "C:\\Users\\thang\\Downloads\\Emotion\\Emotion\\speech-emotion-recognition-ravdess-data\\Actor_03\\03-01-02-02-01-01-03.wav 03-01-02-02-01-01-03.wav\n",
      "C:\\Users\\thang\\Downloads\\Emotion\\Emotion\\speech-emotion-recognition-ravdess-data\\Actor_03\\03-01-02-02-01-02-03.wav 03-01-02-02-01-02-03.wav\n",
      "C:\\Users\\thang\\Downloads\\Emotion\\Emotion\\speech-emotion-recognition-ravdess-data\\Actor_03\\03-01-02-02-02-01-03.wav 03-01-02-02-02-01-03.wav\n",
      "C:\\Users\\thang\\Downloads\\Emotion\\Emotion\\speech-emotion-recognition-ravdess-data\\Actor_03\\03-01-02-02-02-02-03.wav 03-01-02-02-02-02-03.wav\n",
      "C:\\Users\\thang\\Downloads\\Emotion\\Emotion\\speech-emotion-recognition-ravdess-data\\Actor_03\\03-01-03-01-01-01-03.wav 03-01-03-01-01-01-03.wav\n",
      "C:\\Users\\thang\\Downloads\\Emotion\\Emotion\\speech-emotion-recognition-ravdess-data\\Actor_03\\03-01-03-01-01-02-03.wav 03-01-03-01-01-02-03.wav\n"
     ]
    },
    {
     "name": "stderr",
     "output_type": "stream",
     "text": [
      "C:\\Users\\thang\\AppData\\Local\\Temp\\ipykernel_14300\\1750813818.py:16: FutureWarning: Pass y=[0.0000000e+00 0.0000000e+00 0.0000000e+00 ... 9.1552734e-05 1.2207031e-04\n",
      " 1.2207031e-04] as keyword args. From version 0.10 passing these as positional arguments will result in an error\n",
      "  mel=np.mean(librosa.feature.melspectrogram(X, sr=sample_rate).T,axis=0)\n",
      "C:\\Users\\thang\\AppData\\Local\\Temp\\ipykernel_14300\\1750813818.py:16: FutureWarning: Pass y=[0.0000000e+00 0.0000000e+00 0.0000000e+00 ... 1.8310547e-04 6.1035156e-05\n",
      " 0.0000000e+00] as keyword args. From version 0.10 passing these as positional arguments will result in an error\n",
      "  mel=np.mean(librosa.feature.melspectrogram(X, sr=sample_rate).T,axis=0)\n",
      "C:\\Users\\thang\\AppData\\Local\\Temp\\ipykernel_14300\\1750813818.py:16: FutureWarning: Pass y=[0.         0.         0.00015259 ... 0.         0.         0.        ] as keyword args. From version 0.10 passing these as positional arguments will result in an error\n",
      "  mel=np.mean(librosa.feature.melspectrogram(X, sr=sample_rate).T,axis=0)\n",
      "C:\\Users\\thang\\AppData\\Local\\Temp\\ipykernel_14300\\1750813818.py:16: FutureWarning: Pass y=[ 0.         -0.00012207 -0.00027466 ... -0.00015259 -0.00015259\n",
      " -0.00021362] as keyword args. From version 0.10 passing these as positional arguments will result in an error\n",
      "  mel=np.mean(librosa.feature.melspectrogram(X, sr=sample_rate).T,axis=0)\n",
      "C:\\Users\\thang\\AppData\\Local\\Temp\\ipykernel_14300\\1750813818.py:16: FutureWarning: Pass y=[0.         0.00015259 0.00015259 ... 0.00024414 0.00024414 0.00018311] as keyword args. From version 0.10 passing these as positional arguments will result in an error\n",
      "  mel=np.mean(librosa.feature.melspectrogram(X, sr=sample_rate).T,axis=0)\n",
      "C:\\Users\\thang\\AppData\\Local\\Temp\\ipykernel_14300\\1750813818.py:16: FutureWarning: Pass y=[ 6.1035156e-05  6.1035156e-05  9.1552734e-05 ... -3.0517578e-05\n",
      "  0.0000000e+00  0.0000000e+00] as keyword args. From version 0.10 passing these as positional arguments will result in an error\n",
      "  mel=np.mean(librosa.feature.melspectrogram(X, sr=sample_rate).T,axis=0)\n",
      "C:\\Users\\thang\\AppData\\Local\\Temp\\ipykernel_14300\\1750813818.py:16: FutureWarning: Pass y=[ 5.1879883e-04 -6.1035156e-05 -4.2724609e-04 ...  0.0000000e+00\n",
      " -9.1552734e-05 -6.1035156e-05] as keyword args. From version 0.10 passing these as positional arguments will result in an error\n",
      "  mel=np.mean(librosa.feature.melspectrogram(X, sr=sample_rate).T,axis=0)\n"
     ]
    },
    {
     "name": "stdout",
     "output_type": "stream",
     "text": [
      "C:\\Users\\thang\\Downloads\\Emotion\\Emotion\\speech-emotion-recognition-ravdess-data\\Actor_03\\03-01-03-01-02-01-03.wav 03-01-03-01-02-01-03.wav\n",
      "C:\\Users\\thang\\Downloads\\Emotion\\Emotion\\speech-emotion-recognition-ravdess-data\\Actor_03\\03-01-03-01-02-02-03.wav 03-01-03-01-02-02-03.wav\n",
      "C:\\Users\\thang\\Downloads\\Emotion\\Emotion\\speech-emotion-recognition-ravdess-data\\Actor_03\\03-01-03-02-01-01-03.wav 03-01-03-02-01-01-03.wav\n",
      "C:\\Users\\thang\\Downloads\\Emotion\\Emotion\\speech-emotion-recognition-ravdess-data\\Actor_03\\03-01-03-02-01-02-03.wav 03-01-03-02-01-02-03.wav\n",
      "C:\\Users\\thang\\Downloads\\Emotion\\Emotion\\speech-emotion-recognition-ravdess-data\\Actor_03\\03-01-03-02-02-01-03.wav 03-01-03-02-02-01-03.wav\n",
      "C:\\Users\\thang\\Downloads\\Emotion\\Emotion\\speech-emotion-recognition-ravdess-data\\Actor_03\\03-01-03-02-02-02-03.wav 03-01-03-02-02-02-03.wav\n",
      "C:\\Users\\thang\\Downloads\\Emotion\\Emotion\\speech-emotion-recognition-ravdess-data\\Actor_03\\03-01-04-01-01-01-03.wav 03-01-04-01-01-01-03.wav\n",
      "C:\\Users\\thang\\Downloads\\Emotion\\Emotion\\speech-emotion-recognition-ravdess-data\\Actor_03\\03-01-04-01-01-02-03.wav 03-01-04-01-01-02-03.wav\n",
      "C:\\Users\\thang\\Downloads\\Emotion\\Emotion\\speech-emotion-recognition-ravdess-data\\Actor_03\\03-01-04-01-02-01-03.wav 03-01-04-01-02-01-03.wav\n",
      "C:\\Users\\thang\\Downloads\\Emotion\\Emotion\\speech-emotion-recognition-ravdess-data\\Actor_03\\03-01-04-01-02-02-03.wav 03-01-04-01-02-02-03.wav\n",
      "C:\\Users\\thang\\Downloads\\Emotion\\Emotion\\speech-emotion-recognition-ravdess-data\\Actor_03\\03-01-04-02-01-01-03.wav 03-01-04-02-01-01-03.wav\n",
      "C:\\Users\\thang\\Downloads\\Emotion\\Emotion\\speech-emotion-recognition-ravdess-data\\Actor_03\\03-01-04-02-01-02-03.wav 03-01-04-02-01-02-03.wav\n",
      "C:\\Users\\thang\\Downloads\\Emotion\\Emotion\\speech-emotion-recognition-ravdess-data\\Actor_03\\03-01-04-02-02-01-03.wav 03-01-04-02-02-01-03.wav\n",
      "C:\\Users\\thang\\Downloads\\Emotion\\Emotion\\speech-emotion-recognition-ravdess-data\\Actor_03\\03-01-04-02-02-02-03.wav 03-01-04-02-02-02-03.wav\n",
      "C:\\Users\\thang\\Downloads\\Emotion\\Emotion\\speech-emotion-recognition-ravdess-data\\Actor_03\\03-01-05-01-01-01-03.wav 03-01-05-01-01-01-03.wav\n"
     ]
    },
    {
     "name": "stderr",
     "output_type": "stream",
     "text": [
      "C:\\Users\\thang\\AppData\\Local\\Temp\\ipykernel_14300\\1750813818.py:16: FutureWarning: Pass y=[0.0000000e+00 0.0000000e+00 0.0000000e+00 ... 0.0000000e+00 0.0000000e+00\n",
      " 3.0517578e-05] as keyword args. From version 0.10 passing these as positional arguments will result in an error\n",
      "  mel=np.mean(librosa.feature.melspectrogram(X, sr=sample_rate).T,axis=0)\n",
      "C:\\Users\\thang\\AppData\\Local\\Temp\\ipykernel_14300\\1750813818.py:16: FutureWarning: Pass y=[ 1.2207031e-04  1.5258789e-04 -3.0517578e-05 ...  0.0000000e+00\n",
      "  0.0000000e+00  0.0000000e+00] as keyword args. From version 0.10 passing these as positional arguments will result in an error\n",
      "  mel=np.mean(librosa.feature.melspectrogram(X, sr=sample_rate).T,axis=0)\n",
      "C:\\Users\\thang\\AppData\\Local\\Temp\\ipykernel_14300\\1750813818.py:16: FutureWarning: Pass y=[-0.00027466 -0.00024414 -0.00027466 ... -0.00015259 -0.00021362\n",
      " -0.00024414] as keyword args. From version 0.10 passing these as positional arguments will result in an error\n",
      "  mel=np.mean(librosa.feature.melspectrogram(X, sr=sample_rate).T,axis=0)\n",
      "C:\\Users\\thang\\AppData\\Local\\Temp\\ipykernel_14300\\1750813818.py:16: FutureWarning: Pass y=[-9.1552734e-05 -9.1552734e-04 -1.0986328e-03 ...  2.7465820e-04\n",
      "  3.0517578e-04  3.6621094e-04] as keyword args. From version 0.10 passing these as positional arguments will result in an error\n",
      "  mel=np.mean(librosa.feature.melspectrogram(X, sr=sample_rate).T,axis=0)\n",
      "C:\\Users\\thang\\AppData\\Local\\Temp\\ipykernel_14300\\1750813818.py:16: FutureWarning: Pass y=[-1.2207031e-04 -3.0517578e-05  0.0000000e+00 ...  3.0517578e-05\n",
      "  9.1552734e-05  1.2207031e-04] as keyword args. From version 0.10 passing these as positional arguments will result in an error\n",
      "  mel=np.mean(librosa.feature.melspectrogram(X, sr=sample_rate).T,axis=0)\n"
     ]
    },
    {
     "name": "stdout",
     "output_type": "stream",
     "text": [
      "C:\\Users\\thang\\Downloads\\Emotion\\Emotion\\speech-emotion-recognition-ravdess-data\\Actor_03\\03-01-05-01-01-02-03.wav 03-01-05-01-01-02-03.wav\n",
      "C:\\Users\\thang\\Downloads\\Emotion\\Emotion\\speech-emotion-recognition-ravdess-data\\Actor_03\\03-01-05-01-02-01-03.wav 03-01-05-01-02-01-03.wav\n",
      "C:\\Users\\thang\\Downloads\\Emotion\\Emotion\\speech-emotion-recognition-ravdess-data\\Actor_03\\03-01-05-01-02-02-03.wav 03-01-05-01-02-02-03.wav\n",
      "C:\\Users\\thang\\Downloads\\Emotion\\Emotion\\speech-emotion-recognition-ravdess-data\\Actor_03\\03-01-05-02-01-01-03.wav 03-01-05-02-01-01-03.wav\n",
      "C:\\Users\\thang\\Downloads\\Emotion\\Emotion\\speech-emotion-recognition-ravdess-data\\Actor_03\\03-01-05-02-01-02-03.wav 03-01-05-02-01-02-03.wav\n",
      "C:\\Users\\thang\\Downloads\\Emotion\\Emotion\\speech-emotion-recognition-ravdess-data\\Actor_03\\03-01-05-02-02-01-03.wav 03-01-05-02-02-01-03.wav\n",
      "C:\\Users\\thang\\Downloads\\Emotion\\Emotion\\speech-emotion-recognition-ravdess-data\\Actor_03\\03-01-05-02-02-02-03.wav 03-01-05-02-02-02-03.wav\n"
     ]
    },
    {
     "name": "stderr",
     "output_type": "stream",
     "text": [
      "C:\\Users\\thang\\AppData\\Local\\Temp\\ipykernel_14300\\1750813818.py:16: FutureWarning: Pass y=[ 0.0000000e+00  0.0000000e+00  0.0000000e+00 ... -9.1552734e-05\n",
      " -1.8310547e-04  9.1552734e-05] as keyword args. From version 0.10 passing these as positional arguments will result in an error\n",
      "  mel=np.mean(librosa.feature.melspectrogram(X, sr=sample_rate).T,axis=0)\n",
      "C:\\Users\\thang\\AppData\\Local\\Temp\\ipykernel_14300\\1750813818.py:16: FutureWarning: Pass y=[-9.1552734e-05 -3.0517578e-05  3.0517578e-05 ... -5.8593750e-03\n",
      " -5.8898926e-03 -6.0729980e-03] as keyword args. From version 0.10 passing these as positional arguments will result in an error\n",
      "  mel=np.mean(librosa.feature.melspectrogram(X, sr=sample_rate).T,axis=0)\n",
      "C:\\Users\\thang\\AppData\\Local\\Temp\\ipykernel_14300\\1750813818.py:16: FutureWarning: Pass y=[-1.8310547e-04  1.2207031e-04  3.0517578e-04 ... -1.8310547e-04\n",
      " -6.1035156e-05 -1.2207031e-04] as keyword args. From version 0.10 passing these as positional arguments will result in an error\n",
      "  mel=np.mean(librosa.feature.melspectrogram(X, sr=sample_rate).T,axis=0)\n",
      "C:\\Users\\thang\\AppData\\Local\\Temp\\ipykernel_14300\\1750813818.py:16: FutureWarning: Pass y=[ 6.4086914e-04  2.7465820e-04 -6.1035156e-05 ... -1.7089844e-03\n",
      " -1.8615723e-03 -1.8005371e-03] as keyword args. From version 0.10 passing these as positional arguments will result in an error\n",
      "  mel=np.mean(librosa.feature.melspectrogram(X, sr=sample_rate).T,axis=0)\n",
      "C:\\Users\\thang\\AppData\\Local\\Temp\\ipykernel_14300\\1750813818.py:16: FutureWarning: Pass y=[9.1552734e-05 2.1362305e-04 3.3569336e-04 ... 0.0000000e+00 3.0517578e-05\n",
      " 9.1552734e-05] as keyword args. From version 0.10 passing these as positional arguments will result in an error\n",
      "  mel=np.mean(librosa.feature.melspectrogram(X, sr=sample_rate).T,axis=0)\n",
      "C:\\Users\\thang\\AppData\\Local\\Temp\\ipykernel_14300\\1750813818.py:16: FutureWarning: Pass y=[3.0517578e-05 0.0000000e+00 3.0517578e-05 ... 9.4604492e-04 7.0190430e-04\n",
      " 8.8500977e-04] as keyword args. From version 0.10 passing these as positional arguments will result in an error\n",
      "  mel=np.mean(librosa.feature.melspectrogram(X, sr=sample_rate).T,axis=0)\n"
     ]
    },
    {
     "name": "stdout",
     "output_type": "stream",
     "text": [
      "C:\\Users\\thang\\Downloads\\Emotion\\Emotion\\speech-emotion-recognition-ravdess-data\\Actor_03\\03-01-06-01-01-01-03.wav 03-01-06-01-01-01-03.wav\n",
      "C:\\Users\\thang\\Downloads\\Emotion\\Emotion\\speech-emotion-recognition-ravdess-data\\Actor_03\\03-01-06-01-01-02-03.wav 03-01-06-01-01-02-03.wav\n",
      "C:\\Users\\thang\\Downloads\\Emotion\\Emotion\\speech-emotion-recognition-ravdess-data\\Actor_03\\03-01-06-01-02-01-03.wav 03-01-06-01-02-01-03.wav\n",
      "C:\\Users\\thang\\Downloads\\Emotion\\Emotion\\speech-emotion-recognition-ravdess-data\\Actor_03\\03-01-06-01-02-02-03.wav 03-01-06-01-02-02-03.wav\n",
      "C:\\Users\\thang\\Downloads\\Emotion\\Emotion\\speech-emotion-recognition-ravdess-data\\Actor_03\\03-01-06-02-01-01-03.wav 03-01-06-02-01-01-03.wav\n",
      "C:\\Users\\thang\\Downloads\\Emotion\\Emotion\\speech-emotion-recognition-ravdess-data\\Actor_03\\03-01-06-02-01-02-03.wav 03-01-06-02-01-02-03.wav\n",
      "C:\\Users\\thang\\Downloads\\Emotion\\Emotion\\speech-emotion-recognition-ravdess-data\\Actor_03\\03-01-06-02-02-01-03.wav 03-01-06-02-02-01-03.wav\n",
      "C:\\Users\\thang\\Downloads\\Emotion\\Emotion\\speech-emotion-recognition-ravdess-data\\Actor_03\\03-01-06-02-02-02-03.wav 03-01-06-02-02-02-03.wav\n",
      "C:\\Users\\thang\\Downloads\\Emotion\\Emotion\\speech-emotion-recognition-ravdess-data\\Actor_03\\03-01-07-01-01-01-03.wav 03-01-07-01-01-01-03.wav\n",
      "C:\\Users\\thang\\Downloads\\Emotion\\Emotion\\speech-emotion-recognition-ravdess-data\\Actor_03\\03-01-07-01-01-02-03.wav 03-01-07-01-01-02-03.wav\n",
      "C:\\Users\\thang\\Downloads\\Emotion\\Emotion\\speech-emotion-recognition-ravdess-data\\Actor_03\\03-01-07-01-02-01-03.wav 03-01-07-01-02-01-03.wav\n",
      "C:\\Users\\thang\\Downloads\\Emotion\\Emotion\\speech-emotion-recognition-ravdess-data\\Actor_03\\03-01-07-01-02-02-03.wav 03-01-07-01-02-02-03.wav\n",
      "C:\\Users\\thang\\Downloads\\Emotion\\Emotion\\speech-emotion-recognition-ravdess-data\\Actor_03\\03-01-07-02-01-01-03.wav 03-01-07-02-01-01-03.wav\n",
      "C:\\Users\\thang\\Downloads\\Emotion\\Emotion\\speech-emotion-recognition-ravdess-data\\Actor_03\\03-01-07-02-01-02-03.wav 03-01-07-02-01-02-03.wav\n",
      "C:\\Users\\thang\\Downloads\\Emotion\\Emotion\\speech-emotion-recognition-ravdess-data\\Actor_03\\03-01-07-02-02-01-03.wav 03-01-07-02-02-01-03.wav\n",
      "C:\\Users\\thang\\Downloads\\Emotion\\Emotion\\speech-emotion-recognition-ravdess-data\\Actor_03\\03-01-07-02-02-02-03.wav 03-01-07-02-02-02-03.wav\n",
      "C:\\Users\\thang\\Downloads\\Emotion\\Emotion\\speech-emotion-recognition-ravdess-data\\Actor_03\\03-01-08-01-01-01-03.wav 03-01-08-01-01-01-03.wav\n",
      "C:\\Users\\thang\\Downloads\\Emotion\\Emotion\\speech-emotion-recognition-ravdess-data\\Actor_03\\03-01-08-01-01-02-03.wav 03-01-08-01-01-02-03.wav\n",
      "C:\\Users\\thang\\Downloads\\Emotion\\Emotion\\speech-emotion-recognition-ravdess-data\\Actor_03\\03-01-08-01-02-01-03.wav 03-01-08-01-02-01-03.wav\n",
      "C:\\Users\\thang\\Downloads\\Emotion\\Emotion\\speech-emotion-recognition-ravdess-data\\Actor_03\\03-01-08-01-02-02-03.wav 03-01-08-01-02-02-03.wav\n",
      "C:\\Users\\thang\\Downloads\\Emotion\\Emotion\\speech-emotion-recognition-ravdess-data\\Actor_03\\03-01-08-02-01-01-03.wav 03-01-08-02-01-01-03.wav\n",
      "C:\\Users\\thang\\Downloads\\Emotion\\Emotion\\speech-emotion-recognition-ravdess-data\\Actor_03\\03-01-08-02-01-02-03.wav 03-01-08-02-01-02-03.wav\n",
      "C:\\Users\\thang\\Downloads\\Emotion\\Emotion\\speech-emotion-recognition-ravdess-data\\Actor_03\\03-01-08-02-02-01-03.wav 03-01-08-02-02-01-03.wav\n",
      "C:\\Users\\thang\\Downloads\\Emotion\\Emotion\\speech-emotion-recognition-ravdess-data\\Actor_03\\03-01-08-02-02-02-03.wav 03-01-08-02-02-02-03.wav\n",
      "C:\\Users\\thang\\Downloads\\Emotion\\Emotion\\speech-emotion-recognition-ravdess-data\\Actor_04\\03-01-01-01-01-01-04.wav 03-01-01-01-01-01-04.wav\n",
      "C:\\Users\\thang\\Downloads\\Emotion\\Emotion\\speech-emotion-recognition-ravdess-data\\Actor_04\\03-01-01-01-01-02-04.wav 03-01-01-01-01-02-04.wav\n",
      "C:\\Users\\thang\\Downloads\\Emotion\\Emotion\\speech-emotion-recognition-ravdess-data\\Actor_04\\03-01-01-01-02-01-04.wav 03-01-01-01-02-01-04.wav\n",
      "C:\\Users\\thang\\Downloads\\Emotion\\Emotion\\speech-emotion-recognition-ravdess-data\\Actor_04\\03-01-01-01-02-02-04.wav 03-01-01-01-02-02-04.wav\n",
      "C:\\Users\\thang\\Downloads\\Emotion\\Emotion\\speech-emotion-recognition-ravdess-data\\Actor_04\\03-01-02-01-01-01-04.wav 03-01-02-01-01-01-04.wav\n",
      "C:\\Users\\thang\\Downloads\\Emotion\\Emotion\\speech-emotion-recognition-ravdess-data\\Actor_04\\03-01-02-01-01-02-04.wav 03-01-02-01-01-02-04.wav\n",
      "C:\\Users\\thang\\Downloads\\Emotion\\Emotion\\speech-emotion-recognition-ravdess-data\\Actor_04\\03-01-02-01-02-01-04.wav 03-01-02-01-02-01-04.wav\n",
      "C:\\Users\\thang\\Downloads\\Emotion\\Emotion\\speech-emotion-recognition-ravdess-data\\Actor_04\\03-01-02-01-02-02-04.wav 03-01-02-01-02-02-04.wav\n",
      "C:\\Users\\thang\\Downloads\\Emotion\\Emotion\\speech-emotion-recognition-ravdess-data\\Actor_04\\03-01-02-02-01-01-04.wav 03-01-02-02-01-01-04.wav\n",
      "C:\\Users\\thang\\Downloads\\Emotion\\Emotion\\speech-emotion-recognition-ravdess-data\\Actor_04\\03-01-02-02-01-02-04.wav 03-01-02-02-01-02-04.wav\n",
      "C:\\Users\\thang\\Downloads\\Emotion\\Emotion\\speech-emotion-recognition-ravdess-data\\Actor_04\\03-01-02-02-02-01-04.wav 03-01-02-02-02-01-04.wav\n",
      "C:\\Users\\thang\\Downloads\\Emotion\\Emotion\\speech-emotion-recognition-ravdess-data\\Actor_04\\03-01-02-02-02-02-04.wav 03-01-02-02-02-02-04.wav\n"
     ]
    },
    {
     "name": "stderr",
     "output_type": "stream",
     "text": [
      "C:\\Users\\thang\\AppData\\Local\\Temp\\ipykernel_14300\\1750813818.py:16: FutureWarning: Pass y=[0.0000000e+00 0.0000000e+00 0.0000000e+00 ... 6.1035156e-05 9.1552734e-05\n",
      " 6.1035156e-05] as keyword args. From version 0.10 passing these as positional arguments will result in an error\n",
      "  mel=np.mean(librosa.feature.melspectrogram(X, sr=sample_rate).T,axis=0)\n",
      "C:\\Users\\thang\\AppData\\Local\\Temp\\ipykernel_14300\\1750813818.py:16: FutureWarning: Pass y=[ 0.0000000e+00  0.0000000e+00  0.0000000e+00 ... -6.1035156e-05\n",
      " -3.0517578e-05  0.0000000e+00] as keyword args. From version 0.10 passing these as positional arguments will result in an error\n",
      "  mel=np.mean(librosa.feature.melspectrogram(X, sr=sample_rate).T,axis=0)\n"
     ]
    },
    {
     "name": "stdout",
     "output_type": "stream",
     "text": [
      "C:\\Users\\thang\\Downloads\\Emotion\\Emotion\\speech-emotion-recognition-ravdess-data\\Actor_04\\03-01-03-01-01-01-04.wav 03-01-03-01-01-01-04.wav\n",
      "C:\\Users\\thang\\Downloads\\Emotion\\Emotion\\speech-emotion-recognition-ravdess-data\\Actor_04\\03-01-03-01-01-02-04.wav 03-01-03-01-01-02-04.wav\n",
      "C:\\Users\\thang\\Downloads\\Emotion\\Emotion\\speech-emotion-recognition-ravdess-data\\Actor_04\\03-01-03-01-02-01-04.wav 03-01-03-01-02-01-04.wav\n",
      "C:\\Users\\thang\\Downloads\\Emotion\\Emotion\\speech-emotion-recognition-ravdess-data\\Actor_04\\03-01-03-01-02-02-04.wav 03-01-03-01-02-02-04.wav\n",
      "C:\\Users\\thang\\Downloads\\Emotion\\Emotion\\speech-emotion-recognition-ravdess-data\\Actor_04\\03-01-03-02-01-01-04.wav 03-01-03-02-01-01-04.wav\n",
      "C:\\Users\\thang\\Downloads\\Emotion\\Emotion\\speech-emotion-recognition-ravdess-data\\Actor_04\\03-01-03-02-01-02-04.wav 03-01-03-02-01-02-04.wav\n",
      "C:\\Users\\thang\\Downloads\\Emotion\\Emotion\\speech-emotion-recognition-ravdess-data\\Actor_04\\03-01-03-02-02-01-04.wav 03-01-03-02-02-01-04.wav\n",
      "C:\\Users\\thang\\Downloads\\Emotion\\Emotion\\speech-emotion-recognition-ravdess-data\\Actor_04\\03-01-03-02-02-02-04.wav 03-01-03-02-02-02-04.wav\n"
     ]
    },
    {
     "name": "stderr",
     "output_type": "stream",
     "text": [
      "C:\\Users\\thang\\AppData\\Local\\Temp\\ipykernel_14300\\1750813818.py:16: FutureWarning: Pass y=[0.0000000e+00 0.0000000e+00 0.0000000e+00 ... 6.1035156e-05 0.0000000e+00\n",
      " 0.0000000e+00] as keyword args. From version 0.10 passing these as positional arguments will result in an error\n",
      "  mel=np.mean(librosa.feature.melspectrogram(X, sr=sample_rate).T,axis=0)\n",
      "C:\\Users\\thang\\AppData\\Local\\Temp\\ipykernel_14300\\1750813818.py:16: FutureWarning: Pass y=[ 0.0000000e+00  0.0000000e+00  0.0000000e+00 ... -3.0517578e-05\n",
      "  0.0000000e+00  0.0000000e+00] as keyword args. From version 0.10 passing these as positional arguments will result in an error\n",
      "  mel=np.mean(librosa.feature.melspectrogram(X, sr=sample_rate).T,axis=0)\n",
      "C:\\Users\\thang\\AppData\\Local\\Temp\\ipykernel_14300\\1750813818.py:16: FutureWarning: Pass y=[3.0517578e-05 0.0000000e+00 0.0000000e+00 ... 0.0000000e+00 0.0000000e+00\n",
      " 0.0000000e+00] as keyword args. From version 0.10 passing these as positional arguments will result in an error\n",
      "  mel=np.mean(librosa.feature.melspectrogram(X, sr=sample_rate).T,axis=0)\n",
      "C:\\Users\\thang\\AppData\\Local\\Temp\\ipykernel_14300\\1750813818.py:16: FutureWarning: Pass y=[3.0517578e-05 6.1035156e-05 6.1035156e-05 ... 0.0000000e+00 0.0000000e+00\n",
      " 0.0000000e+00] as keyword args. From version 0.10 passing these as positional arguments will result in an error\n",
      "  mel=np.mean(librosa.feature.melspectrogram(X, sr=sample_rate).T,axis=0)\n"
     ]
    },
    {
     "name": "stdout",
     "output_type": "stream",
     "text": [
      "C:\\Users\\thang\\Downloads\\Emotion\\Emotion\\speech-emotion-recognition-ravdess-data\\Actor_04\\03-01-04-01-01-01-04.wav 03-01-04-01-01-01-04.wav\n",
      "C:\\Users\\thang\\Downloads\\Emotion\\Emotion\\speech-emotion-recognition-ravdess-data\\Actor_04\\03-01-04-01-01-02-04.wav 03-01-04-01-01-02-04.wav\n",
      "C:\\Users\\thang\\Downloads\\Emotion\\Emotion\\speech-emotion-recognition-ravdess-data\\Actor_04\\03-01-04-01-02-01-04.wav 03-01-04-01-02-01-04.wav\n",
      "C:\\Users\\thang\\Downloads\\Emotion\\Emotion\\speech-emotion-recognition-ravdess-data\\Actor_04\\03-01-04-01-02-02-04.wav 03-01-04-01-02-02-04.wav\n",
      "C:\\Users\\thang\\Downloads\\Emotion\\Emotion\\speech-emotion-recognition-ravdess-data\\Actor_04\\03-01-04-02-01-01-04.wav 03-01-04-02-01-01-04.wav\n",
      "C:\\Users\\thang\\Downloads\\Emotion\\Emotion\\speech-emotion-recognition-ravdess-data\\Actor_04\\03-01-04-02-01-02-04.wav 03-01-04-02-01-02-04.wav\n",
      "C:\\Users\\thang\\Downloads\\Emotion\\Emotion\\speech-emotion-recognition-ravdess-data\\Actor_04\\03-01-04-02-02-01-04.wav 03-01-04-02-02-01-04.wav\n",
      "C:\\Users\\thang\\Downloads\\Emotion\\Emotion\\speech-emotion-recognition-ravdess-data\\Actor_04\\03-01-04-02-02-02-04.wav 03-01-04-02-02-02-04.wav\n",
      "C:\\Users\\thang\\Downloads\\Emotion\\Emotion\\speech-emotion-recognition-ravdess-data\\Actor_04\\03-01-05-01-01-01-04.wav 03-01-05-01-01-01-04.wav\n",
      "C:\\Users\\thang\\Downloads\\Emotion\\Emotion\\speech-emotion-recognition-ravdess-data\\Actor_04\\03-01-05-01-01-02-04.wav 03-01-05-01-01-02-04.wav\n",
      "C:\\Users\\thang\\Downloads\\Emotion\\Emotion\\speech-emotion-recognition-ravdess-data\\Actor_04\\03-01-05-01-02-01-04.wav 03-01-05-01-02-01-04.wav\n",
      "C:\\Users\\thang\\Downloads\\Emotion\\Emotion\\speech-emotion-recognition-ravdess-data\\Actor_04\\03-01-05-01-02-02-04.wav 03-01-05-01-02-02-04.wav\n",
      "C:\\Users\\thang\\Downloads\\Emotion\\Emotion\\speech-emotion-recognition-ravdess-data\\Actor_04\\03-01-05-02-01-01-04.wav 03-01-05-02-01-01-04.wav\n",
      "C:\\Users\\thang\\Downloads\\Emotion\\Emotion\\speech-emotion-recognition-ravdess-data\\Actor_04\\03-01-05-02-01-02-04.wav 03-01-05-02-01-02-04.wav\n",
      "C:\\Users\\thang\\Downloads\\Emotion\\Emotion\\speech-emotion-recognition-ravdess-data\\Actor_04\\03-01-05-02-02-01-04.wav 03-01-05-02-02-01-04.wav\n",
      "C:\\Users\\thang\\Downloads\\Emotion\\Emotion\\speech-emotion-recognition-ravdess-data\\Actor_04\\03-01-05-02-02-02-04.wav 03-01-05-02-02-02-04.wav\n"
     ]
    },
    {
     "name": "stderr",
     "output_type": "stream",
     "text": [
      "C:\\Users\\thang\\AppData\\Local\\Temp\\ipykernel_14300\\1750813818.py:16: FutureWarning: Pass y=[0.0000000e+00 0.0000000e+00 0.0000000e+00 ... 6.1035156e-05 3.0517578e-05\n",
      " 3.0517578e-05] as keyword args. From version 0.10 passing these as positional arguments will result in an error\n",
      "  mel=np.mean(librosa.feature.melspectrogram(X, sr=sample_rate).T,axis=0)\n",
      "C:\\Users\\thang\\AppData\\Local\\Temp\\ipykernel_14300\\1750813818.py:16: FutureWarning: Pass y=[ 0.0000000e+00  0.0000000e+00  0.0000000e+00 ... -3.0517578e-05\n",
      " -3.0517578e-05 -3.0517578e-05] as keyword args. From version 0.10 passing these as positional arguments will result in an error\n",
      "  mel=np.mean(librosa.feature.melspectrogram(X, sr=sample_rate).T,axis=0)\n",
      "C:\\Users\\thang\\AppData\\Local\\Temp\\ipykernel_14300\\1750813818.py:16: FutureWarning: Pass y=[6.1035156e-05 6.1035156e-05 6.1035156e-05 ... 0.0000000e+00 0.0000000e+00\n",
      " 0.0000000e+00] as keyword args. From version 0.10 passing these as positional arguments will result in an error\n",
      "  mel=np.mean(librosa.feature.melspectrogram(X, sr=sample_rate).T,axis=0)\n",
      "C:\\Users\\thang\\AppData\\Local\\Temp\\ipykernel_14300\\1750813818.py:16: FutureWarning: Pass y=[ 0.0000000e+00  3.0517578e-05  3.0517578e-05 ... -3.0517578e-05\n",
      " -3.0517578e-05 -6.1035156e-05] as keyword args. From version 0.10 passing these as positional arguments will result in an error\n",
      "  mel=np.mean(librosa.feature.melspectrogram(X, sr=sample_rate).T,axis=0)\n"
     ]
    },
    {
     "name": "stdout",
     "output_type": "stream",
     "text": [
      "C:\\Users\\thang\\Downloads\\Emotion\\Emotion\\speech-emotion-recognition-ravdess-data\\Actor_04\\03-01-06-01-01-01-04.wav 03-01-06-01-01-01-04.wav\n",
      "C:\\Users\\thang\\Downloads\\Emotion\\Emotion\\speech-emotion-recognition-ravdess-data\\Actor_04\\03-01-06-01-01-02-04.wav 03-01-06-01-01-02-04.wav\n",
      "C:\\Users\\thang\\Downloads\\Emotion\\Emotion\\speech-emotion-recognition-ravdess-data\\Actor_04\\03-01-06-01-02-01-04.wav 03-01-06-01-02-01-04.wav\n",
      "C:\\Users\\thang\\Downloads\\Emotion\\Emotion\\speech-emotion-recognition-ravdess-data\\Actor_04\\03-01-06-01-02-02-04.wav 03-01-06-01-02-02-04.wav\n",
      "C:\\Users\\thang\\Downloads\\Emotion\\Emotion\\speech-emotion-recognition-ravdess-data\\Actor_04\\03-01-06-02-01-01-04.wav 03-01-06-02-01-01-04.wav\n",
      "C:\\Users\\thang\\Downloads\\Emotion\\Emotion\\speech-emotion-recognition-ravdess-data\\Actor_04\\03-01-06-02-01-02-04.wav 03-01-06-02-01-02-04.wav\n",
      "C:\\Users\\thang\\Downloads\\Emotion\\Emotion\\speech-emotion-recognition-ravdess-data\\Actor_04\\03-01-06-02-02-01-04.wav 03-01-06-02-02-01-04.wav\n",
      "C:\\Users\\thang\\Downloads\\Emotion\\Emotion\\speech-emotion-recognition-ravdess-data\\Actor_04\\03-01-06-02-02-02-04.wav 03-01-06-02-02-02-04.wav\n",
      "C:\\Users\\thang\\Downloads\\Emotion\\Emotion\\speech-emotion-recognition-ravdess-data\\Actor_04\\03-01-07-01-01-01-04.wav 03-01-07-01-01-01-04.wav\n",
      "C:\\Users\\thang\\Downloads\\Emotion\\Emotion\\speech-emotion-recognition-ravdess-data\\Actor_04\\03-01-07-01-01-02-04.wav 03-01-07-01-01-02-04.wav\n",
      "C:\\Users\\thang\\Downloads\\Emotion\\Emotion\\speech-emotion-recognition-ravdess-data\\Actor_04\\03-01-07-01-02-01-04.wav 03-01-07-01-02-01-04.wav\n",
      "C:\\Users\\thang\\Downloads\\Emotion\\Emotion\\speech-emotion-recognition-ravdess-data\\Actor_04\\03-01-07-01-02-02-04.wav 03-01-07-01-02-02-04.wav\n",
      "C:\\Users\\thang\\Downloads\\Emotion\\Emotion\\speech-emotion-recognition-ravdess-data\\Actor_04\\03-01-07-02-01-01-04.wav 03-01-07-02-01-01-04.wav\n",
      "C:\\Users\\thang\\Downloads\\Emotion\\Emotion\\speech-emotion-recognition-ravdess-data\\Actor_04\\03-01-07-02-01-02-04.wav 03-01-07-02-01-02-04.wav\n",
      "C:\\Users\\thang\\Downloads\\Emotion\\Emotion\\speech-emotion-recognition-ravdess-data\\Actor_04\\03-01-07-02-02-01-04.wav 03-01-07-02-02-01-04.wav\n",
      "C:\\Users\\thang\\Downloads\\Emotion\\Emotion\\speech-emotion-recognition-ravdess-data\\Actor_04\\03-01-07-02-02-02-04.wav 03-01-07-02-02-02-04.wav\n",
      "C:\\Users\\thang\\Downloads\\Emotion\\Emotion\\speech-emotion-recognition-ravdess-data\\Actor_04\\03-01-08-01-01-01-04.wav 03-01-08-01-01-01-04.wav\n",
      "C:\\Users\\thang\\Downloads\\Emotion\\Emotion\\speech-emotion-recognition-ravdess-data\\Actor_04\\03-01-08-01-01-02-04.wav 03-01-08-01-01-02-04.wav\n",
      "C:\\Users\\thang\\Downloads\\Emotion\\Emotion\\speech-emotion-recognition-ravdess-data\\Actor_04\\03-01-08-01-02-01-04.wav 03-01-08-01-02-01-04.wav\n",
      "C:\\Users\\thang\\Downloads\\Emotion\\Emotion\\speech-emotion-recognition-ravdess-data\\Actor_04\\03-01-08-01-02-02-04.wav 03-01-08-01-02-02-04.wav\n",
      "C:\\Users\\thang\\Downloads\\Emotion\\Emotion\\speech-emotion-recognition-ravdess-data\\Actor_04\\03-01-08-02-01-01-04.wav 03-01-08-02-01-01-04.wav\n",
      "C:\\Users\\thang\\Downloads\\Emotion\\Emotion\\speech-emotion-recognition-ravdess-data\\Actor_04\\03-01-08-02-01-02-04.wav 03-01-08-02-01-02-04.wav\n",
      "C:\\Users\\thang\\Downloads\\Emotion\\Emotion\\speech-emotion-recognition-ravdess-data\\Actor_04\\03-01-08-02-02-01-04.wav 03-01-08-02-02-01-04.wav\n",
      "C:\\Users\\thang\\Downloads\\Emotion\\Emotion\\speech-emotion-recognition-ravdess-data\\Actor_04\\03-01-08-02-02-02-04.wav 03-01-08-02-02-02-04.wav\n",
      "C:\\Users\\thang\\Downloads\\Emotion\\Emotion\\speech-emotion-recognition-ravdess-data\\Actor_05\\03-01-01-01-01-01-05.wav 03-01-01-01-01-01-05.wav\n",
      "C:\\Users\\thang\\Downloads\\Emotion\\Emotion\\speech-emotion-recognition-ravdess-data\\Actor_05\\03-01-01-01-01-02-05.wav 03-01-01-01-01-02-05.wav\n",
      "C:\\Users\\thang\\Downloads\\Emotion\\Emotion\\speech-emotion-recognition-ravdess-data\\Actor_05\\03-01-01-01-02-01-05.wav 03-01-01-01-02-01-05.wav\n",
      "C:\\Users\\thang\\Downloads\\Emotion\\Emotion\\speech-emotion-recognition-ravdess-data\\Actor_05\\03-01-01-01-02-02-05.wav 03-01-01-01-02-02-05.wav\n",
      "C:\\Users\\thang\\Downloads\\Emotion\\Emotion\\speech-emotion-recognition-ravdess-data\\Actor_05\\03-01-02-01-01-01-05.wav 03-01-02-01-01-01-05.wav\n",
      "C:\\Users\\thang\\Downloads\\Emotion\\Emotion\\speech-emotion-recognition-ravdess-data\\Actor_05\\03-01-02-01-01-02-05.wav 03-01-02-01-01-02-05.wav\n",
      "C:\\Users\\thang\\Downloads\\Emotion\\Emotion\\speech-emotion-recognition-ravdess-data\\Actor_05\\03-01-02-01-02-01-05.wav 03-01-02-01-02-01-05.wav\n",
      "C:\\Users\\thang\\Downloads\\Emotion\\Emotion\\speech-emotion-recognition-ravdess-data\\Actor_05\\03-01-02-01-02-02-05.wav 03-01-02-01-02-02-05.wav\n",
      "C:\\Users\\thang\\Downloads\\Emotion\\Emotion\\speech-emotion-recognition-ravdess-data\\Actor_05\\03-01-02-02-01-01-05.wav 03-01-02-02-01-01-05.wav\n",
      "C:\\Users\\thang\\Downloads\\Emotion\\Emotion\\speech-emotion-recognition-ravdess-data\\Actor_05\\03-01-02-02-01-02-05.wav 03-01-02-02-01-02-05.wav\n",
      "C:\\Users\\thang\\Downloads\\Emotion\\Emotion\\speech-emotion-recognition-ravdess-data\\Actor_05\\03-01-02-02-02-01-05.wav 03-01-02-02-02-01-05.wav\n"
     ]
    },
    {
     "name": "stderr",
     "output_type": "stream",
     "text": [
      "C:\\Users\\thang\\AppData\\Local\\Temp\\ipykernel_14300\\1750813818.py:16: FutureWarning: Pass y=[-3.0517578e-05  0.0000000e+00  0.0000000e+00 ...  0.0000000e+00\n",
      "  0.0000000e+00  0.0000000e+00] as keyword args. From version 0.10 passing these as positional arguments will result in an error\n",
      "  mel=np.mean(librosa.feature.melspectrogram(X, sr=sample_rate).T,axis=0)\n",
      "C:\\Users\\thang\\AppData\\Local\\Temp\\ipykernel_14300\\1750813818.py:16: FutureWarning: Pass y=[ 0.0000000e+00  0.0000000e+00  0.0000000e+00 ... -3.0517578e-05\n",
      " -6.1035156e-05 -3.0517578e-05] as keyword args. From version 0.10 passing these as positional arguments will result in an error\n",
      "  mel=np.mean(librosa.feature.melspectrogram(X, sr=sample_rate).T,axis=0)\n",
      "C:\\Users\\thang\\AppData\\Local\\Temp\\ipykernel_14300\\1750813818.py:16: FutureWarning: Pass y=[0.0000000e+00 0.0000000e+00 0.0000000e+00 ... 3.0517578e-05 6.1035156e-05\n",
      " 9.1552734e-05] as keyword args. From version 0.10 passing these as positional arguments will result in an error\n",
      "  mel=np.mean(librosa.feature.melspectrogram(X, sr=sample_rate).T,axis=0)\n"
     ]
    },
    {
     "name": "stdout",
     "output_type": "stream",
     "text": [
      "C:\\Users\\thang\\Downloads\\Emotion\\Emotion\\speech-emotion-recognition-ravdess-data\\Actor_05\\03-01-02-02-02-02-05.wav 03-01-02-02-02-02-05.wav\n",
      "C:\\Users\\thang\\Downloads\\Emotion\\Emotion\\speech-emotion-recognition-ravdess-data\\Actor_05\\03-01-03-01-01-01-05.wav 03-01-03-01-01-01-05.wav\n",
      "C:\\Users\\thang\\Downloads\\Emotion\\Emotion\\speech-emotion-recognition-ravdess-data\\Actor_05\\03-01-03-01-01-02-05.wav 03-01-03-01-01-02-05.wav\n",
      "C:\\Users\\thang\\Downloads\\Emotion\\Emotion\\speech-emotion-recognition-ravdess-data\\Actor_05\\03-01-03-01-02-01-05.wav 03-01-03-01-02-01-05.wav\n",
      "C:\\Users\\thang\\Downloads\\Emotion\\Emotion\\speech-emotion-recognition-ravdess-data\\Actor_05\\03-01-03-01-02-02-05.wav 03-01-03-01-02-02-05.wav\n",
      "C:\\Users\\thang\\Downloads\\Emotion\\Emotion\\speech-emotion-recognition-ravdess-data\\Actor_05\\03-01-03-02-01-01-05.wav 03-01-03-02-01-01-05.wav\n",
      "C:\\Users\\thang\\Downloads\\Emotion\\Emotion\\speech-emotion-recognition-ravdess-data\\Actor_05\\03-01-03-02-01-02-05.wav 03-01-03-02-01-02-05.wav\n",
      "C:\\Users\\thang\\Downloads\\Emotion\\Emotion\\speech-emotion-recognition-ravdess-data\\Actor_05\\03-01-03-02-02-01-05.wav 03-01-03-02-02-01-05.wav\n"
     ]
    },
    {
     "name": "stderr",
     "output_type": "stream",
     "text": [
      "C:\\Users\\thang\\AppData\\Local\\Temp\\ipykernel_14300\\1750813818.py:16: FutureWarning: Pass y=[-1.5258789e-04 -1.5258789e-04 -1.5258789e-04 ...  0.0000000e+00\n",
      "  3.0517578e-05  3.0517578e-05] as keyword args. From version 0.10 passing these as positional arguments will result in an error\n",
      "  mel=np.mean(librosa.feature.melspectrogram(X, sr=sample_rate).T,axis=0)\n",
      "C:\\Users\\thang\\AppData\\Local\\Temp\\ipykernel_14300\\1750813818.py:16: FutureWarning: Pass y=[-3.0517578e-05 -3.0517578e-05 -3.0517578e-05 ...  3.0517578e-05\n",
      "  6.1035156e-05  6.1035156e-05] as keyword args. From version 0.10 passing these as positional arguments will result in an error\n",
      "  mel=np.mean(librosa.feature.melspectrogram(X, sr=sample_rate).T,axis=0)\n",
      "C:\\Users\\thang\\AppData\\Local\\Temp\\ipykernel_14300\\1750813818.py:16: FutureWarning: Pass y=[-6.1035156e-05 -6.1035156e-05 -3.0517578e-05 ... -3.0517578e-05\n",
      " -6.1035156e-05 -3.0517578e-05] as keyword args. From version 0.10 passing these as positional arguments will result in an error\n",
      "  mel=np.mean(librosa.feature.melspectrogram(X, sr=sample_rate).T,axis=0)\n",
      "C:\\Users\\thang\\AppData\\Local\\Temp\\ipykernel_14300\\1750813818.py:16: FutureWarning: Pass y=[0.0000000e+00 0.0000000e+00 0.0000000e+00 ... 0.0000000e+00 3.0517578e-05\n",
      " 0.0000000e+00] as keyword args. From version 0.10 passing these as positional arguments will result in an error\n",
      "  mel=np.mean(librosa.feature.melspectrogram(X, sr=sample_rate).T,axis=0)\n",
      "C:\\Users\\thang\\AppData\\Local\\Temp\\ipykernel_14300\\1750813818.py:16: FutureWarning: Pass y=[-6.1035156e-05 -6.1035156e-05 -9.1552734e-05 ...  4.2724609e-04\n",
      "  4.2724609e-04  4.2724609e-04] as keyword args. From version 0.10 passing these as positional arguments will result in an error\n",
      "  mel=np.mean(librosa.feature.melspectrogram(X, sr=sample_rate).T,axis=0)\n"
     ]
    },
    {
     "name": "stdout",
     "output_type": "stream",
     "text": [
      "C:\\Users\\thang\\Downloads\\Emotion\\Emotion\\speech-emotion-recognition-ravdess-data\\Actor_05\\03-01-03-02-02-02-05.wav 03-01-03-02-02-02-05.wav\n",
      "C:\\Users\\thang\\Downloads\\Emotion\\Emotion\\speech-emotion-recognition-ravdess-data\\Actor_05\\03-01-04-01-01-01-05.wav 03-01-04-01-01-01-05.wav\n",
      "C:\\Users\\thang\\Downloads\\Emotion\\Emotion\\speech-emotion-recognition-ravdess-data\\Actor_05\\03-01-04-01-01-02-05.wav 03-01-04-01-01-02-05.wav\n",
      "C:\\Users\\thang\\Downloads\\Emotion\\Emotion\\speech-emotion-recognition-ravdess-data\\Actor_05\\03-01-04-01-02-01-05.wav 03-01-04-01-02-01-05.wav\n",
      "C:\\Users\\thang\\Downloads\\Emotion\\Emotion\\speech-emotion-recognition-ravdess-data\\Actor_05\\03-01-04-01-02-02-05.wav 03-01-04-01-02-02-05.wav\n",
      "C:\\Users\\thang\\Downloads\\Emotion\\Emotion\\speech-emotion-recognition-ravdess-data\\Actor_05\\03-01-04-02-01-01-05.wav 03-01-04-02-01-01-05.wav\n",
      "C:\\Users\\thang\\Downloads\\Emotion\\Emotion\\speech-emotion-recognition-ravdess-data\\Actor_05\\03-01-04-02-01-02-05.wav 03-01-04-02-01-02-05.wav\n",
      "C:\\Users\\thang\\Downloads\\Emotion\\Emotion\\speech-emotion-recognition-ravdess-data\\Actor_05\\03-01-04-02-02-01-05.wav 03-01-04-02-02-01-05.wav\n",
      "C:\\Users\\thang\\Downloads\\Emotion\\Emotion\\speech-emotion-recognition-ravdess-data\\Actor_05\\03-01-04-02-02-02-05.wav 03-01-04-02-02-02-05.wav\n",
      "C:\\Users\\thang\\Downloads\\Emotion\\Emotion\\speech-emotion-recognition-ravdess-data\\Actor_05\\03-01-05-01-01-01-05.wav 03-01-05-01-01-01-05.wav\n",
      "C:\\Users\\thang\\Downloads\\Emotion\\Emotion\\speech-emotion-recognition-ravdess-data\\Actor_05\\03-01-05-01-01-02-05.wav 03-01-05-01-01-02-05.wav\n",
      "C:\\Users\\thang\\Downloads\\Emotion\\Emotion\\speech-emotion-recognition-ravdess-data\\Actor_05\\03-01-05-01-02-01-05.wav 03-01-05-01-02-01-05.wav\n",
      "C:\\Users\\thang\\Downloads\\Emotion\\Emotion\\speech-emotion-recognition-ravdess-data\\Actor_05\\03-01-05-01-02-02-05.wav 03-01-05-01-02-02-05.wav\n",
      "C:\\Users\\thang\\Downloads\\Emotion\\Emotion\\speech-emotion-recognition-ravdess-data\\Actor_05\\03-01-05-02-01-01-05.wav 03-01-05-02-01-01-05.wav\n",
      "C:\\Users\\thang\\Downloads\\Emotion\\Emotion\\speech-emotion-recognition-ravdess-data\\Actor_05\\03-01-05-02-01-02-05.wav 03-01-05-02-01-02-05.wav\n",
      "C:\\Users\\thang\\Downloads\\Emotion\\Emotion\\speech-emotion-recognition-ravdess-data\\Actor_05\\03-01-05-02-02-01-05.wav 03-01-05-02-02-01-05.wav\n",
      "C:\\Users\\thang\\Downloads\\Emotion\\Emotion\\speech-emotion-recognition-ravdess-data\\Actor_05\\03-01-05-02-02-02-05.wav 03-01-05-02-02-02-05.wav\n",
      "C:\\Users\\thang\\Downloads\\Emotion\\Emotion\\speech-emotion-recognition-ravdess-data\\Actor_05\\03-01-06-01-01-01-05.wav 03-01-06-01-01-01-05.wav\n",
      "C:\\Users\\thang\\Downloads\\Emotion\\Emotion\\speech-emotion-recognition-ravdess-data\\Actor_05\\03-01-06-01-01-02-05.wav 03-01-06-01-01-02-05.wav\n",
      "C:\\Users\\thang\\Downloads\\Emotion\\Emotion\\speech-emotion-recognition-ravdess-data\\Actor_05\\03-01-06-01-02-01-05.wav 03-01-06-01-02-01-05.wav\n",
      "C:\\Users\\thang\\Downloads\\Emotion\\Emotion\\speech-emotion-recognition-ravdess-data\\Actor_05\\03-01-06-01-02-02-05.wav 03-01-06-01-02-02-05.wav\n",
      "C:\\Users\\thang\\Downloads\\Emotion\\Emotion\\speech-emotion-recognition-ravdess-data\\Actor_05\\03-01-06-02-01-01-05.wav 03-01-06-02-01-01-05.wav\n",
      "C:\\Users\\thang\\Downloads\\Emotion\\Emotion\\speech-emotion-recognition-ravdess-data\\Actor_05\\03-01-06-02-01-02-05.wav 03-01-06-02-01-02-05.wav\n",
      "C:\\Users\\thang\\Downloads\\Emotion\\Emotion\\speech-emotion-recognition-ravdess-data\\Actor_05\\03-01-06-02-02-01-05.wav 03-01-06-02-02-01-05.wav\n",
      "C:\\Users\\thang\\Downloads\\Emotion\\Emotion\\speech-emotion-recognition-ravdess-data\\Actor_05\\03-01-06-02-02-02-05.wav 03-01-06-02-02-02-05.wav\n",
      "C:\\Users\\thang\\Downloads\\Emotion\\Emotion\\speech-emotion-recognition-ravdess-data\\Actor_05\\03-01-07-01-01-01-05.wav 03-01-07-01-01-01-05.wav\n",
      "C:\\Users\\thang\\Downloads\\Emotion\\Emotion\\speech-emotion-recognition-ravdess-data\\Actor_05\\03-01-07-01-01-02-05.wav 03-01-07-01-01-02-05.wav\n",
      "C:\\Users\\thang\\Downloads\\Emotion\\Emotion\\speech-emotion-recognition-ravdess-data\\Actor_05\\03-01-07-01-02-01-05.wav 03-01-07-01-02-01-05.wav\n",
      "C:\\Users\\thang\\Downloads\\Emotion\\Emotion\\speech-emotion-recognition-ravdess-data\\Actor_05\\03-01-07-01-02-02-05.wav 03-01-07-01-02-02-05.wav\n",
      "C:\\Users\\thang\\Downloads\\Emotion\\Emotion\\speech-emotion-recognition-ravdess-data\\Actor_05\\03-01-07-02-01-01-05.wav 03-01-07-02-01-01-05.wav\n",
      "C:\\Users\\thang\\Downloads\\Emotion\\Emotion\\speech-emotion-recognition-ravdess-data\\Actor_05\\03-01-07-02-01-02-05.wav 03-01-07-02-01-02-05.wav\n",
      "C:\\Users\\thang\\Downloads\\Emotion\\Emotion\\speech-emotion-recognition-ravdess-data\\Actor_05\\03-01-07-02-02-01-05.wav 03-01-07-02-02-01-05.wav\n",
      "C:\\Users\\thang\\Downloads\\Emotion\\Emotion\\speech-emotion-recognition-ravdess-data\\Actor_05\\03-01-07-02-02-02-05.wav 03-01-07-02-02-02-05.wav\n",
      "C:\\Users\\thang\\Downloads\\Emotion\\Emotion\\speech-emotion-recognition-ravdess-data\\Actor_05\\03-01-08-01-01-01-05.wav 03-01-08-01-01-01-05.wav\n",
      "C:\\Users\\thang\\Downloads\\Emotion\\Emotion\\speech-emotion-recognition-ravdess-data\\Actor_05\\03-01-08-01-01-02-05.wav 03-01-08-01-01-02-05.wav\n",
      "C:\\Users\\thang\\Downloads\\Emotion\\Emotion\\speech-emotion-recognition-ravdess-data\\Actor_05\\03-01-08-01-02-01-05.wav 03-01-08-01-02-01-05.wav\n",
      "C:\\Users\\thang\\Downloads\\Emotion\\Emotion\\speech-emotion-recognition-ravdess-data\\Actor_05\\03-01-08-01-02-02-05.wav 03-01-08-01-02-02-05.wav\n",
      "C:\\Users\\thang\\Downloads\\Emotion\\Emotion\\speech-emotion-recognition-ravdess-data\\Actor_05\\03-01-08-02-01-01-05.wav 03-01-08-02-01-01-05.wav\n",
      "C:\\Users\\thang\\Downloads\\Emotion\\Emotion\\speech-emotion-recognition-ravdess-data\\Actor_05\\03-01-08-02-01-02-05.wav 03-01-08-02-01-02-05.wav\n",
      "C:\\Users\\thang\\Downloads\\Emotion\\Emotion\\speech-emotion-recognition-ravdess-data\\Actor_05\\03-01-08-02-02-01-05.wav 03-01-08-02-02-01-05.wav\n",
      "C:\\Users\\thang\\Downloads\\Emotion\\Emotion\\speech-emotion-recognition-ravdess-data\\Actor_05\\03-01-08-02-02-02-05.wav 03-01-08-02-02-02-05.wav\n",
      "C:\\Users\\thang\\Downloads\\Emotion\\Emotion\\speech-emotion-recognition-ravdess-data\\Actor_06\\03-01-01-01-01-01-06.wav 03-01-01-01-01-01-06.wav\n",
      "C:\\Users\\thang\\Downloads\\Emotion\\Emotion\\speech-emotion-recognition-ravdess-data\\Actor_06\\03-01-01-01-01-02-06.wav 03-01-01-01-01-02-06.wav\n",
      "C:\\Users\\thang\\Downloads\\Emotion\\Emotion\\speech-emotion-recognition-ravdess-data\\Actor_06\\03-01-01-01-02-01-06.wav 03-01-01-01-02-01-06.wav\n",
      "C:\\Users\\thang\\Downloads\\Emotion\\Emotion\\speech-emotion-recognition-ravdess-data\\Actor_06\\03-01-01-01-02-02-06.wav 03-01-01-01-02-02-06.wav\n",
      "C:\\Users\\thang\\Downloads\\Emotion\\Emotion\\speech-emotion-recognition-ravdess-data\\Actor_06\\03-01-02-01-01-01-06.wav 03-01-02-01-01-01-06.wav\n",
      "C:\\Users\\thang\\Downloads\\Emotion\\Emotion\\speech-emotion-recognition-ravdess-data\\Actor_06\\03-01-02-01-01-02-06.wav 03-01-02-01-01-02-06.wav\n",
      "C:\\Users\\thang\\Downloads\\Emotion\\Emotion\\speech-emotion-recognition-ravdess-data\\Actor_06\\03-01-02-01-02-01-06.wav 03-01-02-01-02-01-06.wav\n",
      "C:\\Users\\thang\\Downloads\\Emotion\\Emotion\\speech-emotion-recognition-ravdess-data\\Actor_06\\03-01-02-01-02-02-06.wav 03-01-02-01-02-02-06.wav\n"
     ]
    },
    {
     "name": "stderr",
     "output_type": "stream",
     "text": [
      "C:\\Users\\thang\\AppData\\Local\\Temp\\ipykernel_14300\\1750813818.py:16: FutureWarning: Pass y=[3.0517578e-05 3.0517578e-05 0.0000000e+00 ... 0.0000000e+00 0.0000000e+00\n",
      " 0.0000000e+00] as keyword args. From version 0.10 passing these as positional arguments will result in an error\n",
      "  mel=np.mean(librosa.feature.melspectrogram(X, sr=sample_rate).T,axis=0)\n",
      "C:\\Users\\thang\\AppData\\Local\\Temp\\ipykernel_14300\\1750813818.py:16: FutureWarning: Pass y=[0.0000000e+00 0.0000000e+00 3.0517578e-05 ... 6.1035156e-05 9.1552734e-05\n",
      " 6.1035156e-05] as keyword args. From version 0.10 passing these as positional arguments will result in an error\n",
      "  mel=np.mean(librosa.feature.melspectrogram(X, sr=sample_rate).T,axis=0)\n",
      "C:\\Users\\thang\\AppData\\Local\\Temp\\ipykernel_14300\\1750813818.py:16: FutureWarning: Pass y=[0.0000000e+00 0.0000000e+00 0.0000000e+00 ... 3.0517578e-05 3.0517578e-05\n",
      " 3.0517578e-05] as keyword args. From version 0.10 passing these as positional arguments will result in an error\n",
      "  mel=np.mean(librosa.feature.melspectrogram(X, sr=sample_rate).T,axis=0)\n",
      "C:\\Users\\thang\\AppData\\Local\\Temp\\ipykernel_14300\\1750813818.py:16: FutureWarning: Pass y=[ 0.          0.          0.         ... -0.00018311 -0.00015259\n",
      " -0.00015259] as keyword args. From version 0.10 passing these as positional arguments will result in an error\n",
      "  mel=np.mean(librosa.feature.melspectrogram(X, sr=sample_rate).T,axis=0)\n"
     ]
    },
    {
     "name": "stdout",
     "output_type": "stream",
     "text": [
      "C:\\Users\\thang\\Downloads\\Emotion\\Emotion\\speech-emotion-recognition-ravdess-data\\Actor_06\\03-01-02-02-01-01-06.wav 03-01-02-02-01-01-06.wav\n",
      "C:\\Users\\thang\\Downloads\\Emotion\\Emotion\\speech-emotion-recognition-ravdess-data\\Actor_06\\03-01-02-02-01-02-06.wav 03-01-02-02-01-02-06.wav\n",
      "C:\\Users\\thang\\Downloads\\Emotion\\Emotion\\speech-emotion-recognition-ravdess-data\\Actor_06\\03-01-02-02-02-01-06.wav 03-01-02-02-02-01-06.wav\n",
      "C:\\Users\\thang\\Downloads\\Emotion\\Emotion\\speech-emotion-recognition-ravdess-data\\Actor_06\\03-01-02-02-02-02-06.wav 03-01-02-02-02-02-06.wav\n",
      "C:\\Users\\thang\\Downloads\\Emotion\\Emotion\\speech-emotion-recognition-ravdess-data\\Actor_06\\03-01-03-01-01-01-06.wav 03-01-03-01-01-01-06.wav\n",
      "C:\\Users\\thang\\Downloads\\Emotion\\Emotion\\speech-emotion-recognition-ravdess-data\\Actor_06\\03-01-03-01-01-02-06.wav 03-01-03-01-01-02-06.wav\n"
     ]
    },
    {
     "name": "stderr",
     "output_type": "stream",
     "text": [
      "C:\\Users\\thang\\AppData\\Local\\Temp\\ipykernel_14300\\1750813818.py:16: FutureWarning: Pass y=[ 0.0000000e+00 -6.1035156e-05 -9.1552734e-05 ...  0.0000000e+00\n",
      "  0.0000000e+00  0.0000000e+00] as keyword args. From version 0.10 passing these as positional arguments will result in an error\n",
      "  mel=np.mean(librosa.feature.melspectrogram(X, sr=sample_rate).T,axis=0)\n",
      "C:\\Users\\thang\\AppData\\Local\\Temp\\ipykernel_14300\\1750813818.py:16: FutureWarning: Pass y=[ 3.0517578e-05  0.0000000e+00  0.0000000e+00 ... -6.1035156e-05\n",
      " -3.0517578e-05  0.0000000e+00] as keyword args. From version 0.10 passing these as positional arguments will result in an error\n",
      "  mel=np.mean(librosa.feature.melspectrogram(X, sr=sample_rate).T,axis=0)\n"
     ]
    },
    {
     "name": "stdout",
     "output_type": "stream",
     "text": [
      "C:\\Users\\thang\\Downloads\\Emotion\\Emotion\\speech-emotion-recognition-ravdess-data\\Actor_06\\03-01-03-01-02-01-06.wav 03-01-03-01-02-01-06.wav\n",
      "C:\\Users\\thang\\Downloads\\Emotion\\Emotion\\speech-emotion-recognition-ravdess-data\\Actor_06\\03-01-03-01-02-02-06.wav 03-01-03-01-02-02-06.wav\n",
      "C:\\Users\\thang\\Downloads\\Emotion\\Emotion\\speech-emotion-recognition-ravdess-data\\Actor_06\\03-01-03-02-01-01-06.wav 03-01-03-02-01-01-06.wav\n",
      "C:\\Users\\thang\\Downloads\\Emotion\\Emotion\\speech-emotion-recognition-ravdess-data\\Actor_06\\03-01-03-02-01-02-06.wav 03-01-03-02-01-02-06.wav\n",
      "C:\\Users\\thang\\Downloads\\Emotion\\Emotion\\speech-emotion-recognition-ravdess-data\\Actor_06\\03-01-03-02-02-01-06.wav 03-01-03-02-02-01-06.wav\n",
      "C:\\Users\\thang\\Downloads\\Emotion\\Emotion\\speech-emotion-recognition-ravdess-data\\Actor_06\\03-01-03-02-02-02-06.wav 03-01-03-02-02-02-06.wav\n",
      "C:\\Users\\thang\\Downloads\\Emotion\\Emotion\\speech-emotion-recognition-ravdess-data\\Actor_06\\03-01-04-01-01-01-06.wav 03-01-04-01-01-01-06.wav\n",
      "C:\\Users\\thang\\Downloads\\Emotion\\Emotion\\speech-emotion-recognition-ravdess-data\\Actor_06\\03-01-04-01-01-02-06.wav 03-01-04-01-01-02-06.wav\n",
      "C:\\Users\\thang\\Downloads\\Emotion\\Emotion\\speech-emotion-recognition-ravdess-data\\Actor_06\\03-01-04-01-02-01-06.wav 03-01-04-01-02-01-06.wav\n",
      "C:\\Users\\thang\\Downloads\\Emotion\\Emotion\\speech-emotion-recognition-ravdess-data\\Actor_06\\03-01-04-01-02-02-06.wav 03-01-04-01-02-02-06.wav\n",
      "C:\\Users\\thang\\Downloads\\Emotion\\Emotion\\speech-emotion-recognition-ravdess-data\\Actor_06\\03-01-04-02-01-01-06.wav 03-01-04-02-01-01-06.wav\n",
      "C:\\Users\\thang\\Downloads\\Emotion\\Emotion\\speech-emotion-recognition-ravdess-data\\Actor_06\\03-01-04-02-01-02-06.wav 03-01-04-02-01-02-06.wav\n",
      "C:\\Users\\thang\\Downloads\\Emotion\\Emotion\\speech-emotion-recognition-ravdess-data\\Actor_06\\03-01-04-02-02-01-06.wav 03-01-04-02-02-01-06.wav\n",
      "C:\\Users\\thang\\Downloads\\Emotion\\Emotion\\speech-emotion-recognition-ravdess-data\\Actor_06\\03-01-04-02-02-02-06.wav 03-01-04-02-02-02-06.wav\n",
      "C:\\Users\\thang\\Downloads\\Emotion\\Emotion\\speech-emotion-recognition-ravdess-data\\Actor_06\\03-01-05-01-01-01-06.wav 03-01-05-01-01-01-06.wav\n",
      "C:\\Users\\thang\\Downloads\\Emotion\\Emotion\\speech-emotion-recognition-ravdess-data\\Actor_06\\03-01-05-01-01-02-06.wav 03-01-05-01-01-02-06.wav\n"
     ]
    },
    {
     "name": "stderr",
     "output_type": "stream",
     "text": [
      "C:\\Users\\thang\\AppData\\Local\\Temp\\ipykernel_14300\\1750813818.py:16: FutureWarning: Pass y=[ 6.1035156e-05  6.1035156e-05  3.0517578e-05 ...  0.0000000e+00\n",
      "  0.0000000e+00 -3.0517578e-05] as keyword args. From version 0.10 passing these as positional arguments will result in an error\n",
      "  mel=np.mean(librosa.feature.melspectrogram(X, sr=sample_rate).T,axis=0)\n",
      "C:\\Users\\thang\\AppData\\Local\\Temp\\ipykernel_14300\\1750813818.py:16: FutureWarning: Pass y=[ 0.0000000e+00  0.0000000e+00  0.0000000e+00 ...  3.0517578e-05\n",
      " -3.0517578e-05  1.2207031e-04] as keyword args. From version 0.10 passing these as positional arguments will result in an error\n",
      "  mel=np.mean(librosa.feature.melspectrogram(X, sr=sample_rate).T,axis=0)\n",
      "C:\\Users\\thang\\AppData\\Local\\Temp\\ipykernel_14300\\1750813818.py:16: FutureWarning: Pass y=[ 0.0000000e+00  0.0000000e+00 -3.0517578e-05 ...  0.0000000e+00\n",
      "  0.0000000e+00  0.0000000e+00] as keyword args. From version 0.10 passing these as positional arguments will result in an error\n",
      "  mel=np.mean(librosa.feature.melspectrogram(X, sr=sample_rate).T,axis=0)\n",
      "C:\\Users\\thang\\AppData\\Local\\Temp\\ipykernel_14300\\1750813818.py:16: FutureWarning: Pass y=[3.0517578e-05 6.1035156e-05 3.0517578e-05 ... 6.1035156e-04 6.1035156e-04\n",
      " 5.7983398e-04] as keyword args. From version 0.10 passing these as positional arguments will result in an error\n",
      "  mel=np.mean(librosa.feature.melspectrogram(X, sr=sample_rate).T,axis=0)\n",
      "C:\\Users\\thang\\AppData\\Local\\Temp\\ipykernel_14300\\1750813818.py:16: FutureWarning: Pass y=[0.         0.         0.         ... 0.00015259 0.00015259 0.00018311] as keyword args. From version 0.10 passing these as positional arguments will result in an error\n",
      "  mel=np.mean(librosa.feature.melspectrogram(X, sr=sample_rate).T,axis=0)\n"
     ]
    },
    {
     "name": "stdout",
     "output_type": "stream",
     "text": [
      "C:\\Users\\thang\\Downloads\\Emotion\\Emotion\\speech-emotion-recognition-ravdess-data\\Actor_06\\03-01-05-01-02-01-06.wav 03-01-05-01-02-01-06.wav\n",
      "C:\\Users\\thang\\Downloads\\Emotion\\Emotion\\speech-emotion-recognition-ravdess-data\\Actor_06\\03-01-05-01-02-02-06.wav 03-01-05-01-02-02-06.wav\n",
      "C:\\Users\\thang\\Downloads\\Emotion\\Emotion\\speech-emotion-recognition-ravdess-data\\Actor_06\\03-01-05-02-01-01-06.wav 03-01-05-02-01-01-06.wav\n",
      "C:\\Users\\thang\\Downloads\\Emotion\\Emotion\\speech-emotion-recognition-ravdess-data\\Actor_06\\03-01-05-02-01-02-06.wav 03-01-05-02-01-02-06.wav\n",
      "C:\\Users\\thang\\Downloads\\Emotion\\Emotion\\speech-emotion-recognition-ravdess-data\\Actor_06\\03-01-05-02-02-01-06.wav 03-01-05-02-02-01-06.wav\n",
      "C:\\Users\\thang\\Downloads\\Emotion\\Emotion\\speech-emotion-recognition-ravdess-data\\Actor_06\\03-01-05-02-02-02-06.wav 03-01-05-02-02-02-06.wav\n",
      "C:\\Users\\thang\\Downloads\\Emotion\\Emotion\\speech-emotion-recognition-ravdess-data\\Actor_06\\03-01-06-01-01-01-06.wav 03-01-06-01-01-01-06.wav\n",
      "C:\\Users\\thang\\Downloads\\Emotion\\Emotion\\speech-emotion-recognition-ravdess-data\\Actor_06\\03-01-06-01-01-02-06.wav 03-01-06-01-01-02-06.wav\n",
      "C:\\Users\\thang\\Downloads\\Emotion\\Emotion\\speech-emotion-recognition-ravdess-data\\Actor_06\\03-01-06-01-02-01-06.wav 03-01-06-01-02-01-06.wav\n",
      "C:\\Users\\thang\\Downloads\\Emotion\\Emotion\\speech-emotion-recognition-ravdess-data\\Actor_06\\03-01-06-01-02-02-06.wav 03-01-06-01-02-02-06.wav\n",
      "C:\\Users\\thang\\Downloads\\Emotion\\Emotion\\speech-emotion-recognition-ravdess-data\\Actor_06\\03-01-06-02-01-01-06.wav 03-01-06-02-01-01-06.wav\n",
      "C:\\Users\\thang\\Downloads\\Emotion\\Emotion\\speech-emotion-recognition-ravdess-data\\Actor_06\\03-01-06-02-01-02-06.wav 03-01-06-02-01-02-06.wav\n",
      "C:\\Users\\thang\\Downloads\\Emotion\\Emotion\\speech-emotion-recognition-ravdess-data\\Actor_06\\03-01-06-02-02-01-06.wav 03-01-06-02-02-01-06.wav\n",
      "C:\\Users\\thang\\Downloads\\Emotion\\Emotion\\speech-emotion-recognition-ravdess-data\\Actor_06\\03-01-06-02-02-02-06.wav 03-01-06-02-02-02-06.wav\n",
      "C:\\Users\\thang\\Downloads\\Emotion\\Emotion\\speech-emotion-recognition-ravdess-data\\Actor_06\\03-01-07-01-01-01-06.wav 03-01-07-01-01-01-06.wav\n",
      "C:\\Users\\thang\\Downloads\\Emotion\\Emotion\\speech-emotion-recognition-ravdess-data\\Actor_06\\03-01-07-01-01-02-06.wav 03-01-07-01-01-02-06.wav\n",
      "C:\\Users\\thang\\Downloads\\Emotion\\Emotion\\speech-emotion-recognition-ravdess-data\\Actor_06\\03-01-07-01-02-01-06.wav 03-01-07-01-02-01-06.wav\n",
      "C:\\Users\\thang\\Downloads\\Emotion\\Emotion\\speech-emotion-recognition-ravdess-data\\Actor_06\\03-01-07-01-02-02-06.wav 03-01-07-01-02-02-06.wav\n",
      "C:\\Users\\thang\\Downloads\\Emotion\\Emotion\\speech-emotion-recognition-ravdess-data\\Actor_06\\03-01-07-02-01-01-06.wav 03-01-07-02-01-01-06.wav\n",
      "C:\\Users\\thang\\Downloads\\Emotion\\Emotion\\speech-emotion-recognition-ravdess-data\\Actor_06\\03-01-07-02-01-02-06.wav 03-01-07-02-01-02-06.wav\n",
      "C:\\Users\\thang\\Downloads\\Emotion\\Emotion\\speech-emotion-recognition-ravdess-data\\Actor_06\\03-01-07-02-02-01-06.wav 03-01-07-02-02-01-06.wav\n",
      "C:\\Users\\thang\\Downloads\\Emotion\\Emotion\\speech-emotion-recognition-ravdess-data\\Actor_06\\03-01-07-02-02-02-06.wav 03-01-07-02-02-02-06.wav\n",
      "C:\\Users\\thang\\Downloads\\Emotion\\Emotion\\speech-emotion-recognition-ravdess-data\\Actor_06\\03-01-08-01-01-01-06.wav 03-01-08-01-01-01-06.wav\n",
      "C:\\Users\\thang\\Downloads\\Emotion\\Emotion\\speech-emotion-recognition-ravdess-data\\Actor_06\\03-01-08-01-01-02-06.wav 03-01-08-01-01-02-06.wav\n",
      "C:\\Users\\thang\\Downloads\\Emotion\\Emotion\\speech-emotion-recognition-ravdess-data\\Actor_06\\03-01-08-01-02-01-06.wav 03-01-08-01-02-01-06.wav\n",
      "C:\\Users\\thang\\Downloads\\Emotion\\Emotion\\speech-emotion-recognition-ravdess-data\\Actor_06\\03-01-08-01-02-02-06.wav 03-01-08-01-02-02-06.wav\n",
      "C:\\Users\\thang\\Downloads\\Emotion\\Emotion\\speech-emotion-recognition-ravdess-data\\Actor_06\\03-01-08-02-01-01-06.wav 03-01-08-02-01-01-06.wav\n",
      "C:\\Users\\thang\\Downloads\\Emotion\\Emotion\\speech-emotion-recognition-ravdess-data\\Actor_06\\03-01-08-02-01-02-06.wav 03-01-08-02-01-02-06.wav\n",
      "C:\\Users\\thang\\Downloads\\Emotion\\Emotion\\speech-emotion-recognition-ravdess-data\\Actor_06\\03-01-08-02-02-01-06.wav 03-01-08-02-02-01-06.wav\n",
      "C:\\Users\\thang\\Downloads\\Emotion\\Emotion\\speech-emotion-recognition-ravdess-data\\Actor_06\\03-01-08-02-02-02-06.wav 03-01-08-02-02-02-06.wav\n",
      "C:\\Users\\thang\\Downloads\\Emotion\\Emotion\\speech-emotion-recognition-ravdess-data\\Actor_07\\03-01-01-01-01-01-07.wav 03-01-01-01-01-01-07.wav\n",
      "C:\\Users\\thang\\Downloads\\Emotion\\Emotion\\speech-emotion-recognition-ravdess-data\\Actor_07\\03-01-01-01-01-02-07.wav 03-01-01-01-01-02-07.wav\n",
      "C:\\Users\\thang\\Downloads\\Emotion\\Emotion\\speech-emotion-recognition-ravdess-data\\Actor_07\\03-01-01-01-02-01-07.wav 03-01-01-01-02-01-07.wav\n",
      "C:\\Users\\thang\\Downloads\\Emotion\\Emotion\\speech-emotion-recognition-ravdess-data\\Actor_07\\03-01-01-01-02-02-07.wav 03-01-01-01-02-02-07.wav\n",
      "C:\\Users\\thang\\Downloads\\Emotion\\Emotion\\speech-emotion-recognition-ravdess-data\\Actor_07\\03-01-02-01-01-01-07.wav 03-01-02-01-01-01-07.wav\n"
     ]
    },
    {
     "name": "stderr",
     "output_type": "stream",
     "text": [
      "C:\\Users\\thang\\AppData\\Local\\Temp\\ipykernel_14300\\1750813818.py:16: FutureWarning: Pass y=[ 8.2397461e-04  5.1879883e-04  3.0517578e-04 ... -3.0517578e-05\n",
      " -3.0517578e-05  0.0000000e+00] as keyword args. From version 0.10 passing these as positional arguments will result in an error\n",
      "  mel=np.mean(librosa.feature.melspectrogram(X, sr=sample_rate).T,axis=0)\n",
      "C:\\Users\\thang\\AppData\\Local\\Temp\\ipykernel_14300\\1750813818.py:16: FutureWarning: Pass y=[ 9.1552734e-05 -3.0517578e-05 -4.8828125e-04 ...  0.0000000e+00\n",
      "  0.0000000e+00  0.0000000e+00] as keyword args. From version 0.10 passing these as positional arguments will result in an error\n",
      "  mel=np.mean(librosa.feature.melspectrogram(X, sr=sample_rate).T,axis=0)\n",
      "C:\\Users\\thang\\AppData\\Local\\Temp\\ipykernel_14300\\1750813818.py:16: FutureWarning: Pass y=[ 9.1552734e-05  9.1552734e-05  9.1552734e-05 ... -1.5258789e-04\n",
      " -1.5258789e-04 -1.2207031e-04] as keyword args. From version 0.10 passing these as positional arguments will result in an error\n",
      "  mel=np.mean(librosa.feature.melspectrogram(X, sr=sample_rate).T,axis=0)\n"
     ]
    },
    {
     "name": "stdout",
     "output_type": "stream",
     "text": [
      "C:\\Users\\thang\\Downloads\\Emotion\\Emotion\\speech-emotion-recognition-ravdess-data\\Actor_07\\03-01-02-01-01-02-07.wav 03-01-02-01-01-02-07.wav\n",
      "C:\\Users\\thang\\Downloads\\Emotion\\Emotion\\speech-emotion-recognition-ravdess-data\\Actor_07\\03-01-02-01-02-01-07.wav 03-01-02-01-02-01-07.wav\n",
      "C:\\Users\\thang\\Downloads\\Emotion\\Emotion\\speech-emotion-recognition-ravdess-data\\Actor_07\\03-01-02-01-02-02-07.wav 03-01-02-01-02-02-07.wav\n",
      "C:\\Users\\thang\\Downloads\\Emotion\\Emotion\\speech-emotion-recognition-ravdess-data\\Actor_07\\03-01-02-02-01-01-07.wav 03-01-02-02-01-01-07.wav\n",
      "C:\\Users\\thang\\Downloads\\Emotion\\Emotion\\speech-emotion-recognition-ravdess-data\\Actor_07\\03-01-02-02-01-02-07.wav 03-01-02-02-01-02-07.wav\n",
      "C:\\Users\\thang\\Downloads\\Emotion\\Emotion\\speech-emotion-recognition-ravdess-data\\Actor_07\\03-01-02-02-02-01-07.wav 03-01-02-02-02-01-07.wav\n",
      "C:\\Users\\thang\\Downloads\\Emotion\\Emotion\\speech-emotion-recognition-ravdess-data\\Actor_07\\03-01-02-02-02-02-07.wav 03-01-02-02-02-02-07.wav\n"
     ]
    },
    {
     "name": "stderr",
     "output_type": "stream",
     "text": [
      "C:\\Users\\thang\\AppData\\Local\\Temp\\ipykernel_14300\\1750813818.py:16: FutureWarning: Pass y=[ 3.0517578e-04 -3.0517578e-05  6.1035156e-05 ... -1.0375977e-03\n",
      " -9.7656250e-04 -1.0375977e-03] as keyword args. From version 0.10 passing these as positional arguments will result in an error\n",
      "  mel=np.mean(librosa.feature.melspectrogram(X, sr=sample_rate).T,axis=0)\n",
      "C:\\Users\\thang\\AppData\\Local\\Temp\\ipykernel_14300\\1750813818.py:16: FutureWarning: Pass y=[ 6.1035156e-05 -2.4414062e-04 -3.0517578e-05 ...  0.0000000e+00\n",
      "  0.0000000e+00  0.0000000e+00] as keyword args. From version 0.10 passing these as positional arguments will result in an error\n",
      "  mel=np.mean(librosa.feature.melspectrogram(X, sr=sample_rate).T,axis=0)\n",
      "C:\\Users\\thang\\AppData\\Local\\Temp\\ipykernel_14300\\1750813818.py:16: FutureWarning: Pass y=[ 0.0000000e+00 -3.0517578e-05 -1.2207031e-04 ... -6.1035156e-05\n",
      " -6.1035156e-05 -3.0517578e-05] as keyword args. From version 0.10 passing these as positional arguments will result in an error\n",
      "  mel=np.mean(librosa.feature.melspectrogram(X, sr=sample_rate).T,axis=0)\n",
      "C:\\Users\\thang\\AppData\\Local\\Temp\\ipykernel_14300\\1750813818.py:16: FutureWarning: Pass y=[6.1035156e-05 6.1035156e-05 6.1035156e-05 ... 9.1552734e-05 9.1552734e-05\n",
      " 6.1035156e-05] as keyword args. From version 0.10 passing these as positional arguments will result in an error\n",
      "  mel=np.mean(librosa.feature.melspectrogram(X, sr=sample_rate).T,axis=0)\n",
      "C:\\Users\\thang\\AppData\\Local\\Temp\\ipykernel_14300\\1750813818.py:16: FutureWarning: Pass y=[-6.1035156e-05  0.0000000e+00  3.0517578e-05 ...  2.7465820e-04\n",
      "  2.4414062e-04  2.7465820e-04] as keyword args. From version 0.10 passing these as positional arguments will result in an error\n",
      "  mel=np.mean(librosa.feature.melspectrogram(X, sr=sample_rate).T,axis=0)\n"
     ]
    },
    {
     "name": "stdout",
     "output_type": "stream",
     "text": [
      "C:\\Users\\thang\\Downloads\\Emotion\\Emotion\\speech-emotion-recognition-ravdess-data\\Actor_07\\03-01-03-01-01-01-07.wav 03-01-03-01-01-01-07.wav\n",
      "C:\\Users\\thang\\Downloads\\Emotion\\Emotion\\speech-emotion-recognition-ravdess-data\\Actor_07\\03-01-03-01-01-02-07.wav 03-01-03-01-01-02-07.wav\n",
      "C:\\Users\\thang\\Downloads\\Emotion\\Emotion\\speech-emotion-recognition-ravdess-data\\Actor_07\\03-01-03-01-02-01-07.wav 03-01-03-01-02-01-07.wav\n",
      "C:\\Users\\thang\\Downloads\\Emotion\\Emotion\\speech-emotion-recognition-ravdess-data\\Actor_07\\03-01-03-01-02-02-07.wav 03-01-03-01-02-02-07.wav\n",
      "C:\\Users\\thang\\Downloads\\Emotion\\Emotion\\speech-emotion-recognition-ravdess-data\\Actor_07\\03-01-03-02-01-01-07.wav 03-01-03-02-01-01-07.wav\n",
      "C:\\Users\\thang\\Downloads\\Emotion\\Emotion\\speech-emotion-recognition-ravdess-data\\Actor_07\\03-01-03-02-01-02-07.wav 03-01-03-02-01-02-07.wav\n",
      "C:\\Users\\thang\\Downloads\\Emotion\\Emotion\\speech-emotion-recognition-ravdess-data\\Actor_07\\03-01-03-02-02-01-07.wav 03-01-03-02-02-01-07.wav\n"
     ]
    },
    {
     "name": "stderr",
     "output_type": "stream",
     "text": [
      "C:\\Users\\thang\\AppData\\Local\\Temp\\ipykernel_14300\\1750813818.py:16: FutureWarning: Pass y=[ 0.0000000e+00 -3.0517578e-05 -3.0517578e-05 ...  6.1035156e-05\n",
      "  9.1552734e-05  9.1552734e-05] as keyword args. From version 0.10 passing these as positional arguments will result in an error\n",
      "  mel=np.mean(librosa.feature.melspectrogram(X, sr=sample_rate).T,axis=0)\n",
      "C:\\Users\\thang\\AppData\\Local\\Temp\\ipykernel_14300\\1750813818.py:16: FutureWarning: Pass y=[ 2.1362305e-04  7.9345703e-04 -1.2207031e-04 ...  6.1035156e-05\n",
      "  6.1035156e-05  0.0000000e+00] as keyword args. From version 0.10 passing these as positional arguments will result in an error\n",
      "  mel=np.mean(librosa.feature.melspectrogram(X, sr=sample_rate).T,axis=0)\n",
      "C:\\Users\\thang\\AppData\\Local\\Temp\\ipykernel_14300\\1750813818.py:16: FutureWarning: Pass y=[-6.1035156e-05 -3.0517578e-05 -6.1035156e-05 ... -3.3569336e-04\n",
      " -3.9672852e-04 -4.2724609e-04] as keyword args. From version 0.10 passing these as positional arguments will result in an error\n",
      "  mel=np.mean(librosa.feature.melspectrogram(X, sr=sample_rate).T,axis=0)\n",
      "C:\\Users\\thang\\AppData\\Local\\Temp\\ipykernel_14300\\1750813818.py:16: FutureWarning: Pass y=[-3.0517578e-05  4.2724609e-04  6.4086914e-04 ...  1.2207031e-04\n",
      "  9.1552734e-05  1.5258789e-04] as keyword args. From version 0.10 passing these as positional arguments will result in an error\n",
      "  mel=np.mean(librosa.feature.melspectrogram(X, sr=sample_rate).T,axis=0)\n",
      "C:\\Users\\thang\\AppData\\Local\\Temp\\ipykernel_14300\\1750813818.py:16: FutureWarning: Pass y=[ 3.0517578e-05  3.0517578e-05  3.0517578e-05 ... -8.2397461e-04\n",
      " -8.2397461e-04 -8.2397461e-04] as keyword args. From version 0.10 passing these as positional arguments will result in an error\n",
      "  mel=np.mean(librosa.feature.melspectrogram(X, sr=sample_rate).T,axis=0)\n",
      "C:\\Users\\thang\\AppData\\Local\\Temp\\ipykernel_14300\\1750813818.py:16: FutureWarning: Pass y=[ 6.1035156e-05  9.1552734e-05  1.2207031e-04 ... -2.1057129e-03\n",
      " -2.1362305e-03 -2.1362305e-03] as keyword args. From version 0.10 passing these as positional arguments will result in an error\n",
      "  mel=np.mean(librosa.feature.melspectrogram(X, sr=sample_rate).T,axis=0)\n"
     ]
    },
    {
     "name": "stdout",
     "output_type": "stream",
     "text": [
      "C:\\Users\\thang\\Downloads\\Emotion\\Emotion\\speech-emotion-recognition-ravdess-data\\Actor_07\\03-01-03-02-02-02-07.wav 03-01-03-02-02-02-07.wav\n",
      "C:\\Users\\thang\\Downloads\\Emotion\\Emotion\\speech-emotion-recognition-ravdess-data\\Actor_07\\03-01-04-01-01-01-07.wav 03-01-04-01-01-01-07.wav\n",
      "C:\\Users\\thang\\Downloads\\Emotion\\Emotion\\speech-emotion-recognition-ravdess-data\\Actor_07\\03-01-04-01-01-02-07.wav 03-01-04-01-01-02-07.wav\n",
      "C:\\Users\\thang\\Downloads\\Emotion\\Emotion\\speech-emotion-recognition-ravdess-data\\Actor_07\\03-01-04-01-02-01-07.wav 03-01-04-01-02-01-07.wav\n",
      "C:\\Users\\thang\\Downloads\\Emotion\\Emotion\\speech-emotion-recognition-ravdess-data\\Actor_07\\03-01-04-01-02-02-07.wav 03-01-04-01-02-02-07.wav\n",
      "C:\\Users\\thang\\Downloads\\Emotion\\Emotion\\speech-emotion-recognition-ravdess-data\\Actor_07\\03-01-04-02-01-01-07.wav 03-01-04-02-01-01-07.wav\n",
      "C:\\Users\\thang\\Downloads\\Emotion\\Emotion\\speech-emotion-recognition-ravdess-data\\Actor_07\\03-01-04-02-01-02-07.wav 03-01-04-02-01-02-07.wav\n",
      "C:\\Users\\thang\\Downloads\\Emotion\\Emotion\\speech-emotion-recognition-ravdess-data\\Actor_07\\03-01-04-02-02-01-07.wav 03-01-04-02-02-01-07.wav\n",
      "C:\\Users\\thang\\Downloads\\Emotion\\Emotion\\speech-emotion-recognition-ravdess-data\\Actor_07\\03-01-04-02-02-02-07.wav 03-01-04-02-02-02-07.wav\n",
      "C:\\Users\\thang\\Downloads\\Emotion\\Emotion\\speech-emotion-recognition-ravdess-data\\Actor_07\\03-01-05-01-01-01-07.wav 03-01-05-01-01-01-07.wav\n",
      "C:\\Users\\thang\\Downloads\\Emotion\\Emotion\\speech-emotion-recognition-ravdess-data\\Actor_07\\03-01-05-01-01-02-07.wav 03-01-05-01-01-02-07.wav\n",
      "C:\\Users\\thang\\Downloads\\Emotion\\Emotion\\speech-emotion-recognition-ravdess-data\\Actor_07\\03-01-05-01-02-01-07.wav 03-01-05-01-02-01-07.wav\n",
      "C:\\Users\\thang\\Downloads\\Emotion\\Emotion\\speech-emotion-recognition-ravdess-data\\Actor_07\\03-01-05-01-02-02-07.wav 03-01-05-01-02-02-07.wav\n",
      "C:\\Users\\thang\\Downloads\\Emotion\\Emotion\\speech-emotion-recognition-ravdess-data\\Actor_07\\03-01-05-02-01-01-07.wav 03-01-05-02-01-01-07.wav\n",
      "C:\\Users\\thang\\Downloads\\Emotion\\Emotion\\speech-emotion-recognition-ravdess-data\\Actor_07\\03-01-05-02-01-02-07.wav 03-01-05-02-01-02-07.wav\n"
     ]
    },
    {
     "name": "stderr",
     "output_type": "stream",
     "text": [
      "C:\\Users\\thang\\AppData\\Local\\Temp\\ipykernel_14300\\1750813818.py:16: FutureWarning: Pass y=[-0.00064087 -0.00057983 -0.00054932 ...  0.00231934  0.00228882\n",
      "  0.00228882] as keyword args. From version 0.10 passing these as positional arguments will result in an error\n",
      "  mel=np.mean(librosa.feature.melspectrogram(X, sr=sample_rate).T,axis=0)\n",
      "C:\\Users\\thang\\AppData\\Local\\Temp\\ipykernel_14300\\1750813818.py:16: FutureWarning: Pass y=[ 0.00012207  0.00015259  0.00012207 ... -0.00204468 -0.00201416\n",
      " -0.00204468] as keyword args. From version 0.10 passing these as positional arguments will result in an error\n",
      "  mel=np.mean(librosa.feature.melspectrogram(X, sr=sample_rate).T,axis=0)\n",
      "C:\\Users\\thang\\AppData\\Local\\Temp\\ipykernel_14300\\1750813818.py:16: FutureWarning: Pass y=[-6.1035156e-05 -6.1035156e-05 -1.8310547e-04 ...  3.0517578e-05\n",
      "  0.0000000e+00  0.0000000e+00] as keyword args. From version 0.10 passing these as positional arguments will result in an error\n",
      "  mel=np.mean(librosa.feature.melspectrogram(X, sr=sample_rate).T,axis=0)\n",
      "C:\\Users\\thang\\AppData\\Local\\Temp\\ipykernel_14300\\1750813818.py:16: FutureWarning: Pass y=[ 3.0517578e-05  3.0517578e-05  3.0517578e-05 ... -3.3569336e-04\n",
      " -3.3569336e-04 -3.3569336e-04] as keyword args. From version 0.10 passing these as positional arguments will result in an error\n",
      "  mel=np.mean(librosa.feature.melspectrogram(X, sr=sample_rate).T,axis=0)\n",
      "C:\\Users\\thang\\AppData\\Local\\Temp\\ipykernel_14300\\1750813818.py:16: FutureWarning: Pass y=[6.1035156e-05 3.0517578e-05 3.0517578e-05 ... 0.0000000e+00 0.0000000e+00\n",
      " 0.0000000e+00] as keyword args. From version 0.10 passing these as positional arguments will result in an error\n",
      "  mel=np.mean(librosa.feature.melspectrogram(X, sr=sample_rate).T,axis=0)\n",
      "C:\\Users\\thang\\AppData\\Local\\Temp\\ipykernel_14300\\1750813818.py:16: FutureWarning: Pass y=[0.0000000e+00 0.0000000e+00 0.0000000e+00 ... 9.1552734e-05 9.1552734e-05\n",
      " 9.1552734e-05] as keyword args. From version 0.10 passing these as positional arguments will result in an error\n",
      "  mel=np.mean(librosa.feature.melspectrogram(X, sr=sample_rate).T,axis=0)\n",
      "C:\\Users\\thang\\AppData\\Local\\Temp\\ipykernel_14300\\1750813818.py:16: FutureWarning: Pass y=[-1.8310547e-04 -2.1362305e-04 -1.8310547e-04 ...  3.0517578e-05\n",
      "  3.0517578e-05  3.0517578e-05] as keyword args. From version 0.10 passing these as positional arguments will result in an error\n",
      "  mel=np.mean(librosa.feature.melspectrogram(X, sr=sample_rate).T,axis=0)\n"
     ]
    },
    {
     "name": "stdout",
     "output_type": "stream",
     "text": [
      "C:\\Users\\thang\\Downloads\\Emotion\\Emotion\\speech-emotion-recognition-ravdess-data\\Actor_07\\03-01-05-02-02-01-07.wav 03-01-05-02-02-01-07.wav\n",
      "C:\\Users\\thang\\Downloads\\Emotion\\Emotion\\speech-emotion-recognition-ravdess-data\\Actor_07\\03-01-05-02-02-02-07.wav 03-01-05-02-02-02-07.wav\n",
      "C:\\Users\\thang\\Downloads\\Emotion\\Emotion\\speech-emotion-recognition-ravdess-data\\Actor_07\\03-01-06-01-01-01-07.wav 03-01-06-01-01-01-07.wav\n",
      "C:\\Users\\thang\\Downloads\\Emotion\\Emotion\\speech-emotion-recognition-ravdess-data\\Actor_07\\03-01-06-01-01-02-07.wav 03-01-06-01-01-02-07.wav\n",
      "C:\\Users\\thang\\Downloads\\Emotion\\Emotion\\speech-emotion-recognition-ravdess-data\\Actor_07\\03-01-06-01-02-01-07.wav 03-01-06-01-02-01-07.wav\n",
      "C:\\Users\\thang\\Downloads\\Emotion\\Emotion\\speech-emotion-recognition-ravdess-data\\Actor_07\\03-01-06-01-02-02-07.wav 03-01-06-01-02-02-07.wav\n",
      "C:\\Users\\thang\\Downloads\\Emotion\\Emotion\\speech-emotion-recognition-ravdess-data\\Actor_07\\03-01-06-02-01-01-07.wav 03-01-06-02-01-01-07.wav\n",
      "C:\\Users\\thang\\Downloads\\Emotion\\Emotion\\speech-emotion-recognition-ravdess-data\\Actor_07\\03-01-06-02-01-02-07.wav 03-01-06-02-01-02-07.wav\n",
      "C:\\Users\\thang\\Downloads\\Emotion\\Emotion\\speech-emotion-recognition-ravdess-data\\Actor_07\\03-01-06-02-02-01-07.wav 03-01-06-02-02-01-07.wav\n",
      "C:\\Users\\thang\\Downloads\\Emotion\\Emotion\\speech-emotion-recognition-ravdess-data\\Actor_07\\03-01-06-02-02-02-07.wav 03-01-06-02-02-02-07.wav\n",
      "C:\\Users\\thang\\Downloads\\Emotion\\Emotion\\speech-emotion-recognition-ravdess-data\\Actor_07\\03-01-07-01-01-01-07.wav 03-01-07-01-01-01-07.wav\n",
      "C:\\Users\\thang\\Downloads\\Emotion\\Emotion\\speech-emotion-recognition-ravdess-data\\Actor_07\\03-01-07-01-01-02-07.wav 03-01-07-01-01-02-07.wav\n",
      "C:\\Users\\thang\\Downloads\\Emotion\\Emotion\\speech-emotion-recognition-ravdess-data\\Actor_07\\03-01-07-01-02-01-07.wav 03-01-07-01-02-01-07.wav\n",
      "C:\\Users\\thang\\Downloads\\Emotion\\Emotion\\speech-emotion-recognition-ravdess-data\\Actor_07\\03-01-07-01-02-02-07.wav 03-01-07-01-02-02-07.wav\n",
      "C:\\Users\\thang\\Downloads\\Emotion\\Emotion\\speech-emotion-recognition-ravdess-data\\Actor_07\\03-01-07-02-01-01-07.wav 03-01-07-02-01-01-07.wav\n",
      "C:\\Users\\thang\\Downloads\\Emotion\\Emotion\\speech-emotion-recognition-ravdess-data\\Actor_07\\03-01-07-02-01-02-07.wav 03-01-07-02-01-02-07.wav\n",
      "C:\\Users\\thang\\Downloads\\Emotion\\Emotion\\speech-emotion-recognition-ravdess-data\\Actor_07\\03-01-07-02-02-01-07.wav 03-01-07-02-02-01-07.wav\n",
      "C:\\Users\\thang\\Downloads\\Emotion\\Emotion\\speech-emotion-recognition-ravdess-data\\Actor_07\\03-01-07-02-02-02-07.wav 03-01-07-02-02-02-07.wav\n",
      "C:\\Users\\thang\\Downloads\\Emotion\\Emotion\\speech-emotion-recognition-ravdess-data\\Actor_07\\03-01-08-01-01-01-07.wav 03-01-08-01-01-01-07.wav\n",
      "C:\\Users\\thang\\Downloads\\Emotion\\Emotion\\speech-emotion-recognition-ravdess-data\\Actor_07\\03-01-08-01-01-02-07.wav 03-01-08-01-01-02-07.wav\n",
      "C:\\Users\\thang\\Downloads\\Emotion\\Emotion\\speech-emotion-recognition-ravdess-data\\Actor_07\\03-01-08-01-02-01-07.wav 03-01-08-01-02-01-07.wav\n",
      "C:\\Users\\thang\\Downloads\\Emotion\\Emotion\\speech-emotion-recognition-ravdess-data\\Actor_07\\03-01-08-01-02-02-07.wav 03-01-08-01-02-02-07.wav\n",
      "C:\\Users\\thang\\Downloads\\Emotion\\Emotion\\speech-emotion-recognition-ravdess-data\\Actor_07\\03-01-08-02-01-01-07.wav 03-01-08-02-01-01-07.wav\n",
      "C:\\Users\\thang\\Downloads\\Emotion\\Emotion\\speech-emotion-recognition-ravdess-data\\Actor_07\\03-01-08-02-01-02-07.wav 03-01-08-02-01-02-07.wav\n",
      "C:\\Users\\thang\\Downloads\\Emotion\\Emotion\\speech-emotion-recognition-ravdess-data\\Actor_07\\03-01-08-02-02-01-07.wav 03-01-08-02-02-01-07.wav\n",
      "C:\\Users\\thang\\Downloads\\Emotion\\Emotion\\speech-emotion-recognition-ravdess-data\\Actor_07\\03-01-08-02-02-02-07.wav 03-01-08-02-02-02-07.wav\n",
      "C:\\Users\\thang\\Downloads\\Emotion\\Emotion\\speech-emotion-recognition-ravdess-data\\Actor_08\\03-01-01-01-01-01-08.wav 03-01-01-01-01-01-08.wav\n",
      "C:\\Users\\thang\\Downloads\\Emotion\\Emotion\\speech-emotion-recognition-ravdess-data\\Actor_08\\03-01-01-01-01-02-08.wav 03-01-01-01-01-02-08.wav\n",
      "C:\\Users\\thang\\Downloads\\Emotion\\Emotion\\speech-emotion-recognition-ravdess-data\\Actor_08\\03-01-01-01-02-01-08.wav 03-01-01-01-02-01-08.wav\n",
      "C:\\Users\\thang\\Downloads\\Emotion\\Emotion\\speech-emotion-recognition-ravdess-data\\Actor_08\\03-01-01-01-02-02-08.wav 03-01-01-01-02-02-08.wav\n",
      "C:\\Users\\thang\\Downloads\\Emotion\\Emotion\\speech-emotion-recognition-ravdess-data\\Actor_08\\03-01-02-01-01-01-08.wav 03-01-02-01-01-01-08.wav\n",
      "C:\\Users\\thang\\Downloads\\Emotion\\Emotion\\speech-emotion-recognition-ravdess-data\\Actor_08\\03-01-02-01-01-02-08.wav 03-01-02-01-01-02-08.wav\n",
      "C:\\Users\\thang\\Downloads\\Emotion\\Emotion\\speech-emotion-recognition-ravdess-data\\Actor_08\\03-01-02-01-02-01-08.wav 03-01-02-01-02-01-08.wav\n",
      "C:\\Users\\thang\\Downloads\\Emotion\\Emotion\\speech-emotion-recognition-ravdess-data\\Actor_08\\03-01-02-01-02-02-08.wav 03-01-02-01-02-02-08.wav\n",
      "C:\\Users\\thang\\Downloads\\Emotion\\Emotion\\speech-emotion-recognition-ravdess-data\\Actor_08\\03-01-02-02-01-01-08.wav 03-01-02-02-01-01-08.wav\n",
      "C:\\Users\\thang\\Downloads\\Emotion\\Emotion\\speech-emotion-recognition-ravdess-data\\Actor_08\\03-01-02-02-01-02-08.wav 03-01-02-02-01-02-08.wav\n"
     ]
    },
    {
     "name": "stderr",
     "output_type": "stream",
     "text": [
      "C:\\Users\\thang\\AppData\\Local\\Temp\\ipykernel_14300\\1750813818.py:16: FutureWarning: Pass y=[0.00015259 0.00015259 0.00015259 ... 0.         0.         0.        ] as keyword args. From version 0.10 passing these as positional arguments will result in an error\n",
      "  mel=np.mean(librosa.feature.melspectrogram(X, sr=sample_rate).T,axis=0)\n",
      "C:\\Users\\thang\\AppData\\Local\\Temp\\ipykernel_14300\\1750813818.py:16: FutureWarning: Pass y=[-9.1552734e-05 -9.1552734e-05 -9.1552734e-05 ... -3.0517578e-05\n",
      " -6.1035156e-05 -6.1035156e-05] as keyword args. From version 0.10 passing these as positional arguments will result in an error\n",
      "  mel=np.mean(librosa.feature.melspectrogram(X, sr=sample_rate).T,axis=0)\n",
      "C:\\Users\\thang\\AppData\\Local\\Temp\\ipykernel_14300\\1750813818.py:16: FutureWarning: Pass y=[-1.5258789e-04 -1.5258789e-04 -1.5258789e-04 ... -1.2207031e-04\n",
      " -1.2207031e-04 -9.1552734e-05] as keyword args. From version 0.10 passing these as positional arguments will result in an error\n",
      "  mel=np.mean(librosa.feature.melspectrogram(X, sr=sample_rate).T,axis=0)\n",
      "C:\\Users\\thang\\AppData\\Local\\Temp\\ipykernel_14300\\1750813818.py:16: FutureWarning: Pass y=[-6.1035156e-05 -6.1035156e-05 -6.1035156e-05 ...  1.2207031e-04\n",
      "  1.2207031e-04  1.2207031e-04] as keyword args. From version 0.10 passing these as positional arguments will result in an error\n",
      "  mel=np.mean(librosa.feature.melspectrogram(X, sr=sample_rate).T,axis=0)\n",
      "C:\\Users\\thang\\AppData\\Local\\Temp\\ipykernel_14300\\1750813818.py:16: FutureWarning: Pass y=[6.1035156e-05 6.1035156e-05 6.1035156e-05 ... 9.1552734e-05 6.1035156e-05\n",
      " 6.1035156e-05] as keyword args. From version 0.10 passing these as positional arguments will result in an error\n",
      "  mel=np.mean(librosa.feature.melspectrogram(X, sr=sample_rate).T,axis=0)\n",
      "C:\\Users\\thang\\AppData\\Local\\Temp\\ipykernel_14300\\1750813818.py:16: FutureWarning: Pass y=[ 0.0000000e+00 -3.0517578e-05 -3.0517578e-05 ...  3.0517578e-05\n",
      "  3.0517578e-05  6.1035156e-05] as keyword args. From version 0.10 passing these as positional arguments will result in an error\n",
      "  mel=np.mean(librosa.feature.melspectrogram(X, sr=sample_rate).T,axis=0)\n",
      "C:\\Users\\thang\\AppData\\Local\\Temp\\ipykernel_14300\\1750813818.py:16: FutureWarning: Pass y=[ 6.1035156e-05  6.1035156e-05  3.0517578e-05 ... -1.5258789e-04\n",
      " -1.2207031e-04 -1.5258789e-04] as keyword args. From version 0.10 passing these as positional arguments will result in an error\n",
      "  mel=np.mean(librosa.feature.melspectrogram(X, sr=sample_rate).T,axis=0)\n"
     ]
    },
    {
     "name": "stdout",
     "output_type": "stream",
     "text": [
      "C:\\Users\\thang\\Downloads\\Emotion\\Emotion\\speech-emotion-recognition-ravdess-data\\Actor_08\\03-01-02-02-02-01-08.wav 03-01-02-02-02-01-08.wav\n",
      "C:\\Users\\thang\\Downloads\\Emotion\\Emotion\\speech-emotion-recognition-ravdess-data\\Actor_08\\03-01-02-02-02-02-08.wav 03-01-02-02-02-02-08.wav\n",
      "C:\\Users\\thang\\Downloads\\Emotion\\Emotion\\speech-emotion-recognition-ravdess-data\\Actor_08\\03-01-03-01-01-01-08.wav 03-01-03-01-01-01-08.wav\n",
      "C:\\Users\\thang\\Downloads\\Emotion\\Emotion\\speech-emotion-recognition-ravdess-data\\Actor_08\\03-01-03-01-01-02-08.wav 03-01-03-01-01-02-08.wav\n",
      "C:\\Users\\thang\\Downloads\\Emotion\\Emotion\\speech-emotion-recognition-ravdess-data\\Actor_08\\03-01-03-01-02-01-08.wav 03-01-03-01-02-01-08.wav\n",
      "C:\\Users\\thang\\Downloads\\Emotion\\Emotion\\speech-emotion-recognition-ravdess-data\\Actor_08\\03-01-03-01-02-02-08.wav 03-01-03-01-02-02-08.wav\n",
      "C:\\Users\\thang\\Downloads\\Emotion\\Emotion\\speech-emotion-recognition-ravdess-data\\Actor_08\\03-01-03-02-01-01-08.wav 03-01-03-02-01-01-08.wav\n"
     ]
    },
    {
     "name": "stderr",
     "output_type": "stream",
     "text": [
      "C:\\Users\\thang\\AppData\\Local\\Temp\\ipykernel_14300\\1750813818.py:16: FutureWarning: Pass y=[3.0517578e-05 6.1035156e-05 3.0517578e-05 ... 0.0000000e+00 0.0000000e+00\n",
      " 0.0000000e+00] as keyword args. From version 0.10 passing these as positional arguments will result in an error\n",
      "  mel=np.mean(librosa.feature.melspectrogram(X, sr=sample_rate).T,axis=0)\n",
      "C:\\Users\\thang\\AppData\\Local\\Temp\\ipykernel_14300\\1750813818.py:16: FutureWarning: Pass y=[-9.1552734e-05 -6.1035156e-05 -6.1035156e-05 ...  6.1035156e-05\n",
      "  3.0517578e-05 -6.1035156e-05] as keyword args. From version 0.10 passing these as positional arguments will result in an error\n",
      "  mel=np.mean(librosa.feature.melspectrogram(X, sr=sample_rate).T,axis=0)\n",
      "C:\\Users\\thang\\AppData\\Local\\Temp\\ipykernel_14300\\1750813818.py:16: FutureWarning: Pass y=[ 9.1552734e-05  9.1552734e-05  9.1552734e-05 ... -3.6621094e-04\n",
      " -3.6621094e-04 -3.6621094e-04] as keyword args. From version 0.10 passing these as positional arguments will result in an error\n",
      "  mel=np.mean(librosa.feature.melspectrogram(X, sr=sample_rate).T,axis=0)\n",
      "C:\\Users\\thang\\AppData\\Local\\Temp\\ipykernel_14300\\1750813818.py:16: FutureWarning: Pass y=[-6.1035156e-05 -3.0517578e-05 -6.1035156e-05 ... -2.7465820e-04\n",
      " -2.1362305e-04 -1.5258789e-04] as keyword args. From version 0.10 passing these as positional arguments will result in an error\n",
      "  mel=np.mean(librosa.feature.melspectrogram(X, sr=sample_rate).T,axis=0)\n"
     ]
    },
    {
     "name": "stdout",
     "output_type": "stream",
     "text": [
      "C:\\Users\\thang\\Downloads\\Emotion\\Emotion\\speech-emotion-recognition-ravdess-data\\Actor_08\\03-01-03-02-01-02-08.wav 03-01-03-02-01-02-08.wav\n",
      "C:\\Users\\thang\\Downloads\\Emotion\\Emotion\\speech-emotion-recognition-ravdess-data\\Actor_08\\03-01-03-02-02-01-08.wav 03-01-03-02-02-01-08.wav\n",
      "C:\\Users\\thang\\Downloads\\Emotion\\Emotion\\speech-emotion-recognition-ravdess-data\\Actor_08\\03-01-03-02-02-02-08.wav 03-01-03-02-02-02-08.wav\n",
      "C:\\Users\\thang\\Downloads\\Emotion\\Emotion\\speech-emotion-recognition-ravdess-data\\Actor_08\\03-01-04-01-01-01-08.wav 03-01-04-01-01-01-08.wav\n",
      "C:\\Users\\thang\\Downloads\\Emotion\\Emotion\\speech-emotion-recognition-ravdess-data\\Actor_08\\03-01-04-01-01-02-08.wav 03-01-04-01-01-02-08.wav\n",
      "C:\\Users\\thang\\Downloads\\Emotion\\Emotion\\speech-emotion-recognition-ravdess-data\\Actor_08\\03-01-04-01-02-01-08.wav 03-01-04-01-02-01-08.wav\n",
      "C:\\Users\\thang\\Downloads\\Emotion\\Emotion\\speech-emotion-recognition-ravdess-data\\Actor_08\\03-01-04-01-02-02-08.wav 03-01-04-01-02-02-08.wav\n",
      "C:\\Users\\thang\\Downloads\\Emotion\\Emotion\\speech-emotion-recognition-ravdess-data\\Actor_08\\03-01-04-02-01-01-08.wav 03-01-04-02-01-01-08.wav\n",
      "C:\\Users\\thang\\Downloads\\Emotion\\Emotion\\speech-emotion-recognition-ravdess-data\\Actor_08\\03-01-04-02-01-02-08.wav 03-01-04-02-01-02-08.wav\n",
      "C:\\Users\\thang\\Downloads\\Emotion\\Emotion\\speech-emotion-recognition-ravdess-data\\Actor_08\\03-01-04-02-02-01-08.wav 03-01-04-02-02-01-08.wav\n",
      "C:\\Users\\thang\\Downloads\\Emotion\\Emotion\\speech-emotion-recognition-ravdess-data\\Actor_08\\03-01-04-02-02-02-08.wav 03-01-04-02-02-02-08.wav\n",
      "C:\\Users\\thang\\Downloads\\Emotion\\Emotion\\speech-emotion-recognition-ravdess-data\\Actor_08\\03-01-05-01-01-01-08.wav 03-01-05-01-01-01-08.wav\n",
      "C:\\Users\\thang\\Downloads\\Emotion\\Emotion\\speech-emotion-recognition-ravdess-data\\Actor_08\\03-01-05-01-01-02-08.wav 03-01-05-01-01-02-08.wav\n"
     ]
    },
    {
     "name": "stderr",
     "output_type": "stream",
     "text": [
      "C:\\Users\\thang\\AppData\\Local\\Temp\\ipykernel_14300\\1750813818.py:16: FutureWarning: Pass y=[-6.1035156e-05 -6.1035156e-05 -6.1035156e-05 ... -8.5449219e-04\n",
      " -6.4086914e-04  6.1035156e-05] as keyword args. From version 0.10 passing these as positional arguments will result in an error\n",
      "  mel=np.mean(librosa.feature.melspectrogram(X, sr=sample_rate).T,axis=0)\n",
      "C:\\Users\\thang\\AppData\\Local\\Temp\\ipykernel_14300\\1750813818.py:16: FutureWarning: Pass y=[ 0.0000000e+00 -3.0517578e-05  0.0000000e+00 ... -2.4414062e-04\n",
      " -2.1667480e-03 -2.4414062e-03] as keyword args. From version 0.10 passing these as positional arguments will result in an error\n",
      "  mel=np.mean(librosa.feature.melspectrogram(X, sr=sample_rate).T,axis=0)\n",
      "C:\\Users\\thang\\AppData\\Local\\Temp\\ipykernel_14300\\1750813818.py:16: FutureWarning: Pass y=[-9.1552734e-05 -9.1552734e-05 -9.1552734e-05 ...  0.0000000e+00\n",
      "  6.1035156e-05  1.8310547e-04] as keyword args. From version 0.10 passing these as positional arguments will result in an error\n",
      "  mel=np.mean(librosa.feature.melspectrogram(X, sr=sample_rate).T,axis=0)\n",
      "C:\\Users\\thang\\AppData\\Local\\Temp\\ipykernel_14300\\1750813818.py:16: FutureWarning: Pass y=[-0.00018311 -0.00018311 -0.00018311 ...  0.00027466  0.00027466\n",
      "  0.00018311] as keyword args. From version 0.10 passing these as positional arguments will result in an error\n",
      "  mel=np.mean(librosa.feature.melspectrogram(X, sr=sample_rate).T,axis=0)\n",
      "C:\\Users\\thang\\AppData\\Local\\Temp\\ipykernel_14300\\1750813818.py:16: FutureWarning: Pass y=[ 0.00018311  0.00015259  0.00018311 ... -0.00021362 -0.00018311\n",
      " -0.00015259] as keyword args. From version 0.10 passing these as positional arguments will result in an error\n",
      "  mel=np.mean(librosa.feature.melspectrogram(X, sr=sample_rate).T,axis=0)\n"
     ]
    },
    {
     "name": "stdout",
     "output_type": "stream",
     "text": [
      "C:\\Users\\thang\\Downloads\\Emotion\\Emotion\\speech-emotion-recognition-ravdess-data\\Actor_08\\03-01-05-01-02-01-08.wav 03-01-05-01-02-01-08.wav\n",
      "C:\\Users\\thang\\Downloads\\Emotion\\Emotion\\speech-emotion-recognition-ravdess-data\\Actor_08\\03-01-05-01-02-02-08.wav 03-01-05-01-02-02-08.wav\n",
      "C:\\Users\\thang\\Downloads\\Emotion\\Emotion\\speech-emotion-recognition-ravdess-data\\Actor_08\\03-01-05-02-01-01-08.wav 03-01-05-02-01-01-08.wav\n",
      "C:\\Users\\thang\\Downloads\\Emotion\\Emotion\\speech-emotion-recognition-ravdess-data\\Actor_08\\03-01-05-02-01-02-08.wav 03-01-05-02-01-02-08.wav\n",
      "C:\\Users\\thang\\Downloads\\Emotion\\Emotion\\speech-emotion-recognition-ravdess-data\\Actor_08\\03-01-05-02-02-01-08.wav 03-01-05-02-02-01-08.wav\n"
     ]
    },
    {
     "name": "stderr",
     "output_type": "stream",
     "text": [
      "C:\\Users\\thang\\AppData\\Local\\Temp\\ipykernel_14300\\1750813818.py:16: FutureWarning: Pass y=[0.00012207 0.00012207 0.00012207 ... 0.         0.         0.        ] as keyword args. From version 0.10 passing these as positional arguments will result in an error\n",
      "  mel=np.mean(librosa.feature.melspectrogram(X, sr=sample_rate).T,axis=0)\n",
      "C:\\Users\\thang\\AppData\\Local\\Temp\\ipykernel_14300\\1750813818.py:16: FutureWarning: Pass y=[1.8310547e-04 1.8310547e-04 1.8310547e-04 ... 3.0517578e-05 0.0000000e+00\n",
      " 3.0517578e-05] as keyword args. From version 0.10 passing these as positional arguments will result in an error\n",
      "  mel=np.mean(librosa.feature.melspectrogram(X, sr=sample_rate).T,axis=0)\n",
      "C:\\Users\\thang\\AppData\\Local\\Temp\\ipykernel_14300\\1750813818.py:16: FutureWarning: Pass y=[-3.0517578e-05  0.0000000e+00  0.0000000e+00 ...  3.0517578e-05\n",
      "  0.0000000e+00  3.0517578e-05] as keyword args. From version 0.10 passing these as positional arguments will result in an error\n",
      "  mel=np.mean(librosa.feature.melspectrogram(X, sr=sample_rate).T,axis=0)\n",
      "C:\\Users\\thang\\AppData\\Local\\Temp\\ipykernel_14300\\1750813818.py:16: FutureWarning: Pass y=[0.         0.         0.         ... 0.00033569 0.00036621 0.00036621] as keyword args. From version 0.10 passing these as positional arguments will result in an error\n",
      "  mel=np.mean(librosa.feature.melspectrogram(X, sr=sample_rate).T,axis=0)\n"
     ]
    },
    {
     "name": "stdout",
     "output_type": "stream",
     "text": [
      "C:\\Users\\thang\\Downloads\\Emotion\\Emotion\\speech-emotion-recognition-ravdess-data\\Actor_08\\03-01-05-02-02-02-08.wav 03-01-05-02-02-02-08.wav\n",
      "C:\\Users\\thang\\Downloads\\Emotion\\Emotion\\speech-emotion-recognition-ravdess-data\\Actor_08\\03-01-06-01-01-01-08.wav 03-01-06-01-01-01-08.wav\n",
      "C:\\Users\\thang\\Downloads\\Emotion\\Emotion\\speech-emotion-recognition-ravdess-data\\Actor_08\\03-01-06-01-01-02-08.wav 03-01-06-01-01-02-08.wav\n",
      "C:\\Users\\thang\\Downloads\\Emotion\\Emotion\\speech-emotion-recognition-ravdess-data\\Actor_08\\03-01-06-01-02-01-08.wav 03-01-06-01-02-01-08.wav\n",
      "C:\\Users\\thang\\Downloads\\Emotion\\Emotion\\speech-emotion-recognition-ravdess-data\\Actor_08\\03-01-06-01-02-02-08.wav 03-01-06-01-02-02-08.wav\n",
      "C:\\Users\\thang\\Downloads\\Emotion\\Emotion\\speech-emotion-recognition-ravdess-data\\Actor_08\\03-01-06-02-01-01-08.wav 03-01-06-02-01-01-08.wav\n",
      "C:\\Users\\thang\\Downloads\\Emotion\\Emotion\\speech-emotion-recognition-ravdess-data\\Actor_08\\03-01-06-02-01-02-08.wav 03-01-06-02-01-02-08.wav\n",
      "C:\\Users\\thang\\Downloads\\Emotion\\Emotion\\speech-emotion-recognition-ravdess-data\\Actor_08\\03-01-06-02-02-01-08.wav 03-01-06-02-02-01-08.wav\n",
      "C:\\Users\\thang\\Downloads\\Emotion\\Emotion\\speech-emotion-recognition-ravdess-data\\Actor_08\\03-01-06-02-02-02-08.wav 03-01-06-02-02-02-08.wav\n",
      "C:\\Users\\thang\\Downloads\\Emotion\\Emotion\\speech-emotion-recognition-ravdess-data\\Actor_08\\03-01-07-01-01-01-08.wav 03-01-07-01-01-01-08.wav\n",
      "C:\\Users\\thang\\Downloads\\Emotion\\Emotion\\speech-emotion-recognition-ravdess-data\\Actor_08\\03-01-07-01-01-02-08.wav 03-01-07-01-01-02-08.wav\n",
      "C:\\Users\\thang\\Downloads\\Emotion\\Emotion\\speech-emotion-recognition-ravdess-data\\Actor_08\\03-01-07-01-02-01-08.wav 03-01-07-01-02-01-08.wav\n",
      "C:\\Users\\thang\\Downloads\\Emotion\\Emotion\\speech-emotion-recognition-ravdess-data\\Actor_08\\03-01-07-01-02-02-08.wav 03-01-07-01-02-02-08.wav\n",
      "C:\\Users\\thang\\Downloads\\Emotion\\Emotion\\speech-emotion-recognition-ravdess-data\\Actor_08\\03-01-07-02-01-01-08.wav 03-01-07-02-01-01-08.wav\n",
      "C:\\Users\\thang\\Downloads\\Emotion\\Emotion\\speech-emotion-recognition-ravdess-data\\Actor_08\\03-01-07-02-01-02-08.wav 03-01-07-02-01-02-08.wav\n",
      "C:\\Users\\thang\\Downloads\\Emotion\\Emotion\\speech-emotion-recognition-ravdess-data\\Actor_08\\03-01-07-02-02-01-08.wav 03-01-07-02-02-01-08.wav\n",
      "C:\\Users\\thang\\Downloads\\Emotion\\Emotion\\speech-emotion-recognition-ravdess-data\\Actor_08\\03-01-07-02-02-02-08.wav 03-01-07-02-02-02-08.wav\n",
      "C:\\Users\\thang\\Downloads\\Emotion\\Emotion\\speech-emotion-recognition-ravdess-data\\Actor_08\\03-01-08-01-01-01-08.wav 03-01-08-01-01-01-08.wav\n",
      "C:\\Users\\thang\\Downloads\\Emotion\\Emotion\\speech-emotion-recognition-ravdess-data\\Actor_08\\03-01-08-01-01-02-08.wav 03-01-08-01-01-02-08.wav\n",
      "C:\\Users\\thang\\Downloads\\Emotion\\Emotion\\speech-emotion-recognition-ravdess-data\\Actor_08\\03-01-08-01-02-01-08.wav 03-01-08-01-02-01-08.wav\n",
      "C:\\Users\\thang\\Downloads\\Emotion\\Emotion\\speech-emotion-recognition-ravdess-data\\Actor_08\\03-01-08-01-02-02-08.wav 03-01-08-01-02-02-08.wav\n",
      "C:\\Users\\thang\\Downloads\\Emotion\\Emotion\\speech-emotion-recognition-ravdess-data\\Actor_08\\03-01-08-02-01-01-08.wav 03-01-08-02-01-01-08.wav\n",
      "C:\\Users\\thang\\Downloads\\Emotion\\Emotion\\speech-emotion-recognition-ravdess-data\\Actor_08\\03-01-08-02-01-02-08.wav 03-01-08-02-01-02-08.wav\n",
      "C:\\Users\\thang\\Downloads\\Emotion\\Emotion\\speech-emotion-recognition-ravdess-data\\Actor_08\\03-01-08-02-02-01-08.wav 03-01-08-02-02-01-08.wav\n",
      "C:\\Users\\thang\\Downloads\\Emotion\\Emotion\\speech-emotion-recognition-ravdess-data\\Actor_08\\03-01-08-02-02-02-08.wav 03-01-08-02-02-02-08.wav\n",
      "C:\\Users\\thang\\Downloads\\Emotion\\Emotion\\speech-emotion-recognition-ravdess-data\\Actor_09\\03-01-01-01-01-01-09.wav 03-01-01-01-01-01-09.wav\n",
      "C:\\Users\\thang\\Downloads\\Emotion\\Emotion\\speech-emotion-recognition-ravdess-data\\Actor_09\\03-01-01-01-01-02-09.wav 03-01-01-01-01-02-09.wav\n",
      "C:\\Users\\thang\\Downloads\\Emotion\\Emotion\\speech-emotion-recognition-ravdess-data\\Actor_09\\03-01-01-01-02-01-09.wav 03-01-01-01-02-01-09.wav\n",
      "C:\\Users\\thang\\Downloads\\Emotion\\Emotion\\speech-emotion-recognition-ravdess-data\\Actor_09\\03-01-01-01-02-02-09.wav 03-01-01-01-02-02-09.wav\n",
      "C:\\Users\\thang\\Downloads\\Emotion\\Emotion\\speech-emotion-recognition-ravdess-data\\Actor_09\\03-01-02-01-01-01-09.wav 03-01-02-01-01-01-09.wav\n",
      "C:\\Users\\thang\\Downloads\\Emotion\\Emotion\\speech-emotion-recognition-ravdess-data\\Actor_09\\03-01-02-01-01-02-09.wav 03-01-02-01-01-02-09.wav\n",
      "C:\\Users\\thang\\Downloads\\Emotion\\Emotion\\speech-emotion-recognition-ravdess-data\\Actor_09\\03-01-02-01-02-01-09.wav 03-01-02-01-02-01-09.wav\n",
      "C:\\Users\\thang\\Downloads\\Emotion\\Emotion\\speech-emotion-recognition-ravdess-data\\Actor_09\\03-01-02-01-02-02-09.wav 03-01-02-01-02-02-09.wav\n",
      "C:\\Users\\thang\\Downloads\\Emotion\\Emotion\\speech-emotion-recognition-ravdess-data\\Actor_09\\03-01-02-02-01-01-09.wav 03-01-02-02-01-01-09.wav\n",
      "C:\\Users\\thang\\Downloads\\Emotion\\Emotion\\speech-emotion-recognition-ravdess-data\\Actor_09\\03-01-02-02-01-02-09.wav 03-01-02-02-01-02-09.wav\n",
      "C:\\Users\\thang\\Downloads\\Emotion\\Emotion\\speech-emotion-recognition-ravdess-data\\Actor_09\\03-01-02-02-02-01-09.wav 03-01-02-02-02-01-09.wav\n",
      "C:\\Users\\thang\\Downloads\\Emotion\\Emotion\\speech-emotion-recognition-ravdess-data\\Actor_09\\03-01-02-02-02-02-09.wav 03-01-02-02-02-02-09.wav\n"
     ]
    },
    {
     "name": "stderr",
     "output_type": "stream",
     "text": [
      "C:\\Users\\thang\\AppData\\Local\\Temp\\ipykernel_14300\\1750813818.py:16: FutureWarning: Pass y=[ 0.          0.          0.         ... -0.00100708 -0.00100708\n",
      " -0.00100708] as keyword args. From version 0.10 passing these as positional arguments will result in an error\n",
      "  mel=np.mean(librosa.feature.melspectrogram(X, sr=sample_rate).T,axis=0)\n",
      "C:\\Users\\thang\\AppData\\Local\\Temp\\ipykernel_14300\\1750813818.py:16: FutureWarning: Pass y=[ 0.0000000e+00 -3.0517578e-05 -3.0517578e-05 ... -3.0517578e-04\n",
      " -2.4414062e-04 -2.4414062e-04] as keyword args. From version 0.10 passing these as positional arguments will result in an error\n",
      "  mel=np.mean(librosa.feature.melspectrogram(X, sr=sample_rate).T,axis=0)\n",
      "C:\\Users\\thang\\AppData\\Local\\Temp\\ipykernel_14300\\1750813818.py:16: FutureWarning: Pass y=[ 0.0000000e+00  0.0000000e+00  0.0000000e+00 ... -9.1552734e-05\n",
      " -9.1552734e-05 -9.1552734e-05] as keyword args. From version 0.10 passing these as positional arguments will result in an error\n",
      "  mel=np.mean(librosa.feature.melspectrogram(X, sr=sample_rate).T,axis=0)\n",
      "C:\\Users\\thang\\AppData\\Local\\Temp\\ipykernel_14300\\1750813818.py:16: FutureWarning: Pass y=[ 9.1552734e-05  1.2207031e-04  1.2207031e-04 ... -3.0517578e-05\n",
      " -6.1035156e-05  0.0000000e+00] as keyword args. From version 0.10 passing these as positional arguments will result in an error\n",
      "  mel=np.mean(librosa.feature.melspectrogram(X, sr=sample_rate).T,axis=0)\n"
     ]
    },
    {
     "name": "stdout",
     "output_type": "stream",
     "text": [
      "C:\\Users\\thang\\Downloads\\Emotion\\Emotion\\speech-emotion-recognition-ravdess-data\\Actor_09\\03-01-03-01-01-01-09.wav 03-01-03-01-01-01-09.wav\n",
      "C:\\Users\\thang\\Downloads\\Emotion\\Emotion\\speech-emotion-recognition-ravdess-data\\Actor_09\\03-01-03-01-01-02-09.wav 03-01-03-01-01-02-09.wav\n",
      "C:\\Users\\thang\\Downloads\\Emotion\\Emotion\\speech-emotion-recognition-ravdess-data\\Actor_09\\03-01-03-01-02-01-09.wav 03-01-03-01-02-01-09.wav\n",
      "C:\\Users\\thang\\Downloads\\Emotion\\Emotion\\speech-emotion-recognition-ravdess-data\\Actor_09\\03-01-03-01-02-02-09.wav 03-01-03-01-02-02-09.wav\n",
      "C:\\Users\\thang\\Downloads\\Emotion\\Emotion\\speech-emotion-recognition-ravdess-data\\Actor_09\\03-01-03-02-01-01-09.wav 03-01-03-02-01-01-09.wav\n",
      "C:\\Users\\thang\\Downloads\\Emotion\\Emotion\\speech-emotion-recognition-ravdess-data\\Actor_09\\03-01-03-02-01-02-09.wav 03-01-03-02-01-02-09.wav\n",
      "C:\\Users\\thang\\Downloads\\Emotion\\Emotion\\speech-emotion-recognition-ravdess-data\\Actor_09\\03-01-03-02-02-01-09.wav 03-01-03-02-02-01-09.wav\n"
     ]
    },
    {
     "name": "stderr",
     "output_type": "stream",
     "text": [
      "C:\\Users\\thang\\AppData\\Local\\Temp\\ipykernel_14300\\1750813818.py:16: FutureWarning: Pass y=[0.0007019  0.00067139 0.00067139 ... 0.         0.         0.        ] as keyword args. From version 0.10 passing these as positional arguments will result in an error\n",
      "  mel=np.mean(librosa.feature.melspectrogram(X, sr=sample_rate).T,axis=0)\n",
      "C:\\Users\\thang\\AppData\\Local\\Temp\\ipykernel_14300\\1750813818.py:16: FutureWarning: Pass y=[-6.1035156e-05 -6.1035156e-05 -3.0517578e-05 ... -1.2207031e-04\n",
      " -1.2207031e-04 -1.2207031e-04] as keyword args. From version 0.10 passing these as positional arguments will result in an error\n",
      "  mel=np.mean(librosa.feature.melspectrogram(X, sr=sample_rate).T,axis=0)\n",
      "C:\\Users\\thang\\AppData\\Local\\Temp\\ipykernel_14300\\1750813818.py:16: FutureWarning: Pass y=[ 0.0000000e+00  0.0000000e+00  0.0000000e+00 ... -6.1035156e-05\n",
      " -9.1552734e-05 -9.1552734e-05] as keyword args. From version 0.10 passing these as positional arguments will result in an error\n",
      "  mel=np.mean(librosa.feature.melspectrogram(X, sr=sample_rate).T,axis=0)\n",
      "C:\\Users\\thang\\AppData\\Local\\Temp\\ipykernel_14300\\1750813818.py:16: FutureWarning: Pass y=[-6.1035156e-05  3.0517578e-05  3.0517578e-05 ...  6.1035156e-05\n",
      " -3.0517578e-05 -9.1552734e-05] as keyword args. From version 0.10 passing these as positional arguments will result in an error\n",
      "  mel=np.mean(librosa.feature.melspectrogram(X, sr=sample_rate).T,axis=0)\n"
     ]
    },
    {
     "name": "stdout",
     "output_type": "stream",
     "text": [
      "C:\\Users\\thang\\Downloads\\Emotion\\Emotion\\speech-emotion-recognition-ravdess-data\\Actor_09\\03-01-03-02-02-02-09.wav 03-01-03-02-02-02-09.wav\n",
      "C:\\Users\\thang\\Downloads\\Emotion\\Emotion\\speech-emotion-recognition-ravdess-data\\Actor_09\\03-01-04-01-01-01-09.wav 03-01-04-01-01-01-09.wav\n",
      "C:\\Users\\thang\\Downloads\\Emotion\\Emotion\\speech-emotion-recognition-ravdess-data\\Actor_09\\03-01-04-01-01-02-09.wav 03-01-04-01-01-02-09.wav\n",
      "C:\\Users\\thang\\Downloads\\Emotion\\Emotion\\speech-emotion-recognition-ravdess-data\\Actor_09\\03-01-04-01-02-01-09.wav 03-01-04-01-02-01-09.wav\n",
      "C:\\Users\\thang\\Downloads\\Emotion\\Emotion\\speech-emotion-recognition-ravdess-data\\Actor_09\\03-01-04-01-02-02-09.wav 03-01-04-01-02-02-09.wav\n",
      "C:\\Users\\thang\\Downloads\\Emotion\\Emotion\\speech-emotion-recognition-ravdess-data\\Actor_09\\03-01-04-02-01-01-09.wav 03-01-04-02-01-01-09.wav\n",
      "C:\\Users\\thang\\Downloads\\Emotion\\Emotion\\speech-emotion-recognition-ravdess-data\\Actor_09\\03-01-04-02-01-02-09.wav 03-01-04-02-01-02-09.wav\n",
      "C:\\Users\\thang\\Downloads\\Emotion\\Emotion\\speech-emotion-recognition-ravdess-data\\Actor_09\\03-01-04-02-02-01-09.wav 03-01-04-02-02-01-09.wav\n",
      "C:\\Users\\thang\\Downloads\\Emotion\\Emotion\\speech-emotion-recognition-ravdess-data\\Actor_09\\03-01-04-02-02-02-09.wav 03-01-04-02-02-02-09.wav\n",
      "C:\\Users\\thang\\Downloads\\Emotion\\Emotion\\speech-emotion-recognition-ravdess-data\\Actor_09\\03-01-05-01-01-01-09.wav 03-01-05-01-01-01-09.wav\n",
      "C:\\Users\\thang\\Downloads\\Emotion\\Emotion\\speech-emotion-recognition-ravdess-data\\Actor_09\\03-01-05-01-01-02-09.wav 03-01-05-01-01-02-09.wav\n",
      "C:\\Users\\thang\\Downloads\\Emotion\\Emotion\\speech-emotion-recognition-ravdess-data\\Actor_09\\03-01-05-01-02-01-09.wav 03-01-05-01-02-01-09.wav\n",
      "C:\\Users\\thang\\Downloads\\Emotion\\Emotion\\speech-emotion-recognition-ravdess-data\\Actor_09\\03-01-05-01-02-02-09.wav 03-01-05-01-02-02-09.wav\n"
     ]
    },
    {
     "name": "stderr",
     "output_type": "stream",
     "text": [
      "C:\\Users\\thang\\AppData\\Local\\Temp\\ipykernel_14300\\1750813818.py:16: FutureWarning: Pass y=[ 0.          0.          0.         ... -0.00012207 -0.00012207\n",
      " -0.00015259] as keyword args. From version 0.10 passing these as positional arguments will result in an error\n",
      "  mel=np.mean(librosa.feature.melspectrogram(X, sr=sample_rate).T,axis=0)\n",
      "C:\\Users\\thang\\AppData\\Local\\Temp\\ipykernel_14300\\1750813818.py:16: FutureWarning: Pass y=[ 0.0000000e+00  3.0517578e-05  0.0000000e+00 ... -2.7465820e-04\n",
      " -3.0517578e-04 -2.7465820e-04] as keyword args. From version 0.10 passing these as positional arguments will result in an error\n",
      "  mel=np.mean(librosa.feature.melspectrogram(X, sr=sample_rate).T,axis=0)\n",
      "C:\\Users\\thang\\AppData\\Local\\Temp\\ipykernel_14300\\1750813818.py:16: FutureWarning: Pass y=[ 3.0517578e-05  0.0000000e+00  0.0000000e+00 ... -1.5258789e-04\n",
      " -1.2207031e-04 -2.1362305e-04] as keyword args. From version 0.10 passing these as positional arguments will result in an error\n",
      "  mel=np.mean(librosa.feature.melspectrogram(X, sr=sample_rate).T,axis=0)\n",
      "C:\\Users\\thang\\AppData\\Local\\Temp\\ipykernel_14300\\1750813818.py:16: FutureWarning: Pass y=[9.1552734e-05 1.2207031e-04 1.8310547e-04 ... 1.5258789e-04 1.8310547e-04\n",
      " 1.5258789e-04] as keyword args. From version 0.10 passing these as positional arguments will result in an error\n",
      "  mel=np.mean(librosa.feature.melspectrogram(X, sr=sample_rate).T,axis=0)\n",
      "C:\\Users\\thang\\AppData\\Local\\Temp\\ipykernel_14300\\1750813818.py:16: FutureWarning: Pass y=[ 0.00027466  0.00048828  0.0005188  ... -0.00036621 -0.00042725\n",
      " -0.00033569] as keyword args. From version 0.10 passing these as positional arguments will result in an error\n",
      "  mel=np.mean(librosa.feature.melspectrogram(X, sr=sample_rate).T,axis=0)\n",
      "C:\\Users\\thang\\AppData\\Local\\Temp\\ipykernel_14300\\1750813818.py:16: FutureWarning: Pass y=[ 3.9672852e-04 -9.1552734e-05 -1.8310547e-04 ... -9.1552734e-05\n",
      " -9.1552734e-05 -9.1552734e-05] as keyword args. From version 0.10 passing these as positional arguments will result in an error\n",
      "  mel=np.mean(librosa.feature.melspectrogram(X, sr=sample_rate).T,axis=0)\n"
     ]
    },
    {
     "name": "stdout",
     "output_type": "stream",
     "text": [
      "C:\\Users\\thang\\Downloads\\Emotion\\Emotion\\speech-emotion-recognition-ravdess-data\\Actor_09\\03-01-05-02-01-01-09.wav 03-01-05-02-01-01-09.wav\n",
      "C:\\Users\\thang\\Downloads\\Emotion\\Emotion\\speech-emotion-recognition-ravdess-data\\Actor_09\\03-01-05-02-01-02-09.wav 03-01-05-02-01-02-09.wav\n",
      "C:\\Users\\thang\\Downloads\\Emotion\\Emotion\\speech-emotion-recognition-ravdess-data\\Actor_09\\03-01-05-02-02-01-09.wav 03-01-05-02-02-01-09.wav\n",
      "C:\\Users\\thang\\Downloads\\Emotion\\Emotion\\speech-emotion-recognition-ravdess-data\\Actor_09\\03-01-05-02-02-02-09.wav 03-01-05-02-02-02-09.wav\n",
      "C:\\Users\\thang\\Downloads\\Emotion\\Emotion\\speech-emotion-recognition-ravdess-data\\Actor_09\\03-01-06-01-01-01-09.wav 03-01-06-01-01-01-09.wav\n",
      "C:\\Users\\thang\\Downloads\\Emotion\\Emotion\\speech-emotion-recognition-ravdess-data\\Actor_09\\03-01-06-01-01-02-09.wav 03-01-06-01-01-02-09.wav\n",
      "C:\\Users\\thang\\Downloads\\Emotion\\Emotion\\speech-emotion-recognition-ravdess-data\\Actor_09\\03-01-06-01-02-01-09.wav 03-01-06-01-02-01-09.wav\n",
      "C:\\Users\\thang\\Downloads\\Emotion\\Emotion\\speech-emotion-recognition-ravdess-data\\Actor_09\\03-01-06-01-02-02-09.wav 03-01-06-01-02-02-09.wav\n",
      "C:\\Users\\thang\\Downloads\\Emotion\\Emotion\\speech-emotion-recognition-ravdess-data\\Actor_09\\03-01-06-02-01-01-09.wav 03-01-06-02-01-01-09.wav\n",
      "C:\\Users\\thang\\Downloads\\Emotion\\Emotion\\speech-emotion-recognition-ravdess-data\\Actor_09\\03-01-06-02-01-02-09.wav 03-01-06-02-01-02-09.wav\n",
      "C:\\Users\\thang\\Downloads\\Emotion\\Emotion\\speech-emotion-recognition-ravdess-data\\Actor_09\\03-01-06-02-02-01-09.wav 03-01-06-02-02-01-09.wav\n",
      "C:\\Users\\thang\\Downloads\\Emotion\\Emotion\\speech-emotion-recognition-ravdess-data\\Actor_09\\03-01-06-02-02-02-09.wav 03-01-06-02-02-02-09.wav\n",
      "C:\\Users\\thang\\Downloads\\Emotion\\Emotion\\speech-emotion-recognition-ravdess-data\\Actor_09\\03-01-07-01-01-01-09.wav 03-01-07-01-01-01-09.wav\n",
      "C:\\Users\\thang\\Downloads\\Emotion\\Emotion\\speech-emotion-recognition-ravdess-data\\Actor_09\\03-01-07-01-01-02-09.wav 03-01-07-01-01-02-09.wav\n",
      "C:\\Users\\thang\\Downloads\\Emotion\\Emotion\\speech-emotion-recognition-ravdess-data\\Actor_09\\03-01-07-01-02-01-09.wav 03-01-07-01-02-01-09.wav\n",
      "C:\\Users\\thang\\Downloads\\Emotion\\Emotion\\speech-emotion-recognition-ravdess-data\\Actor_09\\03-01-07-01-02-02-09.wav 03-01-07-01-02-02-09.wav\n",
      "C:\\Users\\thang\\Downloads\\Emotion\\Emotion\\speech-emotion-recognition-ravdess-data\\Actor_09\\03-01-07-02-01-01-09.wav 03-01-07-02-01-01-09.wav\n",
      "C:\\Users\\thang\\Downloads\\Emotion\\Emotion\\speech-emotion-recognition-ravdess-data\\Actor_09\\03-01-07-02-01-02-09.wav 03-01-07-02-01-02-09.wav\n",
      "C:\\Users\\thang\\Downloads\\Emotion\\Emotion\\speech-emotion-recognition-ravdess-data\\Actor_09\\03-01-07-02-02-01-09.wav 03-01-07-02-02-01-09.wav\n",
      "C:\\Users\\thang\\Downloads\\Emotion\\Emotion\\speech-emotion-recognition-ravdess-data\\Actor_09\\03-01-07-02-02-02-09.wav 03-01-07-02-02-02-09.wav\n",
      "C:\\Users\\thang\\Downloads\\Emotion\\Emotion\\speech-emotion-recognition-ravdess-data\\Actor_09\\03-01-08-01-01-01-09.wav 03-01-08-01-01-01-09.wav\n",
      "C:\\Users\\thang\\Downloads\\Emotion\\Emotion\\speech-emotion-recognition-ravdess-data\\Actor_09\\03-01-08-01-01-02-09.wav 03-01-08-01-01-02-09.wav\n",
      "C:\\Users\\thang\\Downloads\\Emotion\\Emotion\\speech-emotion-recognition-ravdess-data\\Actor_09\\03-01-08-01-02-01-09.wav 03-01-08-01-02-01-09.wav\n",
      "C:\\Users\\thang\\Downloads\\Emotion\\Emotion\\speech-emotion-recognition-ravdess-data\\Actor_09\\03-01-08-01-02-02-09.wav 03-01-08-01-02-02-09.wav\n",
      "C:\\Users\\thang\\Downloads\\Emotion\\Emotion\\speech-emotion-recognition-ravdess-data\\Actor_09\\03-01-08-02-01-01-09.wav 03-01-08-02-01-01-09.wav\n",
      "C:\\Users\\thang\\Downloads\\Emotion\\Emotion\\speech-emotion-recognition-ravdess-data\\Actor_09\\03-01-08-02-01-02-09.wav 03-01-08-02-01-02-09.wav\n",
      "C:\\Users\\thang\\Downloads\\Emotion\\Emotion\\speech-emotion-recognition-ravdess-data\\Actor_09\\03-01-08-02-02-01-09.wav 03-01-08-02-02-01-09.wav\n",
      "C:\\Users\\thang\\Downloads\\Emotion\\Emotion\\speech-emotion-recognition-ravdess-data\\Actor_09\\03-01-08-02-02-02-09.wav 03-01-08-02-02-02-09.wav\n",
      "C:\\Users\\thang\\Downloads\\Emotion\\Emotion\\speech-emotion-recognition-ravdess-data\\Actor_10\\03-01-01-01-01-01-10.wav 03-01-01-01-01-01-10.wav\n",
      "C:\\Users\\thang\\Downloads\\Emotion\\Emotion\\speech-emotion-recognition-ravdess-data\\Actor_10\\03-01-01-01-01-02-10.wav 03-01-01-01-01-02-10.wav\n",
      "C:\\Users\\thang\\Downloads\\Emotion\\Emotion\\speech-emotion-recognition-ravdess-data\\Actor_10\\03-01-01-01-02-01-10.wav 03-01-01-01-02-01-10.wav\n",
      "C:\\Users\\thang\\Downloads\\Emotion\\Emotion\\speech-emotion-recognition-ravdess-data\\Actor_10\\03-01-01-01-02-02-10.wav 03-01-01-01-02-02-10.wav\n",
      "C:\\Users\\thang\\Downloads\\Emotion\\Emotion\\speech-emotion-recognition-ravdess-data\\Actor_10\\03-01-02-01-01-01-10.wav 03-01-02-01-01-01-10.wav\n",
      "C:\\Users\\thang\\Downloads\\Emotion\\Emotion\\speech-emotion-recognition-ravdess-data\\Actor_10\\03-01-02-01-01-02-10.wav 03-01-02-01-01-02-10.wav\n",
      "C:\\Users\\thang\\Downloads\\Emotion\\Emotion\\speech-emotion-recognition-ravdess-data\\Actor_10\\03-01-02-01-02-01-10.wav 03-01-02-01-02-01-10.wav\n",
      "C:\\Users\\thang\\Downloads\\Emotion\\Emotion\\speech-emotion-recognition-ravdess-data\\Actor_10\\03-01-02-01-02-02-10.wav 03-01-02-01-02-02-10.wav\n",
      "C:\\Users\\thang\\Downloads\\Emotion\\Emotion\\speech-emotion-recognition-ravdess-data\\Actor_10\\03-01-02-02-01-01-10.wav 03-01-02-02-01-01-10.wav\n",
      "C:\\Users\\thang\\Downloads\\Emotion\\Emotion\\speech-emotion-recognition-ravdess-data\\Actor_10\\03-01-02-02-01-02-10.wav 03-01-02-02-01-02-10.wav\n",
      "C:\\Users\\thang\\Downloads\\Emotion\\Emotion\\speech-emotion-recognition-ravdess-data\\Actor_10\\03-01-02-02-02-01-10.wav 03-01-02-02-02-01-10.wav\n"
     ]
    },
    {
     "name": "stderr",
     "output_type": "stream",
     "text": [
      "C:\\Users\\thang\\AppData\\Local\\Temp\\ipykernel_14300\\1750813818.py:16: FutureWarning: Pass y=[ 6.1035156e-05 -6.1035156e-05  2.1362305e-04 ...  6.1035156e-05\n",
      "  6.1035156e-05  3.0517578e-05] as keyword args. From version 0.10 passing these as positional arguments will result in an error\n",
      "  mel=np.mean(librosa.feature.melspectrogram(X, sr=sample_rate).T,axis=0)\n",
      "C:\\Users\\thang\\AppData\\Local\\Temp\\ipykernel_14300\\1750813818.py:16: FutureWarning: Pass y=[ 2.4414062e-04 -3.0517578e-05 -1.2207031e-04 ...  2.4414062e-04\n",
      "  1.2207031e-04  9.1552734e-05] as keyword args. From version 0.10 passing these as positional arguments will result in an error\n",
      "  mel=np.mean(librosa.feature.melspectrogram(X, sr=sample_rate).T,axis=0)\n",
      "C:\\Users\\thang\\AppData\\Local\\Temp\\ipykernel_14300\\1750813818.py:16: FutureWarning: Pass y=[ 0.0000000e+00  0.0000000e+00  6.1035156e-05 ... -6.1035156e-05\n",
      " -9.1552734e-05  0.0000000e+00] as keyword args. From version 0.10 passing these as positional arguments will result in an error\n",
      "  mel=np.mean(librosa.feature.melspectrogram(X, sr=sample_rate).T,axis=0)\n",
      "C:\\Users\\thang\\AppData\\Local\\Temp\\ipykernel_14300\\1750813818.py:16: FutureWarning: Pass y=[-9.1552734e-05 -9.1552734e-05 -6.1035156e-05 ...  3.0517578e-05\n",
      "  6.1035156e-05  3.0517578e-05] as keyword args. From version 0.10 passing these as positional arguments will result in an error\n",
      "  mel=np.mean(librosa.feature.melspectrogram(X, sr=sample_rate).T,axis=0)\n",
      "C:\\Users\\thang\\AppData\\Local\\Temp\\ipykernel_14300\\1750813818.py:16: FutureWarning: Pass y=[ 2.7465820e-04  1.2207031e-04 -1.5258789e-04 ...  9.1552734e-05\n",
      "  3.0517578e-05  6.1035156e-05] as keyword args. From version 0.10 passing these as positional arguments will result in an error\n",
      "  mel=np.mean(librosa.feature.melspectrogram(X, sr=sample_rate).T,axis=0)\n",
      "C:\\Users\\thang\\AppData\\Local\\Temp\\ipykernel_14300\\1750813818.py:16: FutureWarning: Pass y=[ 0.0000000e+00  0.0000000e+00  0.0000000e+00 ... -9.1552734e-05\n",
      " -6.1035156e-05 -6.1035156e-05] as keyword args. From version 0.10 passing these as positional arguments will result in an error\n",
      "  mel=np.mean(librosa.feature.melspectrogram(X, sr=sample_rate).T,axis=0)\n"
     ]
    },
    {
     "name": "stdout",
     "output_type": "stream",
     "text": [
      "C:\\Users\\thang\\Downloads\\Emotion\\Emotion\\speech-emotion-recognition-ravdess-data\\Actor_10\\03-01-02-02-02-02-10.wav 03-01-02-02-02-02-10.wav\n",
      "C:\\Users\\thang\\Downloads\\Emotion\\Emotion\\speech-emotion-recognition-ravdess-data\\Actor_10\\03-01-03-01-01-01-10.wav 03-01-03-01-01-01-10.wav\n",
      "C:\\Users\\thang\\Downloads\\Emotion\\Emotion\\speech-emotion-recognition-ravdess-data\\Actor_10\\03-01-03-01-01-02-10.wav 03-01-03-01-01-02-10.wav\n",
      "C:\\Users\\thang\\Downloads\\Emotion\\Emotion\\speech-emotion-recognition-ravdess-data\\Actor_10\\03-01-03-01-02-01-10.wav 03-01-03-01-02-01-10.wav\n",
      "C:\\Users\\thang\\Downloads\\Emotion\\Emotion\\speech-emotion-recognition-ravdess-data\\Actor_10\\03-01-03-01-02-02-10.wav 03-01-03-01-02-02-10.wav\n",
      "C:\\Users\\thang\\Downloads\\Emotion\\Emotion\\speech-emotion-recognition-ravdess-data\\Actor_10\\03-01-03-02-01-01-10.wav 03-01-03-02-01-01-10.wav\n"
     ]
    },
    {
     "name": "stderr",
     "output_type": "stream",
     "text": [
      "C:\\Users\\thang\\AppData\\Local\\Temp\\ipykernel_14300\\1750813818.py:16: FutureWarning: Pass y=[-6.1035156e-05 -3.0517578e-05 -6.1035156e-05 ...  6.1035156e-05\n",
      "  6.1035156e-05  3.0517578e-05] as keyword args. From version 0.10 passing these as positional arguments will result in an error\n",
      "  mel=np.mean(librosa.feature.melspectrogram(X, sr=sample_rate).T,axis=0)\n",
      "C:\\Users\\thang\\AppData\\Local\\Temp\\ipykernel_14300\\1750813818.py:16: FutureWarning: Pass y=[ 3.0517578e-05  0.0000000e+00  0.0000000e+00 ... -6.1035156e-05\n",
      " -6.1035156e-05 -6.1035156e-05] as keyword args. From version 0.10 passing these as positional arguments will result in an error\n",
      "  mel=np.mean(librosa.feature.melspectrogram(X, sr=sample_rate).T,axis=0)\n",
      "C:\\Users\\thang\\AppData\\Local\\Temp\\ipykernel_14300\\1750813818.py:16: FutureWarning: Pass y=[ 3.0517578e-05  0.0000000e+00  3.0517578e-05 ...  0.0000000e+00\n",
      " -9.1552734e-05  3.0517578e-05] as keyword args. From version 0.10 passing these as positional arguments will result in an error\n",
      "  mel=np.mean(librosa.feature.melspectrogram(X, sr=sample_rate).T,axis=0)\n",
      "C:\\Users\\thang\\AppData\\Local\\Temp\\ipykernel_14300\\1750813818.py:16: FutureWarning: Pass y=[ 0.0000000e+00  0.0000000e+00  3.0517578e-05 ...  3.9672852e-04\n",
      "  4.5776367e-04 -2.7465820e-04] as keyword args. From version 0.10 passing these as positional arguments will result in an error\n",
      "  mel=np.mean(librosa.feature.melspectrogram(X, sr=sample_rate).T,axis=0)\n",
      "C:\\Users\\thang\\AppData\\Local\\Temp\\ipykernel_14300\\1750813818.py:16: FutureWarning: Pass y=[-2.7465820e-04  1.8310547e-04 -6.1035156e-05 ...  9.1552734e-05\n",
      "  1.2207031e-04  9.1552734e-05] as keyword args. From version 0.10 passing these as positional arguments will result in an error\n",
      "  mel=np.mean(librosa.feature.melspectrogram(X, sr=sample_rate).T,axis=0)\n",
      "C:\\Users\\thang\\AppData\\Local\\Temp\\ipykernel_14300\\1750813818.py:16: FutureWarning: Pass y=[-6.1035156e-05 -6.1035156e-05 -3.0517578e-05 ... -3.0517578e-05\n",
      "  0.0000000e+00 -3.0517578e-05] as keyword args. From version 0.10 passing these as positional arguments will result in an error\n",
      "  mel=np.mean(librosa.feature.melspectrogram(X, sr=sample_rate).T,axis=0)\n"
     ]
    },
    {
     "name": "stdout",
     "output_type": "stream",
     "text": [
      "C:\\Users\\thang\\Downloads\\Emotion\\Emotion\\speech-emotion-recognition-ravdess-data\\Actor_10\\03-01-03-02-01-02-10.wav 03-01-03-02-01-02-10.wav\n",
      "C:\\Users\\thang\\Downloads\\Emotion\\Emotion\\speech-emotion-recognition-ravdess-data\\Actor_10\\03-01-03-02-02-01-10.wav 03-01-03-02-02-01-10.wav\n",
      "C:\\Users\\thang\\Downloads\\Emotion\\Emotion\\speech-emotion-recognition-ravdess-data\\Actor_10\\03-01-03-02-02-02-10.wav 03-01-03-02-02-02-10.wav\n",
      "C:\\Users\\thang\\Downloads\\Emotion\\Emotion\\speech-emotion-recognition-ravdess-data\\Actor_10\\03-01-04-01-01-01-10.wav 03-01-04-01-01-01-10.wav\n",
      "C:\\Users\\thang\\Downloads\\Emotion\\Emotion\\speech-emotion-recognition-ravdess-data\\Actor_10\\03-01-04-01-01-02-10.wav 03-01-04-01-01-02-10.wav\n",
      "C:\\Users\\thang\\Downloads\\Emotion\\Emotion\\speech-emotion-recognition-ravdess-data\\Actor_10\\03-01-04-01-02-01-10.wav 03-01-04-01-02-01-10.wav\n",
      "C:\\Users\\thang\\Downloads\\Emotion\\Emotion\\speech-emotion-recognition-ravdess-data\\Actor_10\\03-01-04-01-02-02-10.wav 03-01-04-01-02-02-10.wav\n",
      "C:\\Users\\thang\\Downloads\\Emotion\\Emotion\\speech-emotion-recognition-ravdess-data\\Actor_10\\03-01-04-02-01-01-10.wav 03-01-04-02-01-01-10.wav\n",
      "C:\\Users\\thang\\Downloads\\Emotion\\Emotion\\speech-emotion-recognition-ravdess-data\\Actor_10\\03-01-04-02-01-02-10.wav 03-01-04-02-01-02-10.wav\n",
      "C:\\Users\\thang\\Downloads\\Emotion\\Emotion\\speech-emotion-recognition-ravdess-data\\Actor_10\\03-01-04-02-02-01-10.wav 03-01-04-02-02-01-10.wav\n",
      "C:\\Users\\thang\\Downloads\\Emotion\\Emotion\\speech-emotion-recognition-ravdess-data\\Actor_10\\03-01-04-02-02-02-10.wav 03-01-04-02-02-02-10.wav\n",
      "C:\\Users\\thang\\Downloads\\Emotion\\Emotion\\speech-emotion-recognition-ravdess-data\\Actor_10\\03-01-05-01-01-01-10.wav 03-01-05-01-01-01-10.wav\n",
      "C:\\Users\\thang\\Downloads\\Emotion\\Emotion\\speech-emotion-recognition-ravdess-data\\Actor_10\\03-01-05-01-01-02-10.wav 03-01-05-01-01-02-10.wav\n",
      "C:\\Users\\thang\\Downloads\\Emotion\\Emotion\\speech-emotion-recognition-ravdess-data\\Actor_10\\03-01-05-01-02-01-10.wav 03-01-05-01-02-01-10.wav\n"
     ]
    },
    {
     "name": "stderr",
     "output_type": "stream",
     "text": [
      "C:\\Users\\thang\\AppData\\Local\\Temp\\ipykernel_14300\\1750813818.py:16: FutureWarning: Pass y=[ 3.0517578e-05  3.0517578e-05  3.0517578e-05 ...  0.0000000e+00\n",
      " -3.0517578e-05 -3.0517578e-05] as keyword args. From version 0.10 passing these as positional arguments will result in an error\n",
      "  mel=np.mean(librosa.feature.melspectrogram(X, sr=sample_rate).T,axis=0)\n",
      "C:\\Users\\thang\\AppData\\Local\\Temp\\ipykernel_14300\\1750813818.py:16: FutureWarning: Pass y=[-3.0517578e-05 -3.0517578e-05  0.0000000e+00 ...  0.0000000e+00\n",
      "  0.0000000e+00  3.0517578e-05] as keyword args. From version 0.10 passing these as positional arguments will result in an error\n",
      "  mel=np.mean(librosa.feature.melspectrogram(X, sr=sample_rate).T,axis=0)\n",
      "C:\\Users\\thang\\AppData\\Local\\Temp\\ipykernel_14300\\1750813818.py:16: FutureWarning: Pass y=[ 3.0517578e-05 -3.0517578e-05 -2.1362305e-04 ...  0.0000000e+00\n",
      "  0.0000000e+00 -3.0517578e-05] as keyword args. From version 0.10 passing these as positional arguments will result in an error\n",
      "  mel=np.mean(librosa.feature.melspectrogram(X, sr=sample_rate).T,axis=0)\n",
      "C:\\Users\\thang\\AppData\\Local\\Temp\\ipykernel_14300\\1750813818.py:16: FutureWarning: Pass y=[-1.5258789e-04  6.1035156e-05  1.5258789e-04 ...  0.0000000e+00\n",
      "  0.0000000e+00  0.0000000e+00] as keyword args. From version 0.10 passing these as positional arguments will result in an error\n",
      "  mel=np.mean(librosa.feature.melspectrogram(X, sr=sample_rate).T,axis=0)\n",
      "C:\\Users\\thang\\AppData\\Local\\Temp\\ipykernel_14300\\1750813818.py:16: FutureWarning: Pass y=[ 0.0000000e+00 -3.0517578e-05 -3.0517578e-05 ...  3.0517578e-05\n",
      "  3.0517578e-05  3.0517578e-05] as keyword args. From version 0.10 passing these as positional arguments will result in an error\n",
      "  mel=np.mean(librosa.feature.melspectrogram(X, sr=sample_rate).T,axis=0)\n",
      "C:\\Users\\thang\\AppData\\Local\\Temp\\ipykernel_14300\\1750813818.py:16: FutureWarning: Pass y=[ 6.4086914e-04  2.7465820e-04 -4.5776367e-04 ...  1.2207031e-04\n",
      "  9.1552734e-05  3.0517578e-05] as keyword args. From version 0.10 passing these as positional arguments will result in an error\n",
      "  mel=np.mean(librosa.feature.melspectrogram(X, sr=sample_rate).T,axis=0)\n"
     ]
    },
    {
     "name": "stdout",
     "output_type": "stream",
     "text": [
      "C:\\Users\\thang\\Downloads\\Emotion\\Emotion\\speech-emotion-recognition-ravdess-data\\Actor_10\\03-01-05-01-02-02-10.wav 03-01-05-01-02-02-10.wav\n",
      "C:\\Users\\thang\\Downloads\\Emotion\\Emotion\\speech-emotion-recognition-ravdess-data\\Actor_10\\03-01-05-02-01-01-10.wav 03-01-05-02-01-01-10.wav\n",
      "C:\\Users\\thang\\Downloads\\Emotion\\Emotion\\speech-emotion-recognition-ravdess-data\\Actor_10\\03-01-05-02-01-02-10.wav 03-01-05-02-01-02-10.wav\n",
      "C:\\Users\\thang\\Downloads\\Emotion\\Emotion\\speech-emotion-recognition-ravdess-data\\Actor_10\\03-01-05-02-02-01-10.wav 03-01-05-02-02-01-10.wav\n",
      "C:\\Users\\thang\\Downloads\\Emotion\\Emotion\\speech-emotion-recognition-ravdess-data\\Actor_10\\03-01-05-02-02-02-10.wav 03-01-05-02-02-02-10.wav\n",
      "C:\\Users\\thang\\Downloads\\Emotion\\Emotion\\speech-emotion-recognition-ravdess-data\\Actor_10\\03-01-06-01-01-01-10.wav 03-01-06-01-01-01-10.wav\n",
      "C:\\Users\\thang\\Downloads\\Emotion\\Emotion\\speech-emotion-recognition-ravdess-data\\Actor_10\\03-01-06-01-01-02-10.wav 03-01-06-01-01-02-10.wav\n",
      "C:\\Users\\thang\\Downloads\\Emotion\\Emotion\\speech-emotion-recognition-ravdess-data\\Actor_10\\03-01-06-01-02-01-10.wav 03-01-06-01-02-01-10.wav\n",
      "C:\\Users\\thang\\Downloads\\Emotion\\Emotion\\speech-emotion-recognition-ravdess-data\\Actor_10\\03-01-06-01-02-02-10.wav 03-01-06-01-02-02-10.wav\n",
      "C:\\Users\\thang\\Downloads\\Emotion\\Emotion\\speech-emotion-recognition-ravdess-data\\Actor_10\\03-01-06-02-01-01-10.wav 03-01-06-02-01-01-10.wav\n",
      "C:\\Users\\thang\\Downloads\\Emotion\\Emotion\\speech-emotion-recognition-ravdess-data\\Actor_10\\03-01-06-02-01-02-10.wav 03-01-06-02-01-02-10.wav\n",
      "C:\\Users\\thang\\Downloads\\Emotion\\Emotion\\speech-emotion-recognition-ravdess-data\\Actor_10\\03-01-06-02-02-01-10.wav 03-01-06-02-02-01-10.wav\n",
      "C:\\Users\\thang\\Downloads\\Emotion\\Emotion\\speech-emotion-recognition-ravdess-data\\Actor_10\\03-01-06-02-02-02-10.wav 03-01-06-02-02-02-10.wav\n",
      "C:\\Users\\thang\\Downloads\\Emotion\\Emotion\\speech-emotion-recognition-ravdess-data\\Actor_10\\03-01-07-01-01-01-10.wav 03-01-07-01-01-01-10.wav\n",
      "C:\\Users\\thang\\Downloads\\Emotion\\Emotion\\speech-emotion-recognition-ravdess-data\\Actor_10\\03-01-07-01-01-02-10.wav 03-01-07-01-01-02-10.wav\n",
      "C:\\Users\\thang\\Downloads\\Emotion\\Emotion\\speech-emotion-recognition-ravdess-data\\Actor_10\\03-01-07-01-02-01-10.wav 03-01-07-01-02-01-10.wav\n",
      "C:\\Users\\thang\\Downloads\\Emotion\\Emotion\\speech-emotion-recognition-ravdess-data\\Actor_10\\03-01-07-01-02-02-10.wav 03-01-07-01-02-02-10.wav\n",
      "C:\\Users\\thang\\Downloads\\Emotion\\Emotion\\speech-emotion-recognition-ravdess-data\\Actor_10\\03-01-07-02-01-01-10.wav 03-01-07-02-01-01-10.wav\n",
      "C:\\Users\\thang\\Downloads\\Emotion\\Emotion\\speech-emotion-recognition-ravdess-data\\Actor_10\\03-01-07-02-01-02-10.wav 03-01-07-02-01-02-10.wav\n",
      "C:\\Users\\thang\\Downloads\\Emotion\\Emotion\\speech-emotion-recognition-ravdess-data\\Actor_10\\03-01-07-02-02-01-10.wav 03-01-07-02-02-01-10.wav\n",
      "C:\\Users\\thang\\Downloads\\Emotion\\Emotion\\speech-emotion-recognition-ravdess-data\\Actor_10\\03-01-07-02-02-02-10.wav 03-01-07-02-02-02-10.wav\n",
      "C:\\Users\\thang\\Downloads\\Emotion\\Emotion\\speech-emotion-recognition-ravdess-data\\Actor_10\\03-01-08-01-01-01-10.wav 03-01-08-01-01-01-10.wav\n",
      "C:\\Users\\thang\\Downloads\\Emotion\\Emotion\\speech-emotion-recognition-ravdess-data\\Actor_10\\03-01-08-01-01-02-10.wav 03-01-08-01-01-02-10.wav\n",
      "C:\\Users\\thang\\Downloads\\Emotion\\Emotion\\speech-emotion-recognition-ravdess-data\\Actor_10\\03-01-08-01-02-01-10.wav 03-01-08-01-02-01-10.wav\n",
      "C:\\Users\\thang\\Downloads\\Emotion\\Emotion\\speech-emotion-recognition-ravdess-data\\Actor_10\\03-01-08-01-02-02-10.wav 03-01-08-01-02-02-10.wav\n",
      "C:\\Users\\thang\\Downloads\\Emotion\\Emotion\\speech-emotion-recognition-ravdess-data\\Actor_10\\03-01-08-02-01-01-10.wav 03-01-08-02-01-01-10.wav\n",
      "C:\\Users\\thang\\Downloads\\Emotion\\Emotion\\speech-emotion-recognition-ravdess-data\\Actor_10\\03-01-08-02-01-02-10.wav 03-01-08-02-01-02-10.wav\n",
      "C:\\Users\\thang\\Downloads\\Emotion\\Emotion\\speech-emotion-recognition-ravdess-data\\Actor_10\\03-01-08-02-02-01-10.wav 03-01-08-02-02-01-10.wav\n",
      "C:\\Users\\thang\\Downloads\\Emotion\\Emotion\\speech-emotion-recognition-ravdess-data\\Actor_10\\03-01-08-02-02-02-10.wav 03-01-08-02-02-02-10.wav\n",
      "C:\\Users\\thang\\Downloads\\Emotion\\Emotion\\speech-emotion-recognition-ravdess-data\\Actor_11\\03-01-01-01-01-01-11.wav 03-01-01-01-01-01-11.wav\n",
      "C:\\Users\\thang\\Downloads\\Emotion\\Emotion\\speech-emotion-recognition-ravdess-data\\Actor_11\\03-01-01-01-01-02-11.wav 03-01-01-01-01-02-11.wav\n",
      "C:\\Users\\thang\\Downloads\\Emotion\\Emotion\\speech-emotion-recognition-ravdess-data\\Actor_11\\03-01-01-01-02-01-11.wav 03-01-01-01-02-01-11.wav\n",
      "C:\\Users\\thang\\Downloads\\Emotion\\Emotion\\speech-emotion-recognition-ravdess-data\\Actor_11\\03-01-01-01-02-02-11.wav 03-01-01-01-02-02-11.wav\n",
      "C:\\Users\\thang\\Downloads\\Emotion\\Emotion\\speech-emotion-recognition-ravdess-data\\Actor_11\\03-01-02-01-01-01-11.wav 03-01-02-01-01-01-11.wav"
     ]
    },
    {
     "name": "stderr",
     "output_type": "stream",
     "text": [
      "C:\\Users\\thang\\AppData\\Local\\Temp\\ipykernel_14300\\1750813818.py:16: FutureWarning: Pass y=[0.0000000e+00 1.5258789e-04 1.2207031e-04 ... 3.0517578e-05 0.0000000e+00\n",
      " 0.0000000e+00] as keyword args. From version 0.10 passing these as positional arguments will result in an error\n",
      "  mel=np.mean(librosa.feature.melspectrogram(X, sr=sample_rate).T,axis=0)\n",
      "C:\\Users\\thang\\AppData\\Local\\Temp\\ipykernel_14300\\1750813818.py:16: FutureWarning: Pass y=[1.5258789e-04 1.5258789e-04 1.8310547e-04 ... 3.0517578e-05 3.0517578e-05\n",
      " 0.0000000e+00] as keyword args. From version 0.10 passing these as positional arguments will result in an error\n",
      "  mel=np.mean(librosa.feature.melspectrogram(X, sr=sample_rate).T,axis=0)\n",
      "C:\\Users\\thang\\AppData\\Local\\Temp\\ipykernel_14300\\1750813818.py:16: FutureWarning: Pass y=[-3.0517578e-05  0.0000000e+00  0.0000000e+00 ... -3.0517578e-05\n",
      " -3.0517578e-05  0.0000000e+00] as keyword args. From version 0.10 passing these as positional arguments will result in an error\n",
      "  mel=np.mean(librosa.feature.melspectrogram(X, sr=sample_rate).T,axis=0)\n",
      "C:\\Users\\thang\\AppData\\Local\\Temp\\ipykernel_14300\\1750813818.py:16: FutureWarning: Pass y=[-9.1552734e-05  3.0517578e-05  6.1035156e-05 ... -3.0517578e-05\n",
      "  6.1035156e-05 -3.0517578e-05] as keyword args. From version 0.10 passing these as positional arguments will result in an error\n",
      "  mel=np.mean(librosa.feature.melspectrogram(X, sr=sample_rate).T,axis=0)\n",
      "C:\\Users\\thang\\AppData\\Local\\Temp\\ipykernel_14300\\1750813818.py:16: FutureWarning: Pass y=[ 1.2207031e-04  1.2207031e-04  1.2207031e-04 ... -9.1552734e-05\n",
      " -9.1552734e-05 -9.1552734e-05] as keyword args. From version 0.10 passing these as positional arguments will result in an error\n",
      "  mel=np.mean(librosa.feature.melspectrogram(X, sr=sample_rate).T,axis=0)\n",
      "C:\\Users\\thang\\AppData\\Local\\Temp\\ipykernel_14300\\1750813818.py:16: FutureWarning: Pass y=[ 0.0000000e+00 -3.0517578e-05  0.0000000e+00 ...  0.0000000e+00\n",
      "  0.0000000e+00  0.0000000e+00] as keyword args. From version 0.10 passing these as positional arguments will result in an error\n",
      "  mel=np.mean(librosa.feature.melspectrogram(X, sr=sample_rate).T,axis=0)\n"
     ]
    },
    {
     "name": "stdout",
     "output_type": "stream",
     "text": [
      "\n",
      "C:\\Users\\thang\\Downloads\\Emotion\\Emotion\\speech-emotion-recognition-ravdess-data\\Actor_11\\03-01-02-01-01-02-11.wav 03-01-02-01-01-02-11.wav\n",
      "C:\\Users\\thang\\Downloads\\Emotion\\Emotion\\speech-emotion-recognition-ravdess-data\\Actor_11\\03-01-02-01-02-01-11.wav 03-01-02-01-02-01-11.wav\n",
      "C:\\Users\\thang\\Downloads\\Emotion\\Emotion\\speech-emotion-recognition-ravdess-data\\Actor_11\\03-01-02-01-02-02-11.wav 03-01-02-01-02-02-11.wav\n",
      "C:\\Users\\thang\\Downloads\\Emotion\\Emotion\\speech-emotion-recognition-ravdess-data\\Actor_11\\03-01-02-02-01-01-11.wav 03-01-02-02-01-01-11.wav\n",
      "C:\\Users\\thang\\Downloads\\Emotion\\Emotion\\speech-emotion-recognition-ravdess-data\\Actor_11\\03-01-02-02-01-02-11.wav 03-01-02-02-01-02-11.wav\n",
      "C:\\Users\\thang\\Downloads\\Emotion\\Emotion\\speech-emotion-recognition-ravdess-data\\Actor_11\\03-01-02-02-02-01-11.wav 03-01-02-02-02-01-11.wav\n"
     ]
    },
    {
     "name": "stderr",
     "output_type": "stream",
     "text": [
      "C:\\Users\\thang\\AppData\\Local\\Temp\\ipykernel_14300\\1750813818.py:16: FutureWarning: Pass y=[6.1035156e-05 9.1552734e-05 6.1035156e-05 ... 3.0517578e-05 6.1035156e-05\n",
      " 6.1035156e-05] as keyword args. From version 0.10 passing these as positional arguments will result in an error\n",
      "  mel=np.mean(librosa.feature.melspectrogram(X, sr=sample_rate).T,axis=0)\n",
      "C:\\Users\\thang\\AppData\\Local\\Temp\\ipykernel_14300\\1750813818.py:16: FutureWarning: Pass y=[-1.2207031e-04 -6.1035156e-05 -9.1552734e-05 ... -3.0517578e-05\n",
      " -6.1035156e-05 -6.1035156e-05] as keyword args. From version 0.10 passing these as positional arguments will result in an error\n",
      "  mel=np.mean(librosa.feature.melspectrogram(X, sr=sample_rate).T,axis=0)\n",
      "C:\\Users\\thang\\AppData\\Local\\Temp\\ipykernel_14300\\1750813818.py:16: FutureWarning: Pass y=[ 0.00018311  0.00018311  0.00018311 ... -0.00015259 -0.00015259\n",
      " -0.00018311] as keyword args. From version 0.10 passing these as positional arguments will result in an error\n",
      "  mel=np.mean(librosa.feature.melspectrogram(X, sr=sample_rate).T,axis=0)\n",
      "C:\\Users\\thang\\AppData\\Local\\Temp\\ipykernel_14300\\1750813818.py:16: FutureWarning: Pass y=[-0.00012207 -0.00012207 -0.00012207 ...  0.          0.\n",
      "  0.        ] as keyword args. From version 0.10 passing these as positional arguments will result in an error\n",
      "  mel=np.mean(librosa.feature.melspectrogram(X, sr=sample_rate).T,axis=0)\n",
      "C:\\Users\\thang\\AppData\\Local\\Temp\\ipykernel_14300\\1750813818.py:16: FutureWarning: Pass y=[3.0517578e-05 6.1035156e-05 6.1035156e-05 ... 3.0517578e-05 3.0517578e-05\n",
      " 3.0517578e-05] as keyword args. From version 0.10 passing these as positional arguments will result in an error\n",
      "  mel=np.mean(librosa.feature.melspectrogram(X, sr=sample_rate).T,axis=0)\n",
      "C:\\Users\\thang\\AppData\\Local\\Temp\\ipykernel_14300\\1750813818.py:16: FutureWarning: Pass y=[-9.1552734e-05 -9.1552734e-05 -6.1035156e-05 ... -3.0517578e-05\n",
      " -6.1035156e-05 -6.1035156e-05] as keyword args. From version 0.10 passing these as positional arguments will result in an error\n",
      "  mel=np.mean(librosa.feature.melspectrogram(X, sr=sample_rate).T,axis=0)\n"
     ]
    },
    {
     "name": "stdout",
     "output_type": "stream",
     "text": [
      "C:\\Users\\thang\\Downloads\\Emotion\\Emotion\\speech-emotion-recognition-ravdess-data\\Actor_11\\03-01-02-02-02-02-11.wav 03-01-02-02-02-02-11.wav\n",
      "C:\\Users\\thang\\Downloads\\Emotion\\Emotion\\speech-emotion-recognition-ravdess-data\\Actor_11\\03-01-03-01-01-01-11.wav 03-01-03-01-01-01-11.wav\n",
      "C:\\Users\\thang\\Downloads\\Emotion\\Emotion\\speech-emotion-recognition-ravdess-data\\Actor_11\\03-01-03-01-01-02-11.wav 03-01-03-01-01-02-11.wav\n",
      "C:\\Users\\thang\\Downloads\\Emotion\\Emotion\\speech-emotion-recognition-ravdess-data\\Actor_11\\03-01-03-01-02-01-11.wav 03-01-03-01-02-01-11.wav\n",
      "C:\\Users\\thang\\Downloads\\Emotion\\Emotion\\speech-emotion-recognition-ravdess-data\\Actor_11\\03-01-03-01-02-02-11.wav 03-01-03-01-02-02-11.wav\n",
      "C:\\Users\\thang\\Downloads\\Emotion\\Emotion\\speech-emotion-recognition-ravdess-data\\Actor_11\\03-01-03-02-01-01-11.wav 03-01-03-02-01-01-11.wav\n",
      "C:\\Users\\thang\\Downloads\\Emotion\\Emotion\\speech-emotion-recognition-ravdess-data\\Actor_11\\03-01-03-02-01-02-11.wav 03-01-03-02-01-02-11.wav\n"
     ]
    },
    {
     "name": "stderr",
     "output_type": "stream",
     "text": [
      "C:\\Users\\thang\\AppData\\Local\\Temp\\ipykernel_14300\\1750813818.py:16: FutureWarning: Pass y=[ 0.0000000e+00  3.0517578e-05  3.0517578e-05 ... -3.0517578e-05\n",
      " -3.0517578e-05 -3.0517578e-05] as keyword args. From version 0.10 passing these as positional arguments will result in an error\n",
      "  mel=np.mean(librosa.feature.melspectrogram(X, sr=sample_rate).T,axis=0)\n",
      "C:\\Users\\thang\\AppData\\Local\\Temp\\ipykernel_14300\\1750813818.py:16: FutureWarning: Pass y=[3.0517578e-05 3.0517578e-05 3.0517578e-05 ... 6.1035156e-05 6.1035156e-05\n",
      " 6.1035156e-05] as keyword args. From version 0.10 passing these as positional arguments will result in an error\n",
      "  mel=np.mean(librosa.feature.melspectrogram(X, sr=sample_rate).T,axis=0)\n",
      "C:\\Users\\thang\\AppData\\Local\\Temp\\ipykernel_14300\\1750813818.py:16: FutureWarning: Pass y=[0.0000000e+00 0.0000000e+00 0.0000000e+00 ... 9.1552734e-05 6.1035156e-05\n",
      " 9.1552734e-05] as keyword args. From version 0.10 passing these as positional arguments will result in an error\n",
      "  mel=np.mean(librosa.feature.melspectrogram(X, sr=sample_rate).T,axis=0)\n",
      "C:\\Users\\thang\\AppData\\Local\\Temp\\ipykernel_14300\\1750813818.py:16: FutureWarning: Pass y=[ 0.0000000e+00 -3.0517578e-05 -3.0517578e-05 ...  3.0517578e-05\n",
      "  2.1362305e-04  1.2207031e-04] as keyword args. From version 0.10 passing these as positional arguments will result in an error\n",
      "  mel=np.mean(librosa.feature.melspectrogram(X, sr=sample_rate).T,axis=0)\n",
      "C:\\Users\\thang\\AppData\\Local\\Temp\\ipykernel_14300\\1750813818.py:16: FutureWarning: Pass y=[1.2207031e-04 9.1552734e-05 9.1552734e-05 ... 1.8310547e-04 1.8310547e-04\n",
      " 1.8310547e-04] as keyword args. From version 0.10 passing these as positional arguments will result in an error\n",
      "  mel=np.mean(librosa.feature.melspectrogram(X, sr=sample_rate).T,axis=0)\n"
     ]
    },
    {
     "name": "stdout",
     "output_type": "stream",
     "text": [
      "C:\\Users\\thang\\Downloads\\Emotion\\Emotion\\speech-emotion-recognition-ravdess-data\\Actor_11\\03-01-03-02-02-01-11.wav 03-01-03-02-02-01-11.wav\n",
      "C:\\Users\\thang\\Downloads\\Emotion\\Emotion\\speech-emotion-recognition-ravdess-data\\Actor_11\\03-01-03-02-02-02-11.wav 03-01-03-02-02-02-11.wav\n",
      "C:\\Users\\thang\\Downloads\\Emotion\\Emotion\\speech-emotion-recognition-ravdess-data\\Actor_11\\03-01-04-01-01-01-11.wav 03-01-04-01-01-01-11.wav\n",
      "C:\\Users\\thang\\Downloads\\Emotion\\Emotion\\speech-emotion-recognition-ravdess-data\\Actor_11\\03-01-04-01-01-02-11.wav 03-01-04-01-01-02-11.wav\n",
      "C:\\Users\\thang\\Downloads\\Emotion\\Emotion\\speech-emotion-recognition-ravdess-data\\Actor_11\\03-01-04-01-02-01-11.wav 03-01-04-01-02-01-11.wav\n",
      "C:\\Users\\thang\\Downloads\\Emotion\\Emotion\\speech-emotion-recognition-ravdess-data\\Actor_11\\03-01-04-01-02-02-11.wav 03-01-04-01-02-02-11.wav\n",
      "C:\\Users\\thang\\Downloads\\Emotion\\Emotion\\speech-emotion-recognition-ravdess-data\\Actor_11\\03-01-04-02-01-01-11.wav 03-01-04-02-01-01-11.wav\n",
      "C:\\Users\\thang\\Downloads\\Emotion\\Emotion\\speech-emotion-recognition-ravdess-data\\Actor_11\\03-01-04-02-01-02-11.wav 03-01-04-02-01-02-11.wav\n",
      "C:\\Users\\thang\\Downloads\\Emotion\\Emotion\\speech-emotion-recognition-ravdess-data\\Actor_11\\03-01-04-02-02-01-11.wav 03-01-04-02-02-01-11.wav\n",
      "C:\\Users\\thang\\Downloads\\Emotion\\Emotion\\speech-emotion-recognition-ravdess-data\\Actor_11\\03-01-04-02-02-02-11.wav 03-01-04-02-02-02-11.wav\n",
      "C:\\Users\\thang\\Downloads\\Emotion\\Emotion\\speech-emotion-recognition-ravdess-data\\Actor_11\\03-01-05-01-01-01-11.wav 03-01-05-01-01-01-11.wav\n",
      "C:\\Users\\thang\\Downloads\\Emotion\\Emotion\\speech-emotion-recognition-ravdess-data\\Actor_11\\03-01-05-01-01-02-11.wav 03-01-05-01-01-02-11.wav\n",
      "C:\\Users\\thang\\Downloads\\Emotion\\Emotion\\speech-emotion-recognition-ravdess-data\\Actor_11\\03-01-05-01-02-01-11.wav 03-01-05-01-02-01-11.wav\n",
      "C:\\Users\\thang\\Downloads\\Emotion\\Emotion\\speech-emotion-recognition-ravdess-data\\Actor_11\\03-01-05-01-02-02-11.wav 03-01-05-01-02-02-11.wav\n",
      "C:\\Users\\thang\\Downloads\\Emotion\\Emotion\\speech-emotion-recognition-ravdess-data\\Actor_11\\03-01-05-02-01-01-11.wav 03-01-05-02-01-01-11.wav\n"
     ]
    },
    {
     "name": "stderr",
     "output_type": "stream",
     "text": [
      "C:\\Users\\thang\\AppData\\Local\\Temp\\ipykernel_14300\\1750813818.py:16: FutureWarning: Pass y=[6.1035156e-05 9.1552734e-05 9.1552734e-05 ... 3.0517578e-05 3.0517578e-05\n",
      " 3.0517578e-05] as keyword args. From version 0.10 passing these as positional arguments will result in an error\n",
      "  mel=np.mean(librosa.feature.melspectrogram(X, sr=sample_rate).T,axis=0)\n",
      "C:\\Users\\thang\\AppData\\Local\\Temp\\ipykernel_14300\\1750813818.py:16: FutureWarning: Pass y=[-1.2207031e-04 -1.5258789e-04 -1.5258789e-04 ...  6.1035156e-05\n",
      "  6.1035156e-05  9.1552734e-05] as keyword args. From version 0.10 passing these as positional arguments will result in an error\n",
      "  mel=np.mean(librosa.feature.melspectrogram(X, sr=sample_rate).T,axis=0)\n",
      "C:\\Users\\thang\\AppData\\Local\\Temp\\ipykernel_14300\\1750813818.py:16: FutureWarning: Pass y=[-3.0517578e-05 -3.0517578e-05 -3.0517578e-05 ...  0.0000000e+00\n",
      "  0.0000000e+00  0.0000000e+00] as keyword args. From version 0.10 passing these as positional arguments will result in an error\n",
      "  mel=np.mean(librosa.feature.melspectrogram(X, sr=sample_rate).T,axis=0)\n",
      "C:\\Users\\thang\\AppData\\Local\\Temp\\ipykernel_14300\\1750813818.py:16: FutureWarning: Pass y=[-3.0517578e-05 -6.1035156e-05 -6.1035156e-05 ...  3.0517578e-05\n",
      "  3.0517578e-05  3.0517578e-05] as keyword args. From version 0.10 passing these as positional arguments will result in an error\n",
      "  mel=np.mean(librosa.feature.melspectrogram(X, sr=sample_rate).T,axis=0)\n",
      "C:\\Users\\thang\\AppData\\Local\\Temp\\ipykernel_14300\\1750813818.py:16: FutureWarning: Pass y=[ 0.          0.          0.         ... -0.00027466 -0.00027466\n",
      " -0.00027466] as keyword args. From version 0.10 passing these as positional arguments will result in an error\n",
      "  mel=np.mean(librosa.feature.melspectrogram(X, sr=sample_rate).T,axis=0)\n",
      "C:\\Users\\thang\\AppData\\Local\\Temp\\ipykernel_14300\\1750813818.py:16: FutureWarning: Pass y=[-1.2207031e-04 -9.1552734e-05 -6.1035156e-05 ... -1.2207031e-04\n",
      " -9.1552734e-05 -9.1552734e-05] as keyword args. From version 0.10 passing these as positional arguments will result in an error\n",
      "  mel=np.mean(librosa.feature.melspectrogram(X, sr=sample_rate).T,axis=0)\n"
     ]
    },
    {
     "name": "stdout",
     "output_type": "stream",
     "text": [
      "C:\\Users\\thang\\Downloads\\Emotion\\Emotion\\speech-emotion-recognition-ravdess-data\\Actor_11\\03-01-05-02-01-02-11.wav 03-01-05-02-01-02-11.wav\n",
      "C:\\Users\\thang\\Downloads\\Emotion\\Emotion\\speech-emotion-recognition-ravdess-data\\Actor_11\\03-01-05-02-02-01-11.wav 03-01-05-02-02-01-11.wav\n",
      "C:\\Users\\thang\\Downloads\\Emotion\\Emotion\\speech-emotion-recognition-ravdess-data\\Actor_11\\03-01-05-02-02-02-11.wav 03-01-05-02-02-02-11.wav\n",
      "C:\\Users\\thang\\Downloads\\Emotion\\Emotion\\speech-emotion-recognition-ravdess-data\\Actor_11\\03-01-06-01-01-01-11.wav 03-01-06-01-01-01-11.wav\n",
      "C:\\Users\\thang\\Downloads\\Emotion\\Emotion\\speech-emotion-recognition-ravdess-data\\Actor_11\\03-01-06-01-01-02-11.wav 03-01-06-01-01-02-11.wav\n",
      "C:\\Users\\thang\\Downloads\\Emotion\\Emotion\\speech-emotion-recognition-ravdess-data\\Actor_11\\03-01-06-01-02-01-11.wav 03-01-06-01-02-01-11.wav\n",
      "C:\\Users\\thang\\Downloads\\Emotion\\Emotion\\speech-emotion-recognition-ravdess-data\\Actor_11\\03-01-06-01-02-02-11.wav 03-01-06-01-02-02-11.wav\n",
      "C:\\Users\\thang\\Downloads\\Emotion\\Emotion\\speech-emotion-recognition-ravdess-data\\Actor_11\\03-01-06-02-01-01-11.wav 03-01-06-02-01-01-11.wav\n",
      "C:\\Users\\thang\\Downloads\\Emotion\\Emotion\\speech-emotion-recognition-ravdess-data\\Actor_11\\03-01-06-02-01-02-11.wav 03-01-06-02-01-02-11.wav\n",
      "C:\\Users\\thang\\Downloads\\Emotion\\Emotion\\speech-emotion-recognition-ravdess-data\\Actor_11\\03-01-06-02-02-01-11.wav 03-01-06-02-02-01-11.wav\n",
      "C:\\Users\\thang\\Downloads\\Emotion\\Emotion\\speech-emotion-recognition-ravdess-data\\Actor_11\\03-01-06-02-02-02-11.wav 03-01-06-02-02-02-11.wav\n",
      "C:\\Users\\thang\\Downloads\\Emotion\\Emotion\\speech-emotion-recognition-ravdess-data\\Actor_11\\03-01-07-01-01-01-11.wav 03-01-07-01-01-01-11.wav\n",
      "C:\\Users\\thang\\Downloads\\Emotion\\Emotion\\speech-emotion-recognition-ravdess-data\\Actor_11\\03-01-07-01-01-02-11.wav 03-01-07-01-01-02-11.wav\n",
      "C:\\Users\\thang\\Downloads\\Emotion\\Emotion\\speech-emotion-recognition-ravdess-data\\Actor_11\\03-01-07-01-02-01-11.wav 03-01-07-01-02-01-11.wav\n",
      "C:\\Users\\thang\\Downloads\\Emotion\\Emotion\\speech-emotion-recognition-ravdess-data\\Actor_11\\03-01-07-01-02-02-11.wav 03-01-07-01-02-02-11.wav\n",
      "C:\\Users\\thang\\Downloads\\Emotion\\Emotion\\speech-emotion-recognition-ravdess-data\\Actor_11\\03-01-07-02-01-01-11.wav 03-01-07-02-01-01-11.wav\n",
      "C:\\Users\\thang\\Downloads\\Emotion\\Emotion\\speech-emotion-recognition-ravdess-data\\Actor_11\\03-01-07-02-01-02-11.wav 03-01-07-02-01-02-11.wav\n",
      "C:\\Users\\thang\\Downloads\\Emotion\\Emotion\\speech-emotion-recognition-ravdess-data\\Actor_11\\03-01-07-02-02-01-11.wav 03-01-07-02-02-01-11.wav\n",
      "C:\\Users\\thang\\Downloads\\Emotion\\Emotion\\speech-emotion-recognition-ravdess-data\\Actor_11\\03-01-07-02-02-02-11.wav 03-01-07-02-02-02-11.wav\n",
      "C:\\Users\\thang\\Downloads\\Emotion\\Emotion\\speech-emotion-recognition-ravdess-data\\Actor_11\\03-01-08-01-01-01-11.wav 03-01-08-01-01-01-11.wav\n",
      "C:\\Users\\thang\\Downloads\\Emotion\\Emotion\\speech-emotion-recognition-ravdess-data\\Actor_11\\03-01-08-01-01-02-11.wav 03-01-08-01-01-02-11.wav\n",
      "C:\\Users\\thang\\Downloads\\Emotion\\Emotion\\speech-emotion-recognition-ravdess-data\\Actor_11\\03-01-08-01-02-01-11.wav 03-01-08-01-02-01-11.wav\n",
      "C:\\Users\\thang\\Downloads\\Emotion\\Emotion\\speech-emotion-recognition-ravdess-data\\Actor_11\\03-01-08-01-02-02-11.wav 03-01-08-01-02-02-11.wav\n",
      "C:\\Users\\thang\\Downloads\\Emotion\\Emotion\\speech-emotion-recognition-ravdess-data\\Actor_11\\03-01-08-02-01-01-11.wav 03-01-08-02-01-01-11.wav\n",
      "C:\\Users\\thang\\Downloads\\Emotion\\Emotion\\speech-emotion-recognition-ravdess-data\\Actor_11\\03-01-08-02-01-02-11.wav 03-01-08-02-01-02-11.wav\n",
      "C:\\Users\\thang\\Downloads\\Emotion\\Emotion\\speech-emotion-recognition-ravdess-data\\Actor_11\\03-01-08-02-02-01-11.wav 03-01-08-02-02-01-11.wav\n",
      "C:\\Users\\thang\\Downloads\\Emotion\\Emotion\\speech-emotion-recognition-ravdess-data\\Actor_11\\03-01-08-02-02-02-11.wav 03-01-08-02-02-02-11.wav\n",
      "C:\\Users\\thang\\Downloads\\Emotion\\Emotion\\speech-emotion-recognition-ravdess-data\\Actor_12\\03-01-01-01-01-01-12.wav 03-01-01-01-01-01-12.wav\n",
      "C:\\Users\\thang\\Downloads\\Emotion\\Emotion\\speech-emotion-recognition-ravdess-data\\Actor_12\\03-01-01-01-01-02-12.wav 03-01-01-01-01-02-12.wav\n",
      "C:\\Users\\thang\\Downloads\\Emotion\\Emotion\\speech-emotion-recognition-ravdess-data\\Actor_12\\03-01-01-01-02-01-12.wav 03-01-01-01-02-01-12.wav\n",
      "C:\\Users\\thang\\Downloads\\Emotion\\Emotion\\speech-emotion-recognition-ravdess-data\\Actor_12\\03-01-01-01-02-02-12.wav 03-01-01-01-02-02-12.wav\n",
      "C:\\Users\\thang\\Downloads\\Emotion\\Emotion\\speech-emotion-recognition-ravdess-data\\Actor_12\\03-01-02-01-01-01-12.wav 03-01-02-01-01-01-12.wav\n",
      "C:\\Users\\thang\\Downloads\\Emotion\\Emotion\\speech-emotion-recognition-ravdess-data\\Actor_12\\03-01-02-01-01-02-12.wav 03-01-02-01-01-02-12.wav\n",
      "C:\\Users\\thang\\Downloads\\Emotion\\Emotion\\speech-emotion-recognition-ravdess-data\\Actor_12\\03-01-02-01-02-01-12.wav 03-01-02-01-02-01-12.wav\n",
      "C:\\Users\\thang\\Downloads\\Emotion\\Emotion\\speech-emotion-recognition-ravdess-data\\Actor_12\\03-01-02-01-02-02-12.wav 03-01-02-01-02-02-12.wav\n"
     ]
    },
    {
     "name": "stderr",
     "output_type": "stream",
     "text": [
      "C:\\Users\\thang\\AppData\\Local\\Temp\\ipykernel_14300\\1750813818.py:16: FutureWarning: Pass y=[ 0.0000000e+00  0.0000000e+00  0.0000000e+00 ...  0.0000000e+00\n",
      " -3.0517578e-05  0.0000000e+00] as keyword args. From version 0.10 passing these as positional arguments will result in an error\n",
      "  mel=np.mean(librosa.feature.melspectrogram(X, sr=sample_rate).T,axis=0)\n",
      "C:\\Users\\thang\\AppData\\Local\\Temp\\ipykernel_14300\\1750813818.py:16: FutureWarning: Pass y=[-6.1035156e-05 -6.1035156e-05 -3.0517578e-05 ... -6.1035156e-05\n",
      " -9.1552734e-05 -3.0517578e-05] as keyword args. From version 0.10 passing these as positional arguments will result in an error\n",
      "  mel=np.mean(librosa.feature.melspectrogram(X, sr=sample_rate).T,axis=0)\n",
      "C:\\Users\\thang\\AppData\\Local\\Temp\\ipykernel_14300\\1750813818.py:16: FutureWarning: Pass y=[ 0.0000000e+00  0.0000000e+00  0.0000000e+00 ... -3.0517578e-05\n",
      " -6.1035156e-05 -6.1035156e-05] as keyword args. From version 0.10 passing these as positional arguments will result in an error\n",
      "  mel=np.mean(librosa.feature.melspectrogram(X, sr=sample_rate).T,axis=0)\n"
     ]
    },
    {
     "name": "stdout",
     "output_type": "stream",
     "text": [
      "C:\\Users\\thang\\Downloads\\Emotion\\Emotion\\speech-emotion-recognition-ravdess-data\\Actor_12\\03-01-02-02-01-01-12.wav 03-01-02-02-01-01-12.wav\n",
      "C:\\Users\\thang\\Downloads\\Emotion\\Emotion\\speech-emotion-recognition-ravdess-data\\Actor_12\\03-01-02-02-01-02-12.wav 03-01-02-02-01-02-12.wav\n",
      "C:\\Users\\thang\\Downloads\\Emotion\\Emotion\\speech-emotion-recognition-ravdess-data\\Actor_12\\03-01-02-02-02-01-12.wav 03-01-02-02-02-01-12.wav\n",
      "C:\\Users\\thang\\Downloads\\Emotion\\Emotion\\speech-emotion-recognition-ravdess-data\\Actor_12\\03-01-02-02-02-02-12.wav 03-01-02-02-02-02-12.wav\n",
      "C:\\Users\\thang\\Downloads\\Emotion\\Emotion\\speech-emotion-recognition-ravdess-data\\Actor_12\\03-01-03-01-01-01-12.wav 03-01-03-01-01-01-12.wav\n",
      "C:\\Users\\thang\\Downloads\\Emotion\\Emotion\\speech-emotion-recognition-ravdess-data\\Actor_12\\03-01-03-01-01-02-12.wav 03-01-03-01-01-02-12.wav\n",
      "C:\\Users\\thang\\Downloads\\Emotion\\Emotion\\speech-emotion-recognition-ravdess-data\\Actor_12\\03-01-03-01-02-01-12.wav 03-01-03-01-02-01-12.wav\n",
      "C:\\Users\\thang\\Downloads\\Emotion\\Emotion\\speech-emotion-recognition-ravdess-data\\Actor_12\\03-01-03-01-02-02-12.wav 03-01-03-01-02-02-12.wav\n",
      "C:\\Users\\thang\\Downloads\\Emotion\\Emotion\\speech-emotion-recognition-ravdess-data\\Actor_12\\03-01-03-02-01-01-12.wav 03-01-03-02-01-01-12.wav\n",
      "C:\\Users\\thang\\Downloads\\Emotion\\Emotion\\speech-emotion-recognition-ravdess-data\\Actor_12\\03-01-03-02-01-02-12.wav 03-01-03-02-01-02-12.wav\n",
      "C:\\Users\\thang\\Downloads\\Emotion\\Emotion\\speech-emotion-recognition-ravdess-data\\Actor_12\\03-01-03-02-02-01-12.wav 03-01-03-02-02-01-12.wav\n",
      "C:\\Users\\thang\\Downloads\\Emotion\\Emotion\\speech-emotion-recognition-ravdess-data\\Actor_12\\03-01-03-02-02-02-12.wav 03-01-03-02-02-02-12.wav\n",
      "C:\\Users\\thang\\Downloads\\Emotion\\Emotion\\speech-emotion-recognition-ravdess-data\\Actor_12\\03-01-04-01-01-01-12.wav 03-01-04-01-01-01-12.wav\n",
      "C:\\Users\\thang\\Downloads\\Emotion\\Emotion\\speech-emotion-recognition-ravdess-data\\Actor_12\\03-01-04-01-01-02-12.wav 03-01-04-01-01-02-12.wav\n",
      "C:\\Users\\thang\\Downloads\\Emotion\\Emotion\\speech-emotion-recognition-ravdess-data\\Actor_12\\03-01-04-01-02-01-12.wav 03-01-04-01-02-01-12.wav\n",
      "C:\\Users\\thang\\Downloads\\Emotion\\Emotion\\speech-emotion-recognition-ravdess-data\\Actor_12\\03-01-04-01-02-02-12.wav 03-01-04-01-02-02-12.wav\n",
      "C:\\Users\\thang\\Downloads\\Emotion\\Emotion\\speech-emotion-recognition-ravdess-data\\Actor_12\\03-01-04-02-01-01-12.wav 03-01-04-02-01-01-12.wav\n",
      "C:\\Users\\thang\\Downloads\\Emotion\\Emotion\\speech-emotion-recognition-ravdess-data\\Actor_12\\03-01-04-02-01-02-12.wav 03-01-04-02-01-02-12.wav\n",
      "C:\\Users\\thang\\Downloads\\Emotion\\Emotion\\speech-emotion-recognition-ravdess-data\\Actor_12\\03-01-04-02-02-01-12.wav 03-01-04-02-02-01-12.wav\n",
      "C:\\Users\\thang\\Downloads\\Emotion\\Emotion\\speech-emotion-recognition-ravdess-data\\Actor_12\\03-01-04-02-02-02-12.wav 03-01-04-02-02-02-12.wav\n",
      "C:\\Users\\thang\\Downloads\\Emotion\\Emotion\\speech-emotion-recognition-ravdess-data\\Actor_12\\03-01-05-01-01-01-12.wav 03-01-05-01-01-01-12.wav\n",
      "C:\\Users\\thang\\Downloads\\Emotion\\Emotion\\speech-emotion-recognition-ravdess-data\\Actor_12\\03-01-05-01-01-02-12.wav 03-01-05-01-01-02-12.wav\n"
     ]
    },
    {
     "name": "stderr",
     "output_type": "stream",
     "text": [
      "C:\\Users\\thang\\AppData\\Local\\Temp\\ipykernel_14300\\1750813818.py:16: FutureWarning: Pass y=[0.0000000e+00 0.0000000e+00 0.0000000e+00 ... 3.0517578e-05 3.0517578e-05\n",
      " 6.1035156e-05] as keyword args. From version 0.10 passing these as positional arguments will result in an error\n",
      "  mel=np.mean(librosa.feature.melspectrogram(X, sr=sample_rate).T,axis=0)\n",
      "C:\\Users\\thang\\AppData\\Local\\Temp\\ipykernel_14300\\1750813818.py:16: FutureWarning: Pass y=[ 0.0000000e+00 -3.0517578e-05  0.0000000e+00 ...  3.0517578e-05\n",
      "  3.0517578e-05  3.0517578e-05] as keyword args. From version 0.10 passing these as positional arguments will result in an error\n",
      "  mel=np.mean(librosa.feature.melspectrogram(X, sr=sample_rate).T,axis=0)\n",
      "C:\\Users\\thang\\AppData\\Local\\Temp\\ipykernel_14300\\1750813818.py:16: FutureWarning: Pass y=[ 0.          0.          0.         ... -0.00021362 -0.00024414\n",
      " -0.00018311] as keyword args. From version 0.10 passing these as positional arguments will result in an error\n",
      "  mel=np.mean(librosa.feature.melspectrogram(X, sr=sample_rate).T,axis=0)\n"
     ]
    },
    {
     "name": "stdout",
     "output_type": "stream",
     "text": [
      "C:\\Users\\thang\\Downloads\\Emotion\\Emotion\\speech-emotion-recognition-ravdess-data\\Actor_12\\03-01-05-01-02-01-12.wav 03-01-05-01-02-01-12.wav\n",
      "C:\\Users\\thang\\Downloads\\Emotion\\Emotion\\speech-emotion-recognition-ravdess-data\\Actor_12\\03-01-05-01-02-02-12.wav 03-01-05-01-02-02-12.wav\n",
      "C:\\Users\\thang\\Downloads\\Emotion\\Emotion\\speech-emotion-recognition-ravdess-data\\Actor_12\\03-01-05-02-01-01-12.wav 03-01-05-02-01-01-12.wav\n",
      "C:\\Users\\thang\\Downloads\\Emotion\\Emotion\\speech-emotion-recognition-ravdess-data\\Actor_12\\03-01-05-02-01-02-12.wav 03-01-05-02-01-02-12.wav\n",
      "C:\\Users\\thang\\Downloads\\Emotion\\Emotion\\speech-emotion-recognition-ravdess-data\\Actor_12\\03-01-05-02-02-01-12.wav 03-01-05-02-02-01-12.wav\n"
     ]
    },
    {
     "name": "stderr",
     "output_type": "stream",
     "text": [
      "C:\\Users\\thang\\AppData\\Local\\Temp\\ipykernel_14300\\1750813818.py:16: FutureWarning: Pass y=[ 3.0517578e-05  3.0517578e-05  0.0000000e+00 ... -3.0517578e-05\n",
      " -3.0517578e-05 -3.0517578e-05] as keyword args. From version 0.10 passing these as positional arguments will result in an error\n",
      "  mel=np.mean(librosa.feature.melspectrogram(X, sr=sample_rate).T,axis=0)\n",
      "C:\\Users\\thang\\AppData\\Local\\Temp\\ipykernel_14300\\1750813818.py:16: FutureWarning: Pass y=[ 0.          0.          0.         ... -0.00152588 -0.00149536\n",
      " -0.00149536] as keyword args. From version 0.10 passing these as positional arguments will result in an error\n",
      "  mel=np.mean(librosa.feature.melspectrogram(X, sr=sample_rate).T,axis=0)\n",
      "C:\\Users\\thang\\AppData\\Local\\Temp\\ipykernel_14300\\1750813818.py:16: FutureWarning: Pass y=[0.         0.         0.         ... 0.00283813 0.0027771  0.0027771 ] as keyword args. From version 0.10 passing these as positional arguments will result in an error\n",
      "  mel=np.mean(librosa.feature.melspectrogram(X, sr=sample_rate).T,axis=0)\n",
      "C:\\Users\\thang\\AppData\\Local\\Temp\\ipykernel_14300\\1750813818.py:16: FutureWarning: Pass y=[ 0.0000000e+00  0.0000000e+00  0.0000000e+00 ... -6.1035156e-05\n",
      " -6.1035156e-05 -6.1035156e-05] as keyword args. From version 0.10 passing these as positional arguments will result in an error\n",
      "  mel=np.mean(librosa.feature.melspectrogram(X, sr=sample_rate).T,axis=0)\n"
     ]
    },
    {
     "name": "stdout",
     "output_type": "stream",
     "text": [
      "C:\\Users\\thang\\Downloads\\Emotion\\Emotion\\speech-emotion-recognition-ravdess-data\\Actor_12\\03-01-05-02-02-02-12.wav 03-01-05-02-02-02-12.wav\n",
      "C:\\Users\\thang\\Downloads\\Emotion\\Emotion\\speech-emotion-recognition-ravdess-data\\Actor_12\\03-01-06-01-01-01-12.wav 03-01-06-01-01-01-12.wav\n",
      "C:\\Users\\thang\\Downloads\\Emotion\\Emotion\\speech-emotion-recognition-ravdess-data\\Actor_12\\03-01-06-01-01-02-12.wav 03-01-06-01-01-02-12.wav\n",
      "C:\\Users\\thang\\Downloads\\Emotion\\Emotion\\speech-emotion-recognition-ravdess-data\\Actor_12\\03-01-06-01-02-01-12.wav 03-01-06-01-02-01-12.wav\n",
      "C:\\Users\\thang\\Downloads\\Emotion\\Emotion\\speech-emotion-recognition-ravdess-data\\Actor_12\\03-01-06-01-02-02-12.wav 03-01-06-01-02-02-12.wav\n",
      "C:\\Users\\thang\\Downloads\\Emotion\\Emotion\\speech-emotion-recognition-ravdess-data\\Actor_12\\03-01-06-02-01-01-12.wav 03-01-06-02-01-01-12.wav\n",
      "C:\\Users\\thang\\Downloads\\Emotion\\Emotion\\speech-emotion-recognition-ravdess-data\\Actor_12\\03-01-06-02-01-02-12.wav 03-01-06-02-01-02-12.wav\n",
      "C:\\Users\\thang\\Downloads\\Emotion\\Emotion\\speech-emotion-recognition-ravdess-data\\Actor_12\\03-01-06-02-02-01-12.wav 03-01-06-02-02-01-12.wav\n",
      "C:\\Users\\thang\\Downloads\\Emotion\\Emotion\\speech-emotion-recognition-ravdess-data\\Actor_12\\03-01-06-02-02-02-12.wav 03-01-06-02-02-02-12.wav\n",
      "C:\\Users\\thang\\Downloads\\Emotion\\Emotion\\speech-emotion-recognition-ravdess-data\\Actor_12\\03-01-07-01-01-01-12.wav 03-01-07-01-01-01-12.wav\n",
      "C:\\Users\\thang\\Downloads\\Emotion\\Emotion\\speech-emotion-recognition-ravdess-data\\Actor_12\\03-01-07-01-01-02-12.wav 03-01-07-01-01-02-12.wav\n",
      "C:\\Users\\thang\\Downloads\\Emotion\\Emotion\\speech-emotion-recognition-ravdess-data\\Actor_12\\03-01-07-01-02-01-12.wav 03-01-07-01-02-01-12.wav\n",
      "C:\\Users\\thang\\Downloads\\Emotion\\Emotion\\speech-emotion-recognition-ravdess-data\\Actor_12\\03-01-07-01-02-02-12.wav 03-01-07-01-02-02-12.wav\n",
      "C:\\Users\\thang\\Downloads\\Emotion\\Emotion\\speech-emotion-recognition-ravdess-data\\Actor_12\\03-01-07-02-01-01-12.wav 03-01-07-02-01-01-12.wav\n",
      "C:\\Users\\thang\\Downloads\\Emotion\\Emotion\\speech-emotion-recognition-ravdess-data\\Actor_12\\03-01-07-02-01-02-12.wav 03-01-07-02-01-02-12.wav\n",
      "C:\\Users\\thang\\Downloads\\Emotion\\Emotion\\speech-emotion-recognition-ravdess-data\\Actor_12\\03-01-07-02-02-01-12.wav 03-01-07-02-02-01-12.wav\n",
      "C:\\Users\\thang\\Downloads\\Emotion\\Emotion\\speech-emotion-recognition-ravdess-data\\Actor_12\\03-01-07-02-02-02-12.wav 03-01-07-02-02-02-12.wav\n",
      "C:\\Users\\thang\\Downloads\\Emotion\\Emotion\\speech-emotion-recognition-ravdess-data\\Actor_12\\03-01-08-01-01-01-12.wav 03-01-08-01-01-01-12.wav\n",
      "C:\\Users\\thang\\Downloads\\Emotion\\Emotion\\speech-emotion-recognition-ravdess-data\\Actor_12\\03-01-08-01-01-02-12.wav 03-01-08-01-01-02-12.wav\n",
      "C:\\Users\\thang\\Downloads\\Emotion\\Emotion\\speech-emotion-recognition-ravdess-data\\Actor_12\\03-01-08-01-02-01-12.wav 03-01-08-01-02-01-12.wav\n",
      "C:\\Users\\thang\\Downloads\\Emotion\\Emotion\\speech-emotion-recognition-ravdess-data\\Actor_12\\03-01-08-01-02-02-12.wav 03-01-08-01-02-02-12.wav\n",
      "C:\\Users\\thang\\Downloads\\Emotion\\Emotion\\speech-emotion-recognition-ravdess-data\\Actor_12\\03-01-08-02-01-01-12.wav 03-01-08-02-01-01-12.wav\n",
      "C:\\Users\\thang\\Downloads\\Emotion\\Emotion\\speech-emotion-recognition-ravdess-data\\Actor_12\\03-01-08-02-01-02-12.wav 03-01-08-02-01-02-12.wav\n",
      "C:\\Users\\thang\\Downloads\\Emotion\\Emotion\\speech-emotion-recognition-ravdess-data\\Actor_12\\03-01-08-02-02-01-12.wav 03-01-08-02-02-01-12.wav\n",
      "C:\\Users\\thang\\Downloads\\Emotion\\Emotion\\speech-emotion-recognition-ravdess-data\\Actor_12\\03-01-08-02-02-02-12.wav 03-01-08-02-02-02-12.wav\n",
      "C:\\Users\\thang\\Downloads\\Emotion\\Emotion\\speech-emotion-recognition-ravdess-data\\Actor_13\\03-01-01-01-01-01-13.wav 03-01-01-01-01-01-13.wav\n",
      "C:\\Users\\thang\\Downloads\\Emotion\\Emotion\\speech-emotion-recognition-ravdess-data\\Actor_13\\03-01-01-01-01-02-13.wav 03-01-01-01-01-02-13.wav\n",
      "C:\\Users\\thang\\Downloads\\Emotion\\Emotion\\speech-emotion-recognition-ravdess-data\\Actor_13\\03-01-01-01-02-01-13.wav 03-01-01-01-02-01-13.wav\n",
      "C:\\Users\\thang\\Downloads\\Emotion\\Emotion\\speech-emotion-recognition-ravdess-data\\Actor_13\\03-01-01-01-02-02-13.wav 03-01-01-01-02-02-13.wav\n",
      "C:\\Users\\thang\\Downloads\\Emotion\\Emotion\\speech-emotion-recognition-ravdess-data\\Actor_13\\03-01-02-01-01-01-13.wav 03-01-02-01-01-01-13.wav\n",
      "C:\\Users\\thang\\Downloads\\Emotion\\Emotion\\speech-emotion-recognition-ravdess-data\\Actor_13\\03-01-02-01-01-02-13.wav 03-01-02-01-01-02-13.wav\n"
     ]
    },
    {
     "name": "stderr",
     "output_type": "stream",
     "text": [
      "C:\\Users\\thang\\AppData\\Local\\Temp\\ipykernel_14300\\1750813818.py:16: FutureWarning: Pass y=[ 0.          0.          0.         ... -0.00021362 -0.00027466\n",
      " -0.00024414] as keyword args. From version 0.10 passing these as positional arguments will result in an error\n",
      "  mel=np.mean(librosa.feature.melspectrogram(X, sr=sample_rate).T,axis=0)\n",
      "C:\\Users\\thang\\AppData\\Local\\Temp\\ipykernel_14300\\1750813818.py:16: FutureWarning: Pass y=[ 0.0000000e+00  0.0000000e+00  0.0000000e+00 ...  0.0000000e+00\n",
      " -3.0517578e-05 -3.0517578e-05] as keyword args. From version 0.10 passing these as positional arguments will result in an error\n",
      "  mel=np.mean(librosa.feature.melspectrogram(X, sr=sample_rate).T,axis=0)\n",
      "C:\\Users\\thang\\AppData\\Local\\Temp\\ipykernel_14300\\1750813818.py:16: FutureWarning: Pass y=[-3.0517578e-05  0.0000000e+00  0.0000000e+00 ...  3.0517578e-05\n",
      "  3.0517578e-05  3.0517578e-05] as keyword args. From version 0.10 passing these as positional arguments will result in an error\n",
      "  mel=np.mean(librosa.feature.melspectrogram(X, sr=sample_rate).T,axis=0)\n"
     ]
    },
    {
     "name": "stdout",
     "output_type": "stream",
     "text": [
      "C:\\Users\\thang\\Downloads\\Emotion\\Emotion\\speech-emotion-recognition-ravdess-data\\Actor_13\\03-01-02-01-02-01-13.wav 03-01-02-01-02-01-13.wav\n",
      "C:\\Users\\thang\\Downloads\\Emotion\\Emotion\\speech-emotion-recognition-ravdess-data\\Actor_13\\03-01-02-01-02-02-13.wav 03-01-02-01-02-02-13.wav\n",
      "C:\\Users\\thang\\Downloads\\Emotion\\Emotion\\speech-emotion-recognition-ravdess-data\\Actor_13\\03-01-02-02-01-01-13.wav 03-01-02-02-01-01-13.wav\n",
      "C:\\Users\\thang\\Downloads\\Emotion\\Emotion\\speech-emotion-recognition-ravdess-data\\Actor_13\\03-01-02-02-01-02-13.wav 03-01-02-02-01-02-13.wav\n"
     ]
    },
    {
     "name": "stderr",
     "output_type": "stream",
     "text": [
      "C:\\Users\\thang\\AppData\\Local\\Temp\\ipykernel_14300\\1750813818.py:16: FutureWarning: Pass y=[-6.1035156e-05 -6.1035156e-05 -6.1035156e-05 ...  0.0000000e+00\n",
      "  0.0000000e+00  0.0000000e+00] as keyword args. From version 0.10 passing these as positional arguments will result in an error\n",
      "  mel=np.mean(librosa.feature.melspectrogram(X, sr=sample_rate).T,axis=0)\n"
     ]
    },
    {
     "name": "stdout",
     "output_type": "stream",
     "text": [
      "C:\\Users\\thang\\Downloads\\Emotion\\Emotion\\speech-emotion-recognition-ravdess-data\\Actor_13\\03-01-02-02-02-01-13.wav 03-01-02-02-02-01-13.wav\n",
      "C:\\Users\\thang\\Downloads\\Emotion\\Emotion\\speech-emotion-recognition-ravdess-data\\Actor_13\\03-01-02-02-02-02-13.wav 03-01-02-02-02-02-13.wav\n",
      "C:\\Users\\thang\\Downloads\\Emotion\\Emotion\\speech-emotion-recognition-ravdess-data\\Actor_13\\03-01-03-01-01-01-13.wav 03-01-03-01-01-01-13.wav\n",
      "C:\\Users\\thang\\Downloads\\Emotion\\Emotion\\speech-emotion-recognition-ravdess-data\\Actor_13\\03-01-03-01-01-02-13.wav 03-01-03-01-01-02-13.wav\n",
      "C:\\Users\\thang\\Downloads\\Emotion\\Emotion\\speech-emotion-recognition-ravdess-data\\Actor_13\\03-01-03-01-02-01-13.wav 03-01-03-01-02-01-13.wav\n",
      "C:\\Users\\thang\\Downloads\\Emotion\\Emotion\\speech-emotion-recognition-ravdess-data\\Actor_13\\03-01-03-01-02-02-13.wav 03-01-03-01-02-02-13.wav\n",
      "C:\\Users\\thang\\Downloads\\Emotion\\Emotion\\speech-emotion-recognition-ravdess-data\\Actor_13\\03-01-03-02-01-01-13.wav 03-01-03-02-01-01-13.wav\n",
      "C:\\Users\\thang\\Downloads\\Emotion\\Emotion\\speech-emotion-recognition-ravdess-data\\Actor_13\\03-01-03-02-01-02-13.wav 03-01-03-02-01-02-13.wav\n",
      "C:\\Users\\thang\\Downloads\\Emotion\\Emotion\\speech-emotion-recognition-ravdess-data\\Actor_13\\03-01-03-02-02-01-13.wav 03-01-03-02-02-01-13.wav\n",
      "C:\\Users\\thang\\Downloads\\Emotion\\Emotion\\speech-emotion-recognition-ravdess-data\\Actor_13\\03-01-03-02-02-02-13.wav 03-01-03-02-02-02-13.wav\n",
      "C:\\Users\\thang\\Downloads\\Emotion\\Emotion\\speech-emotion-recognition-ravdess-data\\Actor_13\\03-01-04-01-01-01-13.wav 03-01-04-01-01-01-13.wav\n",
      "C:\\Users\\thang\\Downloads\\Emotion\\Emotion\\speech-emotion-recognition-ravdess-data\\Actor_13\\03-01-04-01-01-02-13.wav 03-01-04-01-01-02-13.wav\n",
      "C:\\Users\\thang\\Downloads\\Emotion\\Emotion\\speech-emotion-recognition-ravdess-data\\Actor_13\\03-01-04-01-02-01-13.wav 03-01-04-01-02-01-13.wav\n",
      "C:\\Users\\thang\\Downloads\\Emotion\\Emotion\\speech-emotion-recognition-ravdess-data\\Actor_13\\03-01-04-01-02-02-13.wav 03-01-04-01-02-02-13.wav\n",
      "C:\\Users\\thang\\Downloads\\Emotion\\Emotion\\speech-emotion-recognition-ravdess-data\\Actor_13\\03-01-04-02-01-01-13.wav 03-01-04-02-01-01-13.wav\n",
      "C:\\Users\\thang\\Downloads\\Emotion\\Emotion\\speech-emotion-recognition-ravdess-data\\Actor_13\\03-01-04-02-01-02-13.wav 03-01-04-02-01-02-13.wav\n",
      "C:\\Users\\thang\\Downloads\\Emotion\\Emotion\\speech-emotion-recognition-ravdess-data\\Actor_13\\03-01-04-02-02-01-13.wav 03-01-04-02-02-01-13.wav\n",
      "C:\\Users\\thang\\Downloads\\Emotion\\Emotion\\speech-emotion-recognition-ravdess-data\\Actor_13\\03-01-04-02-02-02-13.wav 03-01-04-02-02-02-13.wav\n",
      "C:\\Users\\thang\\Downloads\\Emotion\\Emotion\\speech-emotion-recognition-ravdess-data\\Actor_13\\03-01-05-01-01-01-13.wav 03-01-05-01-01-01-13.wav\n"
     ]
    },
    {
     "name": "stderr",
     "output_type": "stream",
     "text": [
      "C:\\Users\\thang\\AppData\\Local\\Temp\\ipykernel_14300\\1750813818.py:16: FutureWarning: Pass y=[ 6.1035156e-05  3.0517578e-05  3.0517578e-05 ... -6.1035156e-05\n",
      " -9.1552734e-05 -6.1035156e-05] as keyword args. From version 0.10 passing these as positional arguments will result in an error\n",
      "  mel=np.mean(librosa.feature.melspectrogram(X, sr=sample_rate).T,axis=0)\n",
      "C:\\Users\\thang\\AppData\\Local\\Temp\\ipykernel_14300\\1750813818.py:16: FutureWarning: Pass y=[0.0000000e+00 0.0000000e+00 0.0000000e+00 ... 3.0517578e-05 0.0000000e+00\n",
      " 3.0517578e-05] as keyword args. From version 0.10 passing these as positional arguments will result in an error\n",
      "  mel=np.mean(librosa.feature.melspectrogram(X, sr=sample_rate).T,axis=0)\n"
     ]
    },
    {
     "name": "stdout",
     "output_type": "stream",
     "text": [
      "C:\\Users\\thang\\Downloads\\Emotion\\Emotion\\speech-emotion-recognition-ravdess-data\\Actor_13\\03-01-05-01-01-02-13.wav 03-01-05-01-01-02-13.wav\n",
      "C:\\Users\\thang\\Downloads\\Emotion\\Emotion\\speech-emotion-recognition-ravdess-data\\Actor_13\\03-01-05-01-02-01-13.wav 03-01-05-01-02-01-13.wav\n",
      "C:\\Users\\thang\\Downloads\\Emotion\\Emotion\\speech-emotion-recognition-ravdess-data\\Actor_13\\03-01-05-01-02-02-13.wav 03-01-05-01-02-02-13.wav\n",
      "C:\\Users\\thang\\Downloads\\Emotion\\Emotion\\speech-emotion-recognition-ravdess-data\\Actor_13\\03-01-05-02-01-01-13.wav 03-01-05-02-01-01-13.wav\n",
      "C:\\Users\\thang\\Downloads\\Emotion\\Emotion\\speech-emotion-recognition-ravdess-data\\Actor_13\\03-01-05-02-01-02-13.wav 03-01-05-02-01-02-13.wav\n"
     ]
    },
    {
     "name": "stderr",
     "output_type": "stream",
     "text": [
      "C:\\Users\\thang\\AppData\\Local\\Temp\\ipykernel_14300\\1750813818.py:16: FutureWarning: Pass y=[-3.0517578e-05  0.0000000e+00 -3.0517578e-05 ...  0.0000000e+00\n",
      "  0.0000000e+00  0.0000000e+00] as keyword args. From version 0.10 passing these as positional arguments will result in an error\n",
      "  mel=np.mean(librosa.feature.melspectrogram(X, sr=sample_rate).T,axis=0)\n",
      "C:\\Users\\thang\\AppData\\Local\\Temp\\ipykernel_14300\\1750813818.py:16: FutureWarning: Pass y=[-3.0517578e-05  0.0000000e+00  0.0000000e+00 ... -7.9345703e-04\n",
      " -8.2397461e-04 -8.2397461e-04] as keyword args. From version 0.10 passing these as positional arguments will result in an error\n",
      "  mel=np.mean(librosa.feature.melspectrogram(X, sr=sample_rate).T,axis=0)\n",
      "C:\\Users\\thang\\AppData\\Local\\Temp\\ipykernel_14300\\1750813818.py:16: FutureWarning: Pass y=[0.         0.         0.         ... 0.00012207 0.00012207 0.00015259] as keyword args. From version 0.10 passing these as positional arguments will result in an error\n",
      "  mel=np.mean(librosa.feature.melspectrogram(X, sr=sample_rate).T,axis=0)\n"
     ]
    },
    {
     "name": "stdout",
     "output_type": "stream",
     "text": [
      "C:\\Users\\thang\\Downloads\\Emotion\\Emotion\\speech-emotion-recognition-ravdess-data\\Actor_13\\03-01-05-02-02-01-13.wav 03-01-05-02-02-01-13.wav\n",
      "C:\\Users\\thang\\Downloads\\Emotion\\Emotion\\speech-emotion-recognition-ravdess-data\\Actor_13\\03-01-05-02-02-02-13.wav 03-01-05-02-02-02-13.wav\n",
      "C:\\Users\\thang\\Downloads\\Emotion\\Emotion\\speech-emotion-recognition-ravdess-data\\Actor_13\\03-01-06-01-01-01-13.wav 03-01-06-01-01-01-13.wav\n",
      "C:\\Users\\thang\\Downloads\\Emotion\\Emotion\\speech-emotion-recognition-ravdess-data\\Actor_13\\03-01-06-01-01-02-13.wav 03-01-06-01-01-02-13.wav\n",
      "C:\\Users\\thang\\Downloads\\Emotion\\Emotion\\speech-emotion-recognition-ravdess-data\\Actor_13\\03-01-06-01-02-01-13.wav 03-01-06-01-02-01-13.wav\n",
      "C:\\Users\\thang\\Downloads\\Emotion\\Emotion\\speech-emotion-recognition-ravdess-data\\Actor_13\\03-01-06-01-02-02-13.wav 03-01-06-01-02-02-13.wav\n",
      "C:\\Users\\thang\\Downloads\\Emotion\\Emotion\\speech-emotion-recognition-ravdess-data\\Actor_13\\03-01-06-02-01-01-13.wav 03-01-06-02-01-01-13.wav\n",
      "C:\\Users\\thang\\Downloads\\Emotion\\Emotion\\speech-emotion-recognition-ravdess-data\\Actor_13\\03-01-06-02-01-02-13.wav 03-01-06-02-01-02-13.wav\n",
      "C:\\Users\\thang\\Downloads\\Emotion\\Emotion\\speech-emotion-recognition-ravdess-data\\Actor_13\\03-01-06-02-02-01-13.wav 03-01-06-02-02-01-13.wav\n",
      "C:\\Users\\thang\\Downloads\\Emotion\\Emotion\\speech-emotion-recognition-ravdess-data\\Actor_13\\03-01-06-02-02-02-13.wav 03-01-06-02-02-02-13.wav\n",
      "C:\\Users\\thang\\Downloads\\Emotion\\Emotion\\speech-emotion-recognition-ravdess-data\\Actor_13\\03-01-07-01-01-01-13.wav 03-01-07-01-01-01-13.wav\n",
      "C:\\Users\\thang\\Downloads\\Emotion\\Emotion\\speech-emotion-recognition-ravdess-data\\Actor_13\\03-01-07-01-01-02-13.wav 03-01-07-01-01-02-13.wav\n",
      "C:\\Users\\thang\\Downloads\\Emotion\\Emotion\\speech-emotion-recognition-ravdess-data\\Actor_13\\03-01-07-01-02-01-13.wav 03-01-07-01-02-01-13.wav\n",
      "C:\\Users\\thang\\Downloads\\Emotion\\Emotion\\speech-emotion-recognition-ravdess-data\\Actor_13\\03-01-07-01-02-02-13.wav 03-01-07-01-02-02-13.wav\n",
      "C:\\Users\\thang\\Downloads\\Emotion\\Emotion\\speech-emotion-recognition-ravdess-data\\Actor_13\\03-01-07-02-01-01-13.wav 03-01-07-02-01-01-13.wav\n",
      "C:\\Users\\thang\\Downloads\\Emotion\\Emotion\\speech-emotion-recognition-ravdess-data\\Actor_13\\03-01-07-02-01-02-13.wav 03-01-07-02-01-02-13.wav\n",
      "C:\\Users\\thang\\Downloads\\Emotion\\Emotion\\speech-emotion-recognition-ravdess-data\\Actor_13\\03-01-07-02-02-01-13.wav 03-01-07-02-02-01-13.wav\n",
      "C:\\Users\\thang\\Downloads\\Emotion\\Emotion\\speech-emotion-recognition-ravdess-data\\Actor_13\\03-01-07-02-02-02-13.wav 03-01-07-02-02-02-13.wav\n",
      "C:\\Users\\thang\\Downloads\\Emotion\\Emotion\\speech-emotion-recognition-ravdess-data\\Actor_13\\03-01-08-01-01-01-13.wav 03-01-08-01-01-01-13.wav\n",
      "C:\\Users\\thang\\Downloads\\Emotion\\Emotion\\speech-emotion-recognition-ravdess-data\\Actor_13\\03-01-08-01-01-02-13.wav 03-01-08-01-01-02-13.wav\n",
      "C:\\Users\\thang\\Downloads\\Emotion\\Emotion\\speech-emotion-recognition-ravdess-data\\Actor_13\\03-01-08-01-02-01-13.wav 03-01-08-01-02-01-13.wav\n",
      "C:\\Users\\thang\\Downloads\\Emotion\\Emotion\\speech-emotion-recognition-ravdess-data\\Actor_13\\03-01-08-01-02-02-13.wav 03-01-08-01-02-02-13.wav\n",
      "C:\\Users\\thang\\Downloads\\Emotion\\Emotion\\speech-emotion-recognition-ravdess-data\\Actor_13\\03-01-08-02-01-01-13.wav 03-01-08-02-01-01-13.wav\n",
      "C:\\Users\\thang\\Downloads\\Emotion\\Emotion\\speech-emotion-recognition-ravdess-data\\Actor_13\\03-01-08-02-01-02-13.wav 03-01-08-02-01-02-13.wav\n",
      "C:\\Users\\thang\\Downloads\\Emotion\\Emotion\\speech-emotion-recognition-ravdess-data\\Actor_13\\03-01-08-02-02-01-13.wav 03-01-08-02-02-01-13.wav\n",
      "C:\\Users\\thang\\Downloads\\Emotion\\Emotion\\speech-emotion-recognition-ravdess-data\\Actor_13\\03-01-08-02-02-02-13.wav 03-01-08-02-02-02-13.wav\n",
      "C:\\Users\\thang\\Downloads\\Emotion\\Emotion\\speech-emotion-recognition-ravdess-data\\Actor_14\\03-01-01-01-01-01-14.wav 03-01-01-01-01-01-14.wav\n",
      "C:\\Users\\thang\\Downloads\\Emotion\\Emotion\\speech-emotion-recognition-ravdess-data\\Actor_14\\03-01-01-01-01-02-14.wav 03-01-01-01-01-02-14.wav\n",
      "C:\\Users\\thang\\Downloads\\Emotion\\Emotion\\speech-emotion-recognition-ravdess-data\\Actor_14\\03-01-01-01-02-01-14.wav 03-01-01-01-02-01-14.wav\n",
      "C:\\Users\\thang\\Downloads\\Emotion\\Emotion\\speech-emotion-recognition-ravdess-data\\Actor_14\\03-01-01-01-02-02-14.wav 03-01-01-01-02-02-14.wav\n",
      "C:\\Users\\thang\\Downloads\\Emotion\\Emotion\\speech-emotion-recognition-ravdess-data\\Actor_14\\03-01-02-01-01-01-14.wav 03-01-02-01-01-01-14.wav\n",
      "C:\\Users\\thang\\Downloads\\Emotion\\Emotion\\speech-emotion-recognition-ravdess-data\\Actor_14\\03-01-02-01-01-02-14.wav 03-01-02-01-01-02-14.wav\n",
      "C:\\Users\\thang\\Downloads\\Emotion\\Emotion\\speech-emotion-recognition-ravdess-data\\Actor_14\\03-01-02-01-02-01-14.wav 03-01-02-01-02-01-14.wav\n",
      "C:\\Users\\thang\\Downloads\\Emotion\\Emotion\\speech-emotion-recognition-ravdess-data\\Actor_14\\03-01-02-01-02-02-14.wav 03-01-02-01-02-02-14.wav\n",
      "C:\\Users\\thang\\Downloads\\Emotion\\Emotion\\speech-emotion-recognition-ravdess-data\\Actor_14\\03-01-02-02-01-01-14.wav 03-01-02-02-01-01-14.wav\n",
      "C:\\Users\\thang\\Downloads\\Emotion\\Emotion\\speech-emotion-recognition-ravdess-data\\Actor_14\\03-01-02-02-01-02-14.wav 03-01-02-02-01-02-14.wav\n",
      "C:\\Users\\thang\\Downloads\\Emotion\\Emotion\\speech-emotion-recognition-ravdess-data\\Actor_14\\03-01-02-02-02-01-14.wav 03-01-02-02-02-01-14.wav\n",
      "C:\\Users\\thang\\Downloads\\Emotion\\Emotion\\speech-emotion-recognition-ravdess-data\\Actor_14\\03-01-02-02-02-02-14.wav 03-01-02-02-02-02-14.wav\n",
      "C:\\Users\\thang\\Downloads\\Emotion\\Emotion\\speech-emotion-recognition-ravdess-data\\Actor_14\\03-01-03-01-01-01-14.wav 03-01-03-01-01-01-14.wav\n"
     ]
    },
    {
     "name": "stderr",
     "output_type": "stream",
     "text": [
      "C:\\Users\\thang\\AppData\\Local\\Temp\\ipykernel_14300\\1750813818.py:16: FutureWarning: Pass y=[3.0517578e-05 0.0000000e+00 3.0517578e-05 ... 0.0000000e+00 3.0517578e-05\n",
      " 3.0517578e-05] as keyword args. From version 0.10 passing these as positional arguments will result in an error\n",
      "  mel=np.mean(librosa.feature.melspectrogram(X, sr=sample_rate).T,axis=0)\n",
      "C:\\Users\\thang\\AppData\\Local\\Temp\\ipykernel_14300\\1750813818.py:16: FutureWarning: Pass y=[ 0.0000000e+00  0.0000000e+00  0.0000000e+00 ... -6.1035156e-05\n",
      "  0.0000000e+00  0.0000000e+00] as keyword args. From version 0.10 passing these as positional arguments will result in an error\n",
      "  mel=np.mean(librosa.feature.melspectrogram(X, sr=sample_rate).T,axis=0)\n"
     ]
    },
    {
     "name": "stdout",
     "output_type": "stream",
     "text": [
      "C:\\Users\\thang\\Downloads\\Emotion\\Emotion\\speech-emotion-recognition-ravdess-data\\Actor_14\\03-01-03-01-01-02-14.wav 03-01-03-01-01-02-14.wav\n",
      "C:\\Users\\thang\\Downloads\\Emotion\\Emotion\\speech-emotion-recognition-ravdess-data\\Actor_14\\03-01-03-01-02-01-14.wav 03-01-03-01-02-01-14.wav\n",
      "C:\\Users\\thang\\Downloads\\Emotion\\Emotion\\speech-emotion-recognition-ravdess-data\\Actor_14\\03-01-03-01-02-02-14.wav 03-01-03-01-02-02-14.wav\n",
      "C:\\Users\\thang\\Downloads\\Emotion\\Emotion\\speech-emotion-recognition-ravdess-data\\Actor_14\\03-01-03-02-01-01-14.wav 03-01-03-02-01-01-14.wav\n",
      "C:\\Users\\thang\\Downloads\\Emotion\\Emotion\\speech-emotion-recognition-ravdess-data\\Actor_14\\03-01-03-02-01-02-14.wav 03-01-03-02-01-02-14.wav\n",
      "C:\\Users\\thang\\Downloads\\Emotion\\Emotion\\speech-emotion-recognition-ravdess-data\\Actor_14\\03-01-03-02-02-01-14.wav 03-01-03-02-02-01-14.wav\n",
      "C:\\Users\\thang\\Downloads\\Emotion\\Emotion\\speech-emotion-recognition-ravdess-data\\Actor_14\\03-01-03-02-02-02-14.wav 03-01-03-02-02-02-14.wav\n",
      "C:\\Users\\thang\\Downloads\\Emotion\\Emotion\\speech-emotion-recognition-ravdess-data\\Actor_14\\03-01-04-01-01-01-14.wav 03-01-04-01-01-01-14.wav\n",
      "C:\\Users\\thang\\Downloads\\Emotion\\Emotion\\speech-emotion-recognition-ravdess-data\\Actor_14\\03-01-04-01-01-02-14.wav 03-01-04-01-01-02-14.wav\n",
      "C:\\Users\\thang\\Downloads\\Emotion\\Emotion\\speech-emotion-recognition-ravdess-data\\Actor_14\\03-01-04-01-02-01-14.wav 03-01-04-01-02-01-14.wav\n",
      "C:\\Users\\thang\\Downloads\\Emotion\\Emotion\\speech-emotion-recognition-ravdess-data\\Actor_14\\03-01-04-01-02-02-14.wav 03-01-04-01-02-02-14.wav\n",
      "C:\\Users\\thang\\Downloads\\Emotion\\Emotion\\speech-emotion-recognition-ravdess-data\\Actor_14\\03-01-04-02-01-01-14.wav 03-01-04-02-01-01-14.wav\n",
      "C:\\Users\\thang\\Downloads\\Emotion\\Emotion\\speech-emotion-recognition-ravdess-data\\Actor_14\\03-01-04-02-01-02-14.wav 03-01-04-02-01-02-14.wav\n",
      "C:\\Users\\thang\\Downloads\\Emotion\\Emotion\\speech-emotion-recognition-ravdess-data\\Actor_14\\03-01-04-02-02-01-14.wav 03-01-04-02-02-01-14.wav\n",
      "C:\\Users\\thang\\Downloads\\Emotion\\Emotion\\speech-emotion-recognition-ravdess-data\\Actor_14\\03-01-04-02-02-02-14.wav 03-01-04-02-02-02-14.wav\n",
      "C:\\Users\\thang\\Downloads\\Emotion\\Emotion\\speech-emotion-recognition-ravdess-data\\Actor_14\\03-01-05-01-01-01-14.wav 03-01-05-01-01-01-14.wav\n",
      "C:\\Users\\thang\\Downloads\\Emotion\\Emotion\\speech-emotion-recognition-ravdess-data\\Actor_14\\03-01-05-01-01-02-14.wav 03-01-05-01-01-02-14.wav\n",
      "C:\\Users\\thang\\Downloads\\Emotion\\Emotion\\speech-emotion-recognition-ravdess-data\\Actor_14\\03-01-05-01-02-01-14.wav 03-01-05-01-02-01-14.wav\n",
      "C:\\Users\\thang\\Downloads\\Emotion\\Emotion\\speech-emotion-recognition-ravdess-data\\Actor_14\\03-01-05-01-02-02-14.wav 03-01-05-01-02-02-14.wav\n",
      "C:\\Users\\thang\\Downloads\\Emotion\\Emotion\\speech-emotion-recognition-ravdess-data\\Actor_14\\03-01-05-02-01-01-14.wav 03-01-05-02-01-01-14.wav\n",
      "C:\\Users\\thang\\Downloads\\Emotion\\Emotion\\speech-emotion-recognition-ravdess-data\\Actor_14\\03-01-05-02-01-02-14.wav 03-01-05-02-01-02-14.wav\n",
      "C:\\Users\\thang\\Downloads\\Emotion\\Emotion\\speech-emotion-recognition-ravdess-data\\Actor_14\\03-01-05-02-02-01-14.wav 03-01-05-02-02-01-14.wav\n",
      "C:\\Users\\thang\\Downloads\\Emotion\\Emotion\\speech-emotion-recognition-ravdess-data\\Actor_14\\03-01-05-02-02-02-14.wav 03-01-05-02-02-02-14.wav\n",
      "C:\\Users\\thang\\Downloads\\Emotion\\Emotion\\speech-emotion-recognition-ravdess-data\\Actor_14\\03-01-06-01-01-01-14.wav 03-01-06-01-01-01-14.wav\n",
      "C:\\Users\\thang\\Downloads\\Emotion\\Emotion\\speech-emotion-recognition-ravdess-data\\Actor_14\\03-01-06-01-01-02-14.wav 03-01-06-01-01-02-14.wav\n",
      "C:\\Users\\thang\\Downloads\\Emotion\\Emotion\\speech-emotion-recognition-ravdess-data\\Actor_14\\03-01-06-01-02-01-14.wav 03-01-06-01-02-01-14.wav\n",
      "C:\\Users\\thang\\Downloads\\Emotion\\Emotion\\speech-emotion-recognition-ravdess-data\\Actor_14\\03-01-06-01-02-02-14.wav 03-01-06-01-02-02-14.wav\n",
      "C:\\Users\\thang\\Downloads\\Emotion\\Emotion\\speech-emotion-recognition-ravdess-data\\Actor_14\\03-01-06-02-01-01-14.wav 03-01-06-02-01-01-14.wav\n",
      "C:\\Users\\thang\\Downloads\\Emotion\\Emotion\\speech-emotion-recognition-ravdess-data\\Actor_14\\03-01-06-02-01-02-14.wav 03-01-06-02-01-02-14.wav\n",
      "C:\\Users\\thang\\Downloads\\Emotion\\Emotion\\speech-emotion-recognition-ravdess-data\\Actor_14\\03-01-06-02-02-01-14.wav 03-01-06-02-02-01-14.wav\n",
      "C:\\Users\\thang\\Downloads\\Emotion\\Emotion\\speech-emotion-recognition-ravdess-data\\Actor_14\\03-01-06-02-02-02-14.wav 03-01-06-02-02-02-14.wav\n",
      "C:\\Users\\thang\\Downloads\\Emotion\\Emotion\\speech-emotion-recognition-ravdess-data\\Actor_14\\03-01-07-01-01-01-14.wav 03-01-07-01-01-01-14.wav\n",
      "C:\\Users\\thang\\Downloads\\Emotion\\Emotion\\speech-emotion-recognition-ravdess-data\\Actor_14\\03-01-07-01-01-02-14.wav 03-01-07-01-01-02-14.wav\n",
      "C:\\Users\\thang\\Downloads\\Emotion\\Emotion\\speech-emotion-recognition-ravdess-data\\Actor_14\\03-01-07-01-02-01-14.wav 03-01-07-01-02-01-14.wav\n",
      "C:\\Users\\thang\\Downloads\\Emotion\\Emotion\\speech-emotion-recognition-ravdess-data\\Actor_14\\03-01-07-01-02-02-14.wav 03-01-07-01-02-02-14.wav\n",
      "C:\\Users\\thang\\Downloads\\Emotion\\Emotion\\speech-emotion-recognition-ravdess-data\\Actor_14\\03-01-07-02-01-01-14.wav 03-01-07-02-01-01-14.wav\n",
      "C:\\Users\\thang\\Downloads\\Emotion\\Emotion\\speech-emotion-recognition-ravdess-data\\Actor_14\\03-01-07-02-01-02-14.wav 03-01-07-02-01-02-14.wav\n",
      "C:\\Users\\thang\\Downloads\\Emotion\\Emotion\\speech-emotion-recognition-ravdess-data\\Actor_14\\03-01-07-02-02-01-14.wav 03-01-07-02-02-01-14.wav\n",
      "C:\\Users\\thang\\Downloads\\Emotion\\Emotion\\speech-emotion-recognition-ravdess-data\\Actor_14\\03-01-07-02-02-02-14.wav 03-01-07-02-02-02-14.wav\n",
      "C:\\Users\\thang\\Downloads\\Emotion\\Emotion\\speech-emotion-recognition-ravdess-data\\Actor_14\\03-01-08-01-01-01-14.wav 03-01-08-01-01-01-14.wav\n",
      "C:\\Users\\thang\\Downloads\\Emotion\\Emotion\\speech-emotion-recognition-ravdess-data\\Actor_14\\03-01-08-01-01-02-14.wav 03-01-08-01-01-02-14.wav\n",
      "C:\\Users\\thang\\Downloads\\Emotion\\Emotion\\speech-emotion-recognition-ravdess-data\\Actor_14\\03-01-08-01-02-01-14.wav 03-01-08-01-02-01-14.wav\n",
      "C:\\Users\\thang\\Downloads\\Emotion\\Emotion\\speech-emotion-recognition-ravdess-data\\Actor_14\\03-01-08-01-02-02-14.wav 03-01-08-01-02-02-14.wav\n",
      "C:\\Users\\thang\\Downloads\\Emotion\\Emotion\\speech-emotion-recognition-ravdess-data\\Actor_14\\03-01-08-02-01-01-14.wav 03-01-08-02-01-01-14.wav\n",
      "C:\\Users\\thang\\Downloads\\Emotion\\Emotion\\speech-emotion-recognition-ravdess-data\\Actor_14\\03-01-08-02-01-02-14.wav 03-01-08-02-01-02-14.wav\n",
      "C:\\Users\\thang\\Downloads\\Emotion\\Emotion\\speech-emotion-recognition-ravdess-data\\Actor_14\\03-01-08-02-02-01-14.wav 03-01-08-02-02-01-14.wav\n",
      "C:\\Users\\thang\\Downloads\\Emotion\\Emotion\\speech-emotion-recognition-ravdess-data\\Actor_14\\03-01-08-02-02-02-14.wav 03-01-08-02-02-02-14.wav\n",
      "C:\\Users\\thang\\Downloads\\Emotion\\Emotion\\speech-emotion-recognition-ravdess-data\\Actor_15\\03-01-01-01-01-01-15.wav 03-01-01-01-01-01-15.wav\n",
      "C:\\Users\\thang\\Downloads\\Emotion\\Emotion\\speech-emotion-recognition-ravdess-data\\Actor_15\\03-01-01-01-01-02-15.wav 03-01-01-01-01-02-15.wav\n",
      "C:\\Users\\thang\\Downloads\\Emotion\\Emotion\\speech-emotion-recognition-ravdess-data\\Actor_15\\03-01-01-01-02-01-15.wav 03-01-01-01-02-01-15.wav\n",
      "C:\\Users\\thang\\Downloads\\Emotion\\Emotion\\speech-emotion-recognition-ravdess-data\\Actor_15\\03-01-01-01-02-02-15.wav 03-01-01-01-02-02-15.wav\n",
      "C:\\Users\\thang\\Downloads\\Emotion\\Emotion\\speech-emotion-recognition-ravdess-data\\Actor_15\\03-01-02-01-01-01-15.wav 03-01-02-01-01-01-15.wav\n",
      "C:\\Users\\thang\\Downloads\\Emotion\\Emotion\\speech-emotion-recognition-ravdess-data\\Actor_15\\03-01-02-01-01-02-15.wav 03-01-02-01-01-02-15.wav\n",
      "C:\\Users\\thang\\Downloads\\Emotion\\Emotion\\speech-emotion-recognition-ravdess-data\\Actor_15\\03-01-02-01-02-01-15.wav 03-01-02-01-02-01-15.wav\n",
      "C:\\Users\\thang\\Downloads\\Emotion\\Emotion\\speech-emotion-recognition-ravdess-data\\Actor_15\\03-01-02-01-02-02-15.wav 03-01-02-01-02-02-15.wav\n",
      "C:\\Users\\thang\\Downloads\\Emotion\\Emotion\\speech-emotion-recognition-ravdess-data\\Actor_15\\03-01-02-02-01-01-15.wav 03-01-02-02-01-01-15.wav\n",
      "C:\\Users\\thang\\Downloads\\Emotion\\Emotion\\speech-emotion-recognition-ravdess-data\\Actor_15\\03-01-02-02-01-02-15.wav 03-01-02-02-01-02-15.wav\n"
     ]
    },
    {
     "name": "stderr",
     "output_type": "stream",
     "text": [
      "C:\\Users\\thang\\AppData\\Local\\Temp\\ipykernel_14300\\1750813818.py:16: FutureWarning: Pass y=[-9.1552734e-05 -6.1035156e-05  0.0000000e+00 ... -1.8310547e-04\n",
      " -1.8310547e-04 -2.1362305e-04] as keyword args. From version 0.10 passing these as positional arguments will result in an error\n",
      "  mel=np.mean(librosa.feature.melspectrogram(X, sr=sample_rate).T,axis=0)\n",
      "C:\\Users\\thang\\AppData\\Local\\Temp\\ipykernel_14300\\1750813818.py:16: FutureWarning: Pass y=[6.1035156e-05 6.1035156e-05 3.0517578e-05 ... 1.8310547e-04 1.8310547e-04\n",
      " 1.8310547e-04] as keyword args. From version 0.10 passing these as positional arguments will result in an error\n",
      "  mel=np.mean(librosa.feature.melspectrogram(X, sr=sample_rate).T,axis=0)\n",
      "C:\\Users\\thang\\AppData\\Local\\Temp\\ipykernel_14300\\1750813818.py:16: FutureWarning: Pass y=[0.         0.         0.         ... 0.00018311 0.00018311 0.00021362] as keyword args. From version 0.10 passing these as positional arguments will result in an error\n",
      "  mel=np.mean(librosa.feature.melspectrogram(X, sr=sample_rate).T,axis=0)\n",
      "C:\\Users\\thang\\AppData\\Local\\Temp\\ipykernel_14300\\1750813818.py:16: FutureWarning: Pass y=[-9.1552734e-05 -9.1552734e-05 -9.1552734e-05 ...  0.0000000e+00\n",
      "  0.0000000e+00  0.0000000e+00] as keyword args. From version 0.10 passing these as positional arguments will result in an error\n",
      "  mel=np.mean(librosa.feature.melspectrogram(X, sr=sample_rate).T,axis=0)\n",
      "C:\\Users\\thang\\AppData\\Local\\Temp\\ipykernel_14300\\1750813818.py:16: FutureWarning: Pass y=[6.1035156e-05 6.1035156e-05 9.1552734e-05 ... 0.0000000e+00 0.0000000e+00\n",
      " 0.0000000e+00] as keyword args. From version 0.10 passing these as positional arguments will result in an error\n",
      "  mel=np.mean(librosa.feature.melspectrogram(X, sr=sample_rate).T,axis=0)\n"
     ]
    },
    {
     "name": "stdout",
     "output_type": "stream",
     "text": [
      "C:\\Users\\thang\\Downloads\\Emotion\\Emotion\\speech-emotion-recognition-ravdess-data\\Actor_15\\03-01-02-02-02-01-15.wav 03-01-02-02-02-01-15.wav\n",
      "C:\\Users\\thang\\Downloads\\Emotion\\Emotion\\speech-emotion-recognition-ravdess-data\\Actor_15\\03-01-02-02-02-02-15.wav 03-01-02-02-02-02-15.wav\n",
      "C:\\Users\\thang\\Downloads\\Emotion\\Emotion\\speech-emotion-recognition-ravdess-data\\Actor_15\\03-01-03-01-01-01-15.wav 03-01-03-01-01-01-15.wav\n",
      "C:\\Users\\thang\\Downloads\\Emotion\\Emotion\\speech-emotion-recognition-ravdess-data\\Actor_15\\03-01-03-01-01-02-15.wav 03-01-03-01-01-02-15.wav\n",
      "C:\\Users\\thang\\Downloads\\Emotion\\Emotion\\speech-emotion-recognition-ravdess-data\\Actor_15\\03-01-03-01-02-01-15.wav 03-01-03-01-02-01-15.wav\n",
      "C:\\Users\\thang\\Downloads\\Emotion\\Emotion\\speech-emotion-recognition-ravdess-data\\Actor_15\\03-01-03-01-02-02-15.wav 03-01-03-01-02-02-15.wav\n",
      "C:\\Users\\thang\\Downloads\\Emotion\\Emotion\\speech-emotion-recognition-ravdess-data\\Actor_15\\03-01-03-02-01-01-15.wav 03-01-03-02-01-01-15.wav\n"
     ]
    },
    {
     "name": "stderr",
     "output_type": "stream",
     "text": [
      "C:\\Users\\thang\\AppData\\Local\\Temp\\ipykernel_14300\\1750813818.py:16: FutureWarning: Pass y=[-3.0517578e-05  0.0000000e+00  0.0000000e+00 ...  1.2207031e-04\n",
      "  1.2207031e-04  1.2207031e-04] as keyword args. From version 0.10 passing these as positional arguments will result in an error\n",
      "  mel=np.mean(librosa.feature.melspectrogram(X, sr=sample_rate).T,axis=0)\n",
      "C:\\Users\\thang\\AppData\\Local\\Temp\\ipykernel_14300\\1750813818.py:16: FutureWarning: Pass y=[3.0517578e-05 3.0517578e-05 3.0517578e-05 ... 1.2207031e-04 1.2207031e-04\n",
      " 1.2207031e-04] as keyword args. From version 0.10 passing these as positional arguments will result in an error\n",
      "  mel=np.mean(librosa.feature.melspectrogram(X, sr=sample_rate).T,axis=0)\n",
      "C:\\Users\\thang\\AppData\\Local\\Temp\\ipykernel_14300\\1750813818.py:16: FutureWarning: Pass y=[ 0.          0.          0.         ... -0.00210571 -0.00216675\n",
      " -0.0020752 ] as keyword args. From version 0.10 passing these as positional arguments will result in an error\n",
      "  mel=np.mean(librosa.feature.melspectrogram(X, sr=sample_rate).T,axis=0)\n",
      "C:\\Users\\thang\\AppData\\Local\\Temp\\ipykernel_14300\\1750813818.py:16: FutureWarning: Pass y=[-3.0517578e-05 -3.0517578e-05 -3.0517578e-05 ... -6.1035156e-05\n",
      " -6.1035156e-05 -6.1035156e-05] as keyword args. From version 0.10 passing these as positional arguments will result in an error\n",
      "  mel=np.mean(librosa.feature.melspectrogram(X, sr=sample_rate).T,axis=0)\n",
      "C:\\Users\\thang\\AppData\\Local\\Temp\\ipykernel_14300\\1750813818.py:16: FutureWarning: Pass y=[ 0.0000000e+00  0.0000000e+00  0.0000000e+00 ... -6.1035156e-05\n",
      " -3.0517578e-05 -3.0517578e-05] as keyword args. From version 0.10 passing these as positional arguments will result in an error\n",
      "  mel=np.mean(librosa.feature.melspectrogram(X, sr=sample_rate).T,axis=0)\n",
      "C:\\Users\\thang\\AppData\\Local\\Temp\\ipykernel_14300\\1750813818.py:16: FutureWarning: Pass y=[-3.0517578e-05 -6.1035156e-05 -3.0517578e-05 ...  0.0000000e+00\n",
      "  0.0000000e+00  0.0000000e+00] as keyword args. From version 0.10 passing these as positional arguments will result in an error\n",
      "  mel=np.mean(librosa.feature.melspectrogram(X, sr=sample_rate).T,axis=0)\n"
     ]
    },
    {
     "name": "stdout",
     "output_type": "stream",
     "text": [
      "C:\\Users\\thang\\Downloads\\Emotion\\Emotion\\speech-emotion-recognition-ravdess-data\\Actor_15\\03-01-03-02-01-02-15.wav 03-01-03-02-01-02-15.wav\n",
      "C:\\Users\\thang\\Downloads\\Emotion\\Emotion\\speech-emotion-recognition-ravdess-data\\Actor_15\\03-01-03-02-02-01-15.wav 03-01-03-02-02-01-15.wav\n",
      "C:\\Users\\thang\\Downloads\\Emotion\\Emotion\\speech-emotion-recognition-ravdess-data\\Actor_15\\03-01-03-02-02-02-15.wav 03-01-03-02-02-02-15.wav\n",
      "C:\\Users\\thang\\Downloads\\Emotion\\Emotion\\speech-emotion-recognition-ravdess-data\\Actor_15\\03-01-04-01-01-01-15.wav 03-01-04-01-01-01-15.wav\n",
      "C:\\Users\\thang\\Downloads\\Emotion\\Emotion\\speech-emotion-recognition-ravdess-data\\Actor_15\\03-01-04-01-01-02-15.wav 03-01-04-01-01-02-15.wav\n",
      "C:\\Users\\thang\\Downloads\\Emotion\\Emotion\\speech-emotion-recognition-ravdess-data\\Actor_15\\03-01-04-01-02-01-15.wav 03-01-04-01-02-01-15.wav\n",
      "C:\\Users\\thang\\Downloads\\Emotion\\Emotion\\speech-emotion-recognition-ravdess-data\\Actor_15\\03-01-04-01-02-02-15.wav 03-01-04-01-02-02-15.wav\n",
      "C:\\Users\\thang\\Downloads\\Emotion\\Emotion\\speech-emotion-recognition-ravdess-data\\Actor_15\\03-01-04-02-01-01-15.wav 03-01-04-02-01-01-15.wav\n",
      "C:\\Users\\thang\\Downloads\\Emotion\\Emotion\\speech-emotion-recognition-ravdess-data\\Actor_15\\03-01-04-02-01-02-15.wav 03-01-04-02-01-02-15.wav\n",
      "C:\\Users\\thang\\Downloads\\Emotion\\Emotion\\speech-emotion-recognition-ravdess-data\\Actor_15\\03-01-04-02-02-01-15.wav 03-01-04-02-02-01-15.wav\n",
      "C:\\Users\\thang\\Downloads\\Emotion\\Emotion\\speech-emotion-recognition-ravdess-data\\Actor_15\\03-01-04-02-02-02-15.wav 03-01-04-02-02-02-15.wav\n",
      "C:\\Users\\thang\\Downloads\\Emotion\\Emotion\\speech-emotion-recognition-ravdess-data\\Actor_15\\03-01-05-01-01-01-15.wav 03-01-05-01-01-01-15.wav\n",
      "C:\\Users\\thang\\Downloads\\Emotion\\Emotion\\speech-emotion-recognition-ravdess-data\\Actor_15\\03-01-05-01-01-02-15.wav 03-01-05-01-01-02-15.wav\n",
      "C:\\Users\\thang\\Downloads\\Emotion\\Emotion\\speech-emotion-recognition-ravdess-data\\Actor_15\\03-01-05-01-02-01-15.wav 03-01-05-01-02-01-15.wav\n",
      "C:\\Users\\thang\\Downloads\\Emotion\\Emotion\\speech-emotion-recognition-ravdess-data\\Actor_15\\03-01-05-01-02-02-15.wav 03-01-05-01-02-02-15.wav\n"
     ]
    },
    {
     "name": "stderr",
     "output_type": "stream",
     "text": [
      "C:\\Users\\thang\\AppData\\Local\\Temp\\ipykernel_14300\\1750813818.py:16: FutureWarning: Pass y=[-3.0517578e-05  0.0000000e+00 -3.0517578e-05 ...  0.0000000e+00\n",
      "  0.0000000e+00  3.0517578e-05] as keyword args. From version 0.10 passing these as positional arguments will result in an error\n",
      "  mel=np.mean(librosa.feature.melspectrogram(X, sr=sample_rate).T,axis=0)\n",
      "C:\\Users\\thang\\AppData\\Local\\Temp\\ipykernel_14300\\1750813818.py:16: FutureWarning: Pass y=[6.1035156e-05 0.0000000e+00 3.0517578e-05 ... 1.5258789e-04 1.5258789e-04\n",
      " 1.8310547e-04] as keyword args. From version 0.10 passing these as positional arguments will result in an error\n",
      "  mel=np.mean(librosa.feature.melspectrogram(X, sr=sample_rate).T,axis=0)\n",
      "C:\\Users\\thang\\AppData\\Local\\Temp\\ipykernel_14300\\1750813818.py:16: FutureWarning: Pass y=[ 9.1552734e-05  3.0517578e-05  1.2207031e-04 ... -3.0517578e-05\n",
      "  0.0000000e+00 -3.0517578e-05] as keyword args. From version 0.10 passing these as positional arguments will result in an error\n",
      "  mel=np.mean(librosa.feature.melspectrogram(X, sr=sample_rate).T,axis=0)\n",
      "C:\\Users\\thang\\AppData\\Local\\Temp\\ipykernel_14300\\1750813818.py:16: FutureWarning: Pass y=[ 0.0000000e+00  0.0000000e+00  0.0000000e+00 ... -1.2207031e-04\n",
      " -1.5258789e-04 -6.1035156e-05] as keyword args. From version 0.10 passing these as positional arguments will result in an error\n",
      "  mel=np.mean(librosa.feature.melspectrogram(X, sr=sample_rate).T,axis=0)\n",
      "C:\\Users\\thang\\AppData\\Local\\Temp\\ipykernel_14300\\1750813818.py:16: FutureWarning: Pass y=[ 0.0000000e+00  0.0000000e+00 -3.0517578e-05 ...  0.0000000e+00\n",
      " -3.0517578e-05 -3.0517578e-05] as keyword args. From version 0.10 passing these as positional arguments will result in an error\n",
      "  mel=np.mean(librosa.feature.melspectrogram(X, sr=sample_rate).T,axis=0)\n"
     ]
    },
    {
     "name": "stdout",
     "output_type": "stream",
     "text": [
      "C:\\Users\\thang\\Downloads\\Emotion\\Emotion\\speech-emotion-recognition-ravdess-data\\Actor_15\\03-01-05-02-01-01-15.wav 03-01-05-02-01-01-15.wav\n",
      "C:\\Users\\thang\\Downloads\\Emotion\\Emotion\\speech-emotion-recognition-ravdess-data\\Actor_15\\03-01-05-02-01-02-15.wav 03-01-05-02-01-02-15.wav\n",
      "C:\\Users\\thang\\Downloads\\Emotion\\Emotion\\speech-emotion-recognition-ravdess-data\\Actor_15\\03-01-05-02-02-01-15.wav 03-01-05-02-02-01-15.wav\n",
      "C:\\Users\\thang\\Downloads\\Emotion\\Emotion\\speech-emotion-recognition-ravdess-data\\Actor_15\\03-01-05-02-02-02-15.wav 03-01-05-02-02-02-15.wav\n",
      "C:\\Users\\thang\\Downloads\\Emotion\\Emotion\\speech-emotion-recognition-ravdess-data\\Actor_15\\03-01-06-01-01-01-15.wav 03-01-06-01-01-01-15.wav\n",
      "C:\\Users\\thang\\Downloads\\Emotion\\Emotion\\speech-emotion-recognition-ravdess-data\\Actor_15\\03-01-06-01-01-02-15.wav 03-01-06-01-01-02-15.wav\n",
      "C:\\Users\\thang\\Downloads\\Emotion\\Emotion\\speech-emotion-recognition-ravdess-data\\Actor_15\\03-01-06-01-02-01-15.wav 03-01-06-01-02-01-15.wav\n",
      "C:\\Users\\thang\\Downloads\\Emotion\\Emotion\\speech-emotion-recognition-ravdess-data\\Actor_15\\03-01-06-01-02-02-15.wav 03-01-06-01-02-02-15.wav\n",
      "C:\\Users\\thang\\Downloads\\Emotion\\Emotion\\speech-emotion-recognition-ravdess-data\\Actor_15\\03-01-06-02-01-01-15.wav 03-01-06-02-01-01-15.wav\n",
      "C:\\Users\\thang\\Downloads\\Emotion\\Emotion\\speech-emotion-recognition-ravdess-data\\Actor_15\\03-01-06-02-01-02-15.wav 03-01-06-02-01-02-15.wav\n",
      "C:\\Users\\thang\\Downloads\\Emotion\\Emotion\\speech-emotion-recognition-ravdess-data\\Actor_15\\03-01-06-02-02-01-15.wav 03-01-06-02-02-01-15.wav\n",
      "C:\\Users\\thang\\Downloads\\Emotion\\Emotion\\speech-emotion-recognition-ravdess-data\\Actor_15\\03-01-06-02-02-02-15.wav 03-01-06-02-02-02-15.wav\n",
      "C:\\Users\\thang\\Downloads\\Emotion\\Emotion\\speech-emotion-recognition-ravdess-data\\Actor_15\\03-01-07-01-01-01-15.wav 03-01-07-01-01-01-15.wav\n",
      "C:\\Users\\thang\\Downloads\\Emotion\\Emotion\\speech-emotion-recognition-ravdess-data\\Actor_15\\03-01-07-01-01-02-15.wav 03-01-07-01-01-02-15.wav\n",
      "C:\\Users\\thang\\Downloads\\Emotion\\Emotion\\speech-emotion-recognition-ravdess-data\\Actor_15\\03-01-07-01-02-01-15.wav 03-01-07-01-02-01-15.wav\n",
      "C:\\Users\\thang\\Downloads\\Emotion\\Emotion\\speech-emotion-recognition-ravdess-data\\Actor_15\\03-01-07-01-02-02-15.wav 03-01-07-01-02-02-15.wav\n",
      "C:\\Users\\thang\\Downloads\\Emotion\\Emotion\\speech-emotion-recognition-ravdess-data\\Actor_15\\03-01-07-02-01-01-15.wav 03-01-07-02-01-01-15.wav\n",
      "C:\\Users\\thang\\Downloads\\Emotion\\Emotion\\speech-emotion-recognition-ravdess-data\\Actor_15\\03-01-07-02-01-02-15.wav 03-01-07-02-01-02-15.wav\n",
      "C:\\Users\\thang\\Downloads\\Emotion\\Emotion\\speech-emotion-recognition-ravdess-data\\Actor_15\\03-01-07-02-02-01-15.wav 03-01-07-02-02-01-15.wav\n",
      "C:\\Users\\thang\\Downloads\\Emotion\\Emotion\\speech-emotion-recognition-ravdess-data\\Actor_15\\03-01-07-02-02-02-15.wav 03-01-07-02-02-02-15.wav\n",
      "C:\\Users\\thang\\Downloads\\Emotion\\Emotion\\speech-emotion-recognition-ravdess-data\\Actor_15\\03-01-08-01-01-01-15.wav 03-01-08-01-01-01-15.wav\n",
      "C:\\Users\\thang\\Downloads\\Emotion\\Emotion\\speech-emotion-recognition-ravdess-data\\Actor_15\\03-01-08-01-01-02-15.wav 03-01-08-01-01-02-15.wav\n",
      "C:\\Users\\thang\\Downloads\\Emotion\\Emotion\\speech-emotion-recognition-ravdess-data\\Actor_15\\03-01-08-01-02-01-15.wav 03-01-08-01-02-01-15.wav\n",
      "C:\\Users\\thang\\Downloads\\Emotion\\Emotion\\speech-emotion-recognition-ravdess-data\\Actor_15\\03-01-08-01-02-02-15.wav 03-01-08-01-02-02-15.wav\n",
      "C:\\Users\\thang\\Downloads\\Emotion\\Emotion\\speech-emotion-recognition-ravdess-data\\Actor_15\\03-01-08-02-01-01-15.wav 03-01-08-02-01-01-15.wav\n",
      "C:\\Users\\thang\\Downloads\\Emotion\\Emotion\\speech-emotion-recognition-ravdess-data\\Actor_15\\03-01-08-02-01-02-15.wav 03-01-08-02-01-02-15.wav\n",
      "C:\\Users\\thang\\Downloads\\Emotion\\Emotion\\speech-emotion-recognition-ravdess-data\\Actor_15\\03-01-08-02-02-01-15.wav 03-01-08-02-02-01-15.wav\n",
      "C:\\Users\\thang\\Downloads\\Emotion\\Emotion\\speech-emotion-recognition-ravdess-data\\Actor_15\\03-01-08-02-02-02-15.wav 03-01-08-02-02-02-15.wav\n",
      "C:\\Users\\thang\\Downloads\\Emotion\\Emotion\\speech-emotion-recognition-ravdess-data\\Actor_16\\03-01-01-01-01-01-16.wav 03-01-01-01-01-01-16.wav\n",
      "C:\\Users\\thang\\Downloads\\Emotion\\Emotion\\speech-emotion-recognition-ravdess-data\\Actor_16\\03-01-01-01-01-02-16.wav 03-01-01-01-01-02-16.wav\n",
      "C:\\Users\\thang\\Downloads\\Emotion\\Emotion\\speech-emotion-recognition-ravdess-data\\Actor_16\\03-01-01-01-02-01-16.wav 03-01-01-01-02-01-16.wav\n",
      "C:\\Users\\thang\\Downloads\\Emotion\\Emotion\\speech-emotion-recognition-ravdess-data\\Actor_16\\03-01-01-01-02-02-16.wav 03-01-01-01-02-02-16.wav\n",
      "C:\\Users\\thang\\Downloads\\Emotion\\Emotion\\speech-emotion-recognition-ravdess-data\\Actor_16\\03-01-02-01-01-01-16.wav 03-01-02-01-01-01-16.wav\n",
      "C:\\Users\\thang\\Downloads\\Emotion\\Emotion\\speech-emotion-recognition-ravdess-data\\Actor_16\\03-01-02-01-01-02-16.wav 03-01-02-01-01-02-16.wav\n",
      "C:\\Users\\thang\\Downloads\\Emotion\\Emotion\\speech-emotion-recognition-ravdess-data\\Actor_16\\03-01-02-01-02-01-16.wav 03-01-02-01-02-01-16.wav\n"
     ]
    },
    {
     "name": "stderr",
     "output_type": "stream",
     "text": [
      "C:\\Users\\thang\\AppData\\Local\\Temp\\ipykernel_14300\\1750813818.py:16: FutureWarning: Pass y=[ 3.0517578e-05  3.0517578e-05  0.0000000e+00 ... -6.1035156e-05\n",
      " -6.1035156e-05 -6.1035156e-05] as keyword args. From version 0.10 passing these as positional arguments will result in an error\n",
      "  mel=np.mean(librosa.feature.melspectrogram(X, sr=sample_rate).T,axis=0)\n",
      "C:\\Users\\thang\\AppData\\Local\\Temp\\ipykernel_14300\\1750813818.py:16: FutureWarning: Pass y=[ 0.          0.          0.         ... -0.00012207 -0.00012207\n",
      " -0.00012207] as keyword args. From version 0.10 passing these as positional arguments will result in an error\n",
      "  mel=np.mean(librosa.feature.melspectrogram(X, sr=sample_rate).T,axis=0)\n",
      "C:\\Users\\thang\\AppData\\Local\\Temp\\ipykernel_14300\\1750813818.py:16: FutureWarning: Pass y=[-6.1035156e-05 -6.1035156e-05 -6.1035156e-05 ...  1.2207031e-04\n",
      "  1.5258789e-04  9.1552734e-05] as keyword args. From version 0.10 passing these as positional arguments will result in an error\n",
      "  mel=np.mean(librosa.feature.melspectrogram(X, sr=sample_rate).T,axis=0)\n"
     ]
    },
    {
     "name": "stdout",
     "output_type": "stream",
     "text": [
      "C:\\Users\\thang\\Downloads\\Emotion\\Emotion\\speech-emotion-recognition-ravdess-data\\Actor_16\\03-01-02-01-02-02-16.wav 03-01-02-01-02-02-16.wav\n",
      "C:\\Users\\thang\\Downloads\\Emotion\\Emotion\\speech-emotion-recognition-ravdess-data\\Actor_16\\03-01-02-02-01-01-16.wav 03-01-02-02-01-01-16.wav\n",
      "C:\\Users\\thang\\Downloads\\Emotion\\Emotion\\speech-emotion-recognition-ravdess-data\\Actor_16\\03-01-02-02-01-02-16.wav 03-01-02-02-01-02-16.wav\n",
      "C:\\Users\\thang\\Downloads\\Emotion\\Emotion\\speech-emotion-recognition-ravdess-data\\Actor_16\\03-01-02-02-02-01-16.wav 03-01-02-02-02-01-16.wav\n",
      "C:\\Users\\thang\\Downloads\\Emotion\\Emotion\\speech-emotion-recognition-ravdess-data\\Actor_16\\03-01-02-02-02-02-16.wav 03-01-02-02-02-02-16.wav\n",
      "C:\\Users\\thang\\Downloads\\Emotion\\Emotion\\speech-emotion-recognition-ravdess-data\\Actor_16\\03-01-03-01-01-01-16.wav 03-01-03-01-01-01-16.wav\n",
      "C:\\Users\\thang\\Downloads\\Emotion\\Emotion\\speech-emotion-recognition-ravdess-data\\Actor_16\\03-01-03-01-01-02-16.wav 03-01-03-01-01-02-16.wav\n",
      "C:\\Users\\thang\\Downloads\\Emotion\\Emotion\\speech-emotion-recognition-ravdess-data\\Actor_16\\03-01-03-01-02-01-16.wav 03-01-03-01-02-01-16.wav\n",
      "C:\\Users\\thang\\Downloads\\Emotion\\Emotion\\speech-emotion-recognition-ravdess-data\\Actor_16\\03-01-03-01-02-02-16.wav 03-01-03-01-02-02-16.wav\n",
      "C:\\Users\\thang\\Downloads\\Emotion\\Emotion\\speech-emotion-recognition-ravdess-data\\Actor_16\\03-01-03-02-01-01-16.wav 03-01-03-02-01-01-16.wav\n",
      "C:\\Users\\thang\\Downloads\\Emotion\\Emotion\\speech-emotion-recognition-ravdess-data\\Actor_16\\03-01-03-02-01-02-16.wav 03-01-03-02-01-02-16.wav\n",
      "C:\\Users\\thang\\Downloads\\Emotion\\Emotion\\speech-emotion-recognition-ravdess-data\\Actor_16\\03-01-03-02-02-01-16.wav 03-01-03-02-02-01-16.wav\n",
      "C:\\Users\\thang\\Downloads\\Emotion\\Emotion\\speech-emotion-recognition-ravdess-data\\Actor_16\\03-01-03-02-02-02-16.wav 03-01-03-02-02-02-16.wav\n"
     ]
    },
    {
     "name": "stderr",
     "output_type": "stream",
     "text": [
      "C:\\Users\\thang\\AppData\\Local\\Temp\\ipykernel_14300\\1750813818.py:16: FutureWarning: Pass y=[ 0.0000000e+00  0.0000000e+00  0.0000000e+00 ...  0.0000000e+00\n",
      " -6.1035156e-05  0.0000000e+00] as keyword args. From version 0.10 passing these as positional arguments will result in an error\n",
      "  mel=np.mean(librosa.feature.melspectrogram(X, sr=sample_rate).T,axis=0)\n",
      "C:\\Users\\thang\\AppData\\Local\\Temp\\ipykernel_14300\\1750813818.py:16: FutureWarning: Pass y=[ 0.0000000e+00  0.0000000e+00  0.0000000e+00 ...  0.0000000e+00\n",
      " -6.1035156e-05 -3.0517578e-05] as keyword args. From version 0.10 passing these as positional arguments will result in an error\n",
      "  mel=np.mean(librosa.feature.melspectrogram(X, sr=sample_rate).T,axis=0)\n"
     ]
    },
    {
     "name": "stdout",
     "output_type": "stream",
     "text": [
      "C:\\Users\\thang\\Downloads\\Emotion\\Emotion\\speech-emotion-recognition-ravdess-data\\Actor_16\\03-01-04-01-01-01-16.wav 03-01-04-01-01-01-16.wav\n",
      "C:\\Users\\thang\\Downloads\\Emotion\\Emotion\\speech-emotion-recognition-ravdess-data\\Actor_16\\03-01-04-01-01-02-16.wav 03-01-04-01-01-02-16.wav\n",
      "C:\\Users\\thang\\Downloads\\Emotion\\Emotion\\speech-emotion-recognition-ravdess-data\\Actor_16\\03-01-04-01-02-01-16.wav 03-01-04-01-02-01-16.wav\n",
      "C:\\Users\\thang\\Downloads\\Emotion\\Emotion\\speech-emotion-recognition-ravdess-data\\Actor_16\\03-01-04-01-02-02-16.wav 03-01-04-01-02-02-16.wav\n",
      "C:\\Users\\thang\\Downloads\\Emotion\\Emotion\\speech-emotion-recognition-ravdess-data\\Actor_16\\03-01-04-02-01-01-16.wav 03-01-04-02-01-01-16.wav\n",
      "C:\\Users\\thang\\Downloads\\Emotion\\Emotion\\speech-emotion-recognition-ravdess-data\\Actor_16\\03-01-04-02-01-02-16.wav 03-01-04-02-01-02-16.wav\n",
      "C:\\Users\\thang\\Downloads\\Emotion\\Emotion\\speech-emotion-recognition-ravdess-data\\Actor_16\\03-01-04-02-02-01-16.wav 03-01-04-02-02-01-16.wav\n",
      "C:\\Users\\thang\\Downloads\\Emotion\\Emotion\\speech-emotion-recognition-ravdess-data\\Actor_16\\03-01-04-02-02-02-16.wav 03-01-04-02-02-02-16.wav\n",
      "C:\\Users\\thang\\Downloads\\Emotion\\Emotion\\speech-emotion-recognition-ravdess-data\\Actor_16\\03-01-05-01-01-01-16.wav 03-01-05-01-01-01-16.wav\n",
      "C:\\Users\\thang\\Downloads\\Emotion\\Emotion\\speech-emotion-recognition-ravdess-data\\Actor_16\\03-01-05-01-01-02-16.wav 03-01-05-01-01-02-16.wav\n",
      "C:\\Users\\thang\\Downloads\\Emotion\\Emotion\\speech-emotion-recognition-ravdess-data\\Actor_16\\03-01-05-01-02-01-16.wav 03-01-05-01-02-01-16.wav\n",
      "C:\\Users\\thang\\Downloads\\Emotion\\Emotion\\speech-emotion-recognition-ravdess-data\\Actor_16\\03-01-05-01-02-02-16.wav 03-01-05-01-02-02-16.wav\n",
      "C:\\Users\\thang\\Downloads\\Emotion\\Emotion\\speech-emotion-recognition-ravdess-data\\Actor_16\\03-01-05-02-01-01-16.wav 03-01-05-02-01-01-16.wav\n",
      "C:\\Users\\thang\\Downloads\\Emotion\\Emotion\\speech-emotion-recognition-ravdess-data\\Actor_16\\03-01-05-02-01-02-16.wav 03-01-05-02-01-02-16.wav\n",
      "C:\\Users\\thang\\Downloads\\Emotion\\Emotion\\speech-emotion-recognition-ravdess-data\\Actor_16\\03-01-05-02-02-01-16.wav 03-01-05-02-02-01-16.wav\n",
      "C:\\Users\\thang\\Downloads\\Emotion\\Emotion\\speech-emotion-recognition-ravdess-data\\Actor_16\\03-01-05-02-02-02-16.wav 03-01-05-02-02-02-16.wav\n",
      "C:\\Users\\thang\\Downloads\\Emotion\\Emotion\\speech-emotion-recognition-ravdess-data\\Actor_16\\03-01-06-01-01-01-16.wav 03-01-06-01-01-01-16.wav\n",
      "C:\\Users\\thang\\Downloads\\Emotion\\Emotion\\speech-emotion-recognition-ravdess-data\\Actor_16\\03-01-06-01-01-02-16.wav 03-01-06-01-01-02-16.wav\n",
      "C:\\Users\\thang\\Downloads\\Emotion\\Emotion\\speech-emotion-recognition-ravdess-data\\Actor_16\\03-01-06-01-02-01-16.wav 03-01-06-01-02-01-16.wav\n",
      "C:\\Users\\thang\\Downloads\\Emotion\\Emotion\\speech-emotion-recognition-ravdess-data\\Actor_16\\03-01-06-01-02-02-16.wav 03-01-06-01-02-02-16.wav\n",
      "C:\\Users\\thang\\Downloads\\Emotion\\Emotion\\speech-emotion-recognition-ravdess-data\\Actor_16\\03-01-06-02-01-01-16.wav 03-01-06-02-01-01-16.wav\n",
      "C:\\Users\\thang\\Downloads\\Emotion\\Emotion\\speech-emotion-recognition-ravdess-data\\Actor_16\\03-01-06-02-01-02-16.wav 03-01-06-02-01-02-16.wav\n",
      "C:\\Users\\thang\\Downloads\\Emotion\\Emotion\\speech-emotion-recognition-ravdess-data\\Actor_16\\03-01-06-02-02-01-16.wav 03-01-06-02-02-01-16.wav\n",
      "C:\\Users\\thang\\Downloads\\Emotion\\Emotion\\speech-emotion-recognition-ravdess-data\\Actor_16\\03-01-06-02-02-02-16.wav 03-01-06-02-02-02-16.wav\n",
      "C:\\Users\\thang\\Downloads\\Emotion\\Emotion\\speech-emotion-recognition-ravdess-data\\Actor_16\\03-01-07-01-01-01-16.wav 03-01-07-01-01-01-16.wav\n",
      "C:\\Users\\thang\\Downloads\\Emotion\\Emotion\\speech-emotion-recognition-ravdess-data\\Actor_16\\03-01-07-01-01-02-16.wav 03-01-07-01-01-02-16.wav\n",
      "C:\\Users\\thang\\Downloads\\Emotion\\Emotion\\speech-emotion-recognition-ravdess-data\\Actor_16\\03-01-07-01-02-01-16.wav 03-01-07-01-02-01-16.wav\n",
      "C:\\Users\\thang\\Downloads\\Emotion\\Emotion\\speech-emotion-recognition-ravdess-data\\Actor_16\\03-01-07-01-02-02-16.wav 03-01-07-01-02-02-16.wav\n",
      "C:\\Users\\thang\\Downloads\\Emotion\\Emotion\\speech-emotion-recognition-ravdess-data\\Actor_16\\03-01-07-02-01-01-16.wav 03-01-07-02-01-01-16.wav\n",
      "C:\\Users\\thang\\Downloads\\Emotion\\Emotion\\speech-emotion-recognition-ravdess-data\\Actor_16\\03-01-07-02-01-02-16.wav 03-01-07-02-01-02-16.wav\n",
      "C:\\Users\\thang\\Downloads\\Emotion\\Emotion\\speech-emotion-recognition-ravdess-data\\Actor_16\\03-01-07-02-02-01-16.wav 03-01-07-02-02-01-16.wav\n",
      "C:\\Users\\thang\\Downloads\\Emotion\\Emotion\\speech-emotion-recognition-ravdess-data\\Actor_16\\03-01-07-02-02-02-16.wav 03-01-07-02-02-02-16.wav\n",
      "C:\\Users\\thang\\Downloads\\Emotion\\Emotion\\speech-emotion-recognition-ravdess-data\\Actor_16\\03-01-08-01-01-01-16.wav 03-01-08-01-01-01-16.wav\n",
      "C:\\Users\\thang\\Downloads\\Emotion\\Emotion\\speech-emotion-recognition-ravdess-data\\Actor_16\\03-01-08-01-01-02-16.wav 03-01-08-01-01-02-16.wav\n",
      "C:\\Users\\thang\\Downloads\\Emotion\\Emotion\\speech-emotion-recognition-ravdess-data\\Actor_16\\03-01-08-01-02-01-16.wav 03-01-08-01-02-01-16.wav\n",
      "C:\\Users\\thang\\Downloads\\Emotion\\Emotion\\speech-emotion-recognition-ravdess-data\\Actor_16\\03-01-08-01-02-02-16.wav 03-01-08-01-02-02-16.wav\n",
      "C:\\Users\\thang\\Downloads\\Emotion\\Emotion\\speech-emotion-recognition-ravdess-data\\Actor_16\\03-01-08-02-01-01-16.wav 03-01-08-02-01-01-16.wav\n",
      "C:\\Users\\thang\\Downloads\\Emotion\\Emotion\\speech-emotion-recognition-ravdess-data\\Actor_16\\03-01-08-02-01-02-16.wav 03-01-08-02-01-02-16.wav\n",
      "C:\\Users\\thang\\Downloads\\Emotion\\Emotion\\speech-emotion-recognition-ravdess-data\\Actor_16\\03-01-08-02-02-01-16.wav 03-01-08-02-02-01-16.wav\n",
      "C:\\Users\\thang\\Downloads\\Emotion\\Emotion\\speech-emotion-recognition-ravdess-data\\Actor_16\\03-01-08-02-02-02-16.wav 03-01-08-02-02-02-16.wav\n",
      "C:\\Users\\thang\\Downloads\\Emotion\\Emotion\\speech-emotion-recognition-ravdess-data\\Actor_17\\03-01-01-01-01-01-17.wav 03-01-01-01-01-01-17.wav\n",
      "C:\\Users\\thang\\Downloads\\Emotion\\Emotion\\speech-emotion-recognition-ravdess-data\\Actor_17\\03-01-01-01-01-02-17.wav 03-01-01-01-01-02-17.wav\n",
      "C:\\Users\\thang\\Downloads\\Emotion\\Emotion\\speech-emotion-recognition-ravdess-data\\Actor_17\\03-01-01-01-02-01-17.wav 03-01-01-01-02-01-17.wav\n",
      "C:\\Users\\thang\\Downloads\\Emotion\\Emotion\\speech-emotion-recognition-ravdess-data\\Actor_17\\03-01-01-01-02-02-17.wav 03-01-01-01-02-02-17.wav\n",
      "C:\\Users\\thang\\Downloads\\Emotion\\Emotion\\speech-emotion-recognition-ravdess-data\\Actor_17\\03-01-02-01-01-01-17.wav 03-01-02-01-01-01-17.wav\n",
      "C:\\Users\\thang\\Downloads\\Emotion\\Emotion\\speech-emotion-recognition-ravdess-data\\Actor_17\\03-01-02-01-01-02-17.wav 03-01-02-01-01-02-17.wav\n",
      "C:\\Users\\thang\\Downloads\\Emotion\\Emotion\\speech-emotion-recognition-ravdess-data\\Actor_17\\03-01-02-01-02-01-17.wav 03-01-02-01-02-01-17.wav\n"
     ]
    },
    {
     "name": "stderr",
     "output_type": "stream",
     "text": [
      "C:\\Users\\thang\\AppData\\Local\\Temp\\ipykernel_14300\\1750813818.py:16: FutureWarning: Pass y=[ 0.0000000e+00  3.0517578e-05  0.0000000e+00 ... -9.1552734e-05\n",
      " -6.1035156e-05 -9.1552734e-05] as keyword args. From version 0.10 passing these as positional arguments will result in an error\n",
      "  mel=np.mean(librosa.feature.melspectrogram(X, sr=sample_rate).T,axis=0)\n",
      "C:\\Users\\thang\\AppData\\Local\\Temp\\ipykernel_14300\\1750813818.py:16: FutureWarning: Pass y=[ 9.1552734e-05  6.1035156e-05  9.1552734e-05 ... -3.0517578e-04\n",
      " -3.0517578e-04 -3.0517578e-04] as keyword args. From version 0.10 passing these as positional arguments will result in an error\n",
      "  mel=np.mean(librosa.feature.melspectrogram(X, sr=sample_rate).T,axis=0)\n",
      "C:\\Users\\thang\\AppData\\Local\\Temp\\ipykernel_14300\\1750813818.py:16: FutureWarning: Pass y=[6.1035156e-05 3.0517578e-05 1.2207031e-04 ... 0.0000000e+00 0.0000000e+00\n",
      " 0.0000000e+00] as keyword args. From version 0.10 passing these as positional arguments will result in an error\n",
      "  mel=np.mean(librosa.feature.melspectrogram(X, sr=sample_rate).T,axis=0)\n"
     ]
    },
    {
     "name": "stdout",
     "output_type": "stream",
     "text": [
      "C:\\Users\\thang\\Downloads\\Emotion\\Emotion\\speech-emotion-recognition-ravdess-data\\Actor_17\\03-01-02-01-02-02-17.wav 03-01-02-01-02-02-17.wav\n",
      "C:\\Users\\thang\\Downloads\\Emotion\\Emotion\\speech-emotion-recognition-ravdess-data\\Actor_17\\03-01-02-02-01-01-17.wav 03-01-02-02-01-01-17.wav\n",
      "C:\\Users\\thang\\Downloads\\Emotion\\Emotion\\speech-emotion-recognition-ravdess-data\\Actor_17\\03-01-02-02-01-02-17.wav 03-01-02-02-01-02-17.wav\n",
      "C:\\Users\\thang\\Downloads\\Emotion\\Emotion\\speech-emotion-recognition-ravdess-data\\Actor_17\\03-01-02-02-02-01-17.wav 03-01-02-02-02-01-17.wav\n",
      "C:\\Users\\thang\\Downloads\\Emotion\\Emotion\\speech-emotion-recognition-ravdess-data\\Actor_17\\03-01-02-02-02-02-17.wav 03-01-02-02-02-02-17.wav\n",
      "C:\\Users\\thang\\Downloads\\Emotion\\Emotion\\speech-emotion-recognition-ravdess-data\\Actor_17\\03-01-03-01-01-01-17.wav 03-01-03-01-01-01-17.wav\n"
     ]
    },
    {
     "name": "stderr",
     "output_type": "stream",
     "text": [
      "C:\\Users\\thang\\AppData\\Local\\Temp\\ipykernel_14300\\1750813818.py:16: FutureWarning: Pass y=[6.1035156e-05 3.0517578e-05 6.1035156e-05 ... 0.0000000e+00 0.0000000e+00\n",
      " 0.0000000e+00] as keyword args. From version 0.10 passing these as positional arguments will result in an error\n",
      "  mel=np.mean(librosa.feature.melspectrogram(X, sr=sample_rate).T,axis=0)\n",
      "C:\\Users\\thang\\AppData\\Local\\Temp\\ipykernel_14300\\1750813818.py:16: FutureWarning: Pass y=[ 6.1035156e-05  6.1035156e-05  6.1035156e-05 ... -9.1552734e-05\n",
      " -9.1552734e-05 -6.1035156e-05] as keyword args. From version 0.10 passing these as positional arguments will result in an error\n",
      "  mel=np.mean(librosa.feature.melspectrogram(X, sr=sample_rate).T,axis=0)\n",
      "C:\\Users\\thang\\AppData\\Local\\Temp\\ipykernel_14300\\1750813818.py:16: FutureWarning: Pass y=[-2.1362305e-04 -9.1552734e-05  0.0000000e+00 ... -1.2207031e-04\n",
      " -1.5258789e-04 -1.2207031e-04] as keyword args. From version 0.10 passing these as positional arguments will result in an error\n",
      "  mel=np.mean(librosa.feature.melspectrogram(X, sr=sample_rate).T,axis=0)\n",
      "C:\\Users\\thang\\AppData\\Local\\Temp\\ipykernel_14300\\1750813818.py:16: FutureWarning: Pass y=[1.8310547e-04 1.5258789e-04 3.0517578e-05 ... 9.1552734e-05 9.1552734e-05\n",
      " 9.1552734e-05] as keyword args. From version 0.10 passing these as positional arguments will result in an error\n",
      "  mel=np.mean(librosa.feature.melspectrogram(X, sr=sample_rate).T,axis=0)\n"
     ]
    },
    {
     "name": "stdout",
     "output_type": "stream",
     "text": [
      "C:\\Users\\thang\\Downloads\\Emotion\\Emotion\\speech-emotion-recognition-ravdess-data\\Actor_17\\03-01-03-01-01-02-17.wav 03-01-03-01-01-02-17.wav\n",
      "C:\\Users\\thang\\Downloads\\Emotion\\Emotion\\speech-emotion-recognition-ravdess-data\\Actor_17\\03-01-03-01-02-01-17.wav 03-01-03-01-02-01-17.wav\n",
      "C:\\Users\\thang\\Downloads\\Emotion\\Emotion\\speech-emotion-recognition-ravdess-data\\Actor_17\\03-01-03-01-02-02-17.wav 03-01-03-01-02-02-17.wav\n",
      "C:\\Users\\thang\\Downloads\\Emotion\\Emotion\\speech-emotion-recognition-ravdess-data\\Actor_17\\03-01-03-02-01-01-17.wav 03-01-03-02-01-01-17.wav\n",
      "C:\\Users\\thang\\Downloads\\Emotion\\Emotion\\speech-emotion-recognition-ravdess-data\\Actor_17\\03-01-03-02-01-02-17.wav 03-01-03-02-01-02-17.wav\n"
     ]
    },
    {
     "name": "stderr",
     "output_type": "stream",
     "text": [
      "C:\\Users\\thang\\AppData\\Local\\Temp\\ipykernel_14300\\1750813818.py:16: FutureWarning: Pass y=[ 1.2207031e-04  1.2207031e-04  1.5258789e-04 ... -2.4414062e-04\n",
      " -9.1552734e-05  0.0000000e+00] as keyword args. From version 0.10 passing these as positional arguments will result in an error\n",
      "  mel=np.mean(librosa.feature.melspectrogram(X, sr=sample_rate).T,axis=0)\n",
      "C:\\Users\\thang\\AppData\\Local\\Temp\\ipykernel_14300\\1750813818.py:16: FutureWarning: Pass y=[-3.3569336e-04 -9.1552734e-05  3.9672852e-04 ...  1.5258789e-04\n",
      "  1.2207031e-04  1.2207031e-04] as keyword args. From version 0.10 passing these as positional arguments will result in an error\n",
      "  mel=np.mean(librosa.feature.melspectrogram(X, sr=sample_rate).T,axis=0)\n",
      "C:\\Users\\thang\\AppData\\Local\\Temp\\ipykernel_14300\\1750813818.py:16: FutureWarning: Pass y=[9.1552734e-05 9.1552734e-05 6.1035156e-05 ... 0.0000000e+00 0.0000000e+00\n",
      " 0.0000000e+00] as keyword args. From version 0.10 passing these as positional arguments will result in an error\n",
      "  mel=np.mean(librosa.feature.melspectrogram(X, sr=sample_rate).T,axis=0)\n",
      "C:\\Users\\thang\\AppData\\Local\\Temp\\ipykernel_14300\\1750813818.py:16: FutureWarning: Pass y=[ 1.8310547e-04  1.8310547e-04  6.1035156e-05 ... -3.0517578e-05\n",
      "  0.0000000e+00 -3.0517578e-05] as keyword args. From version 0.10 passing these as positional arguments will result in an error\n",
      "  mel=np.mean(librosa.feature.melspectrogram(X, sr=sample_rate).T,axis=0)\n",
      "C:\\Users\\thang\\AppData\\Local\\Temp\\ipykernel_14300\\1750813818.py:16: FutureWarning: Pass y=[-9.1552734e-05 -6.1035156e-05 -6.1035156e-05 ... -1.5258789e-04\n",
      " -1.5258789e-04 -1.5258789e-04] as keyword args. From version 0.10 passing these as positional arguments will result in an error\n",
      "  mel=np.mean(librosa.feature.melspectrogram(X, sr=sample_rate).T,axis=0)\n"
     ]
    },
    {
     "name": "stdout",
     "output_type": "stream",
     "text": [
      "C:\\Users\\thang\\Downloads\\Emotion\\Emotion\\speech-emotion-recognition-ravdess-data\\Actor_17\\03-01-03-02-02-01-17.wav 03-01-03-02-02-01-17.wav\n",
      "C:\\Users\\thang\\Downloads\\Emotion\\Emotion\\speech-emotion-recognition-ravdess-data\\Actor_17\\03-01-03-02-02-02-17.wav 03-01-03-02-02-02-17.wav\n",
      "C:\\Users\\thang\\Downloads\\Emotion\\Emotion\\speech-emotion-recognition-ravdess-data\\Actor_17\\03-01-04-01-01-01-17.wav 03-01-04-01-01-01-17.wav\n",
      "C:\\Users\\thang\\Downloads\\Emotion\\Emotion\\speech-emotion-recognition-ravdess-data\\Actor_17\\03-01-04-01-01-02-17.wav 03-01-04-01-01-02-17.wav\n",
      "C:\\Users\\thang\\Downloads\\Emotion\\Emotion\\speech-emotion-recognition-ravdess-data\\Actor_17\\03-01-04-01-02-01-17.wav 03-01-04-01-02-01-17.wav\n",
      "C:\\Users\\thang\\Downloads\\Emotion\\Emotion\\speech-emotion-recognition-ravdess-data\\Actor_17\\03-01-04-01-02-02-17.wav 03-01-04-01-02-02-17.wav\n",
      "C:\\Users\\thang\\Downloads\\Emotion\\Emotion\\speech-emotion-recognition-ravdess-data\\Actor_17\\03-01-04-02-01-01-17.wav 03-01-04-02-01-01-17.wav\n",
      "C:\\Users\\thang\\Downloads\\Emotion\\Emotion\\speech-emotion-recognition-ravdess-data\\Actor_17\\03-01-04-02-01-02-17.wav 03-01-04-02-01-02-17.wav\n",
      "C:\\Users\\thang\\Downloads\\Emotion\\Emotion\\speech-emotion-recognition-ravdess-data\\Actor_17\\03-01-04-02-02-01-17.wav 03-01-04-02-02-01-17.wav\n",
      "C:\\Users\\thang\\Downloads\\Emotion\\Emotion\\speech-emotion-recognition-ravdess-data\\Actor_17\\03-01-04-02-02-02-17.wav 03-01-04-02-02-02-17.wav\n",
      "C:\\Users\\thang\\Downloads\\Emotion\\Emotion\\speech-emotion-recognition-ravdess-data\\Actor_17\\03-01-05-01-01-01-17.wav 03-01-05-01-01-01-17.wav\n",
      "C:\\Users\\thang\\Downloads\\Emotion\\Emotion\\speech-emotion-recognition-ravdess-data\\Actor_17\\03-01-05-01-01-02-17.wav 03-01-05-01-01-02-17.wav\n",
      "C:\\Users\\thang\\Downloads\\Emotion\\Emotion\\speech-emotion-recognition-ravdess-data\\Actor_17\\03-01-05-01-02-01-17.wav 03-01-05-01-02-01-17.wav\n",
      "C:\\Users\\thang\\Downloads\\Emotion\\Emotion\\speech-emotion-recognition-ravdess-data\\Actor_17\\03-01-05-01-02-02-17.wav 03-01-05-01-02-02-17.wav\n",
      "C:\\Users\\thang\\Downloads\\Emotion\\Emotion\\speech-emotion-recognition-ravdess-data\\Actor_17\\03-01-05-02-01-01-17.wav 03-01-05-02-01-01-17.wav\n"
     ]
    },
    {
     "name": "stderr",
     "output_type": "stream",
     "text": [
      "C:\\Users\\thang\\AppData\\Local\\Temp\\ipykernel_14300\\1750813818.py:16: FutureWarning: Pass y=[ 0.0000000e+00 -3.0517578e-05 -3.0517578e-05 ... -1.2207031e-04\n",
      " -1.5258789e-04 -9.1552734e-05] as keyword args. From version 0.10 passing these as positional arguments will result in an error\n",
      "  mel=np.mean(librosa.feature.melspectrogram(X, sr=sample_rate).T,axis=0)\n",
      "C:\\Users\\thang\\AppData\\Local\\Temp\\ipykernel_14300\\1750813818.py:16: FutureWarning: Pass y=[1.2207031e-04 3.0517578e-05 0.0000000e+00 ... 0.0000000e+00 0.0000000e+00\n",
      " 0.0000000e+00] as keyword args. From version 0.10 passing these as positional arguments will result in an error\n",
      "  mel=np.mean(librosa.feature.melspectrogram(X, sr=sample_rate).T,axis=0)\n",
      "C:\\Users\\thang\\AppData\\Local\\Temp\\ipykernel_14300\\1750813818.py:16: FutureWarning: Pass y=[-9.1552734e-05 -3.0517578e-05  0.0000000e+00 ...  3.0517578e-05\n",
      "  6.1035156e-05  0.0000000e+00] as keyword args. From version 0.10 passing these as positional arguments will result in an error\n",
      "  mel=np.mean(librosa.feature.melspectrogram(X, sr=sample_rate).T,axis=0)\n",
      "C:\\Users\\thang\\AppData\\Local\\Temp\\ipykernel_14300\\1750813818.py:16: FutureWarning: Pass y=[-1.5258789e-04 -6.1035156e-05 -1.5258789e-04 ...  0.0000000e+00\n",
      "  0.0000000e+00  0.0000000e+00] as keyword args. From version 0.10 passing these as positional arguments will result in an error\n",
      "  mel=np.mean(librosa.feature.melspectrogram(X, sr=sample_rate).T,axis=0)\n",
      "C:\\Users\\thang\\AppData\\Local\\Temp\\ipykernel_14300\\1750813818.py:16: FutureWarning: Pass y=[0.00018311 0.00018311 0.00018311 ... 0.         0.         0.        ] as keyword args. From version 0.10 passing these as positional arguments will result in an error\n",
      "  mel=np.mean(librosa.feature.melspectrogram(X, sr=sample_rate).T,axis=0)\n",
      "C:\\Users\\thang\\AppData\\Local\\Temp\\ipykernel_14300\\1750813818.py:16: FutureWarning: Pass y=[-2.4414062e-04 -9.1552734e-05 -3.0517578e-05 ... -6.1035156e-05\n",
      " -3.0517578e-05  0.0000000e+00] as keyword args. From version 0.10 passing these as positional arguments will result in an error\n",
      "  mel=np.mean(librosa.feature.melspectrogram(X, sr=sample_rate).T,axis=0)\n"
     ]
    },
    {
     "name": "stdout",
     "output_type": "stream",
     "text": [
      "C:\\Users\\thang\\Downloads\\Emotion\\Emotion\\speech-emotion-recognition-ravdess-data\\Actor_17\\03-01-05-02-01-02-17.wav 03-01-05-02-01-02-17.wav\n",
      "C:\\Users\\thang\\Downloads\\Emotion\\Emotion\\speech-emotion-recognition-ravdess-data\\Actor_17\\03-01-05-02-02-01-17.wav 03-01-05-02-02-01-17.wav\n",
      "C:\\Users\\thang\\Downloads\\Emotion\\Emotion\\speech-emotion-recognition-ravdess-data\\Actor_17\\03-01-05-02-02-02-17.wav 03-01-05-02-02-02-17.wav\n",
      "C:\\Users\\thang\\Downloads\\Emotion\\Emotion\\speech-emotion-recognition-ravdess-data\\Actor_17\\03-01-06-01-01-01-17.wav 03-01-06-01-01-01-17.wav\n",
      "C:\\Users\\thang\\Downloads\\Emotion\\Emotion\\speech-emotion-recognition-ravdess-data\\Actor_17\\03-01-06-01-01-02-17.wav 03-01-06-01-01-02-17.wav\n",
      "C:\\Users\\thang\\Downloads\\Emotion\\Emotion\\speech-emotion-recognition-ravdess-data\\Actor_17\\03-01-06-01-02-01-17.wav 03-01-06-01-02-01-17.wav\n",
      "C:\\Users\\thang\\Downloads\\Emotion\\Emotion\\speech-emotion-recognition-ravdess-data\\Actor_17\\03-01-06-01-02-02-17.wav 03-01-06-01-02-02-17.wav\n",
      "C:\\Users\\thang\\Downloads\\Emotion\\Emotion\\speech-emotion-recognition-ravdess-data\\Actor_17\\03-01-06-02-01-01-17.wav 03-01-06-02-01-01-17.wav\n",
      "C:\\Users\\thang\\Downloads\\Emotion\\Emotion\\speech-emotion-recognition-ravdess-data\\Actor_17\\03-01-06-02-01-02-17.wav 03-01-06-02-01-02-17.wav\n",
      "C:\\Users\\thang\\Downloads\\Emotion\\Emotion\\speech-emotion-recognition-ravdess-data\\Actor_17\\03-01-06-02-02-01-17.wav 03-01-06-02-02-01-17.wav\n",
      "C:\\Users\\thang\\Downloads\\Emotion\\Emotion\\speech-emotion-recognition-ravdess-data\\Actor_17\\03-01-06-02-02-02-17.wav 03-01-06-02-02-02-17.wav\n",
      "C:\\Users\\thang\\Downloads\\Emotion\\Emotion\\speech-emotion-recognition-ravdess-data\\Actor_17\\03-01-07-01-01-01-17.wav 03-01-07-01-01-01-17.wav\n",
      "C:\\Users\\thang\\Downloads\\Emotion\\Emotion\\speech-emotion-recognition-ravdess-data\\Actor_17\\03-01-07-01-01-02-17.wav 03-01-07-01-01-02-17.wav\n",
      "C:\\Users\\thang\\Downloads\\Emotion\\Emotion\\speech-emotion-recognition-ravdess-data\\Actor_17\\03-01-07-01-02-01-17.wav 03-01-07-01-02-01-17.wav\n",
      "C:\\Users\\thang\\Downloads\\Emotion\\Emotion\\speech-emotion-recognition-ravdess-data\\Actor_17\\03-01-07-01-02-02-17.wav 03-01-07-01-02-02-17.wav\n",
      "C:\\Users\\thang\\Downloads\\Emotion\\Emotion\\speech-emotion-recognition-ravdess-data\\Actor_17\\03-01-07-02-01-01-17.wav 03-01-07-02-01-01-17.wav\n",
      "C:\\Users\\thang\\Downloads\\Emotion\\Emotion\\speech-emotion-recognition-ravdess-data\\Actor_17\\03-01-07-02-01-02-17.wav 03-01-07-02-01-02-17.wav\n",
      "C:\\Users\\thang\\Downloads\\Emotion\\Emotion\\speech-emotion-recognition-ravdess-data\\Actor_17\\03-01-07-02-02-01-17.wav 03-01-07-02-02-01-17.wav\n",
      "C:\\Users\\thang\\Downloads\\Emotion\\Emotion\\speech-emotion-recognition-ravdess-data\\Actor_17\\03-01-07-02-02-02-17.wav 03-01-07-02-02-02-17.wav\n",
      "C:\\Users\\thang\\Downloads\\Emotion\\Emotion\\speech-emotion-recognition-ravdess-data\\Actor_17\\03-01-08-01-01-01-17.wav 03-01-08-01-01-01-17.wav\n",
      "C:\\Users\\thang\\Downloads\\Emotion\\Emotion\\speech-emotion-recognition-ravdess-data\\Actor_17\\03-01-08-01-01-02-17.wav 03-01-08-01-01-02-17.wav\n",
      "C:\\Users\\thang\\Downloads\\Emotion\\Emotion\\speech-emotion-recognition-ravdess-data\\Actor_17\\03-01-08-01-02-01-17.wav 03-01-08-01-02-01-17.wav\n",
      "C:\\Users\\thang\\Downloads\\Emotion\\Emotion\\speech-emotion-recognition-ravdess-data\\Actor_17\\03-01-08-01-02-02-17.wav 03-01-08-01-02-02-17.wav\n",
      "C:\\Users\\thang\\Downloads\\Emotion\\Emotion\\speech-emotion-recognition-ravdess-data\\Actor_17\\03-01-08-02-01-01-17.wav 03-01-08-02-01-01-17.wav\n",
      "C:\\Users\\thang\\Downloads\\Emotion\\Emotion\\speech-emotion-recognition-ravdess-data\\Actor_17\\03-01-08-02-01-02-17.wav 03-01-08-02-01-02-17.wav\n",
      "C:\\Users\\thang\\Downloads\\Emotion\\Emotion\\speech-emotion-recognition-ravdess-data\\Actor_17\\03-01-08-02-02-01-17.wav 03-01-08-02-02-01-17.wav\n",
      "C:\\Users\\thang\\Downloads\\Emotion\\Emotion\\speech-emotion-recognition-ravdess-data\\Actor_17\\03-01-08-02-02-02-17.wav 03-01-08-02-02-02-17.wav\n",
      "C:\\Users\\thang\\Downloads\\Emotion\\Emotion\\speech-emotion-recognition-ravdess-data\\Actor_18\\03-01-01-01-01-01-18.wav 03-01-01-01-01-01-18.wav\n",
      "C:\\Users\\thang\\Downloads\\Emotion\\Emotion\\speech-emotion-recognition-ravdess-data\\Actor_18\\03-01-01-01-01-02-18.wav 03-01-01-01-01-02-18.wav\n",
      "C:\\Users\\thang\\Downloads\\Emotion\\Emotion\\speech-emotion-recognition-ravdess-data\\Actor_18\\03-01-01-01-02-01-18.wav 03-01-01-01-02-01-18.wav\n",
      "C:\\Users\\thang\\Downloads\\Emotion\\Emotion\\speech-emotion-recognition-ravdess-data\\Actor_18\\03-01-01-01-02-02-18.wav 03-01-01-01-02-02-18.wav\n",
      "C:\\Users\\thang\\Downloads\\Emotion\\Emotion\\speech-emotion-recognition-ravdess-data\\Actor_18\\03-01-02-01-01-01-18.wav 03-01-02-01-01-01-18.wav\n",
      "C:\\Users\\thang\\Downloads\\Emotion\\Emotion\\speech-emotion-recognition-ravdess-data\\Actor_18\\03-01-02-01-01-02-18.wav 03-01-02-01-01-02-18.wav\n",
      "C:\\Users\\thang\\Downloads\\Emotion\\Emotion\\speech-emotion-recognition-ravdess-data\\Actor_18\\03-01-02-01-02-01-18.wav 03-01-02-01-02-01-18.wav\n",
      "C:\\Users\\thang\\Downloads\\Emotion\\Emotion\\speech-emotion-recognition-ravdess-data\\Actor_18\\03-01-02-01-02-02-18.wav 03-01-02-01-02-02-18.wav\n",
      "C:\\Users\\thang\\Downloads\\Emotion\\Emotion\\speech-emotion-recognition-ravdess-data\\Actor_18\\03-01-02-02-01-01-18.wav 03-01-02-02-01-01-18.wav\n",
      "C:\\Users\\thang\\Downloads\\Emotion\\Emotion\\speech-emotion-recognition-ravdess-data\\Actor_18\\03-01-02-02-01-02-18.wav 03-01-02-02-01-02-18.wav\n",
      "C:\\Users\\thang\\Downloads\\Emotion\\Emotion\\speech-emotion-recognition-ravdess-data\\Actor_18\\03-01-02-02-02-01-18.wav 03-01-02-02-02-01-18.wav\n",
      "C:\\Users\\thang\\Downloads\\Emotion\\Emotion\\speech-emotion-recognition-ravdess-data\\Actor_18\\03-01-02-02-02-02-18.wav 03-01-02-02-02-02-18.wav\n",
      "C:\\Users\\thang\\Downloads\\Emotion\\Emotion\\speech-emotion-recognition-ravdess-data\\Actor_18\\03-01-03-01-01-01-18.wav 03-01-03-01-01-01-18.wav\n",
      "C:\\Users\\thang\\Downloads\\Emotion\\Emotion\\speech-emotion-recognition-ravdess-data\\Actor_18\\03-01-03-01-01-02-18.wav 03-01-03-01-01-02-18.wav\n",
      "C:\\Users\\thang\\Downloads\\Emotion\\Emotion\\speech-emotion-recognition-ravdess-data\\Actor_18\\03-01-03-01-02-01-18.wav 03-01-03-01-02-01-18.wav\n",
      "C:\\Users\\thang\\Downloads\\Emotion\\Emotion\\speech-emotion-recognition-ravdess-data\\Actor_18\\03-01-03-01-02-02-18.wav 03-01-03-01-02-02-18.wav\n",
      "C:\\Users\\thang\\Downloads\\Emotion\\Emotion\\speech-emotion-recognition-ravdess-data\\Actor_18\\03-01-03-02-01-01-18.wav 03-01-03-02-01-01-18.wav\n",
      "C:\\Users\\thang\\Downloads\\Emotion\\Emotion\\speech-emotion-recognition-ravdess-data\\Actor_18\\03-01-03-02-01-02-18.wav 03-01-03-02-01-02-18.wav\n",
      "C:\\Users\\thang\\Downloads\\Emotion\\Emotion\\speech-emotion-recognition-ravdess-data\\Actor_18\\03-01-03-02-02-01-18.wav 03-01-03-02-02-01-18.wav\n",
      "C:\\Users\\thang\\Downloads\\Emotion\\Emotion\\speech-emotion-recognition-ravdess-data\\Actor_18\\03-01-03-02-02-02-18.wav 03-01-03-02-02-02-18.wav\n",
      "C:\\Users\\thang\\Downloads\\Emotion\\Emotion\\speech-emotion-recognition-ravdess-data\\Actor_18\\03-01-04-01-01-01-18.wav 03-01-04-01-01-01-18.wav\n",
      "C:\\Users\\thang\\Downloads\\Emotion\\Emotion\\speech-emotion-recognition-ravdess-data\\Actor_18\\03-01-04-01-01-02-18.wav 03-01-04-01-01-02-18.wav\n",
      "C:\\Users\\thang\\Downloads\\Emotion\\Emotion\\speech-emotion-recognition-ravdess-data\\Actor_18\\03-01-04-01-02-01-18.wav 03-01-04-01-02-01-18.wav\n",
      "C:\\Users\\thang\\Downloads\\Emotion\\Emotion\\speech-emotion-recognition-ravdess-data\\Actor_18\\03-01-04-01-02-02-18.wav 03-01-04-01-02-02-18.wav\n",
      "C:\\Users\\thang\\Downloads\\Emotion\\Emotion\\speech-emotion-recognition-ravdess-data\\Actor_18\\03-01-04-02-01-01-18.wav 03-01-04-02-01-01-18.wav\n",
      "C:\\Users\\thang\\Downloads\\Emotion\\Emotion\\speech-emotion-recognition-ravdess-data\\Actor_18\\03-01-04-02-01-02-18.wav 03-01-04-02-01-02-18.wav\n",
      "C:\\Users\\thang\\Downloads\\Emotion\\Emotion\\speech-emotion-recognition-ravdess-data\\Actor_18\\03-01-04-02-02-01-18.wav 03-01-04-02-02-01-18.wav\n",
      "C:\\Users\\thang\\Downloads\\Emotion\\Emotion\\speech-emotion-recognition-ravdess-data\\Actor_18\\03-01-04-02-02-02-18.wav 03-01-04-02-02-02-18.wav\n",
      "C:\\Users\\thang\\Downloads\\Emotion\\Emotion\\speech-emotion-recognition-ravdess-data\\Actor_18\\03-01-05-01-01-01-18.wav 03-01-05-01-01-01-18.wav\n",
      "C:\\Users\\thang\\Downloads\\Emotion\\Emotion\\speech-emotion-recognition-ravdess-data\\Actor_18\\03-01-05-01-01-02-18.wav 03-01-05-01-01-02-18.wav\n",
      "C:\\Users\\thang\\Downloads\\Emotion\\Emotion\\speech-emotion-recognition-ravdess-data\\Actor_18\\03-01-05-01-02-01-18.wav 03-01-05-01-02-01-18.wav\n",
      "C:\\Users\\thang\\Downloads\\Emotion\\Emotion\\speech-emotion-recognition-ravdess-data\\Actor_18\\03-01-05-01-02-02-18.wav 03-01-05-01-02-02-18.wav\n",
      "C:\\Users\\thang\\Downloads\\Emotion\\Emotion\\speech-emotion-recognition-ravdess-data\\Actor_18\\03-01-05-02-01-01-18.wav 03-01-05-02-01-01-18.wav\n",
      "C:\\Users\\thang\\Downloads\\Emotion\\Emotion\\speech-emotion-recognition-ravdess-data\\Actor_18\\03-01-05-02-01-02-18.wav 03-01-05-02-01-02-18.wav\n",
      "C:\\Users\\thang\\Downloads\\Emotion\\Emotion\\speech-emotion-recognition-ravdess-data\\Actor_18\\03-01-05-02-02-01-18.wav 03-01-05-02-02-01-18.wav\n",
      "C:\\Users\\thang\\Downloads\\Emotion\\Emotion\\speech-emotion-recognition-ravdess-data\\Actor_18\\03-01-05-02-02-02-18.wav 03-01-05-02-02-02-18.wav\n",
      "C:\\Users\\thang\\Downloads\\Emotion\\Emotion\\speech-emotion-recognition-ravdess-data\\Actor_18\\03-01-06-01-01-01-18.wav 03-01-06-01-01-01-18.wav\n",
      "C:\\Users\\thang\\Downloads\\Emotion\\Emotion\\speech-emotion-recognition-ravdess-data\\Actor_18\\03-01-06-01-01-02-18.wav 03-01-06-01-01-02-18.wav\n",
      "C:\\Users\\thang\\Downloads\\Emotion\\Emotion\\speech-emotion-recognition-ravdess-data\\Actor_18\\03-01-06-01-02-01-18.wav 03-01-06-01-02-01-18.wav\n",
      "C:\\Users\\thang\\Downloads\\Emotion\\Emotion\\speech-emotion-recognition-ravdess-data\\Actor_18\\03-01-06-01-02-02-18.wav 03-01-06-01-02-02-18.wav\n",
      "C:\\Users\\thang\\Downloads\\Emotion\\Emotion\\speech-emotion-recognition-ravdess-data\\Actor_18\\03-01-06-02-01-01-18.wav 03-01-06-02-01-01-18.wav\n",
      "C:\\Users\\thang\\Downloads\\Emotion\\Emotion\\speech-emotion-recognition-ravdess-data\\Actor_18\\03-01-06-02-01-02-18.wav 03-01-06-02-01-02-18.wav\n",
      "C:\\Users\\thang\\Downloads\\Emotion\\Emotion\\speech-emotion-recognition-ravdess-data\\Actor_18\\03-01-06-02-02-01-18.wav 03-01-06-02-02-01-18.wav\n",
      "C:\\Users\\thang\\Downloads\\Emotion\\Emotion\\speech-emotion-recognition-ravdess-data\\Actor_18\\03-01-06-02-02-02-18.wav 03-01-06-02-02-02-18.wav\n",
      "C:\\Users\\thang\\Downloads\\Emotion\\Emotion\\speech-emotion-recognition-ravdess-data\\Actor_18\\03-01-07-01-01-01-18.wav 03-01-07-01-01-01-18.wav\n",
      "C:\\Users\\thang\\Downloads\\Emotion\\Emotion\\speech-emotion-recognition-ravdess-data\\Actor_18\\03-01-07-01-01-02-18.wav 03-01-07-01-01-02-18.wav\n",
      "C:\\Users\\thang\\Downloads\\Emotion\\Emotion\\speech-emotion-recognition-ravdess-data\\Actor_18\\03-01-07-01-02-01-18.wav 03-01-07-01-02-01-18.wav\n",
      "C:\\Users\\thang\\Downloads\\Emotion\\Emotion\\speech-emotion-recognition-ravdess-data\\Actor_18\\03-01-07-01-02-02-18.wav 03-01-07-01-02-02-18.wav\n",
      "C:\\Users\\thang\\Downloads\\Emotion\\Emotion\\speech-emotion-recognition-ravdess-data\\Actor_18\\03-01-07-02-01-01-18.wav 03-01-07-02-01-01-18.wav\n",
      "C:\\Users\\thang\\Downloads\\Emotion\\Emotion\\speech-emotion-recognition-ravdess-data\\Actor_18\\03-01-07-02-01-02-18.wav 03-01-07-02-01-02-18.wav\n",
      "C:\\Users\\thang\\Downloads\\Emotion\\Emotion\\speech-emotion-recognition-ravdess-data\\Actor_18\\03-01-07-02-02-01-18.wav 03-01-07-02-02-01-18.wav\n",
      "C:\\Users\\thang\\Downloads\\Emotion\\Emotion\\speech-emotion-recognition-ravdess-data\\Actor_18\\03-01-07-02-02-02-18.wav 03-01-07-02-02-02-18.wav\n",
      "C:\\Users\\thang\\Downloads\\Emotion\\Emotion\\speech-emotion-recognition-ravdess-data\\Actor_18\\03-01-08-01-01-01-18.wav 03-01-08-01-01-01-18.wav\n",
      "C:\\Users\\thang\\Downloads\\Emotion\\Emotion\\speech-emotion-recognition-ravdess-data\\Actor_18\\03-01-08-01-01-02-18.wav 03-01-08-01-01-02-18.wav\n",
      "C:\\Users\\thang\\Downloads\\Emotion\\Emotion\\speech-emotion-recognition-ravdess-data\\Actor_18\\03-01-08-01-02-01-18.wav 03-01-08-01-02-01-18.wav\n",
      "C:\\Users\\thang\\Downloads\\Emotion\\Emotion\\speech-emotion-recognition-ravdess-data\\Actor_18\\03-01-08-01-02-02-18.wav 03-01-08-01-02-02-18.wav\n",
      "C:\\Users\\thang\\Downloads\\Emotion\\Emotion\\speech-emotion-recognition-ravdess-data\\Actor_18\\03-01-08-02-01-01-18.wav 03-01-08-02-01-01-18.wav\n",
      "C:\\Users\\thang\\Downloads\\Emotion\\Emotion\\speech-emotion-recognition-ravdess-data\\Actor_18\\03-01-08-02-01-02-18.wav 03-01-08-02-01-02-18.wav\n",
      "C:\\Users\\thang\\Downloads\\Emotion\\Emotion\\speech-emotion-recognition-ravdess-data\\Actor_18\\03-01-08-02-02-01-18.wav 03-01-08-02-02-01-18.wav\n",
      "C:\\Users\\thang\\Downloads\\Emotion\\Emotion\\speech-emotion-recognition-ravdess-data\\Actor_18\\03-01-08-02-02-02-18.wav 03-01-08-02-02-02-18.wav\n",
      "C:\\Users\\thang\\Downloads\\Emotion\\Emotion\\speech-emotion-recognition-ravdess-data\\Actor_19\\03-01-01-01-01-01-19.wav 03-01-01-01-01-01-19.wav\n",
      "C:\\Users\\thang\\Downloads\\Emotion\\Emotion\\speech-emotion-recognition-ravdess-data\\Actor_19\\03-01-01-01-01-02-19.wav 03-01-01-01-01-02-19.wav\n",
      "C:\\Users\\thang\\Downloads\\Emotion\\Emotion\\speech-emotion-recognition-ravdess-data\\Actor_19\\03-01-01-01-02-01-19.wav 03-01-01-01-02-01-19.wav\n",
      "C:\\Users\\thang\\Downloads\\Emotion\\Emotion\\speech-emotion-recognition-ravdess-data\\Actor_19\\03-01-01-01-02-02-19.wav 03-01-01-01-02-02-19.wav\n",
      "C:\\Users\\thang\\Downloads\\Emotion\\Emotion\\speech-emotion-recognition-ravdess-data\\Actor_19\\03-01-02-01-01-01-19.wav 03-01-02-01-01-01-19.wav\n"
     ]
    },
    {
     "name": "stderr",
     "output_type": "stream",
     "text": [
      "C:\\Users\\thang\\AppData\\Local\\Temp\\ipykernel_14300\\1750813818.py:16: FutureWarning: Pass y=[ 1.2207031e-04  9.1552734e-05  9.1552734e-05 ...  0.0000000e+00\n",
      "  0.0000000e+00 -3.0517578e-05] as keyword args. From version 0.10 passing these as positional arguments will result in an error\n",
      "  mel=np.mean(librosa.feature.melspectrogram(X, sr=sample_rate).T,axis=0)\n",
      "C:\\Users\\thang\\AppData\\Local\\Temp\\ipykernel_14300\\1750813818.py:16: FutureWarning: Pass y=[ 0.          0.          0.         ... -0.00015259 -0.00015259\n",
      " -0.00012207] as keyword args. From version 0.10 passing these as positional arguments will result in an error\n",
      "  mel=np.mean(librosa.feature.melspectrogram(X, sr=sample_rate).T,axis=0)\n",
      "C:\\Users\\thang\\AppData\\Local\\Temp\\ipykernel_14300\\1750813818.py:16: FutureWarning: Pass y=[ 0.          0.          0.         ... -0.00024414 -0.00024414\n",
      " -0.00021362] as keyword args. From version 0.10 passing these as positional arguments will result in an error\n",
      "  mel=np.mean(librosa.feature.melspectrogram(X, sr=sample_rate).T,axis=0)\n",
      "C:\\Users\\thang\\AppData\\Local\\Temp\\ipykernel_14300\\1750813818.py:16: FutureWarning: Pass y=[ 0.0000000e+00  0.0000000e+00 -3.0517578e-05 ...  3.0517578e-05\n",
      "  3.0517578e-05  3.0517578e-05] as keyword args. From version 0.10 passing these as positional arguments will result in an error\n",
      "  mel=np.mean(librosa.feature.melspectrogram(X, sr=sample_rate).T,axis=0)\n",
      "C:\\Users\\thang\\AppData\\Local\\Temp\\ipykernel_14300\\1750813818.py:16: FutureWarning: Pass y=[ 0.0000000e+00  0.0000000e+00  0.0000000e+00 ... -9.1552734e-05\n",
      " -1.2207031e-04 -9.1552734e-05] as keyword args. From version 0.10 passing these as positional arguments will result in an error\n",
      "  mel=np.mean(librosa.feature.melspectrogram(X, sr=sample_rate).T,axis=0)\n"
     ]
    },
    {
     "name": "stdout",
     "output_type": "stream",
     "text": [
      "C:\\Users\\thang\\Downloads\\Emotion\\Emotion\\speech-emotion-recognition-ravdess-data\\Actor_19\\03-01-02-01-01-02-19.wav 03-01-02-01-01-02-19.wav\n",
      "C:\\Users\\thang\\Downloads\\Emotion\\Emotion\\speech-emotion-recognition-ravdess-data\\Actor_19\\03-01-02-01-02-01-19.wav 03-01-02-01-02-01-19.wav\n",
      "C:\\Users\\thang\\Downloads\\Emotion\\Emotion\\speech-emotion-recognition-ravdess-data\\Actor_19\\03-01-02-01-02-02-19.wav 03-01-02-01-02-02-19.wav\n",
      "C:\\Users\\thang\\Downloads\\Emotion\\Emotion\\speech-emotion-recognition-ravdess-data\\Actor_19\\03-01-02-02-01-01-19.wav 03-01-02-02-01-01-19.wav\n",
      "C:\\Users\\thang\\Downloads\\Emotion\\Emotion\\speech-emotion-recognition-ravdess-data\\Actor_19\\03-01-02-02-01-02-19.wav 03-01-02-02-01-02-19.wav\n",
      "C:\\Users\\thang\\Downloads\\Emotion\\Emotion\\speech-emotion-recognition-ravdess-data\\Actor_19\\03-01-02-02-02-01-19.wav 03-01-02-02-02-01-19.wav\n",
      "C:\\Users\\thang\\Downloads\\Emotion\\Emotion\\speech-emotion-recognition-ravdess-data\\Actor_19\\03-01-02-02-02-02-19.wav 03-01-02-02-02-02-19.wav\n"
     ]
    },
    {
     "name": "stderr",
     "output_type": "stream",
     "text": [
      "C:\\Users\\thang\\AppData\\Local\\Temp\\ipykernel_14300\\1750813818.py:16: FutureWarning: Pass y=[-6.1035156e-05 -3.0517578e-05 -6.1035156e-05 ... -2.4414062e-04\n",
      " -2.4414062e-04 -2.4414062e-04] as keyword args. From version 0.10 passing these as positional arguments will result in an error\n",
      "  mel=np.mean(librosa.feature.melspectrogram(X, sr=sample_rate).T,axis=0)\n",
      "C:\\Users\\thang\\AppData\\Local\\Temp\\ipykernel_14300\\1750813818.py:16: FutureWarning: Pass y=[0.         0.         0.         ... 0.00308228 0.00311279 0.00308228] as keyword args. From version 0.10 passing these as positional arguments will result in an error\n",
      "  mel=np.mean(librosa.feature.melspectrogram(X, sr=sample_rate).T,axis=0)\n",
      "C:\\Users\\thang\\AppData\\Local\\Temp\\ipykernel_14300\\1750813818.py:16: FutureWarning: Pass y=[0.0000000e+00 3.0517578e-05 0.0000000e+00 ... 0.0000000e+00 0.0000000e+00\n",
      " 0.0000000e+00] as keyword args. From version 0.10 passing these as positional arguments will result in an error\n",
      "  mel=np.mean(librosa.feature.melspectrogram(X, sr=sample_rate).T,axis=0)\n",
      "C:\\Users\\thang\\AppData\\Local\\Temp\\ipykernel_14300\\1750813818.py:16: FutureWarning: Pass y=[3.0517578e-05 6.1035156e-05 0.0000000e+00 ... 9.1552734e-05 6.1035156e-05\n",
      " 6.1035156e-05] as keyword args. From version 0.10 passing these as positional arguments will result in an error\n",
      "  mel=np.mean(librosa.feature.melspectrogram(X, sr=sample_rate).T,axis=0)\n",
      "C:\\Users\\thang\\AppData\\Local\\Temp\\ipykernel_14300\\1750813818.py:16: FutureWarning: Pass y=[-1.2207031e-04 -1.2207031e-04 -1.2207031e-04 ...  9.1552734e-05\n",
      "  9.1552734e-05  1.2207031e-04] as keyword args. From version 0.10 passing these as positional arguments will result in an error\n",
      "  mel=np.mean(librosa.feature.melspectrogram(X, sr=sample_rate).T,axis=0)\n",
      "C:\\Users\\thang\\AppData\\Local\\Temp\\ipykernel_14300\\1750813818.py:16: FutureWarning: Pass y=[ 0.00036621  0.00045776  0.00048828 ... -0.00021362 -0.00021362\n",
      " -0.00021362] as keyword args. From version 0.10 passing these as positional arguments will result in an error\n",
      "  mel=np.mean(librosa.feature.melspectrogram(X, sr=sample_rate).T,axis=0)\n",
      "C:\\Users\\thang\\AppData\\Local\\Temp\\ipykernel_14300\\1750813818.py:16: FutureWarning: Pass y=[ 0.00067139  0.00076294  0.00106812 ...  0.00344849 -0.00195312\n",
      " -0.00204468] as keyword args. From version 0.10 passing these as positional arguments will result in an error\n",
      "  mel=np.mean(librosa.feature.melspectrogram(X, sr=sample_rate).T,axis=0)\n"
     ]
    },
    {
     "name": "stdout",
     "output_type": "stream",
     "text": [
      "C:\\Users\\thang\\Downloads\\Emotion\\Emotion\\speech-emotion-recognition-ravdess-data\\Actor_19\\03-01-03-01-01-01-19.wav 03-01-03-01-01-01-19.wav\n",
      "C:\\Users\\thang\\Downloads\\Emotion\\Emotion\\speech-emotion-recognition-ravdess-data\\Actor_19\\03-01-03-01-01-02-19.wav 03-01-03-01-01-02-19.wav\n",
      "C:\\Users\\thang\\Downloads\\Emotion\\Emotion\\speech-emotion-recognition-ravdess-data\\Actor_19\\03-01-03-01-02-01-19.wav 03-01-03-01-02-01-19.wav\n",
      "C:\\Users\\thang\\Downloads\\Emotion\\Emotion\\speech-emotion-recognition-ravdess-data\\Actor_19\\03-01-03-01-02-02-19.wav 03-01-03-01-02-02-19.wav\n",
      "C:\\Users\\thang\\Downloads\\Emotion\\Emotion\\speech-emotion-recognition-ravdess-data\\Actor_19\\03-01-03-02-01-01-19.wav 03-01-03-02-01-01-19.wav\n",
      "C:\\Users\\thang\\Downloads\\Emotion\\Emotion\\speech-emotion-recognition-ravdess-data\\Actor_19\\03-01-03-02-01-02-19.wav 03-01-03-02-01-02-19.wav\n",
      "C:\\Users\\thang\\Downloads\\Emotion\\Emotion\\speech-emotion-recognition-ravdess-data\\Actor_19\\03-01-03-02-02-01-19.wav 03-01-03-02-02-01-19.wav\n",
      "C:\\Users\\thang\\Downloads\\Emotion\\Emotion\\speech-emotion-recognition-ravdess-data\\Actor_19\\03-01-03-02-02-02-19.wav 03-01-03-02-02-02-19.wav\n"
     ]
    },
    {
     "name": "stderr",
     "output_type": "stream",
     "text": [
      "C:\\Users\\thang\\AppData\\Local\\Temp\\ipykernel_14300\\1750813818.py:16: FutureWarning: Pass y=[-1.2207031e-04 -1.2207031e-04 -1.2207031e-04 ...  3.0517578e-05\n",
      "  3.0517578e-05  6.1035156e-05] as keyword args. From version 0.10 passing these as positional arguments will result in an error\n",
      "  mel=np.mean(librosa.feature.melspectrogram(X, sr=sample_rate).T,axis=0)\n",
      "C:\\Users\\thang\\AppData\\Local\\Temp\\ipykernel_14300\\1750813818.py:16: FutureWarning: Pass y=[-1.2207031e-04 -1.2207031e-04 -9.1552734e-05 ...  3.9672852e-04\n",
      "  3.9672852e-04  3.6621094e-04] as keyword args. From version 0.10 passing these as positional arguments will result in an error\n",
      "  mel=np.mean(librosa.feature.melspectrogram(X, sr=sample_rate).T,axis=0)\n",
      "C:\\Users\\thang\\AppData\\Local\\Temp\\ipykernel_14300\\1750813818.py:16: FutureWarning: Pass y=[-0.00283813 -0.00286865 -0.00286865 ...  0.          0.\n",
      "  0.        ] as keyword args. From version 0.10 passing these as positional arguments will result in an error\n",
      "  mel=np.mean(librosa.feature.melspectrogram(X, sr=sample_rate).T,axis=0)\n",
      "C:\\Users\\thang\\AppData\\Local\\Temp\\ipykernel_14300\\1750813818.py:16: FutureWarning: Pass y=[ 6.1035156e-05 -3.0517578e-05  2.1362305e-04 ...  0.0000000e+00\n",
      "  3.0517578e-05  0.0000000e+00] as keyword args. From version 0.10 passing these as positional arguments will result in an error\n",
      "  mel=np.mean(librosa.feature.melspectrogram(X, sr=sample_rate).T,axis=0)\n"
     ]
    },
    {
     "name": "stdout",
     "output_type": "stream",
     "text": [
      "C:\\Users\\thang\\Downloads\\Emotion\\Emotion\\speech-emotion-recognition-ravdess-data\\Actor_19\\03-01-04-01-01-01-19.wav 03-01-04-01-01-01-19.wav\n",
      "C:\\Users\\thang\\Downloads\\Emotion\\Emotion\\speech-emotion-recognition-ravdess-data\\Actor_19\\03-01-04-01-01-02-19.wav 03-01-04-01-01-02-19.wav\n",
      "C:\\Users\\thang\\Downloads\\Emotion\\Emotion\\speech-emotion-recognition-ravdess-data\\Actor_19\\03-01-04-01-02-01-19.wav 03-01-04-01-02-01-19.wav\n",
      "C:\\Users\\thang\\Downloads\\Emotion\\Emotion\\speech-emotion-recognition-ravdess-data\\Actor_19\\03-01-04-01-02-02-19.wav 03-01-04-01-02-02-19.wav\n",
      "C:\\Users\\thang\\Downloads\\Emotion\\Emotion\\speech-emotion-recognition-ravdess-data\\Actor_19\\03-01-04-02-01-01-19.wav 03-01-04-02-01-01-19.wav\n",
      "C:\\Users\\thang\\Downloads\\Emotion\\Emotion\\speech-emotion-recognition-ravdess-data\\Actor_19\\03-01-04-02-01-02-19.wav 03-01-04-02-01-02-19.wav\n",
      "C:\\Users\\thang\\Downloads\\Emotion\\Emotion\\speech-emotion-recognition-ravdess-data\\Actor_19\\03-01-04-02-02-01-19.wav 03-01-04-02-02-01-19.wav\n",
      "C:\\Users\\thang\\Downloads\\Emotion\\Emotion\\speech-emotion-recognition-ravdess-data\\Actor_19\\03-01-04-02-02-02-19.wav 03-01-04-02-02-02-19.wav\n",
      "C:\\Users\\thang\\Downloads\\Emotion\\Emotion\\speech-emotion-recognition-ravdess-data\\Actor_19\\03-01-05-01-01-01-19.wav 03-01-05-01-01-01-19.wav\n",
      "C:\\Users\\thang\\Downloads\\Emotion\\Emotion\\speech-emotion-recognition-ravdess-data\\Actor_19\\03-01-05-01-01-02-19.wav 03-01-05-01-01-02-19.wav\n",
      "C:\\Users\\thang\\Downloads\\Emotion\\Emotion\\speech-emotion-recognition-ravdess-data\\Actor_19\\03-01-05-01-02-01-19.wav 03-01-05-01-02-01-19.wav\n",
      "C:\\Users\\thang\\Downloads\\Emotion\\Emotion\\speech-emotion-recognition-ravdess-data\\Actor_19\\03-01-05-01-02-02-19.wav 03-01-05-01-02-02-19.wav\n",
      "C:\\Users\\thang\\Downloads\\Emotion\\Emotion\\speech-emotion-recognition-ravdess-data\\Actor_19\\03-01-05-02-01-01-19.wav 03-01-05-02-01-01-19.wav\n",
      "C:\\Users\\thang\\Downloads\\Emotion\\Emotion\\speech-emotion-recognition-ravdess-data\\Actor_19\\03-01-05-02-01-02-19.wav 03-01-05-02-01-02-19.wav\n",
      "C:\\Users\\thang\\Downloads\\Emotion\\Emotion\\speech-emotion-recognition-ravdess-data\\Actor_19\\03-01-05-02-02-01-19.wav 03-01-05-02-02-01-19.wav\n",
      "C:\\Users\\thang\\Downloads\\Emotion\\Emotion\\speech-emotion-recognition-ravdess-data\\Actor_19\\03-01-05-02-02-02-19.wav 03-01-05-02-02-02-19.wav\n",
      "C:\\Users\\thang\\Downloads\\Emotion\\Emotion\\speech-emotion-recognition-ravdess-data\\Actor_19\\03-01-06-01-01-01-19.wav 03-01-06-01-01-01-19.wav\n",
      "C:\\Users\\thang\\Downloads\\Emotion\\Emotion\\speech-emotion-recognition-ravdess-data\\Actor_19\\03-01-06-01-01-02-19.wav 03-01-06-01-01-02-19.wav\n",
      "C:\\Users\\thang\\Downloads\\Emotion\\Emotion\\speech-emotion-recognition-ravdess-data\\Actor_19\\03-01-06-01-02-01-19.wav 03-01-06-01-02-01-19.wav\n",
      "C:\\Users\\thang\\Downloads\\Emotion\\Emotion\\speech-emotion-recognition-ravdess-data\\Actor_19\\03-01-06-01-02-02-19.wav 03-01-06-01-02-02-19.wav\n",
      "C:\\Users\\thang\\Downloads\\Emotion\\Emotion\\speech-emotion-recognition-ravdess-data\\Actor_19\\03-01-06-02-01-01-19.wav 03-01-06-02-01-01-19.wav\n",
      "C:\\Users\\thang\\Downloads\\Emotion\\Emotion\\speech-emotion-recognition-ravdess-data\\Actor_19\\03-01-06-02-01-02-19.wav 03-01-06-02-01-02-19.wav\n",
      "C:\\Users\\thang\\Downloads\\Emotion\\Emotion\\speech-emotion-recognition-ravdess-data\\Actor_19\\03-01-06-02-02-01-19.wav 03-01-06-02-02-01-19.wav\n",
      "C:\\Users\\thang\\Downloads\\Emotion\\Emotion\\speech-emotion-recognition-ravdess-data\\Actor_19\\03-01-06-02-02-02-19.wav 03-01-06-02-02-02-19.wav\n",
      "C:\\Users\\thang\\Downloads\\Emotion\\Emotion\\speech-emotion-recognition-ravdess-data\\Actor_19\\03-01-07-01-01-01-19.wav 03-01-07-01-01-01-19.wav\n",
      "C:\\Users\\thang\\Downloads\\Emotion\\Emotion\\speech-emotion-recognition-ravdess-data\\Actor_19\\03-01-07-01-01-02-19.wav 03-01-07-01-01-02-19.wav\n",
      "C:\\Users\\thang\\Downloads\\Emotion\\Emotion\\speech-emotion-recognition-ravdess-data\\Actor_19\\03-01-07-01-02-01-19.wav 03-01-07-01-02-01-19.wav\n",
      "C:\\Users\\thang\\Downloads\\Emotion\\Emotion\\speech-emotion-recognition-ravdess-data\\Actor_19\\03-01-07-01-02-02-19.wav 03-01-07-01-02-02-19.wav\n",
      "C:\\Users\\thang\\Downloads\\Emotion\\Emotion\\speech-emotion-recognition-ravdess-data\\Actor_19\\03-01-07-02-01-01-19.wav 03-01-07-02-01-01-19.wav\n",
      "C:\\Users\\thang\\Downloads\\Emotion\\Emotion\\speech-emotion-recognition-ravdess-data\\Actor_19\\03-01-07-02-01-02-19.wav 03-01-07-02-01-02-19.wav\n",
      "C:\\Users\\thang\\Downloads\\Emotion\\Emotion\\speech-emotion-recognition-ravdess-data\\Actor_19\\03-01-07-02-02-01-19.wav 03-01-07-02-02-01-19.wav\n",
      "C:\\Users\\thang\\Downloads\\Emotion\\Emotion\\speech-emotion-recognition-ravdess-data\\Actor_19\\03-01-07-02-02-02-19.wav 03-01-07-02-02-02-19.wav\n",
      "C:\\Users\\thang\\Downloads\\Emotion\\Emotion\\speech-emotion-recognition-ravdess-data\\Actor_19\\03-01-08-01-01-01-19.wav 03-01-08-01-01-01-19.wav\n",
      "C:\\Users\\thang\\Downloads\\Emotion\\Emotion\\speech-emotion-recognition-ravdess-data\\Actor_19\\03-01-08-01-01-02-19.wav 03-01-08-01-01-02-19.wav\n",
      "C:\\Users\\thang\\Downloads\\Emotion\\Emotion\\speech-emotion-recognition-ravdess-data\\Actor_19\\03-01-08-01-02-01-19.wav 03-01-08-01-02-01-19.wav\n",
      "C:\\Users\\thang\\Downloads\\Emotion\\Emotion\\speech-emotion-recognition-ravdess-data\\Actor_19\\03-01-08-01-02-02-19.wav 03-01-08-01-02-02-19.wav\n",
      "C:\\Users\\thang\\Downloads\\Emotion\\Emotion\\speech-emotion-recognition-ravdess-data\\Actor_19\\03-01-08-02-01-01-19.wav 03-01-08-02-01-01-19.wav\n",
      "C:\\Users\\thang\\Downloads\\Emotion\\Emotion\\speech-emotion-recognition-ravdess-data\\Actor_19\\03-01-08-02-01-02-19.wav 03-01-08-02-01-02-19.wav\n",
      "C:\\Users\\thang\\Downloads\\Emotion\\Emotion\\speech-emotion-recognition-ravdess-data\\Actor_19\\03-01-08-02-02-01-19.wav 03-01-08-02-02-01-19.wav\n",
      "C:\\Users\\thang\\Downloads\\Emotion\\Emotion\\speech-emotion-recognition-ravdess-data\\Actor_19\\03-01-08-02-02-02-19.wav 03-01-08-02-02-02-19.wav\n",
      "C:\\Users\\thang\\Downloads\\Emotion\\Emotion\\speech-emotion-recognition-ravdess-data\\Actor_20\\03-01-01-01-01-01-20.wav 03-01-01-01-01-01-20.wav\n",
      "C:\\Users\\thang\\Downloads\\Emotion\\Emotion\\speech-emotion-recognition-ravdess-data\\Actor_20\\03-01-01-01-01-02-20.wav 03-01-01-01-01-02-20.wav\n",
      "C:\\Users\\thang\\Downloads\\Emotion\\Emotion\\speech-emotion-recognition-ravdess-data\\Actor_20\\03-01-01-01-02-01-20.wav 03-01-01-01-02-01-20.wav\n",
      "C:\\Users\\thang\\Downloads\\Emotion\\Emotion\\speech-emotion-recognition-ravdess-data\\Actor_20\\03-01-01-01-02-02-20.wav 03-01-01-01-02-02-20.wav\n",
      "C:\\Users\\thang\\Downloads\\Emotion\\Emotion\\speech-emotion-recognition-ravdess-data\\Actor_20\\03-01-02-01-01-01-20.wav 03-01-02-01-01-01-20.wav\n",
      "C:\\Users\\thang\\Downloads\\Emotion\\Emotion\\speech-emotion-recognition-ravdess-data\\Actor_20\\03-01-02-01-01-02-20.wav 03-01-02-01-01-02-20.wav\n",
      "C:\\Users\\thang\\Downloads\\Emotion\\Emotion\\speech-emotion-recognition-ravdess-data\\Actor_20\\03-01-02-01-02-01-20.wav 03-01-02-01-02-01-20.wav\n",
      "C:\\Users\\thang\\Downloads\\Emotion\\Emotion\\speech-emotion-recognition-ravdess-data\\Actor_20\\03-01-02-01-02-02-20.wav 03-01-02-01-02-02-20.wav\n",
      "C:\\Users\\thang\\Downloads\\Emotion\\Emotion\\speech-emotion-recognition-ravdess-data\\Actor_20\\03-01-02-02-01-01-20.wav 03-01-02-02-01-01-20.wav\n",
      "C:\\Users\\thang\\Downloads\\Emotion\\Emotion\\speech-emotion-recognition-ravdess-data\\Actor_20\\03-01-02-02-01-02-20.wav 03-01-02-02-01-02-20.wav\n",
      "C:\\Users\\thang\\Downloads\\Emotion\\Emotion\\speech-emotion-recognition-ravdess-data\\Actor_20\\03-01-02-02-02-01-20.wav 03-01-02-02-02-01-20.wav\n",
      "C:\\Users\\thang\\Downloads\\Emotion\\Emotion\\speech-emotion-recognition-ravdess-data\\Actor_20\\03-01-02-02-02-02-20.wav 03-01-02-02-02-02-20.wav\n",
      "C:\\Users\\thang\\Downloads\\Emotion\\Emotion\\speech-emotion-recognition-ravdess-data\\Actor_20\\03-01-03-01-01-01-20.wav 03-01-03-01-01-01-20.wav\n",
      "C:\\Users\\thang\\Downloads\\Emotion\\Emotion\\speech-emotion-recognition-ravdess-data\\Actor_20\\03-01-03-01-01-02-20.wav 03-01-03-01-01-02-20.wav\n",
      "C:\\Users\\thang\\Downloads\\Emotion\\Emotion\\speech-emotion-recognition-ravdess-data\\Actor_20\\03-01-03-01-02-01-20.wav 03-01-03-01-02-01-20.wav\n",
      "C:\\Users\\thang\\Downloads\\Emotion\\Emotion\\speech-emotion-recognition-ravdess-data\\Actor_20\\03-01-03-01-02-02-20.wav 03-01-03-01-02-02-20.wav\n",
      "C:\\Users\\thang\\Downloads\\Emotion\\Emotion\\speech-emotion-recognition-ravdess-data\\Actor_20\\03-01-03-02-01-01-20.wav 03-01-03-02-01-01-20.wav\n",
      "C:\\Users\\thang\\Downloads\\Emotion\\Emotion\\speech-emotion-recognition-ravdess-data\\Actor_20\\03-01-03-02-01-02-20.wav 03-01-03-02-01-02-20.wav\n"
     ]
    },
    {
     "name": "stderr",
     "output_type": "stream",
     "text": [
      "C:\\Users\\thang\\AppData\\Local\\Temp\\ipykernel_14300\\1750813818.py:16: FutureWarning: Pass y=[ 0.0000000e+00  0.0000000e+00  0.0000000e+00 ...  0.0000000e+00\n",
      "  3.0517578e-05 -6.1035156e-05] as keyword args. From version 0.10 passing these as positional arguments will result in an error\n",
      "  mel=np.mean(librosa.feature.melspectrogram(X, sr=sample_rate).T,axis=0)\n"
     ]
    },
    {
     "name": "stdout",
     "output_type": "stream",
     "text": [
      "C:\\Users\\thang\\Downloads\\Emotion\\Emotion\\speech-emotion-recognition-ravdess-data\\Actor_20\\03-01-03-02-02-01-20.wav 03-01-03-02-02-01-20.wav\n",
      "C:\\Users\\thang\\Downloads\\Emotion\\Emotion\\speech-emotion-recognition-ravdess-data\\Actor_20\\03-01-03-02-02-02-20.wav 03-01-03-02-02-02-20.wav\n",
      "C:\\Users\\thang\\Downloads\\Emotion\\Emotion\\speech-emotion-recognition-ravdess-data\\Actor_20\\03-01-04-01-01-01-20.wav 03-01-04-01-01-01-20.wav\n",
      "C:\\Users\\thang\\Downloads\\Emotion\\Emotion\\speech-emotion-recognition-ravdess-data\\Actor_20\\03-01-04-01-01-02-20.wav 03-01-04-01-01-02-20.wav\n",
      "C:\\Users\\thang\\Downloads\\Emotion\\Emotion\\speech-emotion-recognition-ravdess-data\\Actor_20\\03-01-04-01-02-01-20.wav 03-01-04-01-02-01-20.wav\n",
      "C:\\Users\\thang\\Downloads\\Emotion\\Emotion\\speech-emotion-recognition-ravdess-data\\Actor_20\\03-01-04-01-02-02-20.wav 03-01-04-01-02-02-20.wav\n",
      "C:\\Users\\thang\\Downloads\\Emotion\\Emotion\\speech-emotion-recognition-ravdess-data\\Actor_20\\03-01-04-02-01-01-20.wav 03-01-04-02-01-01-20.wav\n",
      "C:\\Users\\thang\\Downloads\\Emotion\\Emotion\\speech-emotion-recognition-ravdess-data\\Actor_20\\03-01-04-02-01-02-20.wav 03-01-04-02-01-02-20.wav\n",
      "C:\\Users\\thang\\Downloads\\Emotion\\Emotion\\speech-emotion-recognition-ravdess-data\\Actor_20\\03-01-04-02-02-01-20.wav 03-01-04-02-02-01-20.wav\n",
      "C:\\Users\\thang\\Downloads\\Emotion\\Emotion\\speech-emotion-recognition-ravdess-data\\Actor_20\\03-01-04-02-02-02-20.wav 03-01-04-02-02-02-20.wav\n",
      "C:\\Users\\thang\\Downloads\\Emotion\\Emotion\\speech-emotion-recognition-ravdess-data\\Actor_20\\03-01-05-01-01-01-20.wav 03-01-05-01-01-01-20.wav\n",
      "C:\\Users\\thang\\Downloads\\Emotion\\Emotion\\speech-emotion-recognition-ravdess-data\\Actor_20\\03-01-05-01-01-02-20.wav 03-01-05-01-01-02-20.wav\n",
      "C:\\Users\\thang\\Downloads\\Emotion\\Emotion\\speech-emotion-recognition-ravdess-data\\Actor_20\\03-01-05-01-02-01-20.wav 03-01-05-01-02-01-20.wav\n",
      "C:\\Users\\thang\\Downloads\\Emotion\\Emotion\\speech-emotion-recognition-ravdess-data\\Actor_20\\03-01-05-01-02-02-20.wav 03-01-05-01-02-02-20.wav\n",
      "C:\\Users\\thang\\Downloads\\Emotion\\Emotion\\speech-emotion-recognition-ravdess-data\\Actor_20\\03-01-05-02-01-01-20.wav 03-01-05-02-01-01-20.wav\n",
      "C:\\Users\\thang\\Downloads\\Emotion\\Emotion\\speech-emotion-recognition-ravdess-data\\Actor_20\\03-01-05-02-01-02-20.wav 03-01-05-02-01-02-20.wav\n",
      "C:\\Users\\thang\\Downloads\\Emotion\\Emotion\\speech-emotion-recognition-ravdess-data\\Actor_20\\03-01-05-02-02-01-20.wav 03-01-05-02-02-01-20.wav\n",
      "C:\\Users\\thang\\Downloads\\Emotion\\Emotion\\speech-emotion-recognition-ravdess-data\\Actor_20\\03-01-05-02-02-02-20.wav 03-01-05-02-02-02-20.wav\n",
      "C:\\Users\\thang\\Downloads\\Emotion\\Emotion\\speech-emotion-recognition-ravdess-data\\Actor_20\\03-01-06-01-01-01-20.wav 03-01-06-01-01-01-20.wav\n",
      "C:\\Users\\thang\\Downloads\\Emotion\\Emotion\\speech-emotion-recognition-ravdess-data\\Actor_20\\03-01-06-01-01-02-20.wav 03-01-06-01-01-02-20.wav\n",
      "C:\\Users\\thang\\Downloads\\Emotion\\Emotion\\speech-emotion-recognition-ravdess-data\\Actor_20\\03-01-06-01-02-01-20.wav 03-01-06-01-02-01-20.wav\n",
      "C:\\Users\\thang\\Downloads\\Emotion\\Emotion\\speech-emotion-recognition-ravdess-data\\Actor_20\\03-01-06-01-02-02-20.wav 03-01-06-01-02-02-20.wav\n",
      "C:\\Users\\thang\\Downloads\\Emotion\\Emotion\\speech-emotion-recognition-ravdess-data\\Actor_20\\03-01-06-02-01-01-20.wav 03-01-06-02-01-01-20.wav\n",
      "C:\\Users\\thang\\Downloads\\Emotion\\Emotion\\speech-emotion-recognition-ravdess-data\\Actor_20\\03-01-06-02-01-02-20.wav 03-01-06-02-01-02-20.wav\n",
      "C:\\Users\\thang\\Downloads\\Emotion\\Emotion\\speech-emotion-recognition-ravdess-data\\Actor_20\\03-01-06-02-02-01-20.wav 03-01-06-02-02-01-20.wav\n",
      "C:\\Users\\thang\\Downloads\\Emotion\\Emotion\\speech-emotion-recognition-ravdess-data\\Actor_20\\03-01-06-02-02-02-20.wav 03-01-06-02-02-02-20.wav\n",
      "C:\\Users\\thang\\Downloads\\Emotion\\Emotion\\speech-emotion-recognition-ravdess-data\\Actor_20\\03-01-07-01-01-01-20.wav 03-01-07-01-01-01-20.wav\n",
      "C:\\Users\\thang\\Downloads\\Emotion\\Emotion\\speech-emotion-recognition-ravdess-data\\Actor_20\\03-01-07-01-01-02-20.wav 03-01-07-01-01-02-20.wav\n",
      "C:\\Users\\thang\\Downloads\\Emotion\\Emotion\\speech-emotion-recognition-ravdess-data\\Actor_20\\03-01-07-01-02-01-20.wav 03-01-07-01-02-01-20.wav\n",
      "C:\\Users\\thang\\Downloads\\Emotion\\Emotion\\speech-emotion-recognition-ravdess-data\\Actor_20\\03-01-07-01-02-02-20.wav 03-01-07-01-02-02-20.wav\n",
      "C:\\Users\\thang\\Downloads\\Emotion\\Emotion\\speech-emotion-recognition-ravdess-data\\Actor_20\\03-01-07-02-01-01-20.wav 03-01-07-02-01-01-20.wav\n",
      "C:\\Users\\thang\\Downloads\\Emotion\\Emotion\\speech-emotion-recognition-ravdess-data\\Actor_20\\03-01-07-02-01-02-20.wav 03-01-07-02-01-02-20.wav\n",
      "C:\\Users\\thang\\Downloads\\Emotion\\Emotion\\speech-emotion-recognition-ravdess-data\\Actor_20\\03-01-07-02-02-01-20.wav 03-01-07-02-02-01-20.wav\n",
      "C:\\Users\\thang\\Downloads\\Emotion\\Emotion\\speech-emotion-recognition-ravdess-data\\Actor_20\\03-01-07-02-02-02-20.wav 03-01-07-02-02-02-20.wav\n",
      "C:\\Users\\thang\\Downloads\\Emotion\\Emotion\\speech-emotion-recognition-ravdess-data\\Actor_20\\03-01-08-01-01-01-20.wav 03-01-08-01-01-01-20.wav\n",
      "C:\\Users\\thang\\Downloads\\Emotion\\Emotion\\speech-emotion-recognition-ravdess-data\\Actor_20\\03-01-08-01-01-02-20.wav 03-01-08-01-01-02-20.wav\n",
      "C:\\Users\\thang\\Downloads\\Emotion\\Emotion\\speech-emotion-recognition-ravdess-data\\Actor_20\\03-01-08-01-02-01-20.wav 03-01-08-01-02-01-20.wav\n",
      "C:\\Users\\thang\\Downloads\\Emotion\\Emotion\\speech-emotion-recognition-ravdess-data\\Actor_20\\03-01-08-01-02-02-20.wav 03-01-08-01-02-02-20.wav\n",
      "C:\\Users\\thang\\Downloads\\Emotion\\Emotion\\speech-emotion-recognition-ravdess-data\\Actor_20\\03-01-08-02-01-01-20.wav 03-01-08-02-01-01-20.wav\n",
      "C:\\Users\\thang\\Downloads\\Emotion\\Emotion\\speech-emotion-recognition-ravdess-data\\Actor_20\\03-01-08-02-01-02-20.wav 03-01-08-02-01-02-20.wav\n",
      "C:\\Users\\thang\\Downloads\\Emotion\\Emotion\\speech-emotion-recognition-ravdess-data\\Actor_20\\03-01-08-02-02-01-20.wav 03-01-08-02-02-01-20.wav\n",
      "C:\\Users\\thang\\Downloads\\Emotion\\Emotion\\speech-emotion-recognition-ravdess-data\\Actor_20\\03-01-08-02-02-02-20.wav 03-01-08-02-02-02-20.wav\n",
      "C:\\Users\\thang\\Downloads\\Emotion\\Emotion\\speech-emotion-recognition-ravdess-data\\Actor_21\\03-01-01-01-01-01-21.wav 03-01-01-01-01-01-21.wav\n",
      "C:\\Users\\thang\\Downloads\\Emotion\\Emotion\\speech-emotion-recognition-ravdess-data\\Actor_21\\03-01-01-01-01-02-21.wav 03-01-01-01-01-02-21.wav\n",
      "C:\\Users\\thang\\Downloads\\Emotion\\Emotion\\speech-emotion-recognition-ravdess-data\\Actor_21\\03-01-01-01-02-01-21.wav 03-01-01-01-02-01-21.wav\n",
      "C:\\Users\\thang\\Downloads\\Emotion\\Emotion\\speech-emotion-recognition-ravdess-data\\Actor_21\\03-01-01-01-02-02-21.wav 03-01-01-01-02-02-21.wav\n",
      "C:\\Users\\thang\\Downloads\\Emotion\\Emotion\\speech-emotion-recognition-ravdess-data\\Actor_21\\03-01-02-01-01-01-21.wav 03-01-02-01-01-01-21.wav\n",
      "C:\\Users\\thang\\Downloads\\Emotion\\Emotion\\speech-emotion-recognition-ravdess-data\\Actor_21\\03-01-02-01-01-02-21.wav 03-01-02-01-01-02-21.wav\n",
      "C:\\Users\\thang\\Downloads\\Emotion\\Emotion\\speech-emotion-recognition-ravdess-data\\Actor_21\\03-01-02-01-02-01-21.wav 03-01-02-01-02-01-21.wav\n"
     ]
    },
    {
     "name": "stderr",
     "output_type": "stream",
     "text": [
      "C:\\Users\\thang\\AppData\\Local\\Temp\\ipykernel_14300\\1750813818.py:16: FutureWarning: Pass y=[ 0.0000000e+00  3.0517578e-05 -9.1552734e-05 ...  0.0000000e+00\n",
      "  0.0000000e+00  0.0000000e+00] as keyword args. From version 0.10 passing these as positional arguments will result in an error\n",
      "  mel=np.mean(librosa.feature.melspectrogram(X, sr=sample_rate).T,axis=0)\n",
      "C:\\Users\\thang\\AppData\\Local\\Temp\\ipykernel_14300\\1750813818.py:16: FutureWarning: Pass y=[-3.0517578e-05  0.0000000e+00  0.0000000e+00 ...  3.0517578e-05\n",
      "  3.0517578e-05  0.0000000e+00] as keyword args. From version 0.10 passing these as positional arguments will result in an error\n",
      "  mel=np.mean(librosa.feature.melspectrogram(X, sr=sample_rate).T,axis=0)\n",
      "C:\\Users\\thang\\AppData\\Local\\Temp\\ipykernel_14300\\1750813818.py:16: FutureWarning: Pass y=[ 3.0517578e-05  0.0000000e+00 -3.0517578e-05 ... -3.0517578e-05\n",
      "  0.0000000e+00  0.0000000e+00] as keyword args. From version 0.10 passing these as positional arguments will result in an error\n",
      "  mel=np.mean(librosa.feature.melspectrogram(X, sr=sample_rate).T,axis=0)\n"
     ]
    },
    {
     "name": "stdout",
     "output_type": "stream",
     "text": [
      "C:\\Users\\thang\\Downloads\\Emotion\\Emotion\\speech-emotion-recognition-ravdess-data\\Actor_21\\03-01-02-01-02-02-21.wav 03-01-02-01-02-02-21.wav\n",
      "C:\\Users\\thang\\Downloads\\Emotion\\Emotion\\speech-emotion-recognition-ravdess-data\\Actor_21\\03-01-02-02-01-01-21.wav 03-01-02-02-01-01-21.wav\n",
      "C:\\Users\\thang\\Downloads\\Emotion\\Emotion\\speech-emotion-recognition-ravdess-data\\Actor_21\\03-01-02-02-01-02-21.wav 03-01-02-02-01-02-21.wav\n",
      "C:\\Users\\thang\\Downloads\\Emotion\\Emotion\\speech-emotion-recognition-ravdess-data\\Actor_21\\03-01-02-02-02-01-21.wav 03-01-02-02-02-01-21.wav\n",
      "C:\\Users\\thang\\Downloads\\Emotion\\Emotion\\speech-emotion-recognition-ravdess-data\\Actor_21\\03-01-02-02-02-02-21.wav 03-01-02-02-02-02-21.wav\n",
      "C:\\Users\\thang\\Downloads\\Emotion\\Emotion\\speech-emotion-recognition-ravdess-data\\Actor_21\\03-01-03-01-01-01-21.wav 03-01-03-01-01-01-21.wav\n",
      "C:\\Users\\thang\\Downloads\\Emotion\\Emotion\\speech-emotion-recognition-ravdess-data\\Actor_21\\03-01-03-01-01-02-21.wav 03-01-03-01-01-02-21.wav\n",
      "C:\\Users\\thang\\Downloads\\Emotion\\Emotion\\speech-emotion-recognition-ravdess-data\\Actor_21\\03-01-03-01-02-01-21.wav 03-01-03-01-02-01-21.wav\n",
      "C:\\Users\\thang\\Downloads\\Emotion\\Emotion\\speech-emotion-recognition-ravdess-data\\Actor_21\\03-01-03-01-02-02-21.wav 03-01-03-01-02-02-21.wav\n",
      "C:\\Users\\thang\\Downloads\\Emotion\\Emotion\\speech-emotion-recognition-ravdess-data\\Actor_21\\03-01-03-02-01-01-21.wav 03-01-03-02-01-01-21.wav\n",
      "C:\\Users\\thang\\Downloads\\Emotion\\Emotion\\speech-emotion-recognition-ravdess-data\\Actor_21\\03-01-03-02-01-02-21.wav 03-01-03-02-01-02-21.wav\n",
      "C:\\Users\\thang\\Downloads\\Emotion\\Emotion\\speech-emotion-recognition-ravdess-data\\Actor_21\\03-01-03-02-02-01-21.wav 03-01-03-02-02-01-21.wav\n",
      "C:\\Users\\thang\\Downloads\\Emotion\\Emotion\\speech-emotion-recognition-ravdess-data\\Actor_21\\03-01-03-02-02-02-21.wav 03-01-03-02-02-02-21.wav\n",
      "C:\\Users\\thang\\Downloads\\Emotion\\Emotion\\speech-emotion-recognition-ravdess-data\\Actor_21\\03-01-04-01-01-01-21.wav 03-01-04-01-01-01-21.wav\n",
      "C:\\Users\\thang\\Downloads\\Emotion\\Emotion\\speech-emotion-recognition-ravdess-data\\Actor_21\\03-01-04-01-01-02-21.wav 03-01-04-01-01-02-21.wav\n",
      "C:\\Users\\thang\\Downloads\\Emotion\\Emotion\\speech-emotion-recognition-ravdess-data\\Actor_21\\03-01-04-01-02-01-21.wav 03-01-04-01-02-01-21.wav\n",
      "C:\\Users\\thang\\Downloads\\Emotion\\Emotion\\speech-emotion-recognition-ravdess-data\\Actor_21\\03-01-04-01-02-02-21.wav 03-01-04-01-02-02-21.wav\n",
      "C:\\Users\\thang\\Downloads\\Emotion\\Emotion\\speech-emotion-recognition-ravdess-data\\Actor_21\\03-01-04-02-01-01-21.wav 03-01-04-02-01-01-21.wav\n",
      "C:\\Users\\thang\\Downloads\\Emotion\\Emotion\\speech-emotion-recognition-ravdess-data\\Actor_21\\03-01-04-02-01-02-21.wav 03-01-04-02-01-02-21.wav\n",
      "C:\\Users\\thang\\Downloads\\Emotion\\Emotion\\speech-emotion-recognition-ravdess-data\\Actor_21\\03-01-04-02-02-01-21.wav 03-01-04-02-02-01-21.wav\n",
      "C:\\Users\\thang\\Downloads\\Emotion\\Emotion\\speech-emotion-recognition-ravdess-data\\Actor_21\\03-01-04-02-02-02-21.wav 03-01-04-02-02-02-21.wav\n",
      "C:\\Users\\thang\\Downloads\\Emotion\\Emotion\\speech-emotion-recognition-ravdess-data\\Actor_21\\03-01-05-01-01-01-21.wav 03-01-05-01-01-01-21.wav\n",
      "C:\\Users\\thang\\Downloads\\Emotion\\Emotion\\speech-emotion-recognition-ravdess-data\\Actor_21\\03-01-05-01-01-02-21.wav 03-01-05-01-01-02-21.wav\n",
      "C:\\Users\\thang\\Downloads\\Emotion\\Emotion\\speech-emotion-recognition-ravdess-data\\Actor_21\\03-01-05-01-02-01-21.wav 03-01-05-01-02-01-21.wav\n"
     ]
    },
    {
     "name": "stderr",
     "output_type": "stream",
     "text": [
      "C:\\Users\\thang\\AppData\\Local\\Temp\\ipykernel_14300\\1750813818.py:16: FutureWarning: Pass y=[3.0517578e-05 0.0000000e+00 3.0517578e-05 ... 0.0000000e+00 0.0000000e+00\n",
      " 0.0000000e+00] as keyword args. From version 0.10 passing these as positional arguments will result in an error\n",
      "  mel=np.mean(librosa.feature.melspectrogram(X, sr=sample_rate).T,axis=0)\n"
     ]
    },
    {
     "name": "stdout",
     "output_type": "stream",
     "text": [
      "C:\\Users\\thang\\Downloads\\Emotion\\Emotion\\speech-emotion-recognition-ravdess-data\\Actor_21\\03-01-05-01-02-02-21.wav 03-01-05-01-02-02-21.wav\n",
      "C:\\Users\\thang\\Downloads\\Emotion\\Emotion\\speech-emotion-recognition-ravdess-data\\Actor_21\\03-01-05-02-01-01-21.wav 03-01-05-02-01-01-21.wav\n",
      "C:\\Users\\thang\\Downloads\\Emotion\\Emotion\\speech-emotion-recognition-ravdess-data\\Actor_21\\03-01-05-02-01-02-21.wav 03-01-05-02-01-02-21.wav\n",
      "C:\\Users\\thang\\Downloads\\Emotion\\Emotion\\speech-emotion-recognition-ravdess-data\\Actor_21\\03-01-05-02-02-01-21.wav 03-01-05-02-02-01-21.wav\n",
      "C:\\Users\\thang\\Downloads\\Emotion\\Emotion\\speech-emotion-recognition-ravdess-data\\Actor_21\\03-01-05-02-02-02-21.wav 03-01-05-02-02-02-21.wav\n",
      "C:\\Users\\thang\\Downloads\\Emotion\\Emotion\\speech-emotion-recognition-ravdess-data\\Actor_21\\03-01-06-01-01-01-21.wav 03-01-06-01-01-01-21.wav\n",
      "C:\\Users\\thang\\Downloads\\Emotion\\Emotion\\speech-emotion-recognition-ravdess-data\\Actor_21\\03-01-06-01-01-02-21.wav 03-01-06-01-01-02-21.wav\n",
      "C:\\Users\\thang\\Downloads\\Emotion\\Emotion\\speech-emotion-recognition-ravdess-data\\Actor_21\\03-01-06-01-02-01-21.wav 03-01-06-01-02-01-21.wav\n",
      "C:\\Users\\thang\\Downloads\\Emotion\\Emotion\\speech-emotion-recognition-ravdess-data\\Actor_21\\03-01-06-01-02-02-21.wav 03-01-06-01-02-02-21.wav\n",
      "C:\\Users\\thang\\Downloads\\Emotion\\Emotion\\speech-emotion-recognition-ravdess-data\\Actor_21\\03-01-06-02-01-01-21.wav 03-01-06-02-01-01-21.wav\n",
      "C:\\Users\\thang\\Downloads\\Emotion\\Emotion\\speech-emotion-recognition-ravdess-data\\Actor_21\\03-01-06-02-01-02-21.wav 03-01-06-02-01-02-21.wav\n",
      "C:\\Users\\thang\\Downloads\\Emotion\\Emotion\\speech-emotion-recognition-ravdess-data\\Actor_21\\03-01-06-02-02-01-21.wav 03-01-06-02-02-01-21.wav\n",
      "C:\\Users\\thang\\Downloads\\Emotion\\Emotion\\speech-emotion-recognition-ravdess-data\\Actor_21\\03-01-06-02-02-02-21.wav 03-01-06-02-02-02-21.wav\n",
      "C:\\Users\\thang\\Downloads\\Emotion\\Emotion\\speech-emotion-recognition-ravdess-data\\Actor_21\\03-01-07-01-01-01-21.wav 03-01-07-01-01-01-21.wav\n",
      "C:\\Users\\thang\\Downloads\\Emotion\\Emotion\\speech-emotion-recognition-ravdess-data\\Actor_21\\03-01-07-01-01-02-21.wav 03-01-07-01-01-02-21.wav\n",
      "C:\\Users\\thang\\Downloads\\Emotion\\Emotion\\speech-emotion-recognition-ravdess-data\\Actor_21\\03-01-07-01-02-01-21.wav 03-01-07-01-02-01-21.wav\n",
      "C:\\Users\\thang\\Downloads\\Emotion\\Emotion\\speech-emotion-recognition-ravdess-data\\Actor_21\\03-01-07-01-02-02-21.wav 03-01-07-01-02-02-21.wav\n",
      "C:\\Users\\thang\\Downloads\\Emotion\\Emotion\\speech-emotion-recognition-ravdess-data\\Actor_21\\03-01-07-02-01-01-21.wav 03-01-07-02-01-01-21.wav\n",
      "C:\\Users\\thang\\Downloads\\Emotion\\Emotion\\speech-emotion-recognition-ravdess-data\\Actor_21\\03-01-07-02-01-02-21.wav 03-01-07-02-01-02-21.wav\n",
      "C:\\Users\\thang\\Downloads\\Emotion\\Emotion\\speech-emotion-recognition-ravdess-data\\Actor_21\\03-01-07-02-02-01-21.wav 03-01-07-02-02-01-21.wav\n",
      "C:\\Users\\thang\\Downloads\\Emotion\\Emotion\\speech-emotion-recognition-ravdess-data\\Actor_21\\03-01-07-02-02-02-21.wav 03-01-07-02-02-02-21.wav\n",
      "C:\\Users\\thang\\Downloads\\Emotion\\Emotion\\speech-emotion-recognition-ravdess-data\\Actor_21\\03-01-08-01-01-01-21.wav 03-01-08-01-01-01-21.wav\n",
      "C:\\Users\\thang\\Downloads\\Emotion\\Emotion\\speech-emotion-recognition-ravdess-data\\Actor_21\\03-01-08-01-01-02-21.wav 03-01-08-01-01-02-21.wav\n",
      "C:\\Users\\thang\\Downloads\\Emotion\\Emotion\\speech-emotion-recognition-ravdess-data\\Actor_21\\03-01-08-01-02-01-21.wav 03-01-08-01-02-01-21.wav\n",
      "C:\\Users\\thang\\Downloads\\Emotion\\Emotion\\speech-emotion-recognition-ravdess-data\\Actor_21\\03-01-08-01-02-02-21.wav 03-01-08-01-02-02-21.wav\n",
      "C:\\Users\\thang\\Downloads\\Emotion\\Emotion\\speech-emotion-recognition-ravdess-data\\Actor_21\\03-01-08-02-01-01-21.wav 03-01-08-02-01-01-21.wav\n",
      "C:\\Users\\thang\\Downloads\\Emotion\\Emotion\\speech-emotion-recognition-ravdess-data\\Actor_21\\03-01-08-02-01-02-21.wav 03-01-08-02-01-02-21.wav\n",
      "C:\\Users\\thang\\Downloads\\Emotion\\Emotion\\speech-emotion-recognition-ravdess-data\\Actor_21\\03-01-08-02-02-01-21.wav 03-01-08-02-02-01-21.wav\n",
      "C:\\Users\\thang\\Downloads\\Emotion\\Emotion\\speech-emotion-recognition-ravdess-data\\Actor_21\\03-01-08-02-02-02-21.wav 03-01-08-02-02-02-21.wav\n",
      "C:\\Users\\thang\\Downloads\\Emotion\\Emotion\\speech-emotion-recognition-ravdess-data\\Actor_22\\03-01-01-01-01-01-22.wav 03-01-01-01-01-01-22.wav\n",
      "C:\\Users\\thang\\Downloads\\Emotion\\Emotion\\speech-emotion-recognition-ravdess-data\\Actor_22\\03-01-01-01-01-02-22.wav 03-01-01-01-01-02-22.wav\n",
      "C:\\Users\\thang\\Downloads\\Emotion\\Emotion\\speech-emotion-recognition-ravdess-data\\Actor_22\\03-01-01-01-02-01-22.wav 03-01-01-01-02-01-22.wav\n",
      "C:\\Users\\thang\\Downloads\\Emotion\\Emotion\\speech-emotion-recognition-ravdess-data\\Actor_22\\03-01-01-01-02-02-22.wav 03-01-01-01-02-02-22.wav\n",
      "C:\\Users\\thang\\Downloads\\Emotion\\Emotion\\speech-emotion-recognition-ravdess-data\\Actor_22\\03-01-02-01-01-01-22.wav 03-01-02-01-01-01-22.wav\n",
      "C:\\Users\\thang\\Downloads\\Emotion\\Emotion\\speech-emotion-recognition-ravdess-data\\Actor_22\\03-01-02-01-01-02-22.wav 03-01-02-01-01-02-22.wav\n"
     ]
    },
    {
     "name": "stderr",
     "output_type": "stream",
     "text": [
      "C:\\Users\\thang\\AppData\\Local\\Temp\\ipykernel_14300\\1750813818.py:16: FutureWarning: Pass y=[-3.0517578e-05 -3.0517578e-05 -3.0517578e-05 ... -3.0517578e-05\n",
      "  0.0000000e+00  0.0000000e+00] as keyword args. From version 0.10 passing these as positional arguments will result in an error\n",
      "  mel=np.mean(librosa.feature.melspectrogram(X, sr=sample_rate).T,axis=0)\n"
     ]
    },
    {
     "name": "stdout",
     "output_type": "stream",
     "text": [
      "C:\\Users\\thang\\Downloads\\Emotion\\Emotion\\speech-emotion-recognition-ravdess-data\\Actor_22\\03-01-02-01-02-01-22.wav 03-01-02-01-02-01-22.wav\n",
      "C:\\Users\\thang\\Downloads\\Emotion\\Emotion\\speech-emotion-recognition-ravdess-data\\Actor_22\\03-01-02-01-02-02-22.wav 03-01-02-01-02-02-22.wav\n",
      "C:\\Users\\thang\\Downloads\\Emotion\\Emotion\\speech-emotion-recognition-ravdess-data\\Actor_22\\03-01-02-02-01-01-22.wav 03-01-02-02-01-01-22.wav\n",
      "C:\\Users\\thang\\Downloads\\Emotion\\Emotion\\speech-emotion-recognition-ravdess-data\\Actor_22\\03-01-02-02-01-02-22.wav 03-01-02-02-01-02-22.wav\n",
      "C:\\Users\\thang\\Downloads\\Emotion\\Emotion\\speech-emotion-recognition-ravdess-data\\Actor_22\\03-01-02-02-02-01-22.wav 03-01-02-02-02-01-22.wav\n",
      "C:\\Users\\thang\\Downloads\\Emotion\\Emotion\\speech-emotion-recognition-ravdess-data\\Actor_22\\03-01-02-02-02-02-22.wav 03-01-02-02-02-02-22.wav\n",
      "C:\\Users\\thang\\Downloads\\Emotion\\Emotion\\speech-emotion-recognition-ravdess-data\\Actor_22\\03-01-03-01-01-01-22.wav 03-01-03-01-01-01-22.wav\n",
      "C:\\Users\\thang\\Downloads\\Emotion\\Emotion\\speech-emotion-recognition-ravdess-data\\Actor_22\\03-01-03-01-01-02-22.wav 03-01-03-01-01-02-22.wav\n",
      "C:\\Users\\thang\\Downloads\\Emotion\\Emotion\\speech-emotion-recognition-ravdess-data\\Actor_22\\03-01-03-01-02-01-22.wav 03-01-03-01-02-01-22.wav\n",
      "C:\\Users\\thang\\Downloads\\Emotion\\Emotion\\speech-emotion-recognition-ravdess-data\\Actor_22\\03-01-03-01-02-02-22.wav 03-01-03-01-02-02-22.wav\n",
      "C:\\Users\\thang\\Downloads\\Emotion\\Emotion\\speech-emotion-recognition-ravdess-data\\Actor_22\\03-01-03-02-01-01-22.wav 03-01-03-02-01-01-22.wav\n",
      "C:\\Users\\thang\\Downloads\\Emotion\\Emotion\\speech-emotion-recognition-ravdess-data\\Actor_22\\03-01-03-02-01-02-22.wav 03-01-03-02-01-02-22.wav\n",
      "C:\\Users\\thang\\Downloads\\Emotion\\Emotion\\speech-emotion-recognition-ravdess-data\\Actor_22\\03-01-03-02-02-01-22.wav 03-01-03-02-02-01-22.wav\n",
      "C:\\Users\\thang\\Downloads\\Emotion\\Emotion\\speech-emotion-recognition-ravdess-data\\Actor_22\\03-01-03-02-02-02-22.wav 03-01-03-02-02-02-22.wav\n",
      "C:\\Users\\thang\\Downloads\\Emotion\\Emotion\\speech-emotion-recognition-ravdess-data\\Actor_22\\03-01-04-01-01-01-22.wav 03-01-04-01-01-01-22.wav\n",
      "C:\\Users\\thang\\Downloads\\Emotion\\Emotion\\speech-emotion-recognition-ravdess-data\\Actor_22\\03-01-04-01-01-02-22.wav 03-01-04-01-01-02-22.wav\n",
      "C:\\Users\\thang\\Downloads\\Emotion\\Emotion\\speech-emotion-recognition-ravdess-data\\Actor_22\\03-01-04-01-02-01-22.wav 03-01-04-01-02-01-22.wav\n",
      "C:\\Users\\thang\\Downloads\\Emotion\\Emotion\\speech-emotion-recognition-ravdess-data\\Actor_22\\03-01-04-01-02-02-22.wav 03-01-04-01-02-02-22.wav\n",
      "C:\\Users\\thang\\Downloads\\Emotion\\Emotion\\speech-emotion-recognition-ravdess-data\\Actor_22\\03-01-04-02-01-01-22.wav 03-01-04-02-01-01-22.wav\n",
      "C:\\Users\\thang\\Downloads\\Emotion\\Emotion\\speech-emotion-recognition-ravdess-data\\Actor_22\\03-01-04-02-01-02-22.wav 03-01-04-02-01-02-22.wav\n",
      "C:\\Users\\thang\\Downloads\\Emotion\\Emotion\\speech-emotion-recognition-ravdess-data\\Actor_22\\03-01-04-02-02-01-22.wav 03-01-04-02-02-01-22.wav\n",
      "C:\\Users\\thang\\Downloads\\Emotion\\Emotion\\speech-emotion-recognition-ravdess-data\\Actor_22\\03-01-04-02-02-02-22.wav 03-01-04-02-02-02-22.wav\n",
      "C:\\Users\\thang\\Downloads\\Emotion\\Emotion\\speech-emotion-recognition-ravdess-data\\Actor_22\\03-01-05-01-01-01-22.wav 03-01-05-01-01-01-22.wav\n",
      "C:\\Users\\thang\\Downloads\\Emotion\\Emotion\\speech-emotion-recognition-ravdess-data\\Actor_22\\03-01-05-01-01-02-22.wav 03-01-05-01-01-02-22.wav\n",
      "C:\\Users\\thang\\Downloads\\Emotion\\Emotion\\speech-emotion-recognition-ravdess-data\\Actor_22\\03-01-05-01-02-01-22.wav 03-01-05-01-02-01-22.wav\n",
      "C:\\Users\\thang\\Downloads\\Emotion\\Emotion\\speech-emotion-recognition-ravdess-data\\Actor_22\\03-01-05-01-02-02-22.wav 03-01-05-01-02-02-22.wav\n",
      "C:\\Users\\thang\\Downloads\\Emotion\\Emotion\\speech-emotion-recognition-ravdess-data\\Actor_22\\03-01-05-02-01-01-22.wav 03-01-05-02-01-01-22.wav\n",
      "C:\\Users\\thang\\Downloads\\Emotion\\Emotion\\speech-emotion-recognition-ravdess-data\\Actor_22\\03-01-05-02-01-02-22.wav 03-01-05-02-01-02-22.wav\n",
      "C:\\Users\\thang\\Downloads\\Emotion\\Emotion\\speech-emotion-recognition-ravdess-data\\Actor_22\\03-01-05-02-02-01-22.wav 03-01-05-02-02-01-22.wav\n"
     ]
    },
    {
     "name": "stderr",
     "output_type": "stream",
     "text": [
      "C:\\Users\\thang\\AppData\\Local\\Temp\\ipykernel_14300\\1750813818.py:16: FutureWarning: Pass y=[-3.0517578e-05 -6.1035156e-05 -6.1035156e-05 ...  0.0000000e+00\n",
      "  0.0000000e+00  0.0000000e+00] as keyword args. From version 0.10 passing these as positional arguments will result in an error\n",
      "  mel=np.mean(librosa.feature.melspectrogram(X, sr=sample_rate).T,axis=0)\n"
     ]
    },
    {
     "name": "stdout",
     "output_type": "stream",
     "text": [
      "C:\\Users\\thang\\Downloads\\Emotion\\Emotion\\speech-emotion-recognition-ravdess-data\\Actor_22\\03-01-05-02-02-02-22.wav 03-01-05-02-02-02-22.wav\n",
      "C:\\Users\\thang\\Downloads\\Emotion\\Emotion\\speech-emotion-recognition-ravdess-data\\Actor_22\\03-01-06-01-01-01-22.wav 03-01-06-01-01-01-22.wav\n",
      "C:\\Users\\thang\\Downloads\\Emotion\\Emotion\\speech-emotion-recognition-ravdess-data\\Actor_22\\03-01-06-01-01-02-22.wav 03-01-06-01-01-02-22.wav\n",
      "C:\\Users\\thang\\Downloads\\Emotion\\Emotion\\speech-emotion-recognition-ravdess-data\\Actor_22\\03-01-06-01-02-01-22.wav 03-01-06-01-02-01-22.wav\n",
      "C:\\Users\\thang\\Downloads\\Emotion\\Emotion\\speech-emotion-recognition-ravdess-data\\Actor_22\\03-01-06-01-02-02-22.wav 03-01-06-01-02-02-22.wav\n",
      "C:\\Users\\thang\\Downloads\\Emotion\\Emotion\\speech-emotion-recognition-ravdess-data\\Actor_22\\03-01-06-02-01-01-22.wav 03-01-06-02-01-01-22.wav\n",
      "C:\\Users\\thang\\Downloads\\Emotion\\Emotion\\speech-emotion-recognition-ravdess-data\\Actor_22\\03-01-06-02-01-02-22.wav 03-01-06-02-01-02-22.wav\n",
      "C:\\Users\\thang\\Downloads\\Emotion\\Emotion\\speech-emotion-recognition-ravdess-data\\Actor_22\\03-01-06-02-02-01-22.wav 03-01-06-02-02-01-22.wav\n",
      "C:\\Users\\thang\\Downloads\\Emotion\\Emotion\\speech-emotion-recognition-ravdess-data\\Actor_22\\03-01-06-02-02-02-22.wav 03-01-06-02-02-02-22.wav\n",
      "C:\\Users\\thang\\Downloads\\Emotion\\Emotion\\speech-emotion-recognition-ravdess-data\\Actor_22\\03-01-07-01-01-01-22.wav 03-01-07-01-01-01-22.wav\n",
      "C:\\Users\\thang\\Downloads\\Emotion\\Emotion\\speech-emotion-recognition-ravdess-data\\Actor_22\\03-01-07-01-01-02-22.wav 03-01-07-01-01-02-22.wav\n",
      "C:\\Users\\thang\\Downloads\\Emotion\\Emotion\\speech-emotion-recognition-ravdess-data\\Actor_22\\03-01-07-01-02-01-22.wav 03-01-07-01-02-01-22.wav\n",
      "C:\\Users\\thang\\Downloads\\Emotion\\Emotion\\speech-emotion-recognition-ravdess-data\\Actor_22\\03-01-07-01-02-02-22.wav 03-01-07-01-02-02-22.wav\n",
      "C:\\Users\\thang\\Downloads\\Emotion\\Emotion\\speech-emotion-recognition-ravdess-data\\Actor_22\\03-01-07-02-01-01-22.wav 03-01-07-02-01-01-22.wav\n",
      "C:\\Users\\thang\\Downloads\\Emotion\\Emotion\\speech-emotion-recognition-ravdess-data\\Actor_22\\03-01-07-02-01-02-22.wav 03-01-07-02-01-02-22.wav\n",
      "C:\\Users\\thang\\Downloads\\Emotion\\Emotion\\speech-emotion-recognition-ravdess-data\\Actor_22\\03-01-07-02-02-01-22.wav 03-01-07-02-02-01-22.wav\n",
      "C:\\Users\\thang\\Downloads\\Emotion\\Emotion\\speech-emotion-recognition-ravdess-data\\Actor_22\\03-01-07-02-02-02-22.wav 03-01-07-02-02-02-22.wav\n",
      "C:\\Users\\thang\\Downloads\\Emotion\\Emotion\\speech-emotion-recognition-ravdess-data\\Actor_22\\03-01-08-01-01-01-22.wav 03-01-08-01-01-01-22.wav\n",
      "C:\\Users\\thang\\Downloads\\Emotion\\Emotion\\speech-emotion-recognition-ravdess-data\\Actor_22\\03-01-08-01-01-02-22.wav 03-01-08-01-01-02-22.wav\n",
      "C:\\Users\\thang\\Downloads\\Emotion\\Emotion\\speech-emotion-recognition-ravdess-data\\Actor_22\\03-01-08-01-02-01-22.wav 03-01-08-01-02-01-22.wav\n",
      "C:\\Users\\thang\\Downloads\\Emotion\\Emotion\\speech-emotion-recognition-ravdess-data\\Actor_22\\03-01-08-01-02-02-22.wav 03-01-08-01-02-02-22.wav\n",
      "C:\\Users\\thang\\Downloads\\Emotion\\Emotion\\speech-emotion-recognition-ravdess-data\\Actor_22\\03-01-08-02-01-01-22.wav 03-01-08-02-01-01-22.wav\n",
      "C:\\Users\\thang\\Downloads\\Emotion\\Emotion\\speech-emotion-recognition-ravdess-data\\Actor_22\\03-01-08-02-01-02-22.wav 03-01-08-02-01-02-22.wav\n",
      "C:\\Users\\thang\\Downloads\\Emotion\\Emotion\\speech-emotion-recognition-ravdess-data\\Actor_22\\03-01-08-02-02-01-22.wav 03-01-08-02-02-01-22.wav\n",
      "C:\\Users\\thang\\Downloads\\Emotion\\Emotion\\speech-emotion-recognition-ravdess-data\\Actor_22\\03-01-08-02-02-02-22.wav 03-01-08-02-02-02-22.wav\n",
      "C:\\Users\\thang\\Downloads\\Emotion\\Emotion\\speech-emotion-recognition-ravdess-data\\Actor_23\\03-01-01-01-01-01-23.wav 03-01-01-01-01-01-23.wav\n",
      "C:\\Users\\thang\\Downloads\\Emotion\\Emotion\\speech-emotion-recognition-ravdess-data\\Actor_23\\03-01-01-01-01-02-23.wav 03-01-01-01-01-02-23.wav\n",
      "C:\\Users\\thang\\Downloads\\Emotion\\Emotion\\speech-emotion-recognition-ravdess-data\\Actor_23\\03-01-01-01-02-01-23.wav 03-01-01-01-02-01-23.wav\n",
      "C:\\Users\\thang\\Downloads\\Emotion\\Emotion\\speech-emotion-recognition-ravdess-data\\Actor_23\\03-01-01-01-02-02-23.wav 03-01-01-01-02-02-23.wav\n",
      "C:\\Users\\thang\\Downloads\\Emotion\\Emotion\\speech-emotion-recognition-ravdess-data\\Actor_23\\03-01-02-01-01-01-23.wav 03-01-02-01-01-01-23.wav\n",
      "C:\\Users\\thang\\Downloads\\Emotion\\Emotion\\speech-emotion-recognition-ravdess-data\\Actor_23\\03-01-02-01-01-02-23.wav 03-01-02-01-01-02-23.wav\n",
      "C:\\Users\\thang\\Downloads\\Emotion\\Emotion\\speech-emotion-recognition-ravdess-data\\Actor_23\\03-01-02-01-02-01-23.wav 03-01-02-01-02-01-23.wav\n",
      "C:\\Users\\thang\\Downloads\\Emotion\\Emotion\\speech-emotion-recognition-ravdess-data\\Actor_23\\03-01-02-01-02-02-23.wav 03-01-02-01-02-02-23.wav\n",
      "C:\\Users\\thang\\Downloads\\Emotion\\Emotion\\speech-emotion-recognition-ravdess-data\\Actor_23\\03-01-02-02-01-01-23.wav 03-01-02-02-01-01-23.wav\n",
      "C:\\Users\\thang\\Downloads\\Emotion\\Emotion\\speech-emotion-recognition-ravdess-data\\Actor_23\\03-01-02-02-01-02-23.wav 03-01-02-02-01-02-23.wav\n",
      "C:\\Users\\thang\\Downloads\\Emotion\\Emotion\\speech-emotion-recognition-ravdess-data\\Actor_23\\03-01-02-02-02-01-23.wav 03-01-02-02-02-01-23.wav\n",
      "C:\\Users\\thang\\Downloads\\Emotion\\Emotion\\speech-emotion-recognition-ravdess-data\\Actor_23\\03-01-02-02-02-02-23.wav 03-01-02-02-02-02-23.wav\n",
      "C:\\Users\\thang\\Downloads\\Emotion\\Emotion\\speech-emotion-recognition-ravdess-data\\Actor_23\\03-01-03-01-01-01-23.wav 03-01-03-01-01-01-23.wav\n",
      "C:\\Users\\thang\\Downloads\\Emotion\\Emotion\\speech-emotion-recognition-ravdess-data\\Actor_23\\03-01-03-01-01-02-23.wav 03-01-03-01-01-02-23.wav\n",
      "C:\\Users\\thang\\Downloads\\Emotion\\Emotion\\speech-emotion-recognition-ravdess-data\\Actor_23\\03-01-03-01-02-01-23.wav 03-01-03-01-02-01-23.wav\n",
      "C:\\Users\\thang\\Downloads\\Emotion\\Emotion\\speech-emotion-recognition-ravdess-data\\Actor_23\\03-01-03-01-02-02-23.wav 03-01-03-01-02-02-23.wav\n",
      "C:\\Users\\thang\\Downloads\\Emotion\\Emotion\\speech-emotion-recognition-ravdess-data\\Actor_23\\03-01-03-02-01-01-23.wav 03-01-03-02-01-01-23.wav\n",
      "C:\\Users\\thang\\Downloads\\Emotion\\Emotion\\speech-emotion-recognition-ravdess-data\\Actor_23\\03-01-03-02-01-02-23.wav 03-01-03-02-01-02-23.wav\n",
      "C:\\Users\\thang\\Downloads\\Emotion\\Emotion\\speech-emotion-recognition-ravdess-data\\Actor_23\\03-01-03-02-02-01-23.wav 03-01-03-02-02-01-23.wav\n",
      "C:\\Users\\thang\\Downloads\\Emotion\\Emotion\\speech-emotion-recognition-ravdess-data\\Actor_23\\03-01-03-02-02-02-23.wav 03-01-03-02-02-02-23.wav\n",
      "C:\\Users\\thang\\Downloads\\Emotion\\Emotion\\speech-emotion-recognition-ravdess-data\\Actor_23\\03-01-04-01-01-01-23.wav 03-01-04-01-01-01-23.wav\n",
      "C:\\Users\\thang\\Downloads\\Emotion\\Emotion\\speech-emotion-recognition-ravdess-data\\Actor_23\\03-01-04-01-01-02-23.wav 03-01-04-01-01-02-23.wav\n",
      "C:\\Users\\thang\\Downloads\\Emotion\\Emotion\\speech-emotion-recognition-ravdess-data\\Actor_23\\03-01-04-01-02-01-23.wav 03-01-04-01-02-01-23.wav\n",
      "C:\\Users\\thang\\Downloads\\Emotion\\Emotion\\speech-emotion-recognition-ravdess-data\\Actor_23\\03-01-04-01-02-02-23.wav 03-01-04-01-02-02-23.wav\n",
      "C:\\Users\\thang\\Downloads\\Emotion\\Emotion\\speech-emotion-recognition-ravdess-data\\Actor_23\\03-01-04-02-01-01-23.wav 03-01-04-02-01-01-23.wav\n",
      "C:\\Users\\thang\\Downloads\\Emotion\\Emotion\\speech-emotion-recognition-ravdess-data\\Actor_23\\03-01-04-02-01-02-23.wav 03-01-04-02-01-02-23.wav\n",
      "C:\\Users\\thang\\Downloads\\Emotion\\Emotion\\speech-emotion-recognition-ravdess-data\\Actor_23\\03-01-04-02-02-01-23.wav 03-01-04-02-02-01-23.wav\n",
      "C:\\Users\\thang\\Downloads\\Emotion\\Emotion\\speech-emotion-recognition-ravdess-data\\Actor_23\\03-01-04-02-02-02-23.wav 03-01-04-02-02-02-23.wav\n",
      "C:\\Users\\thang\\Downloads\\Emotion\\Emotion\\speech-emotion-recognition-ravdess-data\\Actor_23\\03-01-05-01-01-01-23.wav 03-01-05-01-01-01-23.wav\n",
      "C:\\Users\\thang\\Downloads\\Emotion\\Emotion\\speech-emotion-recognition-ravdess-data\\Actor_23\\03-01-05-01-01-02-23.wav 03-01-05-01-01-02-23.wav\n",
      "C:\\Users\\thang\\Downloads\\Emotion\\Emotion\\speech-emotion-recognition-ravdess-data\\Actor_23\\03-01-05-01-02-01-23.wav 03-01-05-01-02-01-23.wav\n",
      "C:\\Users\\thang\\Downloads\\Emotion\\Emotion\\speech-emotion-recognition-ravdess-data\\Actor_23\\03-01-05-01-02-02-23.wav 03-01-05-01-02-02-23.wav\n",
      "C:\\Users\\thang\\Downloads\\Emotion\\Emotion\\speech-emotion-recognition-ravdess-data\\Actor_23\\03-01-05-02-01-01-23.wav 03-01-05-02-01-01-23.wav\n",
      "C:\\Users\\thang\\Downloads\\Emotion\\Emotion\\speech-emotion-recognition-ravdess-data\\Actor_23\\03-01-05-02-01-02-23.wav 03-01-05-02-01-02-23.wav\n"
     ]
    },
    {
     "name": "stdout",
     "output_type": "stream",
     "text": [
      "C:\\Users\\thang\\Downloads\\Emotion\\Emotion\\speech-emotion-recognition-ravdess-data\\Actor_23\\03-01-05-02-02-01-23.wav 03-01-05-02-02-01-23.wav\n",
      "C:\\Users\\thang\\Downloads\\Emotion\\Emotion\\speech-emotion-recognition-ravdess-data\\Actor_23\\03-01-05-02-02-02-23.wav 03-01-05-02-02-02-23.wav\n",
      "C:\\Users\\thang\\Downloads\\Emotion\\Emotion\\speech-emotion-recognition-ravdess-data\\Actor_23\\03-01-06-01-01-01-23.wav 03-01-06-01-01-01-23.wav\n",
      "C:\\Users\\thang\\Downloads\\Emotion\\Emotion\\speech-emotion-recognition-ravdess-data\\Actor_23\\03-01-06-01-01-02-23.wav 03-01-06-01-01-02-23.wav\n",
      "C:\\Users\\thang\\Downloads\\Emotion\\Emotion\\speech-emotion-recognition-ravdess-data\\Actor_23\\03-01-06-01-02-01-23.wav 03-01-06-01-02-01-23.wav\n",
      "C:\\Users\\thang\\Downloads\\Emotion\\Emotion\\speech-emotion-recognition-ravdess-data\\Actor_23\\03-01-06-01-02-02-23.wav 03-01-06-01-02-02-23.wav\n",
      "C:\\Users\\thang\\Downloads\\Emotion\\Emotion\\speech-emotion-recognition-ravdess-data\\Actor_23\\03-01-06-02-01-01-23.wav 03-01-06-02-01-01-23.wav\n",
      "C:\\Users\\thang\\Downloads\\Emotion\\Emotion\\speech-emotion-recognition-ravdess-data\\Actor_23\\03-01-06-02-01-02-23.wav 03-01-06-02-01-02-23.wav\n",
      "C:\\Users\\thang\\Downloads\\Emotion\\Emotion\\speech-emotion-recognition-ravdess-data\\Actor_23\\03-01-06-02-02-01-23.wav 03-01-06-02-02-01-23.wav\n",
      "C:\\Users\\thang\\Downloads\\Emotion\\Emotion\\speech-emotion-recognition-ravdess-data\\Actor_23\\03-01-06-02-02-02-23.wav 03-01-06-02-02-02-23.wav\n",
      "C:\\Users\\thang\\Downloads\\Emotion\\Emotion\\speech-emotion-recognition-ravdess-data\\Actor_23\\03-01-07-01-01-01-23.wav 03-01-07-01-01-01-23.wav\n",
      "C:\\Users\\thang\\Downloads\\Emotion\\Emotion\\speech-emotion-recognition-ravdess-data\\Actor_23\\03-01-07-01-01-02-23.wav 03-01-07-01-01-02-23.wav\n",
      "C:\\Users\\thang\\Downloads\\Emotion\\Emotion\\speech-emotion-recognition-ravdess-data\\Actor_23\\03-01-07-01-02-01-23.wav 03-01-07-01-02-01-23.wav\n",
      "C:\\Users\\thang\\Downloads\\Emotion\\Emotion\\speech-emotion-recognition-ravdess-data\\Actor_23\\03-01-07-01-02-02-23.wav 03-01-07-01-02-02-23.wav\n",
      "C:\\Users\\thang\\Downloads\\Emotion\\Emotion\\speech-emotion-recognition-ravdess-data\\Actor_23\\03-01-07-02-01-01-23.wav 03-01-07-02-01-01-23.wav\n",
      "C:\\Users\\thang\\Downloads\\Emotion\\Emotion\\speech-emotion-recognition-ravdess-data\\Actor_23\\03-01-07-02-01-02-23.wav 03-01-07-02-01-02-23.wav\n",
      "C:\\Users\\thang\\Downloads\\Emotion\\Emotion\\speech-emotion-recognition-ravdess-data\\Actor_23\\03-01-07-02-02-01-23.wav 03-01-07-02-02-01-23.wav\n",
      "C:\\Users\\thang\\Downloads\\Emotion\\Emotion\\speech-emotion-recognition-ravdess-data\\Actor_23\\03-01-07-02-02-02-23.wav 03-01-07-02-02-02-23.wav\n",
      "C:\\Users\\thang\\Downloads\\Emotion\\Emotion\\speech-emotion-recognition-ravdess-data\\Actor_23\\03-01-08-01-01-01-23.wav 03-01-08-01-01-01-23.wav\n",
      "C:\\Users\\thang\\Downloads\\Emotion\\Emotion\\speech-emotion-recognition-ravdess-data\\Actor_23\\03-01-08-01-01-02-23.wav 03-01-08-01-01-02-23.wav\n",
      "C:\\Users\\thang\\Downloads\\Emotion\\Emotion\\speech-emotion-recognition-ravdess-data\\Actor_23\\03-01-08-01-02-01-23.wav 03-01-08-01-02-01-23.wav\n",
      "C:\\Users\\thang\\Downloads\\Emotion\\Emotion\\speech-emotion-recognition-ravdess-data\\Actor_23\\03-01-08-01-02-02-23.wav 03-01-08-01-02-02-23.wav\n",
      "C:\\Users\\thang\\Downloads\\Emotion\\Emotion\\speech-emotion-recognition-ravdess-data\\Actor_23\\03-01-08-02-01-01-23.wav 03-01-08-02-01-01-23.wav\n",
      "C:\\Users\\thang\\Downloads\\Emotion\\Emotion\\speech-emotion-recognition-ravdess-data\\Actor_23\\03-01-08-02-01-02-23.wav 03-01-08-02-01-02-23.wav\n",
      "C:\\Users\\thang\\Downloads\\Emotion\\Emotion\\speech-emotion-recognition-ravdess-data\\Actor_23\\03-01-08-02-02-01-23.wav 03-01-08-02-02-01-23.wav\n",
      "C:\\Users\\thang\\Downloads\\Emotion\\Emotion\\speech-emotion-recognition-ravdess-data\\Actor_23\\03-01-08-02-02-02-23.wav 03-01-08-02-02-02-23.wav\n",
      "C:\\Users\\thang\\Downloads\\Emotion\\Emotion\\speech-emotion-recognition-ravdess-data\\Actor_24\\03-01-01-01-01-01-24.wav 03-01-01-01-01-01-24.wav\n",
      "C:\\Users\\thang\\Downloads\\Emotion\\Emotion\\speech-emotion-recognition-ravdess-data\\Actor_24\\03-01-01-01-01-02-24.wav 03-01-01-01-01-02-24.wav\n",
      "C:\\Users\\thang\\Downloads\\Emotion\\Emotion\\speech-emotion-recognition-ravdess-data\\Actor_24\\03-01-01-01-02-01-24.wav 03-01-01-01-02-01-24.wav\n",
      "C:\\Users\\thang\\Downloads\\Emotion\\Emotion\\speech-emotion-recognition-ravdess-data\\Actor_24\\03-01-01-01-02-02-24.wav 03-01-01-01-02-02-24.wav\n",
      "C:\\Users\\thang\\Downloads\\Emotion\\Emotion\\speech-emotion-recognition-ravdess-data\\Actor_24\\03-01-02-01-01-01-24.wav 03-01-02-01-01-01-24.wav\n",
      "C:\\Users\\thang\\Downloads\\Emotion\\Emotion\\speech-emotion-recognition-ravdess-data\\Actor_24\\03-01-02-01-01-02-24.wav 03-01-02-01-01-02-24.wav\n",
      "C:\\Users\\thang\\Downloads\\Emotion\\Emotion\\speech-emotion-recognition-ravdess-data\\Actor_24\\03-01-02-01-02-01-24.wav 03-01-02-01-02-01-24.wav\n",
      "C:\\Users\\thang\\Downloads\\Emotion\\Emotion\\speech-emotion-recognition-ravdess-data\\Actor_24\\03-01-02-01-02-02-24.wav 03-01-02-01-02-02-24.wav\n",
      "C:\\Users\\thang\\Downloads\\Emotion\\Emotion\\speech-emotion-recognition-ravdess-data\\Actor_24\\03-01-02-02-01-01-24.wav 03-01-02-02-01-01-24.wav\n"
     ]
    },
    {
     "name": "stderr",
     "output_type": "stream",
     "text": [
      "C:\\Users\\thang\\AppData\\Local\\Temp\\ipykernel_14300\\1750813818.py:16: FutureWarning: Pass y=[-3.0517578e-05 -3.0517578e-05  0.0000000e+00 ...  3.0517578e-05\n",
      "  3.0517578e-05  3.0517578e-05] as keyword args. From version 0.10 passing these as positional arguments will result in an error\n",
      "  mel=np.mean(librosa.feature.melspectrogram(X, sr=sample_rate).T,axis=0)\n"
     ]
    },
    {
     "name": "stdout",
     "output_type": "stream",
     "text": [
      "C:\\Users\\thang\\Downloads\\Emotion\\Emotion\\speech-emotion-recognition-ravdess-data\\Actor_24\\03-01-02-02-01-02-24.wav 03-01-02-02-01-02-24.wav\n",
      "C:\\Users\\thang\\Downloads\\Emotion\\Emotion\\speech-emotion-recognition-ravdess-data\\Actor_24\\03-01-02-02-02-01-24.wav 03-01-02-02-02-01-24.wav\n",
      "C:\\Users\\thang\\Downloads\\Emotion\\Emotion\\speech-emotion-recognition-ravdess-data\\Actor_24\\03-01-02-02-02-02-24.wav 03-01-02-02-02-02-24.wav\n",
      "C:\\Users\\thang\\Downloads\\Emotion\\Emotion\\speech-emotion-recognition-ravdess-data\\Actor_24\\03-01-03-01-01-01-24.wav 03-01-03-01-01-01-24.wav\n",
      "C:\\Users\\thang\\Downloads\\Emotion\\Emotion\\speech-emotion-recognition-ravdess-data\\Actor_24\\03-01-03-01-01-02-24.wav 03-01-03-01-01-02-24.wav\n",
      "C:\\Users\\thang\\Downloads\\Emotion\\Emotion\\speech-emotion-recognition-ravdess-data\\Actor_24\\03-01-03-01-02-01-24.wav 03-01-03-01-02-01-24.wav\n",
      "C:\\Users\\thang\\Downloads\\Emotion\\Emotion\\speech-emotion-recognition-ravdess-data\\Actor_24\\03-01-03-01-02-02-24.wav 03-01-03-01-02-02-24.wav\n",
      "C:\\Users\\thang\\Downloads\\Emotion\\Emotion\\speech-emotion-recognition-ravdess-data\\Actor_24\\03-01-03-02-01-01-24.wav 03-01-03-02-01-01-24.wav\n",
      "C:\\Users\\thang\\Downloads\\Emotion\\Emotion\\speech-emotion-recognition-ravdess-data\\Actor_24\\03-01-03-02-01-02-24.wav 03-01-03-02-01-02-24.wav\n",
      "C:\\Users\\thang\\Downloads\\Emotion\\Emotion\\speech-emotion-recognition-ravdess-data\\Actor_24\\03-01-03-02-02-01-24.wav 03-01-03-02-02-01-24.wav\n",
      "C:\\Users\\thang\\Downloads\\Emotion\\Emotion\\speech-emotion-recognition-ravdess-data\\Actor_24\\03-01-03-02-02-02-24.wav 03-01-03-02-02-02-24.wav\n",
      "C:\\Users\\thang\\Downloads\\Emotion\\Emotion\\speech-emotion-recognition-ravdess-data\\Actor_24\\03-01-04-01-01-01-24.wav 03-01-04-01-01-01-24.wav\n",
      "C:\\Users\\thang\\Downloads\\Emotion\\Emotion\\speech-emotion-recognition-ravdess-data\\Actor_24\\03-01-04-01-01-02-24.wav 03-01-04-01-01-02-24.wav\n",
      "C:\\Users\\thang\\Downloads\\Emotion\\Emotion\\speech-emotion-recognition-ravdess-data\\Actor_24\\03-01-04-01-02-01-24.wav 03-01-04-01-02-01-24.wav\n",
      "C:\\Users\\thang\\Downloads\\Emotion\\Emotion\\speech-emotion-recognition-ravdess-data\\Actor_24\\03-01-04-01-02-02-24.wav 03-01-04-01-02-02-24.wav\n",
      "C:\\Users\\thang\\Downloads\\Emotion\\Emotion\\speech-emotion-recognition-ravdess-data\\Actor_24\\03-01-04-02-01-01-24.wav 03-01-04-02-01-01-24.wav\n",
      "C:\\Users\\thang\\Downloads\\Emotion\\Emotion\\speech-emotion-recognition-ravdess-data\\Actor_24\\03-01-04-02-01-02-24.wav 03-01-04-02-01-02-24.wav\n",
      "C:\\Users\\thang\\Downloads\\Emotion\\Emotion\\speech-emotion-recognition-ravdess-data\\Actor_24\\03-01-04-02-02-01-24.wav 03-01-04-02-02-01-24.wav\n",
      "C:\\Users\\thang\\Downloads\\Emotion\\Emotion\\speech-emotion-recognition-ravdess-data\\Actor_24\\03-01-04-02-02-02-24.wav 03-01-04-02-02-02-24.wav\n",
      "C:\\Users\\thang\\Downloads\\Emotion\\Emotion\\speech-emotion-recognition-ravdess-data\\Actor_24\\03-01-05-01-01-01-24.wav 03-01-05-01-01-01-24.wav\n",
      "C:\\Users\\thang\\Downloads\\Emotion\\Emotion\\speech-emotion-recognition-ravdess-data\\Actor_24\\03-01-05-01-01-02-24.wav 03-01-05-01-01-02-24.wav\n",
      "C:\\Users\\thang\\Downloads\\Emotion\\Emotion\\speech-emotion-recognition-ravdess-data\\Actor_24\\03-01-05-01-02-01-24.wav 03-01-05-01-02-01-24.wav\n",
      "C:\\Users\\thang\\Downloads\\Emotion\\Emotion\\speech-emotion-recognition-ravdess-data\\Actor_24\\03-01-05-01-02-02-24.wav 03-01-05-01-02-02-24.wav\n",
      "C:\\Users\\thang\\Downloads\\Emotion\\Emotion\\speech-emotion-recognition-ravdess-data\\Actor_24\\03-01-05-02-01-01-24.wav 03-01-05-02-01-01-24.wav\n",
      "C:\\Users\\thang\\Downloads\\Emotion\\Emotion\\speech-emotion-recognition-ravdess-data\\Actor_24\\03-01-05-02-01-02-24.wav 03-01-05-02-01-02-24.wav\n",
      "C:\\Users\\thang\\Downloads\\Emotion\\Emotion\\speech-emotion-recognition-ravdess-data\\Actor_24\\03-01-05-02-02-01-24.wav 03-01-05-02-02-01-24.wav\n",
      "C:\\Users\\thang\\Downloads\\Emotion\\Emotion\\speech-emotion-recognition-ravdess-data\\Actor_24\\03-01-05-02-02-02-24.wav 03-01-05-02-02-02-24.wav\n",
      "C:\\Users\\thang\\Downloads\\Emotion\\Emotion\\speech-emotion-recognition-ravdess-data\\Actor_24\\03-01-06-01-01-01-24.wav 03-01-06-01-01-01-24.wav\n",
      "C:\\Users\\thang\\Downloads\\Emotion\\Emotion\\speech-emotion-recognition-ravdess-data\\Actor_24\\03-01-06-01-01-02-24.wav 03-01-06-01-01-02-24.wav\n",
      "C:\\Users\\thang\\Downloads\\Emotion\\Emotion\\speech-emotion-recognition-ravdess-data\\Actor_24\\03-01-06-01-02-01-24.wav 03-01-06-01-02-01-24.wav\n",
      "C:\\Users\\thang\\Downloads\\Emotion\\Emotion\\speech-emotion-recognition-ravdess-data\\Actor_24\\03-01-06-01-02-02-24.wav 03-01-06-01-02-02-24.wav\n",
      "C:\\Users\\thang\\Downloads\\Emotion\\Emotion\\speech-emotion-recognition-ravdess-data\\Actor_24\\03-01-06-02-01-01-24.wav 03-01-06-02-01-01-24.wav\n",
      "C:\\Users\\thang\\Downloads\\Emotion\\Emotion\\speech-emotion-recognition-ravdess-data\\Actor_24\\03-01-06-02-01-02-24.wav 03-01-06-02-01-02-24.wav\n",
      "C:\\Users\\thang\\Downloads\\Emotion\\Emotion\\speech-emotion-recognition-ravdess-data\\Actor_24\\03-01-06-02-02-01-24.wav 03-01-06-02-02-01-24.wav\n",
      "C:\\Users\\thang\\Downloads\\Emotion\\Emotion\\speech-emotion-recognition-ravdess-data\\Actor_24\\03-01-06-02-02-02-24.wav 03-01-06-02-02-02-24.wav\n",
      "C:\\Users\\thang\\Downloads\\Emotion\\Emotion\\speech-emotion-recognition-ravdess-data\\Actor_24\\03-01-07-01-01-01-24.wav 03-01-07-01-01-01-24.wav\n",
      "C:\\Users\\thang\\Downloads\\Emotion\\Emotion\\speech-emotion-recognition-ravdess-data\\Actor_24\\03-01-07-01-01-02-24.wav 03-01-07-01-01-02-24.wav\n",
      "C:\\Users\\thang\\Downloads\\Emotion\\Emotion\\speech-emotion-recognition-ravdess-data\\Actor_24\\03-01-07-01-02-01-24.wav 03-01-07-01-02-01-24.wav\n",
      "C:\\Users\\thang\\Downloads\\Emotion\\Emotion\\speech-emotion-recognition-ravdess-data\\Actor_24\\03-01-07-01-02-02-24.wav 03-01-07-01-02-02-24.wav\n",
      "C:\\Users\\thang\\Downloads\\Emotion\\Emotion\\speech-emotion-recognition-ravdess-data\\Actor_24\\03-01-07-02-01-01-24.wav 03-01-07-02-01-01-24.wav\n",
      "C:\\Users\\thang\\Downloads\\Emotion\\Emotion\\speech-emotion-recognition-ravdess-data\\Actor_24\\03-01-07-02-01-02-24.wav 03-01-07-02-01-02-24.wav\n",
      "C:\\Users\\thang\\Downloads\\Emotion\\Emotion\\speech-emotion-recognition-ravdess-data\\Actor_24\\03-01-07-02-02-01-24.wav 03-01-07-02-02-01-24.wav\n",
      "C:\\Users\\thang\\Downloads\\Emotion\\Emotion\\speech-emotion-recognition-ravdess-data\\Actor_24\\03-01-07-02-02-02-24.wav 03-01-07-02-02-02-24.wav\n",
      "C:\\Users\\thang\\Downloads\\Emotion\\Emotion\\speech-emotion-recognition-ravdess-data\\Actor_24\\03-01-08-01-01-01-24.wav 03-01-08-01-01-01-24.wav\n",
      "C:\\Users\\thang\\Downloads\\Emotion\\Emotion\\speech-emotion-recognition-ravdess-data\\Actor_24\\03-01-08-01-01-02-24.wav 03-01-08-01-01-02-24.wav\n",
      "C:\\Users\\thang\\Downloads\\Emotion\\Emotion\\speech-emotion-recognition-ravdess-data\\Actor_24\\03-01-08-01-02-01-24.wav 03-01-08-01-02-01-24.wav\n",
      "C:\\Users\\thang\\Downloads\\Emotion\\Emotion\\speech-emotion-recognition-ravdess-data\\Actor_24\\03-01-08-01-02-02-24.wav 03-01-08-01-02-02-24.wav\n",
      "C:\\Users\\thang\\Downloads\\Emotion\\Emotion\\speech-emotion-recognition-ravdess-data\\Actor_24\\03-01-08-02-01-01-24.wav 03-01-08-02-01-01-24.wav\n",
      "C:\\Users\\thang\\Downloads\\Emotion\\Emotion\\speech-emotion-recognition-ravdess-data\\Actor_24\\03-01-08-02-01-02-24.wav 03-01-08-02-01-02-24.wav\n",
      "C:\\Users\\thang\\Downloads\\Emotion\\Emotion\\speech-emotion-recognition-ravdess-data\\Actor_24\\03-01-08-02-02-01-24.wav 03-01-08-02-02-01-24.wav\n",
      "C:\\Users\\thang\\Downloads\\Emotion\\Emotion\\speech-emotion-recognition-ravdess-data\\Actor_24\\03-01-08-02-02-02-24.wav 03-01-08-02-02-02-24.wav\n"
     ]
    }
   ],
   "source": [
    "#Split the dataset\n",
    "x_train,x_test,y_train,y_test=load_data(test_size=0.25)"
   ]
  },
  {
   "cell_type": "code",
   "execution_count": 12,
   "metadata": {
    "colab": {
     "base_uri": "https://localhost:8080/"
    },
    "id": "LevNVra5s2F0",
    "outputId": "646cd7bd-c851-4c8f-88f6-9bdd04dd28a5"
   },
   "outputs": [
    {
     "data": {
      "text/plain": [
       "array([[-5.63245544e+02,  2.77486038e+01, -1.23292303e+01, ...,\n",
       "         2.66980089e-04,  2.39448069e-04,  2.05122822e-04],\n",
       "       [-5.50488708e+02,  3.72184982e+01, -1.03857222e+01, ...,\n",
       "         4.00926401e-05,  3.46028100e-05,  3.17819504e-05],\n",
       "       [-3.35030304e+02,  3.98607750e+01, -1.34213428e+01, ...,\n",
       "         3.62816150e-03,  2.98050721e-03,  1.92598964e-03],\n",
       "       ...,\n",
       "       [-3.51619568e+02,  1.93342991e+01, -3.41790695e+01, ...,\n",
       "         4.72997269e-03,  2.70822062e-03,  1.13043608e-03],\n",
       "       [-6.44561218e+02,  5.93864594e+01, -2.59522414e+00, ...,\n",
       "         3.52405150e-05,  2.10023773e-05,  6.03958415e-06],\n",
       "       [-5.01728699e+02,  5.23357315e+01, -1.63739872e+01, ...,\n",
       "         2.19952199e-04,  6.97983342e-05,  2.88806768e-05]])"
      ]
     },
     "execution_count": 12,
     "metadata": {},
     "output_type": "execute_result"
    }
   ],
   "source": [
    "x_test"
   ]
  },
  {
   "cell_type": "code",
   "execution_count": 13,
   "metadata": {
    "colab": {
     "base_uri": "https://localhost:8080/"
    },
    "id": "1iXJLzcHQzdd",
    "outputId": "733cdf3e-580a-4704-931b-fee0a64e35ab"
   },
   "outputs": [
    {
     "name": "stdout",
     "output_type": "stream",
     "text": [
      "(432, 144)\n"
     ]
    }
   ],
   "source": [
    "#Get the shape of the training and testing datasets\n",
    "print((x_train.shape[0], x_test.shape[0]))"
   ]
  },
  {
   "cell_type": "code",
   "execution_count": 14,
   "metadata": {
    "colab": {
     "base_uri": "https://localhost:8080/"
    },
    "id": "rkrU35UhQ1S2",
    "outputId": "73f813ae-a55c-4822-f2b6-1b8b7969892f"
   },
   "outputs": [
    {
     "name": "stdout",
     "output_type": "stream",
     "text": [
      "Features extracted: 180\n"
     ]
    }
   ],
   "source": [
    "#Get the number of features extracted\n",
    "print(f'Features extracted: {x_train.shape[1]}')"
   ]
  },
  {
   "cell_type": "code",
   "execution_count": 15,
   "metadata": {
    "id": "TJ6T5KzpQ3kG"
   },
   "outputs": [],
   "source": [
    "model=MLPClassifier(alpha=0.01, batch_size=256, epsilon=1e-08, hidden_layer_sizes=(300,), learning_rate='adaptive', max_iter=500)"
   ]
  },
  {
   "cell_type": "code",
   "execution_count": 16,
   "metadata": {
    "colab": {
     "base_uri": "https://localhost:8080/"
    },
    "id": "inYGUu5yQ5tI",
    "outputId": "7a0a0290-ccb2-45ab-9b3a-5b64c0ae5e45"
   },
   "outputs": [
    {
     "data": {
      "text/plain": [
       "MLPClassifier(alpha=0.01, batch_size=256, hidden_layer_sizes=(300,),\n",
       "              learning_rate='adaptive', max_iter=500)"
      ]
     },
     "execution_count": 16,
     "metadata": {},
     "output_type": "execute_result"
    }
   ],
   "source": [
    "model.fit(x_train,y_train)"
   ]
  },
  {
   "cell_type": "code",
   "execution_count": 17,
   "metadata": {
    "id": "1TT4pis3Q7dp"
   },
   "outputs": [],
   "source": [
    "y_pred=model.predict(x_test)"
   ]
  },
  {
   "cell_type": "code",
   "execution_count": 18,
   "metadata": {
    "colab": {
     "base_uri": "https://localhost:8080/"
    },
    "id": "SwSfrnceQ-aO",
    "outputId": "e40ef99e-fbf7-4c42-8d20-bfe0d49d19c4"
   },
   "outputs": [
    {
     "name": "stdout",
     "output_type": "stream",
     "text": [
      "Accuracy: 86.81%\n"
     ]
    }
   ],
   "source": [
    "\n",
    "accuracy=accuracy_score(y_true=y_test, y_pred=y_pred)\n",
    "\n",
    "print(\"Accuracy: {:.2f}%\".format(accuracy*100))"
   ]
  },
  {
   "cell_type": "code",
   "execution_count": 19,
   "metadata": {
    "id": "l3KbVGsuN22I"
   },
   "outputs": [],
   "source": [
    "# from IPython.display import Javascript\n",
    "# from google.colab import output\n",
    "# from base64 import b64decode\n",
    "\n",
    "# RECORD = \"\"\"\n",
    "# const sleep  = time => new Promise(resolve => setTimeout(resolve, time))\n",
    "# const b2text = blob => new Promise(resolve => {\n",
    "#   const reader = new FileReader()\n",
    "#   reader.onloadend = e => resolve(e.srcElement.result)\n",
    "#   reader.readAsDataURL(blob)\n",
    "# })\n",
    "# var record = time => new Promise(async resolve => {\n",
    "#   stream = await navigator.mediaDevices.getUserMedia({ audio: true })\n",
    "#   recorder = new MediaRecorder(stream)\n",
    "#   chunks = []\n",
    "#   recorder.ondataavailable = e => chunks.push(e.data)\n",
    "#   recorder.start()\n",
    "#   await sleep(time)\n",
    "#   recorder.onstop = async ()=>{\n",
    "#     blob = new Blob(chunks)\n",
    "#     text = await b2text(blob)\n",
    "#     resolve(text)\n",
    "#   }\n",
    "#   recorder.stop()\n",
    "# })\n",
    "# \"\"\"\n",
    "\n",
    "# def record(sec=3):\n",
    "#   display(Javascript(RECORD))\n",
    "#   s = output.eval_js('record(%d)' % (sec*1000))\n",
    "#   b = b64decode(s.split(',')[1])\n",
    "#   with open('audio.flac','wb') as f:\n",
    "#     f.write(b)\n",
    "#   return 'audio.flac'  # or webm ?\n"
   ]
  },
  {
   "cell_type": "code",
   "execution_count": 20,
   "metadata": {
    "id": "q5S9BZ6lN5wQ"
   },
   "outputs": [],
   "source": [
    "# record()"
   ]
  },
  {
   "cell_type": "code",
   "execution_count": 21,
   "metadata": {
    "colab": {
     "base_uri": "https://localhost:8080/"
    },
    "id": "JUeaVS-6cLnF",
    "outputId": "a0c71d12-e023-49e0-eb19-cd573665d042"
   },
   "outputs": [],
   "source": [
    "# pip install pydub"
   ]
  },
  {
   "cell_type": "code",
   "execution_count": 23,
   "metadata": {},
   "outputs": [],
   "source": [
    "face_classifier = cv2.CascadeClassifier(r'C:\\Users\\thang\\Downloads\\Emotion\\Emotion\\Video\\haarcascade_frontalface_default.xml')\n",
    "classifier =load_model(r'C:\\Users\\thang\\Downloads\\Emotion\\Emotion\\Video\\model.h5')\n",
    "\n",
    "emotion_labels = ['Angry','Tensed','Neutral','Happy','Neutral', 'Tensed', 'Neutral']\n"
   ]
  },
  {
   "cell_type": "code",
   "execution_count": 24,
   "metadata": {},
   "outputs": [],
   "source": [
    "import wave\n",
    "import contextlib\n",
    "def dur(audpath):\n",
    "    with contextlib.closing(wave.open(audpath,'r')) as f:\n",
    "        frames = f.getnframes()\n",
    "        rate = f.getframerate()\n",
    "        duration = frames / float(rate)\n",
    "        return duration"
   ]
  },
  {
   "cell_type": "code",
   "execution_count": 27,
   "metadata": {
    "colab": {
     "base_uri": "https://localhost:8080/",
     "height": 35
    },
    "id": "hdE5zI6sxzP3",
    "outputId": "4f214b38-d14f-4491-a70a-94d621da6ead"
   },
   "outputs": [
    {
     "name": "stderr",
     "output_type": "stream",
     "text": [
      "C:\\Users\\thang\\AppData\\Local\\Temp\\ipykernel_14300\\1750813818.py:16: FutureWarning: Pass y=[0.         0.         0.         ... 0.00067139 0.00082397 0.00054932] as keyword args. From version 0.10 passing these as positional arguments will result in an error\n",
      "  mel=np.mean(librosa.feature.melspectrogram(X, sr=sample_rate).T,axis=0)\n"
     ]
    },
    {
     "name": "stdout",
     "output_type": "stream",
     "text": [
      "happy\n",
      "Angry = 0.0\n",
      "Happy = 6.36604774535809\n",
      "Tensed = 5.570291777188329\n",
      "Score: 7.2148541114058355\n"
     ]
    }
   ],
   "source": [
    "from pathlib import PurePath\n",
    "from pydub import AudioSegment\n",
    "\n",
    "\n",
    "id='1-2'\n",
    "angry=0\n",
    "tensed=0\n",
    "happy=0\n",
    "total=0\n",
    "\n",
    "audpath='C:\\\\Users\\\\thang\\\\Downloads\\\\Emotion\\\\Emotion\\\\Video\\\\Video Dataset\\\\Audio\\\\WAV\\\\'+id+'.wav'\n",
    "file_path = PurePath(audpath)\n",
    "vidpath='C:\\\\Users\\\\thang\\\\Downloads\\\\Emotion\\\\Emotion\\\\Video\\\\Video Dataset\\\\'+id+'.mp4'\n",
    "flac_tmp_audio_data = AudioSegment.from_file(file_path)\n",
    "flac_tmp_audio_data = flac_tmp_audio_data.set_channels(1)\n",
    "flac_tmp_audio_data.export(\"test.wav\", format=\"wav\")\n",
    "feature=extract_feature('test.wav', mfcc=True, chroma=True, mel=True)\n",
    "x_new=feature\n",
    "y_new=model.predict([x_new])\n",
    "print(y_new[0])\n",
    "audioscore=5\n",
    "if y_new[0]=='calm':\n",
    "    audioscore=5\n",
    "if y_new[0]=='happy':\n",
    "    audioscore=10\n",
    "if y_new[0]=='angry':\n",
    "    audioscore=1\n",
    "cap = cv2.VideoCapture(vidpath)\n",
    "while cap.isOpened():\n",
    "    ret, frame = cap.read()\n",
    "    if ret == True:\n",
    "        labels = []\n",
    "        gray = cv2.cvtColor(frame,cv2.COLOR_BGR2GRAY)\n",
    "        faces = face_classifier.detectMultiScale(gray)\n",
    "    \n",
    "        for (x,y,w,h) in faces:\n",
    "            cv2.rectangle(frame,(x,y),(x+w,y+h),(0,255,255),2)\n",
    "            roi_gray = gray[y:y+h,x:x+w]\n",
    "            roi_gray = cv2.resize(roi_gray,(48,48),interpolation=cv2.INTER_AREA)\n",
    "    \n",
    "    \n",
    "    \n",
    "            if np.sum([roi_gray])!=0:\n",
    "                roi = roi_gray.astype('float')/255.0\n",
    "                roi = img_to_array(roi)\n",
    "                roi = np.expand_dims(roi,axis=0)\n",
    "    \n",
    "                prediction = classifier.predict(roi)[0]\n",
    "                label=emotion_labels[prediction.argmax()]\n",
    "                total+=1\n",
    "                if label=='Angry':\n",
    "                    angry+=1\n",
    "                if label=='Happy':\n",
    "                    happy+=1\n",
    "                if label=='Tensed':\n",
    "                    tensed+=1\n",
    "                label_position = (x,y)\n",
    "                cv2.putText(frame,label,label_position,cv2.FONT_HERSHEY_SIMPLEX,1,(0,255,0),2)\n",
    "            else:\n",
    "                cv2.putText(frame,'No Faces',(30,80),cv2.FONT_HERSHEY_SIMPLEX,1,(0,255,0),2)\n",
    "        cv2.imshow('Emotion Detector',frame)\n",
    "        if cv2.waitKey(1) & 0xFF == ord('q'):\n",
    "            break\n",
    "    else:\n",
    "        break\n",
    "print(\"Angry =\",(angry/total)*100)\n",
    "print(\"Happy =\",(happy/total)*100)\n",
    "print(\"Tensed =\",(tensed/total)*100)\n",
    "videoscore=5-(angry/total*10)+(happy/total*10)-(tensed/2/total*10)\n",
    "score=(audioscore*40+videoscore*60)/100\n",
    "print(\"Score:\",score)\n",
    "cap.release()\n",
    "cv2.destroyAllWindows()"
   ]
  },
  {
   "cell_type": "code",
   "execution_count": 58,
   "metadata": {},
   "outputs": [],
   "source": [
    "#Update Customer name and Executive id\n",
    "\n",
    "eid = \"362\"\n",
    "customer_name = \"alpha\""
   ]
  },
  {
   "cell_type": "code",
   "execution_count": 76,
   "metadata": {},
   "outputs": [
    {
     "name": "stdout",
     "output_type": "stream",
     "text": [
      "1 customer record inserted.\n"
     ]
    }
   ],
   "source": [
    "#Database Update\n",
    "\n",
    "import mysql.connector\n",
    "\n",
    "mydb = mysql.connector.connect(\n",
    "  host=\"localhost\",\n",
    "  user=\"root\",\n",
    "  password=\"\",\n",
    "  database=\"emotion\"\n",
    ")\n",
    "\n",
    "mycursor = mydb.cursor()\n",
    "\n",
    "#Customer info insertion\n",
    "sql = \"INSERT INTO customer (name) VALUES (%s)\"\n",
    "val = (customer_name,)\n",
    "mycursor.execute(sql, val)\n",
    "print(mycursor.rowcount, \"customer record inserted.\")\n",
    "\n",
    "#Obtaining cid\n",
    "sql = \"SELECT cid FROM customer ORDER BY cid DESC LIMIT 1\"\n",
    "\n",
    "mycursor.execute(sql)\n",
    "\n",
    "myresult = mycursor.fetchall()\n",
    "\n",
    "for x in myresult:\n",
    "    cid = x[0]"
   ]
  },
  {
   "cell_type": "code",
   "execution_count": 77,
   "metadata": {},
   "outputs": [
    {
     "name": "stdout",
     "output_type": "stream",
     "text": [
      "1 call detail record inserted.\n"
     ]
    }
   ],
   "source": [
    "#Call detail insertion\n",
    "sql = \"INSERT INTO call_details (eid, cid, score) VALUES (%s, %s, %s)\"\n",
    "val = (eid, cid, score,)\n",
    "mycursor.execute(sql, val)\n",
    "    \n",
    "mydb.commit()\n",
    "\n",
    "print(mycursor.rowcount, \"call detail record inserted.\")"
   ]
  },
  {
   "cell_type": "code",
   "execution_count": 78,
   "metadata": {},
   "outputs": [
    {
     "name": "stdout",
     "output_type": "stream",
     "text": [
      "Previous score of executive:\n",
      "7.78993\n",
      "Updated Score of the executive:\n",
      "7.674914822281167\n"
     ]
    }
   ],
   "source": [
    "#Obtaining previous score of executive\n",
    "sql = \"SELECT score FROM executive WHERE eid = %s\"\n",
    "val = (eid,)\n",
    "mycursor.execute(sql, val)\n",
    "\n",
    "myresult = mycursor.fetchall()\n",
    "\n",
    "previous_score = 0\n",
    "\n",
    "for x in myresult:\n",
    "    previous_score = x[0]\n",
    "\n",
    "print(\"Previous score of executive:\")\n",
    "print(previous_score)\n",
    "\n",
    "mydb.commit()\n",
    "\n",
    "#Getting total calls of the executive\n",
    "sql = \"SELECT * FROM call_details WHERE eid = %s\"\n",
    "val = (eid,)\n",
    "mycursor.execute(sql, val)\n",
    "\n",
    "tot_call = len(list(mycursor))\n",
    "\n",
    "#Calculating new score and updating it back\n",
    "new_score = ((previous_score * tot_call + score)/(tot_call + 1))\n",
    "sql = \"UPDATE executive SET score = %s WHERE eid = %s\"\n",
    "val = (new_score,eid,)\n",
    "\n",
    "mycursor.execute(sql,val)\n",
    "mydb.commit()\n",
    "\n",
    "print(\"Updated Score of the executive:\")\n",
    "print(new_score)"
   ]
  },
  {
   "cell_type": "code",
   "execution_count": 75,
   "metadata": {},
   "outputs": [
    {
     "ename": "NoConsoleScreenBufferError",
     "evalue": "Found xterm-color, while expecting a Windows console. Maybe try to run this program using \"winpty\" or run it in cmd.exe instead. Or otherwise, in case of Cygwin, use the Python executable that is compiled for Cygwin.",
     "output_type": "error",
     "traceback": [
      "\u001b[1;31m---------------------------------------------------------------------------\u001b[0m",
      "\u001b[1;31mNoConsoleScreenBufferError\u001b[0m                Traceback (most recent call last)",
      "Input \u001b[1;32mIn [75]\u001b[0m, in \u001b[0;36m<cell line: 3>\u001b[1;34m()\u001b[0m\n\u001b[0;32m      1\u001b[0m \u001b[38;5;28;01mimport\u001b[39;00m \u001b[38;5;21;01mquestionary\u001b[39;00m\n\u001b[1;32m----> 3\u001b[0m \u001b[43mquestionary\u001b[49m\u001b[38;5;241;43m.\u001b[39;49m\u001b[43mtext\u001b[49m\u001b[43m(\u001b[49m\u001b[38;5;124;43m\"\u001b[39;49m\u001b[38;5;124;43mWhat\u001b[39;49m\u001b[38;5;124;43m'\u001b[39;49m\u001b[38;5;124;43ms your first name\u001b[39;49m\u001b[38;5;124;43m\"\u001b[39;49m\u001b[43m)\u001b[49m\u001b[38;5;241m.\u001b[39mask()\n",
      "File \u001b[1;32m~\\anaconda3\\envs\\Working\\lib\\site-packages\\questionary\\prompts\\text.py:90\u001b[0m, in \u001b[0;36mtext\u001b[1;34m(message, default, validate, qmark, style, multiline, instruction, lexer, **kwargs)\u001b[0m\n\u001b[0;32m     87\u001b[0m         result\u001b[38;5;241m.\u001b[39mappend((\u001b[38;5;124m\"\u001b[39m\u001b[38;5;124mclass:instruction\u001b[39m\u001b[38;5;124m\"\u001b[39m, \u001b[38;5;124m\"\u001b[39m\u001b[38;5;124m \u001b[39m\u001b[38;5;132;01m{}\u001b[39;00m\u001b[38;5;124m \u001b[39m\u001b[38;5;124m\"\u001b[39m\u001b[38;5;241m.\u001b[39mformat(instruction)))\n\u001b[0;32m     88\u001b[0m     \u001b[38;5;28;01mreturn\u001b[39;00m result\n\u001b[1;32m---> 90\u001b[0m p \u001b[38;5;241m=\u001b[39m PromptSession(\n\u001b[0;32m     91\u001b[0m     get_prompt_tokens,\n\u001b[0;32m     92\u001b[0m     style\u001b[38;5;241m=\u001b[39mmerged_style,\n\u001b[0;32m     93\u001b[0m     validator\u001b[38;5;241m=\u001b[39mvalidator,\n\u001b[0;32m     94\u001b[0m     lexer\u001b[38;5;241m=\u001b[39mlexer,\n\u001b[0;32m     95\u001b[0m     multiline\u001b[38;5;241m=\u001b[39mmultiline,\n\u001b[0;32m     96\u001b[0m     \u001b[38;5;241m*\u001b[39m\u001b[38;5;241m*\u001b[39mkwargs,\n\u001b[0;32m     97\u001b[0m )\n\u001b[0;32m     98\u001b[0m p\u001b[38;5;241m.\u001b[39mdefault_buffer\u001b[38;5;241m.\u001b[39mreset(Document(default))\n\u001b[0;32m    100\u001b[0m \u001b[38;5;28;01mreturn\u001b[39;00m Question(p\u001b[38;5;241m.\u001b[39mapp)\n",
      "File \u001b[1;32m~\\anaconda3\\envs\\Working\\lib\\site-packages\\prompt_toolkit\\shortcuts\\prompt.py:468\u001b[0m, in \u001b[0;36mPromptSession.__init__\u001b[1;34m(self, message, multiline, wrap_lines, is_password, vi_mode, editing_mode, complete_while_typing, validate_while_typing, enable_history_search, search_ignore_case, lexer, enable_system_prompt, enable_suspend, enable_open_in_editor, validator, completer, complete_in_thread, reserve_space_for_menu, complete_style, auto_suggest, style, style_transformation, swap_light_and_dark_colors, color_depth, include_default_pygments_style, history, clipboard, prompt_continuation, rprompt, bottom_toolbar, mouse_support, input_processors, placeholder, key_bindings, erase_when_done, tempfile_suffix, tempfile, refresh_interval, input, output)\u001b[0m\n\u001b[0;32m    466\u001b[0m \u001b[38;5;28mself\u001b[39m\u001b[38;5;241m.\u001b[39msearch_buffer \u001b[38;5;241m=\u001b[39m \u001b[38;5;28mself\u001b[39m\u001b[38;5;241m.\u001b[39m_create_search_buffer()\n\u001b[0;32m    467\u001b[0m \u001b[38;5;28mself\u001b[39m\u001b[38;5;241m.\u001b[39mlayout \u001b[38;5;241m=\u001b[39m \u001b[38;5;28mself\u001b[39m\u001b[38;5;241m.\u001b[39m_create_layout()\n\u001b[1;32m--> 468\u001b[0m \u001b[38;5;28mself\u001b[39m\u001b[38;5;241m.\u001b[39mapp \u001b[38;5;241m=\u001b[39m \u001b[38;5;28;43mself\u001b[39;49m\u001b[38;5;241;43m.\u001b[39;49m\u001b[43m_create_application\u001b[49m\u001b[43m(\u001b[49m\u001b[43mediting_mode\u001b[49m\u001b[43m,\u001b[49m\u001b[43m \u001b[49m\u001b[43merase_when_done\u001b[49m\u001b[43m)\u001b[49m\n",
      "File \u001b[1;32m~\\anaconda3\\envs\\Working\\lib\\site-packages\\prompt_toolkit\\shortcuts\\prompt.py:719\u001b[0m, in \u001b[0;36mPromptSession._create_application\u001b[1;34m(self, editing_mode, erase_when_done)\u001b[0m\n\u001b[0;32m    716\u001b[0m prompt_bindings \u001b[38;5;241m=\u001b[39m \u001b[38;5;28mself\u001b[39m\u001b[38;5;241m.\u001b[39m_create_prompt_bindings()\n\u001b[0;32m    718\u001b[0m \u001b[38;5;66;03m# Create application\u001b[39;00m\n\u001b[1;32m--> 719\u001b[0m application: Application[_T] \u001b[38;5;241m=\u001b[39m \u001b[43mApplication\u001b[49m\u001b[43m(\u001b[49m\n\u001b[0;32m    720\u001b[0m \u001b[43m    \u001b[49m\u001b[43mlayout\u001b[49m\u001b[38;5;241;43m=\u001b[39;49m\u001b[38;5;28;43mself\u001b[39;49m\u001b[38;5;241;43m.\u001b[39;49m\u001b[43mlayout\u001b[49m\u001b[43m,\u001b[49m\n\u001b[0;32m    721\u001b[0m \u001b[43m    \u001b[49m\u001b[43mstyle\u001b[49m\u001b[38;5;241;43m=\u001b[39;49m\u001b[43mDynamicStyle\u001b[49m\u001b[43m(\u001b[49m\u001b[38;5;28;43;01mlambda\u001b[39;49;00m\u001b[43m:\u001b[49m\u001b[43m \u001b[49m\u001b[38;5;28;43mself\u001b[39;49m\u001b[38;5;241;43m.\u001b[39;49m\u001b[43mstyle\u001b[49m\u001b[43m)\u001b[49m\u001b[43m,\u001b[49m\n\u001b[0;32m    722\u001b[0m \u001b[43m    \u001b[49m\u001b[43mstyle_transformation\u001b[49m\u001b[38;5;241;43m=\u001b[39;49m\u001b[43mmerge_style_transformations\u001b[49m\u001b[43m(\u001b[49m\n\u001b[0;32m    723\u001b[0m \u001b[43m        \u001b[49m\u001b[43m[\u001b[49m\n\u001b[0;32m    724\u001b[0m \u001b[43m            \u001b[49m\u001b[43mDynamicStyleTransformation\u001b[49m\u001b[43m(\u001b[49m\u001b[38;5;28;43;01mlambda\u001b[39;49;00m\u001b[43m:\u001b[49m\u001b[43m \u001b[49m\u001b[38;5;28;43mself\u001b[39;49m\u001b[38;5;241;43m.\u001b[39;49m\u001b[43mstyle_transformation\u001b[49m\u001b[43m)\u001b[49m\u001b[43m,\u001b[49m\n\u001b[0;32m    725\u001b[0m \u001b[43m            \u001b[49m\u001b[43mConditionalStyleTransformation\u001b[49m\u001b[43m(\u001b[49m\n\u001b[0;32m    726\u001b[0m \u001b[43m                \u001b[49m\u001b[43mSwapLightAndDarkStyleTransformation\u001b[49m\u001b[43m(\u001b[49m\u001b[43m)\u001b[49m\u001b[43m,\u001b[49m\n\u001b[0;32m    727\u001b[0m \u001b[43m                \u001b[49m\u001b[43mdyncond\u001b[49m\u001b[43m(\u001b[49m\u001b[38;5;124;43m\"\u001b[39;49m\u001b[38;5;124;43mswap_light_and_dark_colors\u001b[39;49m\u001b[38;5;124;43m\"\u001b[39;49m\u001b[43m)\u001b[49m\u001b[43m,\u001b[49m\n\u001b[0;32m    728\u001b[0m \u001b[43m            \u001b[49m\u001b[43m)\u001b[49m\u001b[43m,\u001b[49m\n\u001b[0;32m    729\u001b[0m \u001b[43m        \u001b[49m\u001b[43m]\u001b[49m\n\u001b[0;32m    730\u001b[0m \u001b[43m    \u001b[49m\u001b[43m)\u001b[49m\u001b[43m,\u001b[49m\n\u001b[0;32m    731\u001b[0m \u001b[43m    \u001b[49m\u001b[43minclude_default_pygments_style\u001b[49m\u001b[38;5;241;43m=\u001b[39;49m\u001b[43mdyncond\u001b[49m\u001b[43m(\u001b[49m\u001b[38;5;124;43m\"\u001b[39;49m\u001b[38;5;124;43minclude_default_pygments_style\u001b[39;49m\u001b[38;5;124;43m\"\u001b[39;49m\u001b[43m)\u001b[49m\u001b[43m,\u001b[49m\n\u001b[0;32m    732\u001b[0m \u001b[43m    \u001b[49m\u001b[43mclipboard\u001b[49m\u001b[38;5;241;43m=\u001b[39;49m\u001b[43mDynamicClipboard\u001b[49m\u001b[43m(\u001b[49m\u001b[38;5;28;43;01mlambda\u001b[39;49;00m\u001b[43m:\u001b[49m\u001b[43m \u001b[49m\u001b[38;5;28;43mself\u001b[39;49m\u001b[38;5;241;43m.\u001b[39;49m\u001b[43mclipboard\u001b[49m\u001b[43m)\u001b[49m\u001b[43m,\u001b[49m\n\u001b[0;32m    733\u001b[0m \u001b[43m    \u001b[49m\u001b[43mkey_bindings\u001b[49m\u001b[38;5;241;43m=\u001b[39;49m\u001b[43mmerge_key_bindings\u001b[49m\u001b[43m(\u001b[49m\n\u001b[0;32m    734\u001b[0m \u001b[43m        \u001b[49m\u001b[43m[\u001b[49m\n\u001b[0;32m    735\u001b[0m \u001b[43m            \u001b[49m\u001b[43mmerge_key_bindings\u001b[49m\u001b[43m(\u001b[49m\n\u001b[0;32m    736\u001b[0m \u001b[43m                \u001b[49m\u001b[43m[\u001b[49m\n\u001b[0;32m    737\u001b[0m \u001b[43m                    \u001b[49m\u001b[43mauto_suggest_bindings\u001b[49m\u001b[43m,\u001b[49m\n\u001b[0;32m    738\u001b[0m \u001b[43m                    \u001b[49m\u001b[43mConditionalKeyBindings\u001b[49m\u001b[43m(\u001b[49m\n\u001b[0;32m    739\u001b[0m \u001b[43m                        \u001b[49m\u001b[43mopen_in_editor_bindings\u001b[49m\u001b[43m,\u001b[49m\n\u001b[0;32m    740\u001b[0m \u001b[43m                        \u001b[49m\u001b[43mdyncond\u001b[49m\u001b[43m(\u001b[49m\u001b[38;5;124;43m\"\u001b[39;49m\u001b[38;5;124;43menable_open_in_editor\u001b[39;49m\u001b[38;5;124;43m\"\u001b[39;49m\u001b[43m)\u001b[49m\n\u001b[0;32m    741\u001b[0m \u001b[43m                        \u001b[49m\u001b[38;5;241;43m&\u001b[39;49m\u001b[43m \u001b[49m\u001b[43mhas_focus\u001b[49m\u001b[43m(\u001b[49m\u001b[43mDEFAULT_BUFFER\u001b[49m\u001b[43m)\u001b[49m\u001b[43m,\u001b[49m\n\u001b[0;32m    742\u001b[0m \u001b[43m                    \u001b[49m\u001b[43m)\u001b[49m\u001b[43m,\u001b[49m\n\u001b[0;32m    743\u001b[0m \u001b[43m                    \u001b[49m\u001b[43mprompt_bindings\u001b[49m\u001b[43m,\u001b[49m\n\u001b[0;32m    744\u001b[0m \u001b[43m                \u001b[49m\u001b[43m]\u001b[49m\n\u001b[0;32m    745\u001b[0m \u001b[43m            \u001b[49m\u001b[43m)\u001b[49m\u001b[43m,\u001b[49m\n\u001b[0;32m    746\u001b[0m \u001b[43m            \u001b[49m\u001b[43mDynamicKeyBindings\u001b[49m\u001b[43m(\u001b[49m\u001b[38;5;28;43;01mlambda\u001b[39;49;00m\u001b[43m:\u001b[49m\u001b[43m \u001b[49m\u001b[38;5;28;43mself\u001b[39;49m\u001b[38;5;241;43m.\u001b[39;49m\u001b[43mkey_bindings\u001b[49m\u001b[43m)\u001b[49m\u001b[43m,\u001b[49m\n\u001b[0;32m    747\u001b[0m \u001b[43m        \u001b[49m\u001b[43m]\u001b[49m\n\u001b[0;32m    748\u001b[0m \u001b[43m    \u001b[49m\u001b[43m)\u001b[49m\u001b[43m,\u001b[49m\n\u001b[0;32m    749\u001b[0m \u001b[43m    \u001b[49m\u001b[43mmouse_support\u001b[49m\u001b[38;5;241;43m=\u001b[39;49m\u001b[43mdyncond\u001b[49m\u001b[43m(\u001b[49m\u001b[38;5;124;43m\"\u001b[39;49m\u001b[38;5;124;43mmouse_support\u001b[39;49m\u001b[38;5;124;43m\"\u001b[39;49m\u001b[43m)\u001b[49m\u001b[43m,\u001b[49m\n\u001b[0;32m    750\u001b[0m \u001b[43m    \u001b[49m\u001b[43mediting_mode\u001b[49m\u001b[38;5;241;43m=\u001b[39;49m\u001b[43mediting_mode\u001b[49m\u001b[43m,\u001b[49m\n\u001b[0;32m    751\u001b[0m \u001b[43m    \u001b[49m\u001b[43merase_when_done\u001b[49m\u001b[38;5;241;43m=\u001b[39;49m\u001b[43merase_when_done\u001b[49m\u001b[43m,\u001b[49m\n\u001b[0;32m    752\u001b[0m \u001b[43m    \u001b[49m\u001b[43mreverse_vi_search_direction\u001b[49m\u001b[38;5;241;43m=\u001b[39;49m\u001b[38;5;28;43;01mTrue\u001b[39;49;00m\u001b[43m,\u001b[49m\n\u001b[0;32m    753\u001b[0m \u001b[43m    \u001b[49m\u001b[43mcolor_depth\u001b[49m\u001b[38;5;241;43m=\u001b[39;49m\u001b[38;5;28;43;01mlambda\u001b[39;49;00m\u001b[43m:\u001b[49m\u001b[43m \u001b[49m\u001b[38;5;28;43mself\u001b[39;49m\u001b[38;5;241;43m.\u001b[39;49m\u001b[43mcolor_depth\u001b[49m\u001b[43m,\u001b[49m\n\u001b[0;32m    754\u001b[0m \u001b[43m    \u001b[49m\u001b[43mrefresh_interval\u001b[49m\u001b[38;5;241;43m=\u001b[39;49m\u001b[38;5;28;43mself\u001b[39;49m\u001b[38;5;241;43m.\u001b[39;49m\u001b[43mrefresh_interval\u001b[49m\u001b[43m,\u001b[49m\n\u001b[0;32m    755\u001b[0m \u001b[43m    \u001b[49m\u001b[38;5;28;43minput\u001b[39;49m\u001b[38;5;241;43m=\u001b[39;49m\u001b[38;5;28;43mself\u001b[39;49m\u001b[38;5;241;43m.\u001b[39;49m\u001b[43m_input\u001b[49m\u001b[43m,\u001b[49m\n\u001b[0;32m    756\u001b[0m \u001b[43m    \u001b[49m\u001b[43moutput\u001b[49m\u001b[38;5;241;43m=\u001b[39;49m\u001b[38;5;28;43mself\u001b[39;49m\u001b[38;5;241;43m.\u001b[39;49m\u001b[43m_output\u001b[49m\u001b[43m,\u001b[49m\n\u001b[0;32m    757\u001b[0m \u001b[43m\u001b[49m\u001b[43m)\u001b[49m\n\u001b[0;32m    759\u001b[0m \u001b[38;5;66;03m# During render time, make sure that we focus the right search control\u001b[39;00m\n\u001b[0;32m    760\u001b[0m \u001b[38;5;66;03m# (if we are searching). - This could be useful if people make the\u001b[39;00m\n\u001b[0;32m    761\u001b[0m \u001b[38;5;66;03m# 'multiline' property dynamic.\u001b[39;00m\n\u001b[0;32m    762\u001b[0m \u001b[38;5;124;03m\"\"\"\u001b[39;00m\n\u001b[0;32m    763\u001b[0m \u001b[38;5;124;03mdef on_render(app):\u001b[39;00m\n\u001b[0;32m    764\u001b[0m \u001b[38;5;124;03m    multiline = is_true(self.multiline)\u001b[39;00m\n\u001b[1;32m   (...)\u001b[0m\n\u001b[0;32m    776\u001b[0m \u001b[38;5;124;03mapp.on_render += on_render\u001b[39;00m\n\u001b[0;32m    777\u001b[0m \u001b[38;5;124;03m\"\"\"\u001b[39;00m\n",
      "File \u001b[1;32m~\\anaconda3\\envs\\Working\\lib\\site-packages\\prompt_toolkit\\application\\application.py:277\u001b[0m, in \u001b[0;36mApplication.__init__\u001b[1;34m(self, layout, style, include_default_pygments_style, style_transformation, key_bindings, clipboard, full_screen, color_depth, mouse_support, enable_page_navigation_bindings, paste_mode, editing_mode, erase_when_done, reverse_vi_search_direction, min_redraw_interval, max_render_postpone_time, refresh_interval, terminal_size_polling_interval, on_reset, on_invalidate, before_render, after_render, input, output)\u001b[0m\n\u001b[0;32m    275\u001b[0m \u001b[38;5;66;03m# I/O.\u001b[39;00m\n\u001b[0;32m    276\u001b[0m session \u001b[38;5;241m=\u001b[39m get_app_session()\n\u001b[1;32m--> 277\u001b[0m \u001b[38;5;28mself\u001b[39m\u001b[38;5;241m.\u001b[39moutput \u001b[38;5;241m=\u001b[39m output \u001b[38;5;129;01mor\u001b[39;00m \u001b[43msession\u001b[49m\u001b[38;5;241;43m.\u001b[39;49m\u001b[43moutput\u001b[49m\n\u001b[0;32m    278\u001b[0m \u001b[38;5;28mself\u001b[39m\u001b[38;5;241m.\u001b[39minput \u001b[38;5;241m=\u001b[39m \u001b[38;5;28minput\u001b[39m \u001b[38;5;129;01mor\u001b[39;00m session\u001b[38;5;241m.\u001b[39minput\n\u001b[0;32m    280\u001b[0m \u001b[38;5;66;03m# List of 'extra' functions to execute before a Application.run.\u001b[39;00m\n",
      "File \u001b[1;32m~\\anaconda3\\envs\\Working\\lib\\site-packages\\prompt_toolkit\\application\\current.py:70\u001b[0m, in \u001b[0;36mAppSession.output\u001b[1;34m(self)\u001b[0m\n\u001b[0;32m     67\u001b[0m \u001b[38;5;28;01mif\u001b[39;00m \u001b[38;5;28mself\u001b[39m\u001b[38;5;241m.\u001b[39m_output \u001b[38;5;129;01mis\u001b[39;00m \u001b[38;5;28;01mNone\u001b[39;00m:\n\u001b[0;32m     68\u001b[0m     \u001b[38;5;28;01mfrom\u001b[39;00m \u001b[38;5;21;01mprompt_toolkit\u001b[39;00m\u001b[38;5;21;01m.\u001b[39;00m\u001b[38;5;21;01moutput\u001b[39;00m\u001b[38;5;21;01m.\u001b[39;00m\u001b[38;5;21;01mdefaults\u001b[39;00m \u001b[38;5;28;01mimport\u001b[39;00m create_output\n\u001b[1;32m---> 70\u001b[0m     \u001b[38;5;28mself\u001b[39m\u001b[38;5;241m.\u001b[39m_output \u001b[38;5;241m=\u001b[39m \u001b[43mcreate_output\u001b[49m\u001b[43m(\u001b[49m\u001b[43m)\u001b[49m\n\u001b[0;32m     71\u001b[0m \u001b[38;5;28;01mreturn\u001b[39;00m \u001b[38;5;28mself\u001b[39m\u001b[38;5;241m.\u001b[39m_output\n",
      "File \u001b[1;32m~\\anaconda3\\envs\\Working\\lib\\site-packages\\prompt_toolkit\\output\\defaults.py:73\u001b[0m, in \u001b[0;36mcreate_output\u001b[1;34m(stdout, always_prefer_tty)\u001b[0m\n\u001b[0;32m     69\u001b[0m         \u001b[38;5;28;01mreturn\u001b[39;00m cast(\n\u001b[0;32m     70\u001b[0m             Output, ConEmuOutput(stdout, default_color_depth\u001b[38;5;241m=\u001b[39mcolor_depth_from_env)\n\u001b[0;32m     71\u001b[0m         )\n\u001b[0;32m     72\u001b[0m     \u001b[38;5;28;01melse\u001b[39;00m:\n\u001b[1;32m---> 73\u001b[0m         \u001b[38;5;28;01mreturn\u001b[39;00m \u001b[43mWin32Output\u001b[49m\u001b[43m(\u001b[49m\u001b[43mstdout\u001b[49m\u001b[43m,\u001b[49m\u001b[43m \u001b[49m\u001b[43mdefault_color_depth\u001b[49m\u001b[38;5;241;43m=\u001b[39;49m\u001b[43mcolor_depth_from_env\u001b[49m\u001b[43m)\u001b[49m\n\u001b[0;32m     74\u001b[0m \u001b[38;5;28;01melse\u001b[39;00m:\n\u001b[0;32m     75\u001b[0m     \u001b[38;5;28;01mfrom\u001b[39;00m \u001b[38;5;21;01m.\u001b[39;00m\u001b[38;5;21;01mvt100\u001b[39;00m \u001b[38;5;28;01mimport\u001b[39;00m Vt100_Output\n",
      "File \u001b[1;32m~\\anaconda3\\envs\\Working\\lib\\site-packages\\prompt_toolkit\\output\\win32.py:118\u001b[0m, in \u001b[0;36mWin32Output.__init__\u001b[1;34m(self, stdout, use_complete_width, default_color_depth)\u001b[0m\n\u001b[0;32m    115\u001b[0m \u001b[38;5;28mself\u001b[39m\u001b[38;5;241m.\u001b[39mcolor_lookup_table \u001b[38;5;241m=\u001b[39m ColorLookupTable()\n\u001b[0;32m    117\u001b[0m \u001b[38;5;66;03m# Remember the default console colors.\u001b[39;00m\n\u001b[1;32m--> 118\u001b[0m info \u001b[38;5;241m=\u001b[39m \u001b[38;5;28;43mself\u001b[39;49m\u001b[38;5;241;43m.\u001b[39;49m\u001b[43mget_win32_screen_buffer_info\u001b[49m\u001b[43m(\u001b[49m\u001b[43m)\u001b[49m\n\u001b[0;32m    119\u001b[0m \u001b[38;5;28mself\u001b[39m\u001b[38;5;241m.\u001b[39mdefault_attrs \u001b[38;5;241m=\u001b[39m info\u001b[38;5;241m.\u001b[39mwAttributes \u001b[38;5;28;01mif\u001b[39;00m info \u001b[38;5;28;01melse\u001b[39;00m \u001b[38;5;241m15\u001b[39m\n\u001b[0;32m    121\u001b[0m \u001b[38;5;28;01mif\u001b[39;00m _DEBUG_RENDER_OUTPUT:\n",
      "File \u001b[1;32m~\\anaconda3\\envs\\Working\\lib\\site-packages\\prompt_toolkit\\output\\win32.py:224\u001b[0m, in \u001b[0;36mWin32Output.get_win32_screen_buffer_info\u001b[1;34m(self)\u001b[0m\n\u001b[0;32m    222\u001b[0m     \u001b[38;5;28;01mreturn\u001b[39;00m sbinfo\n\u001b[0;32m    223\u001b[0m \u001b[38;5;28;01melse\u001b[39;00m:\n\u001b[1;32m--> 224\u001b[0m     \u001b[38;5;28;01mraise\u001b[39;00m NoConsoleScreenBufferError\n",
      "\u001b[1;31mNoConsoleScreenBufferError\u001b[0m: Found xterm-color, while expecting a Windows console. Maybe try to run this program using \"winpty\" or run it in cmd.exe instead. Or otherwise, in case of Cygwin, use the Python executable that is compiled for Cygwin."
     ]
    }
   ],
   "source": [
    "import questionary\n",
    "\n",
    "questionary.text(\"What's your first name\").ask()"
   ]
  },
  {
   "cell_type": "code",
   "execution_count": 84,
   "metadata": {},
   "outputs": [
    {
     "name": "stdout",
     "output_type": "stream",
     "text": [
      "Kindly provide your name for record purposes:a\n",
      "Hello a ,What could we help you with?a\n",
      "Any other particular details you would like to add upon this issue?a\n",
      "A customer care executive is being allocated for your request, meanwhile you could also state any other help you might need here:a\n"
     ]
    }
   ],
   "source": [
    "customer_name = input(\"Kindly provide your name for record purposes:\")\n",
    "query1 = input(\"Hello \"+customer_name+\" ,What could we help you with?\")\n",
    "query2 = input(\"Any other particular details you would like to add upon this issue?\")\n",
    "query3 = input(\"A customer care executive is being allocated for your request, meanwhile you could also state any other help you might need here:\")"
   ]
  },
  {
   "cell_type": "code",
   "execution_count": 86,
   "metadata": {},
   "outputs": [
    {
     "ename": "ModuleNotFoundError",
     "evalue": "No module named 'chatterbot'",
     "output_type": "error",
     "traceback": [
      "\u001b[1;31m---------------------------------------------------------------------------\u001b[0m",
      "\u001b[1;31mModuleNotFoundError\u001b[0m                       Traceback (most recent call last)",
      "Input \u001b[1;32mIn [86]\u001b[0m, in \u001b[0;36m<cell line: 1>\u001b[1;34m()\u001b[0m\n\u001b[1;32m----> 1\u001b[0m \u001b[38;5;28;01mfrom\u001b[39;00m \u001b[38;5;21;01mchatterbot\u001b[39;00m \u001b[38;5;28;01mimport\u001b[39;00m chatbot\n\u001b[0;32m      2\u001b[0m \u001b[38;5;28;01mfrom\u001b[39;00m \u001b[38;5;21;01mchatterbot\u001b[39;00m\u001b[38;5;21;01m.\u001b[39;00m\u001b[38;5;21;01mtrainers\u001b[39;00m \u001b[38;5;28;01mimport\u001b[39;00m ListTrainer\n\u001b[0;32m      4\u001b[0m \u001b[38;5;66;03m#creating a new chatbot\u001b[39;00m\n",
      "\u001b[1;31mModuleNotFoundError\u001b[0m: No module named 'chatterbot'"
     ]
    }
   ],
   "source": [
    "from chatterbot import chatbot\n",
    "from chatterbot.trainers import ListTrainer\n",
    " \n",
    "#creating a new chatbot\n",
    "chatbot = Chatbot('Edureka')\n",
    "trainer = ListTrainer(chatbot)\n",
    "trainer.train([ 'hi, can I help you find a course', 'sure Id love to find you a course', 'your course have been selected'])\n",
    " \n",
    "#getting a response from the chatbot\n",
    "response = chatbot.get_response(\"I want a course\")\n",
    "print(response)"
   ]
  },
  {
   "cell_type": "code",
   "execution_count": 87,
   "metadata": {},
   "outputs": [
    {
     "name": "stdout",
     "output_type": "stream",
     "text": [
      "Collecting chatterbot\n",
      "  Using cached ChatterBot-1.0.5-py2.py3-none-any.whl (67 kB)\n",
      "Collecting mathparse<0.2,>=0.1\n",
      "  Using cached mathparse-0.1.2-py3-none-any.whl (7.2 kB)\n",
      "Collecting pymongo<4.0,>=3.3\n",
      "  Downloading pymongo-3.12.3-cp310-cp310-win_amd64.whl (398 kB)\n",
      "     -------------------------------------- 398.4/398.4 KB 3.1 MB/s eta 0:00:00\n",
      "Collecting spacy<2.2,>=2.1\n",
      "  Using cached spacy-2.1.9.tar.gz (30.7 MB)\n",
      "  Installing build dependencies: started\n",
      "  Installing build dependencies: finished with status 'error'\n"
     ]
    },
    {
     "name": "stderr",
     "output_type": "stream",
     "text": [
      "WARNING: Ignoring invalid distribution -illow (c:\\users\\thang\\anaconda3\\envs\\working\\lib\\site-packages)\n",
      "WARNING: Ignoring invalid distribution -illow (c:\\users\\thang\\anaconda3\\envs\\working\\lib\\site-packages)\n",
      "  error: subprocess-exited-with-error\n",
      "  \n",
      "  pip subprocess to install build dependencies did not run successfully.\n",
      "  exit code: 1\n",
      "  \n",
      "  [84 lines of output]\n",
      "  WARNING: Ignoring invalid distribution -illow (c:\\users\\thang\\anaconda3\\envs\\working\\lib\\site-packages)\n",
      "  Collecting setuptools\n",
      "    Using cached setuptools-62.1.0-py3-none-any.whl (1.1 MB)\n",
      "  Collecting wheel<0.33.0,>0.32.0\n",
      "    Using cached wheel-0.32.3-py2.py3-none-any.whl (21 kB)\n",
      "  Collecting Cython\n",
      "    Using cached Cython-0.29.28-py2.py3-none-any.whl (983 kB)\n",
      "  Collecting cymem<2.1.0,>=2.0.2\n",
      "    Using cached cymem-2.0.6-cp310-cp310-win_amd64.whl (36 kB)\n",
      "  Collecting preshed<2.1.0,>=2.0.1\n",
      "    Using cached preshed-2.0.1.tar.gz (113 kB)\n",
      "    Preparing metadata (setup.py): started\n",
      "    Preparing metadata (setup.py): finished with status 'done'\n",
      "  Collecting murmurhash<1.1.0,>=0.28.0\n",
      "    Using cached murmurhash-1.0.7-cp310-cp310-win_amd64.whl (18 kB)\n",
      "  Collecting thinc<7.1.0,>=7.0.8\n",
      "    Using cached thinc-7.0.8.tar.gz (1.9 MB)\n",
      "    Preparing metadata (setup.py): started\n",
      "    Preparing metadata (setup.py): finished with status 'error'\n",
      "    error: subprocess-exited-with-error\n",
      "  \n",
      "    python setup.py egg_info did not run successfully.\n",
      "    exit code: 1\n",
      "  \n",
      "    [46 lines of output]\n",
      "    Traceback (most recent call last):\n",
      "      File \"C:\\Users\\thang\\anaconda3\\envs\\Working\\lib\\site-packages\\pkg_resources\\__init__.py\", line 3037, in _dep_map\n",
      "        return self.__dep_map\n",
      "      File \"C:\\Users\\thang\\anaconda3\\envs\\Working\\lib\\site-packages\\pkg_resources\\__init__.py\", line 2834, in __getattr__\n",
      "        raise AttributeError(attr)\n",
      "    AttributeError: _DistInfoDistribution__dep_map\n",
      "  \n",
      "    During handling of the above exception, another exception occurred:\n",
      "  \n",
      "    Traceback (most recent call last):\n",
      "      File \"C:\\Users\\thang\\anaconda3\\envs\\Working\\lib\\site-packages\\pkg_resources\\__init__.py\", line 3028, in _parsed_pkg_info\n",
      "        return self._pkg_info\n",
      "      File \"C:\\Users\\thang\\anaconda3\\envs\\Working\\lib\\site-packages\\pkg_resources\\__init__.py\", line 2834, in __getattr__\n",
      "        raise AttributeError(attr)\n",
      "    AttributeError: _pkg_info. Did you mean: 'egg_info'?\n",
      "  \n",
      "    During handling of the above exception, another exception occurred:\n",
      "  \n",
      "    Traceback (most recent call last):\n",
      "      File \"<string>\", line 2, in <module>\n",
      "      File \"<pip-setuptools-caller>\", line 34, in <module>\n",
      "      File \"C:\\Users\\thang\\AppData\\Local\\Temp\\pip-install-u95vn341\\thinc_ae1a074d26084d00947837956c0e4f67\\setup.py\", line 261, in <module>\n",
      "        setup_package()\n",
      "      File \"C:\\Users\\thang\\AppData\\Local\\Temp\\pip-install-u95vn341\\thinc_ae1a074d26084d00947837956c0e4f67\\setup.py\", line 201, in setup_package\n",
      "        setup(\n",
      "      File \"C:\\Users\\thang\\anaconda3\\envs\\Working\\lib\\site-packages\\setuptools\\__init__.py\", line 86, in setup\n",
      "        _install_setup_requires(attrs)\n",
      "      File \"C:\\Users\\thang\\anaconda3\\envs\\Working\\lib\\site-packages\\setuptools\\__init__.py\", line 80, in _install_setup_requires\n",
      "        dist.fetch_build_eggs(dist.setup_requires)\n",
      "      File \"C:\\Users\\thang\\anaconda3\\envs\\Working\\lib\\site-packages\\setuptools\\dist.py\", line 861, in fetch_build_eggs\n",
      "        resolved_dists = pkg_resources.working_set.resolve(\n",
      "      File \"C:\\Users\\thang\\anaconda3\\envs\\Working\\lib\\site-packages\\pkg_resources\\__init__.py\", line 803, in resolve\n",
      "        new_requirements = dist.requires(req.extras)[::-1]\n",
      "      File \"C:\\Users\\thang\\anaconda3\\envs\\Working\\lib\\site-packages\\pkg_resources\\__init__.py\", line 2755, in requires\n",
      "        dm = self._dep_map\n",
      "      File \"C:\\Users\\thang\\anaconda3\\envs\\Working\\lib\\site-packages\\pkg_resources\\__init__.py\", line 3039, in _dep_map\n",
      "        self.__dep_map = self._compute_dependencies()\n",
      "      File \"C:\\Users\\thang\\anaconda3\\envs\\Working\\lib\\site-packages\\pkg_resources\\__init__.py\", line 3048, in _compute_dependencies\n",
      "        for req in self._parsed_pkg_info.get_all('Requires-Dist') or []:\n",
      "      File \"C:\\Users\\thang\\anaconda3\\envs\\Working\\lib\\site-packages\\pkg_resources\\__init__.py\", line 3030, in _parsed_pkg_info\n",
      "        metadata = self.get_metadata(self.PKG_INFO)\n",
      "      File \"C:\\Users\\thang\\anaconda3\\envs\\Working\\lib\\site-packages\\pkg_resources\\__init__.py\", line 1431, in get_metadata\n",
      "        value = self._get(path)\n",
      "      File \"C:\\Users\\thang\\anaconda3\\envs\\Working\\lib\\site-packages\\pkg_resources\\__init__.py\", line 1635, in _get\n",
      "        with open(path, 'rb') as stream:\n",
      "    FileNotFoundError: [Errno 2] No such file or directory: 'c:\\\\users\\\\thang\\\\anaconda3\\\\envs\\\\working\\\\lib\\\\site-packages\\\\numpy-1.22.3.dist-info\\\\METADATA'\n",
      "    [end of output]\n",
      "  \n",
      "    note: This error originates from a subprocess, and is likely not a problem with pip.\n",
      "  error: metadata-generation-failed\n",
      "  \n",
      "  Encountered error while generating package metadata.\n",
      "  \n",
      "  See above for output.\n",
      "  \n",
      "  note: This is an issue with the package mentioned above, not pip.\n",
      "  hint: See above for details.\n",
      "  WARNING: Ignoring invalid distribution -illow (c:\\users\\thang\\anaconda3\\envs\\working\\lib\\site-packages)\n",
      "  WARNING: Ignoring invalid distribution -illow (c:\\users\\thang\\anaconda3\\envs\\working\\lib\\site-packages)\n",
      "  [end of output]\n",
      "  \n",
      "  note: This error originates from a subprocess, and is likely not a problem with pip.\n",
      "error: subprocess-exited-with-error\n",
      "\n",
      "pip subprocess to install build dependencies did not run successfully.\n",
      "exit code: 1\n",
      "\n",
      "See above for output.\n",
      "\n",
      "note: This error originates from a subprocess, and is likely not a problem with pip.\n",
      "WARNING: Ignoring invalid distribution -illow (c:\\users\\thang\\anaconda3\\envs\\working\\lib\\site-packages)\n",
      "WARNING: Ignoring invalid distribution -illow (c:\\users\\thang\\anaconda3\\envs\\working\\lib\\site-packages)\n"
     ]
    }
   ],
   "source": [
    "!pip install chatterbot"
   ]
  }
 ],
 "metadata": {
  "accelerator": "GPU",
  "colab": {
   "collapsed_sections": [],
   "name": "Copy of SER.ipynb",
   "provenance": []
  },
  "kernelspec": {
   "display_name": "Python 3",
   "language": "python",
   "name": "python3"
  },
  "language_info": {
   "codemirror_mode": {
    "name": "ipython",
    "version": 3
   },
   "file_extension": ".py",
   "mimetype": "text/x-python",
   "name": "python",
   "nbconvert_exporter": "python",
   "pygments_lexer": "ipython3",
   "version": "3.10.4"
  }
 },
 "nbformat": 4,
 "nbformat_minor": 1
}
